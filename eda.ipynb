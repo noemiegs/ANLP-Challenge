{
 "cells": [
  {
   "cell_type": "code",
   "execution_count": 3,
   "metadata": {},
   "outputs": [],
   "source": [
    "import os\n",
    "import pandas as pd\n",
    "import matplotlib.pyplot as plt\n",
    "import seaborn as sns\n",
    "\n"
   ]
  },
  {
   "cell_type": "markdown",
   "metadata": {},
   "source": [
    "### Chargement des données\n"
   ]
  },
  {
   "cell_type": "code",
   "execution_count": 5,
   "metadata": {},
   "outputs": [],
   "source": [
    "DATA_DIR = 'data'\n",
    "TRAIN_DATA_PATH = os.path.join(DATA_DIR, 'train_submission.csv')"
   ]
  },
  {
   "cell_type": "code",
   "execution_count": null,
   "metadata": {},
   "outputs": [],
   "source": [
    "# Lecture des données d'entraînement\n",
    "data = pd.read_csv(TRAIN_DATA_PATH)  \n",
    "\n",
    "# Aperçu des données\n",
    "print(\"Aperçu des données :\")\n",
    "data.head()"
   ]
  },
  {
   "cell_type": "markdown",
   "metadata": {},
   "source": [
    "### Dataset Information\n"
   ]
  },
  {
   "cell_type": "code",
   "execution_count": null,
   "metadata": {},
   "outputs": [],
   "source": [
    "print(f\"\\nDimensions du dataset : {data.shape}\")"
   ]
  },
  {
   "cell_type": "markdown",
   "metadata": {},
   "source": [
    "### Valeurs manquantes\n"
   ]
  },
  {
   "cell_type": "code",
   "execution_count": null,
   "metadata": {},
   "outputs": [],
   "source": [
    "# Vérification des valeurs manquantes plot\n",
    "plt.figure(figsize=(10, 5))\n",
    "sns.heatmap(data.isnull(), cbar=False, cmap='viridis')\n",
    "plt.title('Missing values in the dataset')\n",
    "plt.show()\n"
   ]
  },
  {
   "cell_type": "markdown",
   "metadata": {},
   "source": [
    "### Distribution des labels\n"
   ]
  },
  {
   "cell_type": "code",
   "execution_count": null,
   "metadata": {},
   "outputs": [],
   "source": [
    "# Distribution des labels\n",
    "label_counts = data['Label'].value_counts()\n",
    "# print(\"\\nDistribution des labels :\")\n",
    "# print(label_counts)\n",
    "\n",
    "# number of unique labels\n",
    "print(f\"\\nNombre de classes : {len(label_counts)}\")\n",
    "\n",
    "# Visualisation de la distribution des classes\n",
    "plt.figure(figsize=(18, 6))\n",
    "sns.barplot(x=label_counts.index, y=label_counts.values, palette=\"viridis\")\n",
    "plt.xticks(rotation=90)\n",
    "plt.tight_layout()\n",
    "plt.title(\"Répartition des classes dans les données d'entraînement\")\n",
    "plt.xlabel(\"Classe\")\n",
    "plt.ylabel(\"Nombre d'échantillons\")\n",
    "plt.show()\n"
   ]
  },
  {
   "cell_type": "markdown",
   "metadata": {},
   "source": [
    "### Longueur des échantillons\n"
   ]
  },
  {
   "cell_type": "code",
   "execution_count": null,
   "metadata": {},
   "outputs": [],
   "source": [
    "# Longueur des textes\n",
    "data['text_length'] = data['Text'].apply(len)\n",
    "print(\"\\nStatistiques sur la longueur des textes :\")\n",
    "print(data['text_length'].describe())\n",
    "\n",
    "# Visualisation de la distribution des longueurs de texte\n",
    "plt.figure(figsize=(10, 6))\n",
    "sns.histplot(data['text_length'], kde=True, bins=50, color='blue')\n",
    "plt.title(\"Distribution des longueurs de texte\")\n",
    "plt.xlabel(\"Longueur du texte\")\n",
    "plt.ylabel(\"Fréquence\")\n",
    "plt.show()\n",
    "\n"
   ]
  },
  {
   "cell_type": "code",
   "execution_count": null,
   "metadata": {},
   "outputs": [],
   "source": [
    "# index du texte de longueur maximale\n",
    "max_length_index = data['text_length'].idxmax()\n",
    "print(\"\\nExemple de texte le plus long :\")\n",
    "print(data.loc[max_length_index, 'Text'])\n",
    "\n",
    "# nnombre d'échantillon: longueur > 1000\n",
    "num_samples = data[data['text_length'] > 1000].shape[0]\n",
    "print(f\"\\nNombre d'échantillons avec une longueur de texte > 1000 : {num_samples}\")"
   ]
  },
  {
   "cell_type": "code",
   "execution_count": null,
   "metadata": {},
   "outputs": [],
   "source": [
    "# zoom sur les textes de longueur < 1000\n",
    "plt.figure(figsize=(10, 6))\n",
    "sns.histplot(data[data['text_length'] < 1000]['text_length'], kde=True, bins=50, color='blue')\n",
    "plt.title(\"Distribution des longueurs de texte\")\n",
    "plt.xlabel(\"Longueur du texte\")\n",
    "plt.ylabel(\"Fréquence\")\n",
    "plt.show()\n"
   ]
  }
 ],
 "metadata": {
  "kernelspec": {
   "display_name": "Python 3",
   "language": "python",
   "name": "python3"
  },
  "language_info": {
   "codemirror_mode": {
    "name": "ipython",
    "version": 3
   },
   "file_extension": ".py",
   "mimetype": "text/x-python",
   "name": "python",
   "nbconvert_exporter": "python",
   "pygments_lexer": "ipython3",
   "version": "3.12.7"
  }
 },
 "nbformat": 4,
 "nbformat_minor": 2
}

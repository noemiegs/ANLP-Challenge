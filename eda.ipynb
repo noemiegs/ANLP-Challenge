{
 "cells": [
  {
   "cell_type": "code",
   "execution_count": null,
   "metadata": {},
   "outputs": [],
   "source": [
    "import os\n",
    "import pandas as pd\n",
    "import matplotlib.pyplot as plt\n",
    "import seaborn as sns"
   ]
  },
  {
   "cell_type": "markdown",
   "metadata": {},
   "source": [
    "### Chargement des données\n"
   ]
  },
  {
   "cell_type": "code",
   "execution_count": null,
   "metadata": {},
   "outputs": [],
   "source": [
    "DATA_DIR = 'data'\n",
    "TRAIN_DATA_PATH = os.path.join(DATA_DIR, 'train_submission.csv')"
   ]
  },
  {
   "cell_type": "code",
   "execution_count": null,
   "metadata": {},
   "outputs": [],
   "source": [
    "# Lecture des données d'entraînement\n",
    "data = pd.read_csv(TRAIN_DATA_PATH)  \n",
    "\n",
    "# Aperçu des données\n",
    "print(\"Aperçu des données :\")\n",
    "data.head()"
   ]
  },
  {
   "cell_type": "markdown",
   "metadata": {},
   "source": [
    "### Dataset Information\n"
   ]
  },
  {
   "cell_type": "code",
   "execution_count": null,
   "metadata": {},
   "outputs": [],
   "source": [
    "print(f\"\\nDimensions du dataset : {data.shape}\")"
   ]
  },
  {
   "cell_type": "markdown",
   "metadata": {},
   "source": [
    "### Valeurs manquantes\n"
   ]
  },
  {
   "cell_type": "code",
   "execution_count": null,
   "metadata": {},
   "outputs": [],
   "source": [
    "# Vérification des valeurs manquantes plot\n",
    "plt.figure(figsize=(10, 5))\n",
    "sns.heatmap(data.isnull(), cbar=False, cmap='viridis')\n",
    "plt.title('Missing values in the dataset')\n",
    "plt.show()\n"
   ]
  },
  {
   "cell_type": "markdown",
   "metadata": {},
   "source": [
    "### Distribution des labels\n"
   ]
  },
  {
   "cell_type": "code",
   "execution_count": null,
   "metadata": {},
   "outputs": [],
   "source": [
    "import pandas as pd\n",
    "import matplotlib.pyplot as plt\n",
    "import seaborn as sns\n",
    "\n",
    "# Calcul du nombre de classes\n",
    "label_counts = data['Label'].value_counts()\n",
    "num_classes = len(label_counts)\n",
    "print(f\"\\nNombre de classes : {num_classes}\")\n",
    "\n",
    "# Visualisation sans suppression des classes rares\n",
    "plt.figure(figsize=(18, 6))\n",
    "sns.barplot(x=label_counts.index, y=label_counts.values, palette=\"viridis\")\n",
    "\n",
    "# Supprimer les labels sur l'axe X mais agrandir les valeurs sur l'axe Y\n",
    "plt.xticks([], [])  # Cache les labels des classes\n",
    "plt.yticks(fontsize=25)  # Augmente la taille des valeurs sur l'axe Y\n",
    "\n",
    "# Titres et labels\n",
    "# plt.title(\"Répartition des classes\", fontsize=30)\n",
    "plt.xlabel(\"Classe\", fontsize=30)\n",
    "plt.ylabel(\"Nombre d'échantillons\", fontsize=30)\n",
    "\n",
    "plt.tight_layout()\n",
    "plt.show()\n"
   ]
  },
  {
   "cell_type": "code",
   "execution_count": null,
   "metadata": {},
   "outputs": [],
   "source": [
    "import pandas as pd\n",
    "\n",
    "# Calcul du nombre d'occurrences et des pourcentages\n",
    "label_counts = data['Label'].value_counts()\n",
    "label_percentages = (label_counts / len(data)) * 100  # Conversion en pourcentage\n",
    "\n",
    "# Création du tableau\n",
    "df_distribution = pd.DataFrame({'Classe': label_counts.index, \n",
    "                                'Occurrences': label_counts.values, \n",
    "                                'Pourcentage (%)': label_percentages.values})\n",
    "\n",
    "# Affichage du tableau\n",
    "df_distribution\n",
    "\n",
    "# Optionnel : Afficher seulement les premières lignes\n",
    "# print(df_distribution.head(20))  # Pour voir uniquement les 20 classes les plus fréquentes\n"
   ]
  },
  {
   "cell_type": "code",
   "execution_count": null,
   "metadata": {},
   "outputs": [],
   "source": [
    "import pandas as pd\n",
    "\n",
    "# Afficher toutes les lignes et colonnes sans troncature\n",
    "pd.set_option(\"display.max_rows\", None)  # Afficher toutes les lignes\n",
    "pd.set_option(\"display.max_columns\", None)  # Afficher toutes les colonnes\n",
    "pd.set_option(\"display.max_colwidth\", None)  # Afficher le contenu complet des colonnes\n",
    "pd.set_option(\"display.expand_frame_repr\", False)  # Évite que le tableau soit coupé sur plusieurs lignes\n",
    "\n",
    "# Affichage du DataFrame complet\n",
    "print(df_distribution)\n"
   ]
  },
  {
   "cell_type": "code",
   "execution_count": null,
   "metadata": {},
   "outputs": [],
   "source": [
    "# Distribution des labels\n",
    "label_counts = data['Label'].value_counts()\n",
    "# print(\"\\nDistribution des labels :\")\n",
    "# print(label_counts)\n",
    "\n",
    "# number of unique labels\n",
    "print(f\"\\nNombre de classes : {len(label_counts)}\")\n",
    "\n",
    "# Visualisation de la distribution des classes\n",
    "plt.figure(figsize=(18, 6))\n",
    "sns.barplot(x=label_counts.index, y=label_counts.values, palette=\"viridis\")\n",
    "plt.xticks(rotation=135)\n",
    "plt.tight_layout()\n",
    "plt.title(\"Répartition des classes dans les données d'entraînement\")\n",
    "plt.xlabel(\"Classe\")\n",
    "plt.ylabel(\"Nombre d'échantillons\")\n",
    "plt.show()\n"
   ]
  },
  {
   "cell_type": "code",
   "execution_count": null,
   "metadata": {},
   "outputs": [],
   "source": [
    "fig, axes = plt.subplots(1, 2, figsize=(18, 6))\n",
    "\n",
    "classes_plus_1000 = df_distribution[df_distribution[\"Occurrences\"] >= 1000]\n",
    "classes_moins_10 = df_distribution[df_distribution[\"Occurrences\"] < 10]\n",
    "\n",
    "sns.barplot(x=classes_plus_1000[\"Classe\"], y=classes_plus_1000[\"Occurrences\"], ax=axes[0], palette=\"viridis\")\n",
    "axes[0].set_title(\"Classes avec plus de 1000 instances\", fontsize=24)\n",
    "axes[0].set_xlabel(\"Classe\", fontsize=22)\n",
    "axes[0].set_ylabel(\"Occurrences\", fontsize=22)\n",
    "axes[0].tick_params(axis='x', rotation=90, labelsize=18)\n",
    "axes[0].tick_params(axis='y', labelsize=18)\n",
    "\n",
    "sns.barplot(x=classes_moins_10[\"Classe\"], y=classes_moins_10[\"Occurrences\"], ax=axes[1], palette=\"magma\")\n",
    "axes[1].set_title(\"Classes avec moins de 10 instances\", fontsize=24)\n",
    "axes[1].set_xlabel(\"Classe\", fontsize=22)\n",
    "axes[1].set_ylabel(\"Occurrences\", fontsize=22)\n",
    "axes[1].tick_params(axis='x', rotation=90, labelsize=18)\n",
    "axes[1].tick_params(axis='y', labelsize=18)\n",
    "\n",
    "plt.tight_layout()\n",
    "plt.show()\n"
   ]
  },
  {
   "cell_type": "markdown",
   "metadata": {},
   "source": [
    "### Longueur des échantillons\n"
   ]
  },
  {
   "cell_type": "code",
   "execution_count": null,
   "metadata": {},
   "outputs": [],
   "source": [
    "# Longueur des textes\n",
    "data['text_length'] = data['Text'].apply(len)\n",
    "print(\"\\nStatistiques sur la longueur des textes :\")\n",
    "print(data['text_length'].describe())\n",
    "\n",
    "# Visualisation de la distribution des longueurs de texte\n",
    "plt.figure(figsize=(10, 6))\n",
    "sns.histplot(data['text_length'], kde=False, bins=50, color='blue')\n",
    "# plt.title(\"Distribution des longueurs de texte\", fontsize=20)\n",
    "plt.xlabel(\"Longueur du texte\", fontsize = 18)\n",
    "plt.ylabel(\"Fréquence\", fontsize = 18)\n",
    "plt.show()\n",
    "\n"
   ]
  },
  {
   "cell_type": "code",
   "execution_count": null,
   "metadata": {},
   "outputs": [],
   "source": [
    "# index du texte de longueur maximale\n",
    "max_length_index = data['text_length'].idxmax()\n",
    "print(\"\\nExemple de texte le plus long :\")\n",
    "print(data.loc[max_length_index, 'Text'])\n",
    "\n",
    "# nombre d'échantillons: longueur > 1000\n",
    "num_samples = data[data['text_length'] > 1000].shape[0]\n",
    "print(f\"\\nNombre d'échantillons avec une longueur de texte > 1000 : {num_samples}\")"
   ]
  },
  {
   "cell_type": "code",
   "execution_count": null,
   "metadata": {},
   "outputs": [],
   "source": [
    "# zoom sur les textes de longueur < 1000\n",
    "plt.figure(figsize=(10, 6))\n",
    "sns.histplot(data[data['text_length'] < 1000]['text_length'], kde=True, bins=50, color='blue')\n",
    "# plt.title(\"Distribution des longueurs de texte\")\n",
    "plt.xlabel(\"Longueur du texte\", fontsize= 25)\n",
    "plt.xticks(fontsize = 18)\n",
    "plt.ylabel(\"Fréquence\", fontsize = 25)\n",
    "plt.yticks(fontsize = 18)\n",
    "plt.show()\n"
   ]
  },
  {
   "cell_type": "code",
   "execution_count": null,
   "metadata": {},
   "outputs": [],
   "source": [
    "# Vérification si la colonne 'text_length' est disponible\n",
    "if \"text_length\" in data.columns:\n",
    "    # Calcul du nombre total d'instances\n",
    "    total_instances = len(data)\n",
    "\n",
    "    # Calcul du nombre d'instances ayant plus de 1000 mots\n",
    "    instances_plus_1000 = (data[\"text_length\"] > 1000).sum()\n",
    "\n",
    "    # Calcul du pourcentage\n",
    "    part_instances_plus_1000 = (instances_plus_1000 / total_instances) * 100\n",
    "\n",
    "    # Affichage du résultat\n",
    "    part_instances_plus_1000\n",
    "else:\n",
    "    \"La colonne 'text_length' n'est pas présente dans les données.\"\n"
   ]
  },
  {
   "cell_type": "code",
   "execution_count": null,
   "metadata": {},
   "outputs": [],
   "source": [
    "part_instances_plus_1000"
   ]
  },
  {
   "cell_type": "code",
   "execution_count": null,
   "metadata": {},
   "outputs": [],
   "source": [
    "import pandas as pd\n",
    "\n",
    "# Vérification si la colonne 'text_length' est disponible\n",
    "if \"text_length\" in data.columns:\n",
    "    # Comptage du nombre d'échantillons pour chaque longueur de texte\n",
    "    text_length_distribution = data[\"text_length\"].value_counts().sort_index()\n",
    "\n",
    "    # Sauvegarde dans un fichier texte\n",
    "    output_file = \"output.txt\"\n",
    "    text_length_distribution.to_csv(output_file, header=[\"Occurrences\"], index_label=\"Text Length\", sep=\"\\t\")\n",
    "\n",
    "    # Afficher le chemin du fichier généré\n",
    "    output_file\n",
    "else:\n",
    "    \"La colonne 'text_length' n'est pas présente dans les données.\"\n"
   ]
  },
  {
   "cell_type": "code",
   "execution_count": null,
   "metadata": {},
   "outputs": [],
   "source": []
  }
 ],
 "metadata": {
  "kernelspec": {
   "display_name": "Python 3",
   "language": "python",
   "name": "python3"
  },
  "language_info": {
   "codemirror_mode": {
    "name": "ipython",
    "version": 3
   },
   "file_extension": ".py",
   "mimetype": "text/x-python",
   "name": "python",
   "nbconvert_exporter": "python",
   "pygments_lexer": "ipython3",
   "version": "3.12.1"
  }
 },
 "nbformat": 4,
 "nbformat_minor": 2
}

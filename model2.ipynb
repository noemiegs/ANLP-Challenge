{
 "cells": [
  {
   "cell_type": "markdown",
   "metadata": {},
   "source": [
    "## Étape 1 : Charger les données"
   ]
  },
  {
   "cell_type": "code",
   "execution_count": null,
   "metadata": {},
   "outputs": [
    {
     "ename": "ParserError",
     "evalue": "Error tokenizing data. C error: Expected 1 fields in line 1966, saw 2\n",
     "output_type": "error",
     "traceback": [
      "\u001b[1;31m---------------------------------------------------------------------------\u001b[0m",
      "\u001b[1;31mParserError\u001b[0m                               Traceback (most recent call last)",
      "Cell \u001b[1;32mIn[5], line 5\u001b[0m\n\u001b[0;32m      2\u001b[0m \u001b[38;5;28;01mimport\u001b[39;00m\u001b[38;5;250m \u001b[39m\u001b[38;5;21;01mpandas\u001b[39;00m\u001b[38;5;250m \u001b[39m\u001b[38;5;28;01mas\u001b[39;00m\u001b[38;5;250m \u001b[39m\u001b[38;5;21;01mpd\u001b[39;00m\n\u001b[0;32m      4\u001b[0m \u001b[38;5;66;03m# Charger les données du fichier d'entraînement\u001b[39;00m\n\u001b[1;32m----> 5\u001b[0m df \u001b[38;5;241m=\u001b[39m \u001b[43mpd\u001b[49m\u001b[38;5;241;43m.\u001b[39;49m\u001b[43mread_csv\u001b[49m\u001b[43m(\u001b[49m\u001b[38;5;124;43m\"\u001b[39;49m\u001b[38;5;124;43mdata/train_submission.csv\u001b[39;49m\u001b[38;5;124;43m\"\u001b[39;49m\u001b[43m,\u001b[49m\u001b[43m \u001b[49m\u001b[43msep\u001b[49m\u001b[38;5;241;43m=\u001b[39;49m\u001b[38;5;124;43m\"\u001b[39;49m\u001b[38;5;130;43;01m\\t\u001b[39;49;00m\u001b[38;5;124;43m\"\u001b[39;49m\u001b[43m,\u001b[49m\u001b[43m \u001b[49m\u001b[43mencoding\u001b[49m\u001b[38;5;241;43m=\u001b[39;49m\u001b[38;5;124;43m\"\u001b[39;49m\u001b[38;5;124;43mutf-8\u001b[39;49m\u001b[38;5;124;43m\"\u001b[39;49m\u001b[43m)\u001b[49m\n\u001b[0;32m      7\u001b[0m \u001b[38;5;66;03m# Afficher les premières lignes pour comprendre la structure\u001b[39;00m\n\u001b[0;32m      8\u001b[0m display(df\u001b[38;5;241m.\u001b[39mhead())\n",
      "File \u001b[1;32mc:\\Users\\Martin\\AppData\\Local\\Programs\\Python\\Python312\\Lib\\site-packages\\pandas\\io\\parsers\\readers.py:1026\u001b[0m, in \u001b[0;36mread_csv\u001b[1;34m(filepath_or_buffer, sep, delimiter, header, names, index_col, usecols, dtype, engine, converters, true_values, false_values, skipinitialspace, skiprows, skipfooter, nrows, na_values, keep_default_na, na_filter, verbose, skip_blank_lines, parse_dates, infer_datetime_format, keep_date_col, date_parser, date_format, dayfirst, cache_dates, iterator, chunksize, compression, thousands, decimal, lineterminator, quotechar, quoting, doublequote, escapechar, comment, encoding, encoding_errors, dialect, on_bad_lines, delim_whitespace, low_memory, memory_map, float_precision, storage_options, dtype_backend)\u001b[0m\n\u001b[0;32m   1013\u001b[0m kwds_defaults \u001b[38;5;241m=\u001b[39m _refine_defaults_read(\n\u001b[0;32m   1014\u001b[0m     dialect,\n\u001b[0;32m   1015\u001b[0m     delimiter,\n\u001b[1;32m   (...)\u001b[0m\n\u001b[0;32m   1022\u001b[0m     dtype_backend\u001b[38;5;241m=\u001b[39mdtype_backend,\n\u001b[0;32m   1023\u001b[0m )\n\u001b[0;32m   1024\u001b[0m kwds\u001b[38;5;241m.\u001b[39mupdate(kwds_defaults)\n\u001b[1;32m-> 1026\u001b[0m \u001b[38;5;28;01mreturn\u001b[39;00m \u001b[43m_read\u001b[49m\u001b[43m(\u001b[49m\u001b[43mfilepath_or_buffer\u001b[49m\u001b[43m,\u001b[49m\u001b[43m \u001b[49m\u001b[43mkwds\u001b[49m\u001b[43m)\u001b[49m\n",
      "File \u001b[1;32mc:\\Users\\Martin\\AppData\\Local\\Programs\\Python\\Python312\\Lib\\site-packages\\pandas\\io\\parsers\\readers.py:626\u001b[0m, in \u001b[0;36m_read\u001b[1;34m(filepath_or_buffer, kwds)\u001b[0m\n\u001b[0;32m    623\u001b[0m     \u001b[38;5;28;01mreturn\u001b[39;00m parser\n\u001b[0;32m    625\u001b[0m \u001b[38;5;28;01mwith\u001b[39;00m parser:\n\u001b[1;32m--> 626\u001b[0m     \u001b[38;5;28;01mreturn\u001b[39;00m \u001b[43mparser\u001b[49m\u001b[38;5;241;43m.\u001b[39;49m\u001b[43mread\u001b[49m\u001b[43m(\u001b[49m\u001b[43mnrows\u001b[49m\u001b[43m)\u001b[49m\n",
      "File \u001b[1;32mc:\\Users\\Martin\\AppData\\Local\\Programs\\Python\\Python312\\Lib\\site-packages\\pandas\\io\\parsers\\readers.py:1923\u001b[0m, in \u001b[0;36mTextFileReader.read\u001b[1;34m(self, nrows)\u001b[0m\n\u001b[0;32m   1916\u001b[0m nrows \u001b[38;5;241m=\u001b[39m validate_integer(\u001b[38;5;124m\"\u001b[39m\u001b[38;5;124mnrows\u001b[39m\u001b[38;5;124m\"\u001b[39m, nrows)\n\u001b[0;32m   1917\u001b[0m \u001b[38;5;28;01mtry\u001b[39;00m:\n\u001b[0;32m   1918\u001b[0m     \u001b[38;5;66;03m# error: \"ParserBase\" has no attribute \"read\"\u001b[39;00m\n\u001b[0;32m   1919\u001b[0m     (\n\u001b[0;32m   1920\u001b[0m         index,\n\u001b[0;32m   1921\u001b[0m         columns,\n\u001b[0;32m   1922\u001b[0m         col_dict,\n\u001b[1;32m-> 1923\u001b[0m     ) \u001b[38;5;241m=\u001b[39m \u001b[38;5;28;43mself\u001b[39;49m\u001b[38;5;241;43m.\u001b[39;49m\u001b[43m_engine\u001b[49m\u001b[38;5;241;43m.\u001b[39;49m\u001b[43mread\u001b[49m\u001b[43m(\u001b[49m\u001b[43m  \u001b[49m\u001b[38;5;66;43;03m# type: ignore[attr-defined]\u001b[39;49;00m\n\u001b[0;32m   1924\u001b[0m \u001b[43m        \u001b[49m\u001b[43mnrows\u001b[49m\n\u001b[0;32m   1925\u001b[0m \u001b[43m    \u001b[49m\u001b[43m)\u001b[49m\n\u001b[0;32m   1926\u001b[0m \u001b[38;5;28;01mexcept\u001b[39;00m \u001b[38;5;167;01mException\u001b[39;00m:\n\u001b[0;32m   1927\u001b[0m     \u001b[38;5;28mself\u001b[39m\u001b[38;5;241m.\u001b[39mclose()\n",
      "File \u001b[1;32mc:\\Users\\Martin\\AppData\\Local\\Programs\\Python\\Python312\\Lib\\site-packages\\pandas\\io\\parsers\\c_parser_wrapper.py:234\u001b[0m, in \u001b[0;36mCParserWrapper.read\u001b[1;34m(self, nrows)\u001b[0m\n\u001b[0;32m    232\u001b[0m \u001b[38;5;28;01mtry\u001b[39;00m:\n\u001b[0;32m    233\u001b[0m     \u001b[38;5;28;01mif\u001b[39;00m \u001b[38;5;28mself\u001b[39m\u001b[38;5;241m.\u001b[39mlow_memory:\n\u001b[1;32m--> 234\u001b[0m         chunks \u001b[38;5;241m=\u001b[39m \u001b[38;5;28;43mself\u001b[39;49m\u001b[38;5;241;43m.\u001b[39;49m\u001b[43m_reader\u001b[49m\u001b[38;5;241;43m.\u001b[39;49m\u001b[43mread_low_memory\u001b[49m\u001b[43m(\u001b[49m\u001b[43mnrows\u001b[49m\u001b[43m)\u001b[49m\n\u001b[0;32m    235\u001b[0m         \u001b[38;5;66;03m# destructive to chunks\u001b[39;00m\n\u001b[0;32m    236\u001b[0m         data \u001b[38;5;241m=\u001b[39m _concatenate_chunks(chunks)\n",
      "File \u001b[1;32mparsers.pyx:838\u001b[0m, in \u001b[0;36mpandas._libs.parsers.TextReader.read_low_memory\u001b[1;34m()\u001b[0m\n",
      "File \u001b[1;32mparsers.pyx:905\u001b[0m, in \u001b[0;36mpandas._libs.parsers.TextReader._read_rows\u001b[1;34m()\u001b[0m\n",
      "File \u001b[1;32mparsers.pyx:874\u001b[0m, in \u001b[0;36mpandas._libs.parsers.TextReader._tokenize_rows\u001b[1;34m()\u001b[0m\n",
      "File \u001b[1;32mparsers.pyx:891\u001b[0m, in \u001b[0;36mpandas._libs.parsers.TextReader._check_tokenize_status\u001b[1;34m()\u001b[0m\n",
      "File \u001b[1;32mparsers.pyx:2061\u001b[0m, in \u001b[0;36mpandas._libs.parsers.raise_parser_error\u001b[1;34m()\u001b[0m\n",
      "\u001b[1;31mParserError\u001b[0m: Error tokenizing data. C error: Expected 1 fields in line 1966, saw 2\n"
     ]
    }
   ],
   "source": [
    "import json\n",
    "import pandas as pd\n",
    "\n",
    "# Charger les données du fichier d'entraînement\n",
    "# deals with smileys and special characters\n",
    "df = pd.read_csv(\"data/train_submission.csv\", sep=\"\\t\", encoding='utf-8')\n",
    "\n",
    "# Afficher les premières lignes pour comprendre la structure\n",
    "display(df.head())\n",
    "\n",
    "# Transformer les données pour correspondre au format attendu\n",
    "# Ici, nous supposons que le modèle doit être entraîné pour détecter les langues\n",
    "df = df[['Text', 'Label']].rename(columns={'Text': 'text', 'Label': 'label'})\n",
    "\n",
    "# # Charger les données de test\n",
    "# test_df = pd.read_csv(\"data/test_without_labels.csv\", sep=\"\\t\")\n",
    "\n",
    "# display(test_df.head())\n",
    "\n"
   ]
  },
  {
   "cell_type": "markdown",
   "metadata": {},
   "source": [
    "## Étape 2 : Préparer les données pour l'entraînement"
   ]
  },
  {
   "cell_type": "code",
   "execution_count": 2,
   "metadata": {},
   "outputs": [],
   "source": [
    "from sklearn.model_selection import train_test_split\n",
    "from sklearn.feature_extraction.text import TfidfVectorizer\n",
    "\n",
    "# Diviser les données en ensembles d'entraînement et de test\n",
    "X_train, X_test, y_train, y_test = train_test_split(\n",
    "    df[\"text\"], df[\"label\"], test_size=0.2, random_state=42\n",
    ")\n",
    "\n",
    "# Vectoriser les phrases avec TF-IDF\n",
    "vectorizer = TfidfVectorizer(stop_words=\"english\", max_features=5000)\n",
    "X_train_tfidf = vectorizer.fit_transform(X_train)\n",
    "X_test_tfidf = vectorizer.transform(X_test)\n"
   ]
  },
  {
   "cell_type": "markdown",
   "metadata": {},
   "source": [
    "## Étape 3 : Entraîner un modèle de classification\n"
   ]
  },
  {
   "cell_type": "code",
   "execution_count": 3,
   "metadata": {},
   "outputs": [
    {
     "name": "stdout",
     "output_type": "stream",
     "text": [
      "Accuracy: 0.8544776119402985\n",
      "               precision    recall  f1-score   support\n",
      "\n",
      "    Education       0.88      1.00      0.93        28\n",
      "Entertainment       1.00      0.91      0.95        23\n",
      "  Environment       0.54      0.91      0.68        22\n",
      "      Fashion       0.93      0.93      0.93        30\n",
      "      Finance       1.00      0.52      0.68        25\n",
      "         Food       1.00      0.92      0.96        25\n",
      "       Health       0.89      0.89      0.89        18\n",
      "     Politics       0.96      1.00      0.98        24\n",
      "      Science       0.91      0.53      0.67        19\n",
      "       Sports       0.94      0.89      0.92        19\n",
      "   Technology       0.92      0.73      0.81        15\n",
      "       Travel       0.64      0.90      0.75        20\n",
      "\n",
      "     accuracy                           0.85       268\n",
      "    macro avg       0.88      0.84      0.85       268\n",
      " weighted avg       0.89      0.85      0.85       268\n",
      "\n"
     ]
    }
   ],
   "source": [
    "from sklearn.naive_bayes import MultinomialNB\n",
    "from sklearn.metrics import classification_report, accuracy_score\n",
    "\n",
    "# Entraîner le modèle\n",
    "model = MultinomialNB()\n",
    "model.fit(X_train_tfidf, y_train, )\n",
    "\n",
    "# Faire des prédictions\n",
    "y_pred = model.predict(X_test_tfidf)\n",
    "\n",
    "# Évaluer le modèle\n",
    "print(\"Accuracy:\", accuracy_score(y_test, y_pred))\n",
    "print(classification_report(y_test, y_pred))\n"
   ]
  },
  {
   "cell_type": "markdown",
   "metadata": {},
   "source": [
    "## Étape 4 : Tester le classificateur avec de nouvelles phrases"
   ]
  },
  {
   "cell_type": "code",
   "execution_count": 4,
   "metadata": {},
   "outputs": [
    {
     "name": "stdout",
     "output_type": "stream",
     "text": [
      "'The government passed a new bill to regulate cryptocurrencies.' => Politics\n",
      "'The basketball player scored a record-breaking number of points.' => Sports\n",
      "'Artificial intelligence is changing the way we work.' => Technology\n"
     ]
    }
   ],
   "source": [
    "# Tester avec une nouvelle phrase\n",
    "new_sentences = [\n",
    "    \"The government passed a new bill to regulate cryptocurrencies.\",\n",
    "    \"The basketball player scored a record-breaking number of points.\",\n",
    "    \"Artificial intelligence is changing the way we work.\"\n",
    "]\n",
    "\n",
    "new_sentences_tfidf = vectorizer.transform(new_sentences)\n",
    "predictions = model.predict(new_sentences_tfidf)\n",
    "\n",
    "for sentence, label in zip(new_sentences, predictions):\n",
    "    print(f\"'{sentence}' => {label}\")\n"
   ]
  },
  {
   "cell_type": "markdown",
   "metadata": {},
   "source": [
    "## Étape 5 : Sauvegarder et charger le modèle (facultatif)"
   ]
  },
  {
   "cell_type": "code",
   "execution_count": 5,
   "metadata": {},
   "outputs": [],
   "source": [
    "import joblib\n",
    "\n",
    "# Sauvegarder le modèle et le vectoriseur\n",
    "joblib.dump(model, \"text_classifier_model.pkl\")\n",
    "joblib.dump(vectorizer, \"vectorizer.pkl\")\n",
    "\n",
    "# Charger le modèle plus tard\n",
    "loaded_model = joblib.load(\"text_classifier_model.pkl\")\n",
    "loaded_vectorizer = joblib.load(\"vectorizer.pkl\")\n"
   ]
  },
  {
   "cell_type": "code",
   "execution_count": 6,
   "metadata": {},
   "outputs": [
    {
     "name": "stdout",
     "output_type": "stream",
     "text": [
      "Epoch 1/10, Loss: 2.4852\n",
      "Epoch 2/10, Loss: 2.4809\n",
      "Epoch 3/10, Loss: 2.4795\n",
      "Epoch 4/10, Loss: 2.4796\n",
      "Epoch 5/10, Loss: 2.4801\n",
      "Epoch 6/10, Loss: 2.4774\n",
      "Epoch 7/10, Loss: 2.4779\n",
      "Epoch 8/10, Loss: 2.4779\n",
      "Epoch 9/10, Loss: 2.4783\n",
      "Epoch 10/10, Loss: 2.4777\n",
      "               precision    recall  f1-score   support\n",
      "\n",
      "    Education       0.00      0.00      0.00        28\n",
      "Entertainment       0.00      0.00      0.00        23\n",
      "  Environment       0.08      1.00      0.15        22\n",
      "      Fashion       0.00      0.00      0.00        30\n",
      "      Finance       0.00      0.00      0.00        25\n",
      "         Food       0.00      0.00      0.00        25\n",
      "       Health       0.00      0.00      0.00        18\n",
      "     Politics       0.00      0.00      0.00        24\n",
      "      Science       0.00      0.00      0.00        19\n",
      "       Sports       0.00      0.00      0.00        19\n",
      "   Technology       0.00      0.00      0.00        15\n",
      "       Travel       0.00      0.00      0.00        20\n",
      "\n",
      "     accuracy                           0.08       268\n",
      "    macro avg       0.01      0.08      0.01       268\n",
      " weighted avg       0.01      0.08      0.01       268\n",
      "\n"
     ]
    },
    {
     "name": "stderr",
     "output_type": "stream",
     "text": [
      "c:\\Users\\Martin\\AppData\\Local\\Programs\\Python\\Python312\\Lib\\site-packages\\sklearn\\metrics\\_classification.py:1497: UndefinedMetricWarning: Precision is ill-defined and being set to 0.0 in labels with no predicted samples. Use `zero_division` parameter to control this behavior.\n",
      "  _warn_prf(average, modifier, f\"{metric.capitalize()} is\", len(result))\n",
      "c:\\Users\\Martin\\AppData\\Local\\Programs\\Python\\Python312\\Lib\\site-packages\\sklearn\\metrics\\_classification.py:1497: UndefinedMetricWarning: Precision is ill-defined and being set to 0.0 in labels with no predicted samples. Use `zero_division` parameter to control this behavior.\n",
      "  _warn_prf(average, modifier, f\"{metric.capitalize()} is\", len(result))\n",
      "c:\\Users\\Martin\\AppData\\Local\\Programs\\Python\\Python312\\Lib\\site-packages\\sklearn\\metrics\\_classification.py:1497: UndefinedMetricWarning: Precision is ill-defined and being set to 0.0 in labels with no predicted samples. Use `zero_division` parameter to control this behavior.\n",
      "  _warn_prf(average, modifier, f\"{metric.capitalize()} is\", len(result))\n"
     ]
    }
   ],
   "source": [
    "import torch\n",
    "import torch.nn as nn\n",
    "import torch.optim as optim\n",
    "from torch.utils.data import DataLoader, Dataset\n",
    "from sklearn.model_selection import train_test_split\n",
    "from sklearn.preprocessing import LabelEncoder\n",
    "from sklearn.metrics import classification_report\n",
    "from collections import Counter\n",
    "import numpy as np\n",
    "import json\n",
    "\n",
    "# Load and prepare the dataset\n",
    "def load_data(file_path):\n",
    "    with open(file_path, 'r') as f:\n",
    "        data = json.load(f)\n",
    "    \n",
    "    sentences, labels = [], []\n",
    "    for label, texts in data.items():\n",
    "        sentences.extend(texts)\n",
    "        labels.extend([label] * len(texts))\n",
    "    return sentences, labels\n",
    "\n",
    "# Tokenization and Vocabulary Building\n",
    "def tokenize_and_build_vocab(sentences, min_freq=1):\n",
    "    tokens = [word for sentence in sentences for word in sentence.split()]\n",
    "    vocab_count = Counter(tokens)\n",
    "    vocab = {word: idx + 1 for idx, (word, count) in enumerate(vocab_count.items()) if count >= min_freq}\n",
    "    vocab[\"<UNK>\"] = len(vocab) + 1\n",
    "    vocab[\"<PAD>\"] = 0\n",
    "    return vocab\n",
    "\n",
    "# Encode sentences into numerical format\n",
    "def encode_sentences(sentences, vocab, max_len):\n",
    "    encoded = []\n",
    "    for sentence in sentences:\n",
    "        encoded.append([vocab.get(word, vocab[\"<UNK>\"]) for word in sentence.split()][:max_len])\n",
    "    return [seq + [vocab[\"<PAD>\"]] * (max_len - len(seq)) for seq in encoded]\n",
    "\n",
    "# Custom Dataset Class\n",
    "class TextDataset(Dataset):\n",
    "    def __init__(self, sentences, labels):\n",
    "        self.sentences = torch.tensor(sentences, dtype=torch.long)\n",
    "        self.labels = torch.tensor(labels, dtype=torch.long)\n",
    "\n",
    "    def __len__(self):\n",
    "        return len(self.labels)\n",
    "\n",
    "    def __getitem__(self, idx):\n",
    "        return self.sentences[idx], self.labels[idx]\n",
    "\n",
    "# LSTM Classifier\n",
    "class LSTMClassifier(nn.Module):\n",
    "    def __init__(self, vocab_size, embedding_dim, hidden_dim, num_classes):\n",
    "        super(LSTMClassifier, self).__init__()\n",
    "        self.embedding = nn.Embedding(vocab_size, embedding_dim, padding_idx=0)\n",
    "        self.lstm = nn.LSTM(embedding_dim, hidden_dim, batch_first=True)\n",
    "        self.fc = nn.Linear(hidden_dim, num_classes)\n",
    "\n",
    "    def forward(self, x):\n",
    "        embedded = self.embedding(x)\n",
    "        _, (hidden, _) = self.lstm(embedded)\n",
    "        output = self.fc(hidden[-1])\n",
    "        return output\n",
    "\n",
    "# Main script\n",
    "if __name__ == \"__main__\":\n",
    "    # Parameters\n",
    "    data_path = \"data/test.json\"\n",
    "    embedding_dim = 100\n",
    "    hidden_dim = 128\n",
    "    batch_size = 32\n",
    "    num_epochs = 10\n",
    "    learning_rate = 0.001\n",
    "    max_len = 50  # Max sequence length\n",
    "\n",
    "    # Load data\n",
    "    sentences, labels = load_data(data_path)\n",
    "\n",
    "    # Encode labels\n",
    "    label_encoder = LabelEncoder()\n",
    "    labels = label_encoder.fit_transform(labels)\n",
    "\n",
    "    # Build vocabulary and encode sentences\n",
    "    vocab = tokenize_and_build_vocab(sentences)\n",
    "    encoded_sentences = encode_sentences(sentences, vocab, max_len)\n",
    "\n",
    "    # Split data\n",
    "    X_train, X_val, y_train, y_val = train_test_split(encoded_sentences, labels, test_size=0.2, random_state=42)\n",
    "\n",
    "    # Create Datasets and DataLoaders\n",
    "    train_dataset = TextDataset(X_train, y_train)\n",
    "    val_dataset = TextDataset(X_val, y_val)\n",
    "\n",
    "    train_loader = DataLoader(train_dataset, batch_size=batch_size, shuffle=True)\n",
    "    val_loader = DataLoader(val_dataset, batch_size=batch_size, shuffle=False)\n",
    "\n",
    "    # Model, Loss, Optimizer\n",
    "    model = LSTMClassifier(vocab_size=len(vocab), embedding_dim=embedding_dim, hidden_dim=hidden_dim, num_classes=len(label_encoder.classes_))\n",
    "    criterion = nn.CrossEntropyLoss()\n",
    "    optimizer = optim.Adam(model.parameters(), lr=learning_rate)\n",
    "\n",
    "    # Training Loop\n",
    "    for epoch in range(num_epochs):\n",
    "        model.train()\n",
    "        total_loss = 0\n",
    "        for batch in train_loader:\n",
    "            sentences, labels = batch\n",
    "            optimizer.zero_grad()\n",
    "            outputs = model(sentences)\n",
    "            loss = criterion(outputs, labels)\n",
    "            loss.backward()\n",
    "            optimizer.step()\n",
    "            total_loss += loss.item()\n",
    "        print(f\"Epoch {epoch + 1}/{num_epochs}, Loss: {total_loss / len(train_loader):.4f}\")\n",
    "\n",
    "    # Evaluation\n",
    "    model.eval()\n",
    "    all_preds, all_labels = [], []\n",
    "    with torch.no_grad():\n",
    "        for batch in val_loader:\n",
    "            sentences, labels = batch\n",
    "            outputs = model(sentences)\n",
    "            preds = torch.argmax(outputs, dim=1)\n",
    "            all_preds.extend(preds.cpu().numpy())\n",
    "            all_labels.extend(labels.cpu().numpy())\n",
    "\n",
    "    # Classification Report\n",
    "    print(classification_report(all_labels, all_preds, target_names=label_encoder.classes_))\n"
   ]
  },
  {
   "cell_type": "code",
   "execution_count": 6,
   "metadata": {},
   "outputs": [
    {
     "name": "stdout",
     "output_type": "stream",
     "text": [
      "WARNING:tensorflow:From c:\\Users\\Martin\\AppData\\Local\\Programs\\Python\\Python312\\Lib\\site-packages\\tf_keras\\src\\losses.py:2976: The name tf.losses.sparse_softmax_cross_entropy is deprecated. Please use tf.compat.v1.losses.sparse_softmax_cross_entropy instead.\n",
      "\n"
     ]
    },
    {
     "data": {
      "application/vnd.jupyter.widget-view+json": {
       "model_id": "f0c895003b984dc59e0aad2a2eac8532",
       "version_major": 2,
       "version_minor": 0
      },
      "text/plain": [
       "tokenizer_config.json:   0%|          | 0.00/48.0 [00:00<?, ?B/s]"
      ]
     },
     "metadata": {},
     "output_type": "display_data"
    },
    {
     "name": "stderr",
     "output_type": "stream",
     "text": [
      "c:\\Users\\Martin\\AppData\\Local\\Programs\\Python\\Python312\\Lib\\site-packages\\huggingface_hub\\file_download.py:139: UserWarning: `huggingface_hub` cache-system uses symlinks by default to efficiently store duplicated files but your machine does not support them in C:\\Users\\Martin\\.cache\\huggingface\\hub\\models--bert-base-uncased. Caching files will still work but in a degraded version that might require more space on your disk. This warning can be disabled by setting the `HF_HUB_DISABLE_SYMLINKS_WARNING` environment variable. For more details, see https://huggingface.co/docs/huggingface_hub/how-to-cache#limitations.\n",
      "To support symlinks on Windows, you either need to activate Developer Mode or to run Python as an administrator. In order to activate developer mode, see this article: https://docs.microsoft.com/en-us/windows/apps/get-started/enable-your-device-for-development\n",
      "  warnings.warn(message)\n"
     ]
    },
    {
     "data": {
      "application/vnd.jupyter.widget-view+json": {
       "model_id": "a280ea15b91e45c38be68b3b96179d16",
       "version_major": 2,
       "version_minor": 0
      },
      "text/plain": [
       "vocab.txt:   0%|          | 0.00/232k [00:00<?, ?B/s]"
      ]
     },
     "metadata": {},
     "output_type": "display_data"
    },
    {
     "data": {
      "application/vnd.jupyter.widget-view+json": {
       "model_id": "8ad93b67d5e343f79e1ae2079e8fa6e1",
       "version_major": 2,
       "version_minor": 0
      },
      "text/plain": [
       "tokenizer.json:   0%|          | 0.00/466k [00:00<?, ?B/s]"
      ]
     },
     "metadata": {},
     "output_type": "display_data"
    },
    {
     "data": {
      "application/vnd.jupyter.widget-view+json": {
       "model_id": "84be74531d474a32bba61d63d476e332",
       "version_major": 2,
       "version_minor": 0
      },
      "text/plain": [
       "config.json:   0%|          | 0.00/570 [00:00<?, ?B/s]"
      ]
     },
     "metadata": {},
     "output_type": "display_data"
    },
    {
     "data": {
      "application/vnd.jupyter.widget-view+json": {
       "model_id": "1b5df91817f8459eaf9b172a965b406f",
       "version_major": 2,
       "version_minor": 0
      },
      "text/plain": [
       "Map:   0%|          | 0/1070 [00:00<?, ? examples/s]"
      ]
     },
     "metadata": {},
     "output_type": "display_data"
    },
    {
     "data": {
      "application/vnd.jupyter.widget-view+json": {
       "model_id": "4f541db0a95e495f8cb805e84a62377a",
       "version_major": 2,
       "version_minor": 0
      },
      "text/plain": [
       "Map:   0%|          | 0/268 [00:00<?, ? examples/s]"
      ]
     },
     "metadata": {},
     "output_type": "display_data"
    },
    {
     "data": {
      "application/vnd.jupyter.widget-view+json": {
       "model_id": "fd9f030bed584c43a8118cd7fd0ee49f",
       "version_major": 2,
       "version_minor": 0
      },
      "text/plain": [
       "model.safetensors:   0%|          | 0.00/440M [00:00<?, ?B/s]"
      ]
     },
     "metadata": {},
     "output_type": "display_data"
    },
    {
     "name": "stderr",
     "output_type": "stream",
     "text": [
      "Some weights of BertForSequenceClassification were not initialized from the model checkpoint at bert-base-uncased and are newly initialized: ['classifier.bias', 'classifier.weight']\n",
      "You should probably TRAIN this model on a down-stream task to be able to use it for predictions and inference.\n",
      "c:\\Users\\Martin\\AppData\\Local\\Programs\\Python\\Python312\\Lib\\site-packages\\transformers\\training_args.py:1575: FutureWarning: `evaluation_strategy` is deprecated and will be removed in version 4.46 of 🤗 Transformers. Use `eval_strategy` instead\n",
      "  warnings.warn(\n"
     ]
    },
    {
     "data": {
      "application/vnd.jupyter.widget-view+json": {
       "model_id": "0b9dbef46f9d410cb4f596542f731032",
       "version_major": 2,
       "version_minor": 0
      },
      "text/plain": [
       "  0%|          | 0/201 [00:00<?, ?it/s]"
      ]
     },
     "metadata": {},
     "output_type": "display_data"
    },
    {
     "name": "stdout",
     "output_type": "stream",
     "text": [
      "{'loss': 2.3135, 'grad_norm': 6.739422798156738, 'learning_rate': 4.7512437810945275e-05, 'epoch': 0.15}\n",
      "{'loss': 2.0406, 'grad_norm': 7.340625286102295, 'learning_rate': 4.502487562189055e-05, 'epoch': 0.3}\n",
      "{'loss': 1.6809, 'grad_norm': 6.6272664070129395, 'learning_rate': 4.253731343283582e-05, 'epoch': 0.45}\n",
      "{'loss': 1.4179, 'grad_norm': 5.652853965759277, 'learning_rate': 4.00497512437811e-05, 'epoch': 0.6}\n",
      "{'loss': 1.0765, 'grad_norm': 5.040423393249512, 'learning_rate': 3.756218905472637e-05, 'epoch': 0.75}\n",
      "{'loss': 0.8002, 'grad_norm': 7.126789093017578, 'learning_rate': 3.5074626865671645e-05, 'epoch': 0.9}\n"
     ]
    },
    {
     "data": {
      "application/vnd.jupyter.widget-view+json": {
       "model_id": "144e299a627f423d99249dfb6659d4f3",
       "version_major": 2,
       "version_minor": 0
      },
      "text/plain": [
       "  0%|          | 0/17 [00:00<?, ?it/s]"
      ]
     },
     "metadata": {},
     "output_type": "display_data"
    },
    {
     "name": "stdout",
     "output_type": "stream",
     "text": [
      "{'eval_loss': 0.5019821524620056, 'eval_runtime': 6.3126, 'eval_samples_per_second': 42.455, 'eval_steps_per_second': 2.693, 'epoch': 1.0}\n",
      "{'loss': 0.4748, 'grad_norm': 2.3734195232391357, 'learning_rate': 3.258706467661692e-05, 'epoch': 1.04}\n",
      "{'loss': 0.3455, 'grad_norm': 4.336667537689209, 'learning_rate': 3.009950248756219e-05, 'epoch': 1.19}\n",
      "{'loss': 0.2538, 'grad_norm': 3.422884941101074, 'learning_rate': 2.7611940298507467e-05, 'epoch': 1.34}\n",
      "{'loss': 0.2108, 'grad_norm': 0.979602575302124, 'learning_rate': 2.512437810945274e-05, 'epoch': 1.49}\n",
      "{'loss': 0.1943, 'grad_norm': 0.721481442451477, 'learning_rate': 2.2636815920398012e-05, 'epoch': 1.64}\n",
      "{'loss': 0.108, 'grad_norm': 1.6990431547164917, 'learning_rate': 2.0149253731343285e-05, 'epoch': 1.79}\n",
      "{'loss': 0.1358, 'grad_norm': 1.7070181369781494, 'learning_rate': 1.7661691542288558e-05, 'epoch': 1.94}\n"
     ]
    },
    {
     "data": {
      "application/vnd.jupyter.widget-view+json": {
       "model_id": "6dc097072c8041d4810733beb612c0e0",
       "version_major": 2,
       "version_minor": 0
      },
      "text/plain": [
       "  0%|          | 0/17 [00:00<?, ?it/s]"
      ]
     },
     "metadata": {},
     "output_type": "display_data"
    },
    {
     "name": "stdout",
     "output_type": "stream",
     "text": [
      "{'eval_loss': 0.11231201887130737, 'eval_runtime': 6.341, 'eval_samples_per_second': 42.265, 'eval_steps_per_second': 2.681, 'epoch': 2.0}\n",
      "{'loss': 0.0645, 'grad_norm': 0.5094209313392639, 'learning_rate': 1.5174129353233832e-05, 'epoch': 2.09}\n",
      "{'loss': 0.0555, 'grad_norm': 0.41694745421409607, 'learning_rate': 1.2686567164179105e-05, 'epoch': 2.24}\n",
      "{'loss': 0.0485, 'grad_norm': 0.36386728286743164, 'learning_rate': 1.0199004975124378e-05, 'epoch': 2.39}\n",
      "{'loss': 0.0667, 'grad_norm': 0.3118654489517212, 'learning_rate': 7.711442786069652e-06, 'epoch': 2.54}\n",
      "{'loss': 0.0435, 'grad_norm': 0.34932029247283936, 'learning_rate': 5.2238805970149255e-06, 'epoch': 2.69}\n",
      "{'loss': 0.0409, 'grad_norm': 0.256906121969223, 'learning_rate': 2.736318407960199e-06, 'epoch': 2.84}\n",
      "{'loss': 0.0398, 'grad_norm': 0.2693299651145935, 'learning_rate': 2.4875621890547267e-07, 'epoch': 2.99}\n"
     ]
    },
    {
     "data": {
      "application/vnd.jupyter.widget-view+json": {
       "model_id": "f992cc65c0c8494ea1546dc11b5292c9",
       "version_major": 2,
       "version_minor": 0
      },
      "text/plain": [
       "  0%|          | 0/17 [00:00<?, ?it/s]"
      ]
     },
     "metadata": {},
     "output_type": "display_data"
    },
    {
     "name": "stdout",
     "output_type": "stream",
     "text": [
      "{'eval_loss': 0.08012282848358154, 'eval_runtime': 7.5375, 'eval_samples_per_second': 35.556, 'eval_steps_per_second': 2.255, 'epoch': 3.0}\n",
      "{'train_runtime': 244.6213, 'train_samples_per_second': 13.122, 'train_steps_per_second': 0.822, 'train_loss': 0.5679534016853541, 'epoch': 3.0}\n"
     ]
    },
    {
     "data": {
      "application/vnd.jupyter.widget-view+json": {
       "model_id": "04bdfa6b9e3f4caa9ae2db47de87e423",
       "version_major": 2,
       "version_minor": 0
      },
      "text/plain": [
       "  0%|          | 0/17 [00:00<?, ?it/s]"
      ]
     },
     "metadata": {},
     "output_type": "display_data"
    },
    {
     "name": "stdout",
     "output_type": "stream",
     "text": [
      "{'eval_loss': 0.08012282848358154, 'eval_runtime': 6.6343, 'eval_samples_per_second': 40.396, 'eval_steps_per_second': 2.562, 'epoch': 3.0}\n"
     ]
    }
   ],
   "source": [
    "# 1. Importation des bibliothèques nécessaires\n",
    "import json\n",
    "import torch\n",
    "from sklearn.model_selection import train_test_split\n",
    "from transformers import BertTokenizer, BertForSequenceClassification, Trainer, TrainingArguments\n",
    "from datasets import Dataset\n",
    "\n",
    "# 2. Charger les données depuis le fichier JSON\n",
    "with open(\"data/test.json\", \"r\") as f:\n",
    "    data = json.load(f)\n",
    "\n",
    "# 3. Préparer les données pour l'entraînement\n",
    "categories = list(data.keys())\n",
    "texts = []\n",
    "labels = []\n",
    "\n",
    "for idx, category in enumerate(categories):\n",
    "    for text in data[category]:\n",
    "        texts.append(text)\n",
    "        labels.append(idx)\n",
    "\n",
    "# 4. Diviser les données en ensembles d'entraînement et de test\n",
    "train_texts, test_texts, train_labels, test_labels = train_test_split(texts, labels, test_size=0.2)\n",
    "\n",
    "# 5. Tokenisation avec BERT\n",
    "tokenizer = BertTokenizer.from_pretrained(\"bert-base-uncased\")\n",
    "\n",
    "def tokenize_function(examples):\n",
    "    return tokenizer(examples[\"text\"], padding=\"max_length\", truncation=True)\n",
    "\n",
    "train_data = {\"text\": train_texts, \"label\": train_labels}\n",
    "test_data = {\"text\": test_texts, \"label\": test_labels}\n",
    "\n",
    "train_dataset = Dataset.from_dict(train_data)\n",
    "test_dataset = Dataset.from_dict(test_data)\n",
    "\n",
    "train_dataset = train_dataset.map(tokenize_function, batched=True)\n",
    "test_dataset = test_dataset.map(tokenize_function, batched=True)\n",
    "\n",
    "# 6. Initialiser le modèle BERT pour la classification\n",
    "model = BertForSequenceClassification.from_pretrained(\"bert-base-uncased\", num_labels=len(categories))\n",
    "\n",
    "# 7. Configurer l'entraînement pour utiliser le GPU (CUDA si disponible)\n",
    "device = torch.device(\"cuda\" if torch.cuda.is_available() else \"cpu\")\n",
    "model.to(device)\n",
    "\n",
    "# 8. Configuration des paramètres d'entraînement\n",
    "training_args = TrainingArguments(\n",
    "    output_dir=\"./results\",\n",
    "    evaluation_strategy=\"epoch\",\n",
    "    per_device_train_batch_size=16,\n",
    "    per_device_eval_batch_size=16,\n",
    "    num_train_epochs=3,\n",
    "    weight_decay=0.01,\n",
    "    logging_dir=\"./logs\",\n",
    "    logging_steps=10,\n",
    ")\n",
    "\n",
    "# 9. Initialiser le Trainer\n",
    "trainer = Trainer(\n",
    "    model=model,\n",
    "    args=training_args,\n",
    "    train_dataset=train_dataset,\n",
    "    eval_dataset=test_dataset,\n",
    ")\n",
    "\n",
    "# 10. Entraîner le modèle\n",
    "trainer.train()\n",
    "\n",
    "# 11. Évaluer le modèle\n",
    "results = trainer.evaluate()\n",
    "print(results)\n",
    "\n",
    "\n",
    "\n",
    "\n"
   ]
  },
  {
   "cell_type": "code",
   "execution_count": 5,
   "metadata": {},
   "outputs": [
    {
     "name": "stdout",
     "output_type": "stream",
     "text": [
      "Collecting tf-keras\n",
      "  Downloading tf_keras-2.18.0-py3-none-any.whl.metadata (1.6 kB)\n",
      "Requirement already satisfied: tensorflow<2.19,>=2.18 in c:\\users\\martin\\appdata\\local\\programs\\python\\python312\\lib\\site-packages (from tf-keras) (2.18.0)\n",
      "Requirement already satisfied: tensorflow-intel==2.18.0 in c:\\users\\martin\\appdata\\local\\programs\\python\\python312\\lib\\site-packages (from tensorflow<2.19,>=2.18->tf-keras) (2.18.0)\n",
      "Requirement already satisfied: absl-py>=1.0.0 in c:\\users\\martin\\appdata\\local\\programs\\python\\python312\\lib\\site-packages (from tensorflow-intel==2.18.0->tensorflow<2.19,>=2.18->tf-keras) (2.1.0)\n",
      "Requirement already satisfied: astunparse>=1.6.0 in c:\\users\\martin\\appdata\\local\\programs\\python\\python312\\lib\\site-packages (from tensorflow-intel==2.18.0->tensorflow<2.19,>=2.18->tf-keras) (1.6.3)\n",
      "Requirement already satisfied: flatbuffers>=24.3.25 in c:\\users\\martin\\appdata\\local\\programs\\python\\python312\\lib\\site-packages (from tensorflow-intel==2.18.0->tensorflow<2.19,>=2.18->tf-keras) (24.3.25)\n",
      "Requirement already satisfied: gast!=0.5.0,!=0.5.1,!=0.5.2,>=0.2.1 in c:\\users\\martin\\appdata\\local\\programs\\python\\python312\\lib\\site-packages (from tensorflow-intel==2.18.0->tensorflow<2.19,>=2.18->tf-keras) (0.6.0)\n",
      "Requirement already satisfied: google-pasta>=0.1.1 in c:\\users\\martin\\appdata\\local\\programs\\python\\python312\\lib\\site-packages (from tensorflow-intel==2.18.0->tensorflow<2.19,>=2.18->tf-keras) (0.2.0)\n",
      "Requirement already satisfied: libclang>=13.0.0 in c:\\users\\martin\\appdata\\local\\programs\\python\\python312\\lib\\site-packages (from tensorflow-intel==2.18.0->tensorflow<2.19,>=2.18->tf-keras) (18.1.1)\n",
      "Requirement already satisfied: opt-einsum>=2.3.2 in c:\\users\\martin\\appdata\\local\\programs\\python\\python312\\lib\\site-packages (from tensorflow-intel==2.18.0->tensorflow<2.19,>=2.18->tf-keras) (3.4.0)\n",
      "Requirement already satisfied: packaging in c:\\users\\martin\\appdata\\local\\programs\\python\\python312\\lib\\site-packages (from tensorflow-intel==2.18.0->tensorflow<2.19,>=2.18->tf-keras) (23.2)\n",
      "Requirement already satisfied: protobuf!=4.21.0,!=4.21.1,!=4.21.2,!=4.21.3,!=4.21.4,!=4.21.5,<6.0.0dev,>=3.20.3 in c:\\users\\martin\\appdata\\local\\programs\\python\\python312\\lib\\site-packages (from tensorflow-intel==2.18.0->tensorflow<2.19,>=2.18->tf-keras) (5.28.2)\n",
      "Requirement already satisfied: requests<3,>=2.21.0 in c:\\users\\martin\\appdata\\local\\programs\\python\\python312\\lib\\site-packages (from tensorflow-intel==2.18.0->tensorflow<2.19,>=2.18->tf-keras) (2.32.3)\n",
      "Requirement already satisfied: setuptools in c:\\users\\martin\\appdata\\local\\programs\\python\\python312\\lib\\site-packages (from tensorflow-intel==2.18.0->tensorflow<2.19,>=2.18->tf-keras) (75.2.0)\n",
      "Requirement already satisfied: six>=1.12.0 in c:\\users\\martin\\appdata\\local\\programs\\python\\python312\\lib\\site-packages (from tensorflow-intel==2.18.0->tensorflow<2.19,>=2.18->tf-keras) (1.17.0)\n",
      "Requirement already satisfied: termcolor>=1.1.0 in c:\\users\\martin\\appdata\\local\\programs\\python\\python312\\lib\\site-packages (from tensorflow-intel==2.18.0->tensorflow<2.19,>=2.18->tf-keras) (2.5.0)\n",
      "Requirement already satisfied: typing-extensions>=3.6.6 in c:\\users\\martin\\appdata\\local\\programs\\python\\python312\\lib\\site-packages (from tensorflow-intel==2.18.0->tensorflow<2.19,>=2.18->tf-keras) (4.12.2)\n",
      "Requirement already satisfied: wrapt>=1.11.0 in c:\\users\\martin\\appdata\\local\\programs\\python\\python312\\lib\\site-packages (from tensorflow-intel==2.18.0->tensorflow<2.19,>=2.18->tf-keras) (1.16.0)\n",
      "Requirement already satisfied: grpcio<2.0,>=1.24.3 in c:\\users\\martin\\appdata\\local\\programs\\python\\python312\\lib\\site-packages (from tensorflow-intel==2.18.0->tensorflow<2.19,>=2.18->tf-keras) (1.67.1)\n",
      "Requirement already satisfied: tensorboard<2.19,>=2.18 in c:\\users\\martin\\appdata\\local\\programs\\python\\python312\\lib\\site-packages (from tensorflow-intel==2.18.0->tensorflow<2.19,>=2.18->tf-keras) (2.18.0)\n",
      "Requirement already satisfied: keras>=3.5.0 in c:\\users\\martin\\appdata\\local\\programs\\python\\python312\\lib\\site-packages (from tensorflow-intel==2.18.0->tensorflow<2.19,>=2.18->tf-keras) (3.6.0)\n",
      "Requirement already satisfied: numpy<2.1.0,>=1.26.0 in c:\\users\\martin\\appdata\\local\\programs\\python\\python312\\lib\\site-packages (from tensorflow-intel==2.18.0->tensorflow<2.19,>=2.18->tf-keras) (1.26.3)\n",
      "Requirement already satisfied: h5py>=3.11.0 in c:\\users\\martin\\appdata\\local\\programs\\python\\python312\\lib\\site-packages (from tensorflow-intel==2.18.0->tensorflow<2.19,>=2.18->tf-keras) (3.12.1)\n",
      "Requirement already satisfied: ml-dtypes<0.5.0,>=0.4.0 in c:\\users\\martin\\appdata\\local\\programs\\python\\python312\\lib\\site-packages (from tensorflow-intel==2.18.0->tensorflow<2.19,>=2.18->tf-keras) (0.4.1)\n",
      "Requirement already satisfied: wheel<1.0,>=0.23.0 in c:\\users\\martin\\appdata\\local\\programs\\python\\python312\\lib\\site-packages (from astunparse>=1.6.0->tensorflow-intel==2.18.0->tensorflow<2.19,>=2.18->tf-keras) (0.44.0)\n",
      "Requirement already satisfied: rich in c:\\users\\martin\\appdata\\local\\programs\\python\\python312\\lib\\site-packages (from keras>=3.5.0->tensorflow-intel==2.18.0->tensorflow<2.19,>=2.18->tf-keras) (13.9.3)\n",
      "Requirement already satisfied: namex in c:\\users\\martin\\appdata\\local\\programs\\python\\python312\\lib\\site-packages (from keras>=3.5.0->tensorflow-intel==2.18.0->tensorflow<2.19,>=2.18->tf-keras) (0.0.8)\n",
      "Requirement already satisfied: optree in c:\\users\\martin\\appdata\\local\\programs\\python\\python312\\lib\\site-packages (from keras>=3.5.0->tensorflow-intel==2.18.0->tensorflow<2.19,>=2.18->tf-keras) (0.13.0)\n",
      "Requirement already satisfied: charset-normalizer<4,>=2 in c:\\users\\martin\\appdata\\local\\programs\\python\\python312\\lib\\site-packages (from requests<3,>=2.21.0->tensorflow-intel==2.18.0->tensorflow<2.19,>=2.18->tf-keras) (3.3.2)\n",
      "Requirement already satisfied: idna<4,>=2.5 in c:\\users\\martin\\appdata\\local\\programs\\python\\python312\\lib\\site-packages (from requests<3,>=2.21.0->tensorflow-intel==2.18.0->tensorflow<2.19,>=2.18->tf-keras) (3.6)\n",
      "Requirement already satisfied: urllib3<3,>=1.21.1 in c:\\users\\martin\\appdata\\local\\programs\\python\\python312\\lib\\site-packages (from requests<3,>=2.21.0->tensorflow-intel==2.18.0->tensorflow<2.19,>=2.18->tf-keras) (2.2.3)\n",
      "Requirement already satisfied: certifi>=2017.4.17 in c:\\users\\martin\\appdata\\local\\programs\\python\\python312\\lib\\site-packages (from requests<3,>=2.21.0->tensorflow-intel==2.18.0->tensorflow<2.19,>=2.18->tf-keras) (2024.8.30)\n",
      "Requirement already satisfied: markdown>=2.6.8 in c:\\users\\martin\\appdata\\local\\programs\\python\\python312\\lib\\site-packages (from tensorboard<2.19,>=2.18->tensorflow-intel==2.18.0->tensorflow<2.19,>=2.18->tf-keras) (3.7)\n",
      "Requirement already satisfied: tensorboard-data-server<0.8.0,>=0.7.0 in c:\\users\\martin\\appdata\\local\\programs\\python\\python312\\lib\\site-packages (from tensorboard<2.19,>=2.18->tensorflow-intel==2.18.0->tensorflow<2.19,>=2.18->tf-keras) (0.7.2)\n",
      "Requirement already satisfied: werkzeug>=1.0.1 in c:\\users\\martin\\appdata\\local\\programs\\python\\python312\\lib\\site-packages (from tensorboard<2.19,>=2.18->tensorflow-intel==2.18.0->tensorflow<2.19,>=2.18->tf-keras) (3.0.4)\n",
      "Requirement already satisfied: MarkupSafe>=2.1.1 in c:\\users\\martin\\appdata\\local\\programs\\python\\python312\\lib\\site-packages (from werkzeug>=1.0.1->tensorboard<2.19,>=2.18->tensorflow-intel==2.18.0->tensorflow<2.19,>=2.18->tf-keras) (3.0.2)\n",
      "Requirement already satisfied: markdown-it-py>=2.2.0 in c:\\users\\martin\\appdata\\local\\programs\\python\\python312\\lib\\site-packages (from rich->keras>=3.5.0->tensorflow-intel==2.18.0->tensorflow<2.19,>=2.18->tf-keras) (3.0.0)\n",
      "Requirement already satisfied: pygments<3.0.0,>=2.13.0 in c:\\users\\martin\\appdata\\roaming\\python\\python312\\site-packages (from rich->keras>=3.5.0->tensorflow-intel==2.18.0->tensorflow<2.19,>=2.18->tf-keras) (2.17.2)\n",
      "Requirement already satisfied: mdurl~=0.1 in c:\\users\\martin\\appdata\\local\\programs\\python\\python312\\lib\\site-packages (from markdown-it-py>=2.2.0->rich->keras>=3.5.0->tensorflow-intel==2.18.0->tensorflow<2.19,>=2.18->tf-keras) (0.1.2)\n",
      "Downloading tf_keras-2.18.0-py3-none-any.whl (1.7 MB)\n",
      "   ---------------------------------------- 0.0/1.7 MB ? eta -:--:--\n",
      "   ------------------------------------ --- 1.6/1.7 MB 9.3 MB/s eta 0:00:01\n",
      "   ---------------------------------------- 1.7/1.7 MB 8.5 MB/s eta 0:00:00\n",
      "Installing collected packages: tf-keras\n",
      "Successfully installed tf-keras-2.18.0\n"
     ]
    }
   ],
   "source": [
    "!pip install tf-keras"
   ]
  },
  {
   "cell_type": "code",
   "execution_count": 7,
   "metadata": {},
   "outputs": [
    {
     "data": {
      "application/vnd.jupyter.widget-view+json": {
       "model_id": "5a0e8b8c54a44da1baf5f873bee3071e",
       "version_major": 2,
       "version_minor": 0
      },
      "text/plain": [
       "  0%|          | 0/17 [00:00<?, ?it/s]"
      ]
     },
     "metadata": {},
     "output_type": "display_data"
    },
    {
     "name": "stdout",
     "output_type": "stream",
     "text": [
      "Accuracy: 0.9813432835820896\n",
      "               precision    recall  f1-score   support\n",
      "\n",
      "       Sports       1.00      1.00      1.00        21\n",
      "   Technology       1.00      1.00      1.00        18\n",
      "Entertainment       1.00      1.00      1.00        19\n",
      "     Politics       1.00      1.00      1.00        18\n",
      "       Health       1.00      1.00      1.00        23\n",
      "      Finance       1.00      1.00      1.00        15\n",
      "       Travel       0.96      1.00      0.98        24\n",
      "         Food       0.94      1.00      0.97        30\n",
      "    Education       1.00      1.00      1.00        17\n",
      "  Environment       0.97      0.94      0.96        36\n",
      "      Science       0.95      0.91      0.93        23\n",
      "      Fashion       1.00      0.96      0.98        24\n",
      "\n",
      "     accuracy                           0.98       268\n",
      "    macro avg       0.99      0.98      0.98       268\n",
      " weighted avg       0.98      0.98      0.98       268\n",
      "\n"
     ]
    }
   ],
   "source": [
    "# 12. Accuray et classification report\n",
    "predictions = trainer.predict(test_dataset)\n",
    "pred_labels = predictions.predictions.argmax(-1)\n",
    "true_labels = test_dataset[\"label\"]\n",
    "\n",
    "accuracy = (pred_labels == true_labels).mean()\n",
    "print(f\"Accuracy: {accuracy}\")\n",
    "\n",
    "from sklearn.metrics import classification_report\n",
    "\n",
    "print(classification_report(true_labels, pred_labels, target_names=categories))"
   ]
  },
  {
   "cell_type": "code",
   "execution_count": 8,
   "metadata": {},
   "outputs": [
    {
     "data": {
      "application/vnd.jupyter.widget-view+json": {
       "model_id": "adc6c674482a4ae698fe593c1f511ebe",
       "version_major": 2,
       "version_minor": 0
      },
      "text/plain": [
       "Map:   0%|          | 0/1338 [00:00<?, ? examples/s]"
      ]
     },
     "metadata": {},
     "output_type": "display_data"
    },
    {
     "data": {
      "application/vnd.jupyter.widget-view+json": {
       "model_id": "5447752fb97d49bc9aa8d128566fe42e",
       "version_major": 2,
       "version_minor": 0
      },
      "text/plain": [
       "Map:   0%|          | 0/36 [00:00<?, ? examples/s]"
      ]
     },
     "metadata": {},
     "output_type": "display_data"
    },
    {
     "name": "stderr",
     "output_type": "stream",
     "text": [
      "Some weights of BertForSequenceClassification were not initialized from the model checkpoint at bert-base-uncased and are newly initialized: ['classifier.bias', 'classifier.weight']\n",
      "You should probably TRAIN this model on a down-stream task to be able to use it for predictions and inference.\n",
      "c:\\Users\\Martin\\AppData\\Local\\Programs\\Python\\Python312\\Lib\\site-packages\\transformers\\training_args.py:1575: FutureWarning: `evaluation_strategy` is deprecated and will be removed in version 4.46 of 🤗 Transformers. Use `eval_strategy` instead\n",
      "  warnings.warn(\n"
     ]
    },
    {
     "data": {
      "application/vnd.jupyter.widget-view+json": {
       "model_id": "7bb21f604ba64d62a82f361b2723ff71",
       "version_major": 2,
       "version_minor": 0
      },
      "text/plain": [
       "  0%|          | 0/420 [00:00<?, ?it/s]"
      ]
     },
     "metadata": {},
     "output_type": "display_data"
    },
    {
     "name": "stdout",
     "output_type": "stream",
     "text": [
      "{'loss': 2.5319, 'grad_norm': 5.353654861450195, 'learning_rate': 4.880952380952381e-05, 'epoch': 0.12}\n",
      "{'loss': 2.2018, 'grad_norm': 6.196748733520508, 'learning_rate': 4.761904761904762e-05, 'epoch': 0.24}\n",
      "{'loss': 1.8571, 'grad_norm': 6.36314058303833, 'learning_rate': 4.642857142857143e-05, 'epoch': 0.36}\n",
      "{'loss': 1.4742, 'grad_norm': 5.408187389373779, 'learning_rate': 4.523809523809524e-05, 'epoch': 0.48}\n",
      "{'loss': 1.087, 'grad_norm': 5.259101390838623, 'learning_rate': 4.404761904761905e-05, 'epoch': 0.6}\n",
      "{'loss': 0.8482, 'grad_norm': 3.8894548416137695, 'learning_rate': 4.2857142857142856e-05, 'epoch': 0.71}\n",
      "{'loss': 0.5601, 'grad_norm': 2.5930259227752686, 'learning_rate': 4.166666666666667e-05, 'epoch': 0.83}\n",
      "{'loss': 0.3734, 'grad_norm': 4.404228210449219, 'learning_rate': 4.047619047619048e-05, 'epoch': 0.95}\n"
     ]
    },
    {
     "data": {
      "application/vnd.jupyter.widget-view+json": {
       "model_id": "edba86e39b8248adb85afaac6d5f044f",
       "version_major": 2,
       "version_minor": 0
      },
      "text/plain": [
       "  0%|          | 0/3 [00:00<?, ?it/s]"
      ]
     },
     "metadata": {},
     "output_type": "display_data"
    },
    {
     "name": "stdout",
     "output_type": "stream",
     "text": [
      "{'eval_loss': 0.9120021462440491, 'eval_runtime': 0.8697, 'eval_samples_per_second': 41.394, 'eval_steps_per_second': 3.45, 'epoch': 1.0}\n",
      "{'loss': 0.2562, 'grad_norm': 1.7214550971984863, 'learning_rate': 3.928571428571429e-05, 'epoch': 1.07}\n",
      "{'loss': 0.1447, 'grad_norm': 1.0728758573532104, 'learning_rate': 3.809523809523809e-05, 'epoch': 1.19}\n",
      "{'loss': 0.1375, 'grad_norm': 0.9052480459213257, 'learning_rate': 3.690476190476191e-05, 'epoch': 1.31}\n",
      "{'loss': 0.0757, 'grad_norm': 10.390039443969727, 'learning_rate': 3.571428571428572e-05, 'epoch': 1.43}\n",
      "{'loss': 0.0786, 'grad_norm': 0.36810770630836487, 'learning_rate': 3.4523809523809526e-05, 'epoch': 1.55}\n",
      "{'loss': 0.0676, 'grad_norm': 6.505331516265869, 'learning_rate': 3.3333333333333335e-05, 'epoch': 1.67}\n",
      "{'loss': 0.0304, 'grad_norm': 0.25623783469200134, 'learning_rate': 3.2142857142857144e-05, 'epoch': 1.79}\n",
      "{'loss': 0.0891, 'grad_norm': 0.18136845529079437, 'learning_rate': 3.095238095238095e-05, 'epoch': 1.9}\n"
     ]
    },
    {
     "data": {
      "application/vnd.jupyter.widget-view+json": {
       "model_id": "25571b26d2cf4d5f8d23c3f0aa4f6792",
       "version_major": 2,
       "version_minor": 0
      },
      "text/plain": [
       "  0%|          | 0/3 [00:00<?, ?it/s]"
      ]
     },
     "metadata": {},
     "output_type": "display_data"
    },
    {
     "name": "stdout",
     "output_type": "stream",
     "text": [
      "{'eval_loss': 0.9200804829597473, 'eval_runtime': 0.8836, 'eval_samples_per_second': 40.743, 'eval_steps_per_second': 3.395, 'epoch': 2.0}\n",
      "{'loss': 0.061, 'grad_norm': 0.18901412189006805, 'learning_rate': 2.9761904761904762e-05, 'epoch': 2.02}\n",
      "{'loss': 0.0199, 'grad_norm': 0.32516440749168396, 'learning_rate': 2.857142857142857e-05, 'epoch': 2.14}\n",
      "{'loss': 0.0179, 'grad_norm': 0.13689444959163666, 'learning_rate': 2.7380952380952383e-05, 'epoch': 2.26}\n",
      "{'loss': 0.0406, 'grad_norm': 0.10144825279712677, 'learning_rate': 2.6190476190476192e-05, 'epoch': 2.38}\n",
      "{'loss': 0.0156, 'grad_norm': 0.12227984517812729, 'learning_rate': 2.5e-05, 'epoch': 2.5}\n",
      "{'loss': 0.0141, 'grad_norm': 0.09278393536806107, 'learning_rate': 2.380952380952381e-05, 'epoch': 2.62}\n",
      "{'loss': 0.0131, 'grad_norm': 0.1250881552696228, 'learning_rate': 2.261904761904762e-05, 'epoch': 2.74}\n",
      "{'loss': 0.0126, 'grad_norm': 0.08031081408262253, 'learning_rate': 2.1428571428571428e-05, 'epoch': 2.86}\n",
      "{'loss': 0.0113, 'grad_norm': 0.07091829180717468, 'learning_rate': 2.023809523809524e-05, 'epoch': 2.98}\n"
     ]
    },
    {
     "data": {
      "application/vnd.jupyter.widget-view+json": {
       "model_id": "524e9eaec91c4732b1742b7a1a17e63e",
       "version_major": 2,
       "version_minor": 0
      },
      "text/plain": [
       "  0%|          | 0/3 [00:00<?, ?it/s]"
      ]
     },
     "metadata": {},
     "output_type": "display_data"
    },
    {
     "name": "stdout",
     "output_type": "stream",
     "text": [
      "{'eval_loss': 1.032590627670288, 'eval_runtime': 0.857, 'eval_samples_per_second': 42.008, 'eval_steps_per_second': 3.501, 'epoch': 3.0}\n",
      "{'loss': 0.0107, 'grad_norm': 0.07638233155012131, 'learning_rate': 1.9047619047619046e-05, 'epoch': 3.1}\n",
      "{'loss': 0.0099, 'grad_norm': 0.0737992525100708, 'learning_rate': 1.785714285714286e-05, 'epoch': 3.21}\n",
      "{'loss': 0.0095, 'grad_norm': 0.06477619707584381, 'learning_rate': 1.6666666666666667e-05, 'epoch': 3.33}\n",
      "{'loss': 0.0096, 'grad_norm': 0.06769085675477982, 'learning_rate': 1.5476190476190476e-05, 'epoch': 3.45}\n",
      "{'loss': 0.0089, 'grad_norm': 0.06165656819939613, 'learning_rate': 1.4285714285714285e-05, 'epoch': 3.57}\n",
      "{'loss': 0.0484, 'grad_norm': 0.06654931604862213, 'learning_rate': 1.3095238095238096e-05, 'epoch': 3.69}\n",
      "{'loss': 0.0092, 'grad_norm': 0.06763788312673569, 'learning_rate': 1.1904761904761905e-05, 'epoch': 3.81}\n",
      "{'loss': 0.0086, 'grad_norm': 0.06531181931495667, 'learning_rate': 1.0714285714285714e-05, 'epoch': 3.93}\n"
     ]
    },
    {
     "data": {
      "application/vnd.jupyter.widget-view+json": {
       "model_id": "c90fa39daf654aecaed9cf32f506ccf2",
       "version_major": 2,
       "version_minor": 0
      },
      "text/plain": [
       "  0%|          | 0/3 [00:00<?, ?it/s]"
      ]
     },
     "metadata": {},
     "output_type": "display_data"
    },
    {
     "name": "stdout",
     "output_type": "stream",
     "text": [
      "{'eval_loss': 1.115052580833435, 'eval_runtime': 0.8588, 'eval_samples_per_second': 41.921, 'eval_steps_per_second': 3.493, 'epoch': 4.0}\n",
      "{'loss': 0.0082, 'grad_norm': 0.06005595996975899, 'learning_rate': 9.523809523809523e-06, 'epoch': 4.05}\n",
      "{'loss': 0.0347, 'grad_norm': 0.06981071829795837, 'learning_rate': 8.333333333333334e-06, 'epoch': 4.17}\n",
      "{'loss': 0.0079, 'grad_norm': 0.058254361152648926, 'learning_rate': 7.142857142857143e-06, 'epoch': 4.29}\n",
      "{'loss': 0.0081, 'grad_norm': 0.06093908101320267, 'learning_rate': 5.9523809523809525e-06, 'epoch': 4.4}\n",
      "{'loss': 0.0078, 'grad_norm': 0.0680793896317482, 'learning_rate': 4.7619047619047615e-06, 'epoch': 4.52}\n",
      "{'loss': 0.0077, 'grad_norm': 0.050860848277807236, 'learning_rate': 3.5714285714285714e-06, 'epoch': 4.64}\n",
      "{'loss': 0.0077, 'grad_norm': 0.06096892058849335, 'learning_rate': 2.3809523809523808e-06, 'epoch': 4.76}\n",
      "{'loss': 0.0077, 'grad_norm': 0.05139569938182831, 'learning_rate': 1.1904761904761904e-06, 'epoch': 4.88}\n",
      "{'loss': 0.0073, 'grad_norm': 0.06492450833320618, 'learning_rate': 0.0, 'epoch': 5.0}\n"
     ]
    },
    {
     "data": {
      "application/vnd.jupyter.widget-view+json": {
       "model_id": "535908bf1316472eac24bda9f9602552",
       "version_major": 2,
       "version_minor": 0
      },
      "text/plain": [
       "  0%|          | 0/3 [00:00<?, ?it/s]"
      ]
     },
     "metadata": {},
     "output_type": "display_data"
    },
    {
     "name": "stdout",
     "output_type": "stream",
     "text": [
      "{'eval_loss': 1.0868053436279297, 'eval_runtime': 1.0798, 'eval_samples_per_second': 33.338, 'eval_steps_per_second': 2.778, 'epoch': 5.0}\n",
      "{'train_runtime': 463.5139, 'train_samples_per_second': 14.433, 'train_steps_per_second': 0.906, 'train_loss': 0.2912193606297175, 'epoch': 5.0}\n"
     ]
    },
    {
     "data": {
      "application/vnd.jupyter.widget-view+json": {
       "model_id": "61ff847f1ab140a9b501fe4d066d984f",
       "version_major": 2,
       "version_minor": 0
      },
      "text/plain": [
       "  0%|          | 0/3 [00:00<?, ?it/s]"
      ]
     },
     "metadata": {},
     "output_type": "display_data"
    },
    {
     "name": "stdout",
     "output_type": "stream",
     "text": [
      "{'eval_loss': 1.0868053436279297, 'eval_runtime': 1.2104, 'eval_samples_per_second': 29.742, 'eval_steps_per_second': 2.478, 'epoch': 5.0}\n"
     ]
    }
   ],
   "source": [
    "# 1. Importation des bibliothèques nécessaires\n",
    "import json\n",
    "import torch\n",
    "from transformers import BertTokenizer, BertForSequenceClassification, Trainer, TrainingArguments\n",
    "from datasets import Dataset\n",
    "\n",
    "# 2. Charger les données depuis les fichiers JSON\n",
    "with open(\"data/test.json\", \"r\") as f:\n",
    "    train_data_raw = json.load(f)\n",
    "\n",
    "with open(\"data/train.json\", \"r\") as f:\n",
    "    test_data_raw = json.load(f)\n",
    "\n",
    "# 3. Préparer les données pour l'entraînement\n",
    "categories = list(train_data_raw.keys())\n",
    "train_texts = []\n",
    "train_labels = []\n",
    "test_texts = []\n",
    "test_labels = []\n",
    "\n",
    "# Données d'entraînement\n",
    "for idx, category in enumerate(categories):\n",
    "    for text in train_data_raw[category]:\n",
    "        train_texts.append(text)\n",
    "        train_labels.append(idx)\n",
    "\n",
    "# Données de test\n",
    "for idx, category in enumerate(categories):\n",
    "    if category in test_data_raw:  # Vérifier si la catégorie existe dans test.json\n",
    "        for text in test_data_raw[category]:\n",
    "            test_texts.append(text)\n",
    "            test_labels.append(idx)\n",
    "\n",
    "# 4. Tokenisation avec BERT\n",
    "tokenizer = BertTokenizer.from_pretrained(\"bert-base-uncased\")\n",
    "\n",
    "def tokenize_function(examples):\n",
    "    return tokenizer(examples[\"text\"], padding=\"max_length\", truncation=True)\n",
    "\n",
    "train_data = {\"text\": train_texts, \"label\": train_labels}\n",
    "test_data = {\"text\": test_texts, \"label\": test_labels}\n",
    "\n",
    "train_dataset = Dataset.from_dict(train_data)\n",
    "test_dataset = Dataset.from_dict(test_data)\n",
    "\n",
    "train_dataset = train_dataset.map(tokenize_function, batched=True)\n",
    "test_dataset = test_dataset.map(tokenize_function, batched=True)\n",
    "\n",
    "# 5. Initialiser le modèle BERT pour la classification\n",
    "model = BertForSequenceClassification.from_pretrained(\"bert-base-uncased\", num_labels=len(categories))\n",
    "\n",
    "# 6. Configurer l'entraînement pour utiliser le GPU (CUDA si disponible)\n",
    "device = torch.device(\"cuda\" if torch.cuda.is_available() else \"cpu\")\n",
    "model.to(device)\n",
    "\n",
    "# 7. Configuration des paramètres d'entraînement\n",
    "training_args = TrainingArguments(\n",
    "    output_dir=\"./results\",\n",
    "    evaluation_strategy=\"epoch\",\n",
    "    per_device_train_batch_size=16,\n",
    "    per_device_eval_batch_size=16,\n",
    "    num_train_epochs=5,\n",
    "    weight_decay=0.01,\n",
    "    logging_dir=\"./logs\",\n",
    "    logging_steps=10,\n",
    ")\n",
    "\n",
    "# 8. Initialiser le Trainer\n",
    "trainer = Trainer(\n",
    "    model=model,\n",
    "    args=training_args,\n",
    "    train_dataset=train_dataset,\n",
    "    eval_dataset=test_dataset,\n",
    ")\n",
    "\n",
    "# 9. Entraîner le modèle\n",
    "trainer.train()\n",
    "\n",
    "# 10. Évaluer le modèle\n",
    "results = trainer.evaluate()\n",
    "print(results)\n"
   ]
  },
  {
   "cell_type": "code",
   "execution_count": 9,
   "metadata": {},
   "outputs": [
    {
     "data": {
      "application/vnd.jupyter.widget-view+json": {
       "model_id": "37a1b52199504378a521a70a2d5ec9df",
       "version_major": 2,
       "version_minor": 0
      },
      "text/plain": [
       "  0%|          | 0/3 [00:00<?, ?it/s]"
      ]
     },
     "metadata": {},
     "output_type": "display_data"
    },
    {
     "name": "stdout",
     "output_type": "stream",
     "text": [
      "Accuracy: 0.7777777777777778\n",
      "               precision    recall  f1-score   support\n",
      "\n",
      "       Sports       0.60      1.00      0.75         3\n",
      "   Technology       0.38      1.00      0.55         3\n",
      "Entertainment       0.75      1.00      0.86         3\n",
      "     Politics       1.00      1.00      1.00         3\n",
      "       Health       1.00      1.00      1.00         3\n",
      "      Finance       1.00      0.67      0.80         3\n",
      "       Travel       1.00      1.00      1.00         3\n",
      "         Food       1.00      0.67      0.80         3\n",
      "    Education       0.00      0.00      0.00         3\n",
      "  Environment       1.00      1.00      1.00         3\n",
      "      Science       0.00      0.00      0.00         3\n",
      "      Fashion       1.00      1.00      1.00         3\n",
      "\n",
      "     accuracy                           0.78        36\n",
      "    macro avg       0.73      0.78      0.73        36\n",
      " weighted avg       0.73      0.78      0.73        36\n",
      "\n"
     ]
    },
    {
     "name": "stderr",
     "output_type": "stream",
     "text": [
      "c:\\Users\\Martin\\AppData\\Local\\Programs\\Python\\Python312\\Lib\\site-packages\\sklearn\\metrics\\_classification.py:1497: UndefinedMetricWarning: Precision is ill-defined and being set to 0.0 in labels with no predicted samples. Use `zero_division` parameter to control this behavior.\n",
      "  _warn_prf(average, modifier, f\"{metric.capitalize()} is\", len(result))\n",
      "c:\\Users\\Martin\\AppData\\Local\\Programs\\Python\\Python312\\Lib\\site-packages\\sklearn\\metrics\\_classification.py:1497: UndefinedMetricWarning: Precision is ill-defined and being set to 0.0 in labels with no predicted samples. Use `zero_division` parameter to control this behavior.\n",
      "  _warn_prf(average, modifier, f\"{metric.capitalize()} is\", len(result))\n",
      "c:\\Users\\Martin\\AppData\\Local\\Programs\\Python\\Python312\\Lib\\site-packages\\sklearn\\metrics\\_classification.py:1497: UndefinedMetricWarning: Precision is ill-defined and being set to 0.0 in labels with no predicted samples. Use `zero_division` parameter to control this behavior.\n",
      "  _warn_prf(average, modifier, f\"{metric.capitalize()} is\", len(result))\n"
     ]
    }
   ],
   "source": [
    "# 12. Accuray et classification report\n",
    "predictions = trainer.predict(test_dataset)\n",
    "pred_labels = predictions.predictions.argmax(-1)\n",
    "true_labels = test_dataset[\"label\"]\n",
    "\n",
    "accuracy = (pred_labels == true_labels).mean()\n",
    "print(f\"Accuracy: {accuracy}\")\n",
    "\n",
    "from sklearn.metrics import classification_report\n",
    "\n",
    "print(classification_report(true_labels, pred_labels, target_names=categories))"
   ]
  },
  {
   "cell_type": "code",
   "execution_count": null,
   "metadata": {},
   "outputs": [
    {
     "ename": "InvalidParameterError",
     "evalue": "The 'test_size' parameter of train_test_split must be a float in the range (0.0, 1.0), an int in the range [1, inf) or None. Got 0.0 instead.",
     "output_type": "error",
     "traceback": [
      "\u001b[1;31m---------------------------------------------------------------------------\u001b[0m",
      "\u001b[1;31mInvalidParameterError\u001b[0m                     Traceback (most recent call last)",
      "Cell \u001b[1;32mIn[18], line 66\u001b[0m\n\u001b[0;32m     56\u001b[0m unknown_count \u001b[38;5;241m=\u001b[39m test_labels\u001b[38;5;241m.\u001b[39mcount(\u001b[38;5;124m\"\u001b[39m\u001b[38;5;124mUnknown\u001b[39m\u001b[38;5;124m\"\u001b[39m)\n\u001b[0;32m     58\u001b[0m \u001b[38;5;66;03m# # Données de test\u001b[39;00m\n\u001b[0;32m     59\u001b[0m \u001b[38;5;66;03m# for category in categories:\u001b[39;00m\n\u001b[0;32m     60\u001b[0m \u001b[38;5;66;03m#     if category in test_data_raw:  # Vérifier si la catégorie existe dans test.json\u001b[39;00m\n\u001b[1;32m   (...)\u001b[0m\n\u001b[0;32m     64\u001b[0m \n\u001b[0;32m     65\u001b[0m \u001b[38;5;66;03m# Split des données : Entraînement, Validation, Test\u001b[39;00m\n\u001b[1;32m---> 66\u001b[0m train_texts, val_texts, train_labels, val_labels \u001b[38;5;241m=\u001b[39m \u001b[43mtrain_test_split\u001b[49m\u001b[43m(\u001b[49m\n\u001b[0;32m     67\u001b[0m \u001b[43m    \u001b[49m\u001b[43mtrain_texts\u001b[49m\u001b[43m,\u001b[49m\u001b[43m \u001b[49m\u001b[43mtrain_labels\u001b[49m\u001b[43m,\u001b[49m\u001b[43m \u001b[49m\u001b[43mtest_size\u001b[49m\u001b[38;5;241;43m=\u001b[39;49m\u001b[38;5;241;43m0.0\u001b[39;49m\u001b[43m,\u001b[49m\u001b[43m \u001b[49m\u001b[43mrandom_state\u001b[49m\u001b[38;5;241;43m=\u001b[39;49m\u001b[38;5;241;43m42\u001b[39;49m\n\u001b[0;32m     68\u001b[0m \u001b[43m)\u001b[49m\n\u001b[0;32m     70\u001b[0m \u001b[38;5;28mprint\u001b[39m(\u001b[38;5;124mf\u001b[39m\u001b[38;5;124m\"\u001b[39m\u001b[38;5;124mTraining samples: \u001b[39m\u001b[38;5;132;01m{\u001b[39;00m\u001b[38;5;28mlen\u001b[39m(train_texts)\u001b[38;5;132;01m}\u001b[39;00m\u001b[38;5;124m\"\u001b[39m)\n\u001b[0;32m     71\u001b[0m \u001b[38;5;28mprint\u001b[39m(\u001b[38;5;124mf\u001b[39m\u001b[38;5;124m\"\u001b[39m\u001b[38;5;124mValidation samples: \u001b[39m\u001b[38;5;132;01m{\u001b[39;00m\u001b[38;5;28mlen\u001b[39m(val_texts)\u001b[38;5;132;01m}\u001b[39;00m\u001b[38;5;124m\"\u001b[39m)\n",
      "File \u001b[1;32mc:\\Users\\Martin\\AppData\\Local\\Programs\\Python\\Python312\\Lib\\site-packages\\sklearn\\utils\\_param_validation.py:203\u001b[0m, in \u001b[0;36mvalidate_params.<locals>.decorator.<locals>.wrapper\u001b[1;34m(*args, **kwargs)\u001b[0m\n\u001b[0;32m    200\u001b[0m to_ignore \u001b[38;5;241m+\u001b[39m\u001b[38;5;241m=\u001b[39m [\u001b[38;5;124m\"\u001b[39m\u001b[38;5;124mself\u001b[39m\u001b[38;5;124m\"\u001b[39m, \u001b[38;5;124m\"\u001b[39m\u001b[38;5;124mcls\u001b[39m\u001b[38;5;124m\"\u001b[39m]\n\u001b[0;32m    201\u001b[0m params \u001b[38;5;241m=\u001b[39m {k: v \u001b[38;5;28;01mfor\u001b[39;00m k, v \u001b[38;5;129;01min\u001b[39;00m params\u001b[38;5;241m.\u001b[39marguments\u001b[38;5;241m.\u001b[39mitems() \u001b[38;5;28;01mif\u001b[39;00m k \u001b[38;5;129;01mnot\u001b[39;00m \u001b[38;5;129;01min\u001b[39;00m to_ignore}\n\u001b[1;32m--> 203\u001b[0m \u001b[43mvalidate_parameter_constraints\u001b[49m\u001b[43m(\u001b[49m\n\u001b[0;32m    204\u001b[0m \u001b[43m    \u001b[49m\u001b[43mparameter_constraints\u001b[49m\u001b[43m,\u001b[49m\u001b[43m \u001b[49m\u001b[43mparams\u001b[49m\u001b[43m,\u001b[49m\u001b[43m \u001b[49m\u001b[43mcaller_name\u001b[49m\u001b[38;5;241;43m=\u001b[39;49m\u001b[43mfunc\u001b[49m\u001b[38;5;241;43m.\u001b[39;49m\u001b[38;5;18;43m__qualname__\u001b[39;49m\n\u001b[0;32m    205\u001b[0m \u001b[43m\u001b[49m\u001b[43m)\u001b[49m\n\u001b[0;32m    207\u001b[0m \u001b[38;5;28;01mtry\u001b[39;00m:\n\u001b[0;32m    208\u001b[0m     \u001b[38;5;28;01mwith\u001b[39;00m config_context(\n\u001b[0;32m    209\u001b[0m         skip_parameter_validation\u001b[38;5;241m=\u001b[39m(\n\u001b[0;32m    210\u001b[0m             prefer_skip_nested_validation \u001b[38;5;129;01mor\u001b[39;00m global_skip_validation\n\u001b[0;32m    211\u001b[0m         )\n\u001b[0;32m    212\u001b[0m     ):\n",
      "File \u001b[1;32mc:\\Users\\Martin\\AppData\\Local\\Programs\\Python\\Python312\\Lib\\site-packages\\sklearn\\utils\\_param_validation.py:95\u001b[0m, in \u001b[0;36mvalidate_parameter_constraints\u001b[1;34m(parameter_constraints, params, caller_name)\u001b[0m\n\u001b[0;32m     89\u001b[0m \u001b[38;5;28;01melse\u001b[39;00m:\n\u001b[0;32m     90\u001b[0m     constraints_str \u001b[38;5;241m=\u001b[39m (\n\u001b[0;32m     91\u001b[0m         \u001b[38;5;124mf\u001b[39m\u001b[38;5;124m\"\u001b[39m\u001b[38;5;132;01m{\u001b[39;00m\u001b[38;5;124m'\u001b[39m\u001b[38;5;124m, \u001b[39m\u001b[38;5;124m'\u001b[39m\u001b[38;5;241m.\u001b[39mjoin([\u001b[38;5;28mstr\u001b[39m(c)\u001b[38;5;250m \u001b[39m\u001b[38;5;28;01mfor\u001b[39;00m\u001b[38;5;250m \u001b[39mc\u001b[38;5;250m \u001b[39m\u001b[38;5;129;01min\u001b[39;00m\u001b[38;5;250m \u001b[39mconstraints[:\u001b[38;5;241m-\u001b[39m\u001b[38;5;241m1\u001b[39m]])\u001b[38;5;132;01m}\u001b[39;00m\u001b[38;5;124m or\u001b[39m\u001b[38;5;124m\"\u001b[39m\n\u001b[0;32m     92\u001b[0m         \u001b[38;5;124mf\u001b[39m\u001b[38;5;124m\"\u001b[39m\u001b[38;5;124m \u001b[39m\u001b[38;5;132;01m{\u001b[39;00mconstraints[\u001b[38;5;241m-\u001b[39m\u001b[38;5;241m1\u001b[39m]\u001b[38;5;132;01m}\u001b[39;00m\u001b[38;5;124m\"\u001b[39m\n\u001b[0;32m     93\u001b[0m     )\n\u001b[1;32m---> 95\u001b[0m \u001b[38;5;28;01mraise\u001b[39;00m InvalidParameterError(\n\u001b[0;32m     96\u001b[0m     \u001b[38;5;124mf\u001b[39m\u001b[38;5;124m\"\u001b[39m\u001b[38;5;124mThe \u001b[39m\u001b[38;5;132;01m{\u001b[39;00mparam_name\u001b[38;5;132;01m!r}\u001b[39;00m\u001b[38;5;124m parameter of \u001b[39m\u001b[38;5;132;01m{\u001b[39;00mcaller_name\u001b[38;5;132;01m}\u001b[39;00m\u001b[38;5;124m must be\u001b[39m\u001b[38;5;124m\"\u001b[39m\n\u001b[0;32m     97\u001b[0m     \u001b[38;5;124mf\u001b[39m\u001b[38;5;124m\"\u001b[39m\u001b[38;5;124m \u001b[39m\u001b[38;5;132;01m{\u001b[39;00mconstraints_str\u001b[38;5;132;01m}\u001b[39;00m\u001b[38;5;124m. Got \u001b[39m\u001b[38;5;132;01m{\u001b[39;00mparam_val\u001b[38;5;132;01m!r}\u001b[39;00m\u001b[38;5;124m instead.\u001b[39m\u001b[38;5;124m\"\u001b[39m\n\u001b[0;32m     98\u001b[0m )\n",
      "\u001b[1;31mInvalidParameterError\u001b[0m: The 'test_size' parameter of train_test_split must be a float in the range (0.0, 1.0), an int in the range [1, inf) or None. Got 0.0 instead."
     ]
    }
   ],
   "source": [
    "import json\n",
    "import torch\n",
    "import torch.nn as nn\n",
    "import torch.optim as optim\n",
    "from sklearn.model_selection import train_test_split\n",
    "from sklearn.preprocessing import LabelEncoder\n",
    "from torch.utils.data import DataLoader, Dataset\n",
    "from transformers import BertTokenizer\n",
    "from tqdm import tqdm\n",
    "import random\n",
    "import matplotlib.pyplot as plt\n",
    "from torch.utils.tensorboard import SummaryWriter\n",
    "\n",
    "\n",
    "# # 1. Charger les données depuis les fichiers JSON\n",
    "# with open(\"data/test.json\", \"r\") as f:\n",
    "#     train_data_raw = json.load(f)\n",
    "\n",
    "# with open(\"data/train.json\", \"r\") as f:\n",
    "#     test_data_raw = json.load(f)\n",
    "\n",
    "# Charger les données depuis les fichiers JSON\n",
    "with open(\"data/test.json\", \"r\") as f:\n",
    "    test_data_raw = json.load(f)\n",
    "\n",
    "# Charger les phrases de test à partir de test_shuffle.txt\n",
    "test_texts = []\n",
    "with open(\"data/test_shuffle.txt\", \"r\") as f:\n",
    "    test_texts = [line.strip() for line in f.readlines()]\n",
    "\n",
    "\n",
    "# Préparer les données\n",
    "categories = list(train_data_raw.keys())\n",
    "train_texts, train_labels = [], []\n",
    "# test_texts, test_labels = [], []\n",
    "\n",
    "# Données d'entraînement\n",
    "for category in categories:\n",
    "    for text in train_data_raw[category]:\n",
    "        train_texts.append(text)\n",
    "        train_labels.append(category)\n",
    "\n",
    "# Trouver les labels correspondant aux phrases de test\n",
    "test_labels = []\n",
    "for text in test_texts:\n",
    "    found = False\n",
    "    for category, texts in test_data_raw.items():\n",
    "        if text in texts:\n",
    "            test_labels.append(category)\n",
    "            found = True\n",
    "            break\n",
    "    if not found:\n",
    "        test_labels.append(\"Unknown\")  # Cas où la phrase n'est pas trouvée, à ajuster si nécessaire\n",
    "\n",
    "# Compter les labels inconnus\n",
    "unknown_count = test_labels.count(\"Unknown\")\n",
    "\n",
    "# # Données de test\n",
    "# for category in categories:\n",
    "#     if category in test_data_raw:  # Vérifier si la catégorie existe dans test.json\n",
    "#         for text in test_data_raw[category]:\n",
    "#             test_texts.append(text)\n",
    "#             test_labels.append(category)\n",
    "\n",
    "# Split des données : Entraînement, Validation, Test\n",
    "train_texts, val_texts, train_labels, val_labels = train_test_split(\n",
    "    train_texts, train_labels, test_size=0.05, random_state=42\n",
    ")\n",
    "\n",
    "print(f\"Training samples: {len(train_texts)}\")\n",
    "print(f\"Validation samples: {len(val_texts)}\")\n",
    "print(f\"Test samples: {len(test_texts)}\")\n",
    "print(f\"Number of 'Unknown' labels: {unknown_count}\")\n",
    "\n",
    "# 2. Encodeur de labels\n",
    "label_encoder = LabelEncoder()\n",
    "train_labels = label_encoder.fit_transform(train_labels)\n",
    "val_labels = label_encoder.transform(val_labels)\n",
    "test_labels = label_encoder.transform(test_labels)\n",
    "\n",
    "# 3. Tokenisation\n",
    "tokenizer = BertTokenizer.from_pretrained(\"bert-base-uncased\")\n",
    "\n",
    "def tokenize_batch(batch):\n",
    "    return tokenizer(batch, padding=True, truncation=True, max_length=128, return_tensors=\"pt\")\n",
    "\n",
    "class TextDataset(Dataset):\n",
    "    def __init__(self, texts, labels):\n",
    "        self.texts = texts\n",
    "        self.labels = labels\n",
    "    \n",
    "    def __len__(self):\n",
    "        return len(self.texts)\n",
    "    \n",
    "    def __getitem__(self, idx):\n",
    "        return self.texts[idx], self.labels[idx]\n",
    "\n",
    "train_dataset = TextDataset(train_texts, train_labels)\n",
    "val_dataset = TextDataset(val_texts, val_labels)\n",
    "test_dataset = TextDataset(test_texts, test_labels)\n",
    "\n",
    "# DataLoader\n",
    "def collate_fn(batch):\n",
    "    texts, labels = zip(*batch)\n",
    "    tokenized = tokenize_batch(list(texts))\n",
    "    return tokenized[\"input_ids\"], tokenized[\"attention_mask\"], torch.tensor(labels, dtype=torch.long)\n",
    "\n",
    "\n",
    "train_loader = DataLoader(train_dataset, batch_size=16, shuffle=True, collate_fn=collate_fn)\n",
    "val_loader = DataLoader(val_dataset, batch_size=16, collate_fn=collate_fn)\n",
    "test_loader = DataLoader(test_dataset, batch_size=16, collate_fn=collate_fn)\n",
    "\n",
    "# 4. Modèle DAN\n",
    "class DANClassifier(nn.Module):\n",
    "    def __init__(self, embedding_dim, num_classes):\n",
    "        super(DANClassifier, self).__init__()\n",
    "        self.embedding = nn.Embedding(tokenizer.vocab_size, embedding_dim)\n",
    "        self.fc = nn.Sequential(\n",
    "            nn.Linear(embedding_dim, 128),\n",
    "            nn.ReLU(),\n",
    "            nn.Dropout(0.3),\n",
    "            nn.Linear(128, num_classes)\n",
    "        )\n",
    "    \n",
    "    def forward(self, input_ids, attention_mask):\n",
    "        embeddings = self.embedding(input_ids)  # Shape: (batch_size, seq_len, embedding_dim)\n",
    "        mask = attention_mask.unsqueeze(-1)    # Shape: (batch_size, seq_len, 1)\n",
    "        masked_embeddings = embeddings * mask  # Masquer les tokens de padding\n",
    "        avg_embeddings = masked_embeddings.sum(dim=1) / mask.sum(dim=1)  # Moyenne des embeddings\n",
    "        return self.fc(avg_embeddings)\n",
    "\n",
    "# Initialiser le modèle\n",
    "embedding_dim = 300\n",
    "num_classes = len(categories)\n",
    "device = torch.device(\"cuda\" if torch.cuda.is_available() else \"cpu\")\n",
    "\n",
    "model = DANClassifier(embedding_dim, num_classes).to(device)\n",
    "\n",
    "# 5. Optimisation et perte\n",
    "criterion = nn.CrossEntropyLoss()\n",
    "optimizer = optim.Adam(model.parameters(), lr=2e-4)\n",
    "\n",
    "# 6. Entraînement\n",
    "def train_model_with_validation(model, train_loader, val_loader, optimizer, criterion, device, epochs=20):\n",
    "    train_losses, val_losses, val_accuracies = [], [], []\n",
    "    writer = SummaryWriter()  # Initialiser TensorBoard\n",
    "    \n",
    "    for epoch in range(epochs):\n",
    "        model.train()\n",
    "        train_loss = 0\n",
    "        correct, total = 0, 0\n",
    "        \n",
    "        for input_ids, attention_mask, labels in tqdm(train_loader):\n",
    "            input_ids, attention_mask, labels = (\n",
    "                input_ids.to(device),\n",
    "                attention_mask.to(device),\n",
    "                labels.to(device).long(),\n",
    "            )\n",
    "            optimizer.zero_grad()\n",
    "            outputs = model(input_ids, attention_mask)\n",
    "            loss = criterion(outputs, labels)\n",
    "            train_loss += loss.item()\n",
    "            loss.backward()\n",
    "            optimizer.step()\n",
    "            \n",
    "            _, predicted = outputs.max(1)\n",
    "            correct += (predicted == labels).sum().item()\n",
    "            total += labels.size(0)\n",
    "        \n",
    "        train_losses.append(train_loss / len(train_loader))\n",
    "        train_accuracy = correct / total\n",
    "        \n",
    "        print(f\"Epoch {epoch+1}/{epochs}, Train Loss: {train_losses[-1]:.4f}, Accuracy: {train_accuracy:.4f}\")\n",
    "        \n",
    "        # Validation\n",
    "        model.eval()\n",
    "        val_loss, val_correct, val_total = 0, 0, 0\n",
    "        with torch.no_grad():\n",
    "            for input_ids, attention_mask, labels in val_loader:\n",
    "                input_ids, attention_mask, labels = (\n",
    "                    input_ids.to(device),\n",
    "                    attention_mask.to(device),\n",
    "                    labels.to(device).long(),\n",
    "                )\n",
    "                outputs = model(input_ids, attention_mask)\n",
    "                loss = criterion(outputs, labels)\n",
    "                val_loss += loss.item()\n",
    "                _, predicted = outputs.max(1)\n",
    "                val_correct += (predicted == labels).sum().item()\n",
    "                val_total += labels.size(0)\n",
    "        \n",
    "        val_losses.append(val_loss / len(val_loader))\n",
    "        val_accuracies.append(val_correct / val_total)\n",
    "        val_accuracy = val_correct / val_total\n",
    "        print(f\"Validation Loss: {val_losses[-1]:.4f}, Validation Accuracy: {val_accuracy:.4f}\")\n",
    "        \n",
    "        # Enregistrer dans TensorBoard\n",
    "        writer.add_scalar(\"Loss/Train\", train_losses[-1], epoch + 1)\n",
    "        writer.add_scalar(\"Loss/Validation\", val_losses[-1], epoch + 1)\n",
    "        writer.add_scalar(\"Accuracy/Validation\", val_accuracies[-1], epoch + 1)\n",
    "    \n",
    "    writer.close()\n",
    "    return train_losses, val_losses, val_accuracies\n",
    "\n",
    "def plot_metrics(train_losses, val_losses, val_accuracies):\n",
    "    epochs = range(1, len(train_losses) + 1)\n",
    "    \n",
    "    plt.figure(figsize=(12, 5))\n",
    "    \n",
    "    # Loss\n",
    "    plt.subplot(1, 2, 1)\n",
    "    plt.plot(epochs, train_losses, label=\"Train Loss\")\n",
    "    plt.plot(epochs, val_losses, label=\"Validation Loss\")\n",
    "    plt.xlabel(\"Epochs\")\n",
    "    plt.ylabel(\"Loss\")\n",
    "    plt.title(\"Loss over Epochs\")\n",
    "    plt.legend()\n",
    "    \n",
    "    # Accuracy\n",
    "    plt.subplot(1, 2, 2)\n",
    "    plt.plot(epochs, val_accuracies, label=\"Validation Accuracy\", color=\"green\")\n",
    "    plt.xlabel(\"Epochs\")\n",
    "    plt.ylabel(\"Accuracy\")\n",
    "    plt.title(\"Validation Accuracy over Epochs\")\n",
    "    plt.legend()\n",
    "    \n",
    "    plt.tight_layout()\n",
    "    plt.show()\n",
    "\n",
    "\n",
    "# Évaluation\n",
    "def evaluate_model(model, test_loader, criterion, device):\n",
    "    model.eval()\n",
    "    test_loss, correct, total = 0, 0, 0\n",
    "    misclassified_samples = []  # Liste pour stocker les échantillons mal classifiés\n",
    "    misclassified_labels = []   # Liste pour stocker les labels réels des échantillons mal classifiés\n",
    "    misclassified_preds = []    # Liste pour stocker les labels prédits des échantillons mal classifiés\n",
    "\n",
    "    with torch.no_grad():\n",
    "        for input_ids, attention_mask, labels in tqdm(test_loader):\n",
    "            input_ids, attention_mask, labels = (\n",
    "                input_ids.to(device),\n",
    "                attention_mask.to(device),\n",
    "                labels.to(device).long(),\n",
    "            )\n",
    "            outputs = model(input_ids, attention_mask)\n",
    "            loss = criterion(outputs, labels)\n",
    "            test_loss += loss.item()\n",
    "            _, predicted = outputs.max(1)\n",
    "            \n",
    "            correct += (predicted == labels).sum().item()\n",
    "            total += labels.size(0)\n",
    "            \n",
    "            # Capturer les échantillons mal classifiés\n",
    "            misclassified_idx = (predicted != labels).nonzero(as_tuple=True)[0]\n",
    "            for idx in misclassified_idx:\n",
    "                misclassified_samples.append(input_ids[idx].cpu().numpy())  # Ajouter l'échantillon mal classifié\n",
    "                misclassified_labels.append(labels[idx].cpu().item())      # Ajouter le label réel\n",
    "                misclassified_preds.append(predicted[idx].cpu().item())     # Ajouter le label prédit\n",
    "    \n",
    "    accuracy = correct / total\n",
    "    print(f\"Test Loss: {test_loss / len(test_loader):.4f}, Test Accuracy: {accuracy:.4f}\")\n",
    "    \n",
    "    return misclassified_samples, misclassified_labels, misclassified_preds\n",
    "\n",
    "\n",
    "# Entraîner le modèle\n",
    "train_losses, val_losses, val_accuracies = train_model_with_validation(\n",
    "    model, train_loader, val_loader, optimizer, criterion, device\n",
    ")\n",
    "\n",
    "# Tracer les métriques\n",
    "plot_metrics(train_losses, val_losses, val_accuracies)\n",
    "\n",
    "\n",
    "# Évaluer le modèle et obtenir les échantillons mal classifiés\n",
    "misclassified_samples, misclassified_labels, misclassified_preds = evaluate_model(\n",
    "    model, test_loader, criterion, device\n",
    ")\n",
    "\n",
    "# print number of correctly classified samples (correctly classified samples / total test samples)\n",
    "correctly_classified = len(test_labels) - len(misclassified_labels)\n",
    "total_samples = len(test_labels)\n",
    "print(f\"Correctly classified samples: {correctly_classified}/{total_samples} ({correctly_classified / total_samples:.2%})\")\n",
    "\n",
    "# Décoder les indices des échantillons mal classifiés en texte\n",
    "misclassified_texts = [tokenizer.decode(sample) for sample in misclassified_samples]\n",
    "\n",
    "# Afficher les échantillons mal classifiés avec leurs labels réels et prédits\n",
    "print(\"\\n=== Misclassified Samples ===\")\n",
    "for i in range(len(misclassified_texts)):\n",
    "    print(f\"Text: {misclassified_texts[i][:100]}...\")  # Afficher seulement les 100 premiers caractères pour plus de lisibilité\n",
    "    real_label = label_encoder.inverse_transform([misclassified_labels[i]])[0]\n",
    "    predicted_label = label_encoder.inverse_transform([misclassified_preds[i]])[0]\n",
    "    print(f\"True Label: {real_label}, Predicted Label: {predicted_label}\")\n",
    "    print(\"-\" * 70)\n",
    "\n",
    "\n",
    "# Visualiser quelques exemples\n",
    "def show_samples(dataset, labels, label_encoder, n=5):\n",
    "    print(f\"{'Index':<10} {'Text':<50} {'Label'}\")\n",
    "    print(\"-\" * 70)\n",
    "    indices = random.sample(range(len(dataset)), n)\n",
    "    for i in indices:\n",
    "        category = label_encoder.inverse_transform([labels[i]])[0]  # Convertir label en nom de catégorie\n",
    "        print(f\"{i:<10} {dataset[i][:50]:<50} {category}\")\n",
    "\n",
    "\n",
    "\n",
    "print(f\"\\n=== Training Samples === (len: {len(train_texts)})\")\n",
    "show_samples(train_texts, train_labels, label_encoder, n=5)\n",
    "\n",
    "print(f\"\\n=== Validation Samples === (len: {len(val_texts)})\")\n",
    "show_samples(val_texts, val_labels, label_encoder, n=5)\n",
    "\n",
    "print(f\"\\n=== Test Samples === (len: {len(test_texts)})\")\n",
    "show_samples(test_texts, test_labels, label_encoder, n=5)\n",
    "\n",
    "\n"
   ]
  },
  {
   "cell_type": "markdown",
   "metadata": {},
   "source": [
    "## Sans Validation"
   ]
  },
  {
   "cell_type": "code",
   "execution_count": 20,
   "metadata": {},
   "outputs": [
    {
     "name": "stdout",
     "output_type": "stream",
     "text": [
      "Training samples: 1338\n",
      "Test samples: 1140\n",
      "Number of 'Unknown' labels: 0\n"
     ]
    },
    {
     "name": "stderr",
     "output_type": "stream",
     "text": [
      "100%|██████████| 84/84 [00:01<00:00, 79.79it/s] \n"
     ]
    },
    {
     "name": "stdout",
     "output_type": "stream",
     "text": [
      "Epoch 1/100, Train Loss: 2.4271, Accuracy: 0.2138\n"
     ]
    },
    {
     "name": "stderr",
     "output_type": "stream",
     "text": [
      "100%|██████████| 84/84 [00:00<00:00, 126.12it/s]\n"
     ]
    },
    {
     "name": "stdout",
     "output_type": "stream",
     "text": [
      "Epoch 2/100, Train Loss: 2.2343, Accuracy: 0.4297\n"
     ]
    },
    {
     "name": "stderr",
     "output_type": "stream",
     "text": [
      "100%|██████████| 84/84 [00:00<00:00, 132.33it/s]\n"
     ]
    },
    {
     "name": "stdout",
     "output_type": "stream",
     "text": [
      "Epoch 3/100, Train Loss: 1.9396, Accuracy: 0.6009\n"
     ]
    },
    {
     "name": "stderr",
     "output_type": "stream",
     "text": [
      "100%|██████████| 84/84 [00:00<00:00, 124.33it/s]\n"
     ]
    },
    {
     "name": "stdout",
     "output_type": "stream",
     "text": [
      "Epoch 4/100, Train Loss: 1.6623, Accuracy: 0.6584\n"
     ]
    },
    {
     "name": "stderr",
     "output_type": "stream",
     "text": [
      "100%|██████████| 84/84 [00:00<00:00, 132.06it/s]\n"
     ]
    },
    {
     "name": "stdout",
     "output_type": "stream",
     "text": [
      "Epoch 5/100, Train Loss: 1.4170, Accuracy: 0.7384\n"
     ]
    },
    {
     "name": "stderr",
     "output_type": "stream",
     "text": [
      "100%|██████████| 84/84 [00:00<00:00, 132.75it/s]\n"
     ]
    },
    {
     "name": "stdout",
     "output_type": "stream",
     "text": [
      "Epoch 6/100, Train Loss: 1.1980, Accuracy: 0.8049\n"
     ]
    },
    {
     "name": "stderr",
     "output_type": "stream",
     "text": [
      "100%|██████████| 84/84 [00:00<00:00, 125.40it/s]\n"
     ]
    },
    {
     "name": "stdout",
     "output_type": "stream",
     "text": [
      "Epoch 7/100, Train Loss: 1.0154, Accuracy: 0.8401\n"
     ]
    },
    {
     "name": "stderr",
     "output_type": "stream",
     "text": [
      "100%|██████████| 84/84 [00:00<00:00, 131.85it/s]\n"
     ]
    },
    {
     "name": "stdout",
     "output_type": "stream",
     "text": [
      "Epoch 8/100, Train Loss: 0.8742, Accuracy: 0.8505\n"
     ]
    },
    {
     "name": "stderr",
     "output_type": "stream",
     "text": [
      "100%|██████████| 84/84 [00:00<00:00, 132.10it/s]\n"
     ]
    },
    {
     "name": "stdout",
     "output_type": "stream",
     "text": [
      "Epoch 9/100, Train Loss: 0.7561, Accuracy: 0.8797\n"
     ]
    },
    {
     "name": "stderr",
     "output_type": "stream",
     "text": [
      "100%|██████████| 84/84 [00:00<00:00, 132.47it/s]\n"
     ]
    },
    {
     "name": "stdout",
     "output_type": "stream",
     "text": [
      "Epoch 10/100, Train Loss: 0.6422, Accuracy: 0.8939\n"
     ]
    },
    {
     "name": "stderr",
     "output_type": "stream",
     "text": [
      "100%|██████████| 84/84 [00:00<00:00, 131.39it/s]\n"
     ]
    },
    {
     "name": "stdout",
     "output_type": "stream",
     "text": [
      "Epoch 11/100, Train Loss: 0.5658, Accuracy: 0.9081\n"
     ]
    },
    {
     "name": "stderr",
     "output_type": "stream",
     "text": [
      "100%|██████████| 84/84 [00:00<00:00, 132.94it/s]\n"
     ]
    },
    {
     "name": "stdout",
     "output_type": "stream",
     "text": [
      "Epoch 12/100, Train Loss: 0.4926, Accuracy: 0.9185\n"
     ]
    },
    {
     "name": "stderr",
     "output_type": "stream",
     "text": [
      "100%|██████████| 84/84 [00:00<00:00, 132.06it/s]\n"
     ]
    },
    {
     "name": "stdout",
     "output_type": "stream",
     "text": [
      "Epoch 13/100, Train Loss: 0.4315, Accuracy: 0.9305\n"
     ]
    },
    {
     "name": "stderr",
     "output_type": "stream",
     "text": [
      "100%|██████████| 84/84 [00:00<00:00, 129.92it/s]\n"
     ]
    },
    {
     "name": "stdout",
     "output_type": "stream",
     "text": [
      "Epoch 14/100, Train Loss: 0.3867, Accuracy: 0.9350\n"
     ]
    },
    {
     "name": "stderr",
     "output_type": "stream",
     "text": [
      "100%|██████████| 84/84 [00:00<00:00, 134.15it/s]\n"
     ]
    },
    {
     "name": "stdout",
     "output_type": "stream",
     "text": [
      "Epoch 15/100, Train Loss: 0.3567, Accuracy: 0.9395\n"
     ]
    },
    {
     "name": "stderr",
     "output_type": "stream",
     "text": [
      "100%|██████████| 84/84 [00:00<00:00, 130.67it/s]\n"
     ]
    },
    {
     "name": "stdout",
     "output_type": "stream",
     "text": [
      "Epoch 16/100, Train Loss: 0.3123, Accuracy: 0.9462\n"
     ]
    },
    {
     "name": "stderr",
     "output_type": "stream",
     "text": [
      "100%|██████████| 84/84 [00:00<00:00, 133.25it/s]\n"
     ]
    },
    {
     "name": "stdout",
     "output_type": "stream",
     "text": [
      "Epoch 17/100, Train Loss: 0.2905, Accuracy: 0.9529\n"
     ]
    },
    {
     "name": "stderr",
     "output_type": "stream",
     "text": [
      "100%|██████████| 84/84 [00:00<00:00, 128.18it/s]\n"
     ]
    },
    {
     "name": "stdout",
     "output_type": "stream",
     "text": [
      "Epoch 18/100, Train Loss: 0.2528, Accuracy: 0.9544\n"
     ]
    },
    {
     "name": "stderr",
     "output_type": "stream",
     "text": [
      "100%|██████████| 84/84 [00:00<00:00, 119.49it/s]\n"
     ]
    },
    {
     "name": "stdout",
     "output_type": "stream",
     "text": [
      "Epoch 19/100, Train Loss: 0.2320, Accuracy: 0.9656\n"
     ]
    },
    {
     "name": "stderr",
     "output_type": "stream",
     "text": [
      "100%|██████████| 84/84 [00:00<00:00, 133.30it/s]\n"
     ]
    },
    {
     "name": "stdout",
     "output_type": "stream",
     "text": [
      "Epoch 20/100, Train Loss: 0.2076, Accuracy: 0.9634\n"
     ]
    },
    {
     "name": "stderr",
     "output_type": "stream",
     "text": [
      "100%|██████████| 84/84 [00:00<00:00, 131.82it/s]\n"
     ]
    },
    {
     "name": "stdout",
     "output_type": "stream",
     "text": [
      "Epoch 21/100, Train Loss: 0.1932, Accuracy: 0.9649\n"
     ]
    },
    {
     "name": "stderr",
     "output_type": "stream",
     "text": [
      "100%|██████████| 84/84 [00:00<00:00, 129.12it/s]\n"
     ]
    },
    {
     "name": "stdout",
     "output_type": "stream",
     "text": [
      "Epoch 22/100, Train Loss: 0.1766, Accuracy: 0.9738\n"
     ]
    },
    {
     "name": "stderr",
     "output_type": "stream",
     "text": [
      "100%|██████████| 84/84 [00:00<00:00, 129.15it/s]\n"
     ]
    },
    {
     "name": "stdout",
     "output_type": "stream",
     "text": [
      "Epoch 23/100, Train Loss: 0.1621, Accuracy: 0.9731\n"
     ]
    },
    {
     "name": "stderr",
     "output_type": "stream",
     "text": [
      "100%|██████████| 84/84 [00:00<00:00, 132.36it/s]\n"
     ]
    },
    {
     "name": "stdout",
     "output_type": "stream",
     "text": [
      "Epoch 24/100, Train Loss: 0.1450, Accuracy: 0.9791\n"
     ]
    },
    {
     "name": "stderr",
     "output_type": "stream",
     "text": [
      "100%|██████████| 84/84 [00:00<00:00, 129.61it/s]\n"
     ]
    },
    {
     "name": "stdout",
     "output_type": "stream",
     "text": [
      "Epoch 25/100, Train Loss: 0.1304, Accuracy: 0.9821\n"
     ]
    },
    {
     "name": "stderr",
     "output_type": "stream",
     "text": [
      "100%|██████████| 84/84 [00:00<00:00, 134.05it/s]\n"
     ]
    },
    {
     "name": "stdout",
     "output_type": "stream",
     "text": [
      "Epoch 26/100, Train Loss: 0.1191, Accuracy: 0.9828\n"
     ]
    },
    {
     "name": "stderr",
     "output_type": "stream",
     "text": [
      "100%|██████████| 84/84 [00:00<00:00, 133.30it/s]\n"
     ]
    },
    {
     "name": "stdout",
     "output_type": "stream",
     "text": [
      "Epoch 27/100, Train Loss: 0.1114, Accuracy: 0.9895\n"
     ]
    },
    {
     "name": "stderr",
     "output_type": "stream",
     "text": [
      "100%|██████████| 84/84 [00:00<00:00, 130.09it/s]\n"
     ]
    },
    {
     "name": "stdout",
     "output_type": "stream",
     "text": [
      "Epoch 28/100, Train Loss: 0.1049, Accuracy: 0.9858\n"
     ]
    },
    {
     "name": "stderr",
     "output_type": "stream",
     "text": [
      "100%|██████████| 84/84 [00:00<00:00, 130.35it/s]\n"
     ]
    },
    {
     "name": "stdout",
     "output_type": "stream",
     "text": [
      "Epoch 29/100, Train Loss: 0.0911, Accuracy: 0.9888\n"
     ]
    },
    {
     "name": "stderr",
     "output_type": "stream",
     "text": [
      "100%|██████████| 84/84 [00:00<00:00, 129.31it/s]\n"
     ]
    },
    {
     "name": "stdout",
     "output_type": "stream",
     "text": [
      "Epoch 30/100, Train Loss: 0.0917, Accuracy: 0.9880\n"
     ]
    },
    {
     "name": "stderr",
     "output_type": "stream",
     "text": [
      "100%|██████████| 84/84 [00:00<00:00, 134.17it/s]\n"
     ]
    },
    {
     "name": "stdout",
     "output_type": "stream",
     "text": [
      "Epoch 31/100, Train Loss: 0.0811, Accuracy: 0.9918\n"
     ]
    },
    {
     "name": "stderr",
     "output_type": "stream",
     "text": [
      "100%|██████████| 84/84 [00:00<00:00, 128.02it/s]\n"
     ]
    },
    {
     "name": "stdout",
     "output_type": "stream",
     "text": [
      "Epoch 32/100, Train Loss: 0.0753, Accuracy: 0.9918\n"
     ]
    },
    {
     "name": "stderr",
     "output_type": "stream",
     "text": [
      "100%|██████████| 84/84 [00:00<00:00, 124.45it/s]\n"
     ]
    },
    {
     "name": "stdout",
     "output_type": "stream",
     "text": [
      "Epoch 33/100, Train Loss: 0.0693, Accuracy: 0.9940\n"
     ]
    },
    {
     "name": "stderr",
     "output_type": "stream",
     "text": [
      "100%|██████████| 84/84 [00:00<00:00, 131.02it/s]\n"
     ]
    },
    {
     "name": "stdout",
     "output_type": "stream",
     "text": [
      "Epoch 34/100, Train Loss: 0.0667, Accuracy: 0.9933\n"
     ]
    },
    {
     "name": "stderr",
     "output_type": "stream",
     "text": [
      "100%|██████████| 84/84 [00:00<00:00, 128.94it/s]\n"
     ]
    },
    {
     "name": "stdout",
     "output_type": "stream",
     "text": [
      "Epoch 35/100, Train Loss: 0.0583, Accuracy: 0.9970\n"
     ]
    },
    {
     "name": "stderr",
     "output_type": "stream",
     "text": [
      "100%|██████████| 84/84 [00:00<00:00, 121.23it/s]\n"
     ]
    },
    {
     "name": "stdout",
     "output_type": "stream",
     "text": [
      "Epoch 36/100, Train Loss: 0.0569, Accuracy: 0.9955\n"
     ]
    },
    {
     "name": "stderr",
     "output_type": "stream",
     "text": [
      "100%|██████████| 84/84 [00:00<00:00, 125.18it/s]\n"
     ]
    },
    {
     "name": "stdout",
     "output_type": "stream",
     "text": [
      "Epoch 37/100, Train Loss: 0.0506, Accuracy: 0.9940\n"
     ]
    },
    {
     "name": "stderr",
     "output_type": "stream",
     "text": [
      "100%|██████████| 84/84 [00:00<00:00, 128.04it/s]\n"
     ]
    },
    {
     "name": "stdout",
     "output_type": "stream",
     "text": [
      "Epoch 38/100, Train Loss: 0.0485, Accuracy: 0.9955\n"
     ]
    },
    {
     "name": "stderr",
     "output_type": "stream",
     "text": [
      "100%|██████████| 84/84 [00:00<00:00, 131.00it/s]\n"
     ]
    },
    {
     "name": "stdout",
     "output_type": "stream",
     "text": [
      "Epoch 39/100, Train Loss: 0.0478, Accuracy: 0.9955\n"
     ]
    },
    {
     "name": "stderr",
     "output_type": "stream",
     "text": [
      "100%|██████████| 84/84 [00:00<00:00, 133.82it/s]\n"
     ]
    },
    {
     "name": "stdout",
     "output_type": "stream",
     "text": [
      "Epoch 40/100, Train Loss: 0.0442, Accuracy: 0.9955\n"
     ]
    },
    {
     "name": "stderr",
     "output_type": "stream",
     "text": [
      "100%|██████████| 84/84 [00:00<00:00, 128.72it/s]\n"
     ]
    },
    {
     "name": "stdout",
     "output_type": "stream",
     "text": [
      "Epoch 41/100, Train Loss: 0.0406, Accuracy: 0.9970\n"
     ]
    },
    {
     "name": "stderr",
     "output_type": "stream",
     "text": [
      "100%|██████████| 84/84 [00:00<00:00, 132.76it/s]\n"
     ]
    },
    {
     "name": "stdout",
     "output_type": "stream",
     "text": [
      "Epoch 42/100, Train Loss: 0.0387, Accuracy: 0.9978\n"
     ]
    },
    {
     "name": "stderr",
     "output_type": "stream",
     "text": [
      "100%|██████████| 84/84 [00:00<00:00, 117.83it/s]\n"
     ]
    },
    {
     "name": "stdout",
     "output_type": "stream",
     "text": [
      "Epoch 43/100, Train Loss: 0.0358, Accuracy: 0.9970\n"
     ]
    },
    {
     "name": "stderr",
     "output_type": "stream",
     "text": [
      "100%|██████████| 84/84 [00:00<00:00, 128.58it/s]\n"
     ]
    },
    {
     "name": "stdout",
     "output_type": "stream",
     "text": [
      "Epoch 44/100, Train Loss: 0.0356, Accuracy: 0.9970\n"
     ]
    },
    {
     "name": "stderr",
     "output_type": "stream",
     "text": [
      "100%|██████████| 84/84 [00:00<00:00, 129.99it/s]\n"
     ]
    },
    {
     "name": "stdout",
     "output_type": "stream",
     "text": [
      "Epoch 45/100, Train Loss: 0.0336, Accuracy: 0.9955\n"
     ]
    },
    {
     "name": "stderr",
     "output_type": "stream",
     "text": [
      "100%|██████████| 84/84 [00:00<00:00, 115.79it/s]\n"
     ]
    },
    {
     "name": "stdout",
     "output_type": "stream",
     "text": [
      "Epoch 46/100, Train Loss: 0.0303, Accuracy: 0.9978\n"
     ]
    },
    {
     "name": "stderr",
     "output_type": "stream",
     "text": [
      "100%|██████████| 84/84 [00:00<00:00, 118.65it/s]\n"
     ]
    },
    {
     "name": "stdout",
     "output_type": "stream",
     "text": [
      "Epoch 47/100, Train Loss: 0.0268, Accuracy: 0.9993\n"
     ]
    },
    {
     "name": "stderr",
     "output_type": "stream",
     "text": [
      "100%|██████████| 84/84 [00:00<00:00, 110.27it/s]\n"
     ]
    },
    {
     "name": "stdout",
     "output_type": "stream",
     "text": [
      "Epoch 48/100, Train Loss: 0.0261, Accuracy: 1.0000\n"
     ]
    },
    {
     "name": "stderr",
     "output_type": "stream",
     "text": [
      "100%|██████████| 84/84 [00:00<00:00, 116.59it/s]\n"
     ]
    },
    {
     "name": "stdout",
     "output_type": "stream",
     "text": [
      "Epoch 49/100, Train Loss: 0.0240, Accuracy: 0.9985\n"
     ]
    },
    {
     "name": "stderr",
     "output_type": "stream",
     "text": [
      "100%|██████████| 84/84 [00:00<00:00, 126.05it/s]\n"
     ]
    },
    {
     "name": "stdout",
     "output_type": "stream",
     "text": [
      "Epoch 50/100, Train Loss: 0.0240, Accuracy: 0.9985\n"
     ]
    },
    {
     "name": "stderr",
     "output_type": "stream",
     "text": [
      "100%|██████████| 84/84 [00:00<00:00, 114.48it/s]\n"
     ]
    },
    {
     "name": "stdout",
     "output_type": "stream",
     "text": [
      "Epoch 51/100, Train Loss: 0.0219, Accuracy: 0.9993\n"
     ]
    },
    {
     "name": "stderr",
     "output_type": "stream",
     "text": [
      "100%|██████████| 84/84 [00:00<00:00, 127.94it/s]\n"
     ]
    },
    {
     "name": "stdout",
     "output_type": "stream",
     "text": [
      "Epoch 52/100, Train Loss: 0.0216, Accuracy: 0.9993\n"
     ]
    },
    {
     "name": "stderr",
     "output_type": "stream",
     "text": [
      "100%|██████████| 84/84 [00:00<00:00, 117.12it/s]\n"
     ]
    },
    {
     "name": "stdout",
     "output_type": "stream",
     "text": [
      "Epoch 53/100, Train Loss: 0.0193, Accuracy: 0.9993\n"
     ]
    },
    {
     "name": "stderr",
     "output_type": "stream",
     "text": [
      "100%|██████████| 84/84 [00:00<00:00, 112.27it/s]\n"
     ]
    },
    {
     "name": "stdout",
     "output_type": "stream",
     "text": [
      "Epoch 54/100, Train Loss: 0.0185, Accuracy: 0.9993\n"
     ]
    },
    {
     "name": "stderr",
     "output_type": "stream",
     "text": [
      "100%|██████████| 84/84 [00:00<00:00, 109.83it/s]\n"
     ]
    },
    {
     "name": "stdout",
     "output_type": "stream",
     "text": [
      "Epoch 55/100, Train Loss: 0.0173, Accuracy: 0.9993\n"
     ]
    },
    {
     "name": "stderr",
     "output_type": "stream",
     "text": [
      "100%|██████████| 84/84 [00:00<00:00, 113.32it/s]\n"
     ]
    },
    {
     "name": "stdout",
     "output_type": "stream",
     "text": [
      "Epoch 56/100, Train Loss: 0.0177, Accuracy: 0.9993\n"
     ]
    },
    {
     "name": "stderr",
     "output_type": "stream",
     "text": [
      "100%|██████████| 84/84 [00:00<00:00, 109.01it/s]\n"
     ]
    },
    {
     "name": "stdout",
     "output_type": "stream",
     "text": [
      "Epoch 57/100, Train Loss: 0.0146, Accuracy: 0.9993\n"
     ]
    },
    {
     "name": "stderr",
     "output_type": "stream",
     "text": [
      "100%|██████████| 84/84 [00:00<00:00, 122.32it/s]\n"
     ]
    },
    {
     "name": "stdout",
     "output_type": "stream",
     "text": [
      "Epoch 58/100, Train Loss: 0.0141, Accuracy: 1.0000\n"
     ]
    },
    {
     "name": "stderr",
     "output_type": "stream",
     "text": [
      "100%|██████████| 84/84 [00:00<00:00, 113.01it/s]\n"
     ]
    },
    {
     "name": "stdout",
     "output_type": "stream",
     "text": [
      "Epoch 59/100, Train Loss: 0.0152, Accuracy: 0.9993\n"
     ]
    },
    {
     "name": "stderr",
     "output_type": "stream",
     "text": [
      "100%|██████████| 84/84 [00:00<00:00, 113.69it/s]\n"
     ]
    },
    {
     "name": "stdout",
     "output_type": "stream",
     "text": [
      "Epoch 60/100, Train Loss: 0.0130, Accuracy: 1.0000\n"
     ]
    },
    {
     "name": "stderr",
     "output_type": "stream",
     "text": [
      "100%|██████████| 84/84 [00:00<00:00, 110.34it/s]\n"
     ]
    },
    {
     "name": "stdout",
     "output_type": "stream",
     "text": [
      "Epoch 61/100, Train Loss: 0.0115, Accuracy: 1.0000\n"
     ]
    },
    {
     "name": "stderr",
     "output_type": "stream",
     "text": [
      "100%|██████████| 84/84 [00:00<00:00, 114.39it/s]\n"
     ]
    },
    {
     "name": "stdout",
     "output_type": "stream",
     "text": [
      "Epoch 62/100, Train Loss: 0.0100, Accuracy: 1.0000\n"
     ]
    },
    {
     "name": "stderr",
     "output_type": "stream",
     "text": [
      "100%|██████████| 84/84 [00:00<00:00, 121.60it/s]\n"
     ]
    },
    {
     "name": "stdout",
     "output_type": "stream",
     "text": [
      "Epoch 63/100, Train Loss: 0.0119, Accuracy: 1.0000\n"
     ]
    },
    {
     "name": "stderr",
     "output_type": "stream",
     "text": [
      "100%|██████████| 84/84 [00:00<00:00, 115.51it/s]\n"
     ]
    },
    {
     "name": "stdout",
     "output_type": "stream",
     "text": [
      "Epoch 64/100, Train Loss: 0.0097, Accuracy: 1.0000\n"
     ]
    },
    {
     "name": "stderr",
     "output_type": "stream",
     "text": [
      "100%|██████████| 84/84 [00:00<00:00, 108.04it/s]\n"
     ]
    },
    {
     "name": "stdout",
     "output_type": "stream",
     "text": [
      "Epoch 65/100, Train Loss: 0.0114, Accuracy: 1.0000\n"
     ]
    },
    {
     "name": "stderr",
     "output_type": "stream",
     "text": [
      "100%|██████████| 84/84 [00:00<00:00, 113.86it/s]\n"
     ]
    },
    {
     "name": "stdout",
     "output_type": "stream",
     "text": [
      "Epoch 66/100, Train Loss: 0.0098, Accuracy: 0.9985\n"
     ]
    },
    {
     "name": "stderr",
     "output_type": "stream",
     "text": [
      "100%|██████████| 84/84 [00:00<00:00, 110.64it/s]\n"
     ]
    },
    {
     "name": "stdout",
     "output_type": "stream",
     "text": [
      "Epoch 67/100, Train Loss: 0.0099, Accuracy: 1.0000\n"
     ]
    },
    {
     "name": "stderr",
     "output_type": "stream",
     "text": [
      "100%|██████████| 84/84 [00:00<00:00, 113.79it/s]\n"
     ]
    },
    {
     "name": "stdout",
     "output_type": "stream",
     "text": [
      "Epoch 68/100, Train Loss: 0.0084, Accuracy: 1.0000\n"
     ]
    },
    {
     "name": "stderr",
     "output_type": "stream",
     "text": [
      "100%|██████████| 84/84 [00:00<00:00, 116.45it/s]\n"
     ]
    },
    {
     "name": "stdout",
     "output_type": "stream",
     "text": [
      "Epoch 69/100, Train Loss: 0.0074, Accuracy: 1.0000\n"
     ]
    },
    {
     "name": "stderr",
     "output_type": "stream",
     "text": [
      "100%|██████████| 84/84 [00:00<00:00, 115.25it/s]\n"
     ]
    },
    {
     "name": "stdout",
     "output_type": "stream",
     "text": [
      "Epoch 70/100, Train Loss: 0.0092, Accuracy: 1.0000\n"
     ]
    },
    {
     "name": "stderr",
     "output_type": "stream",
     "text": [
      "100%|██████████| 84/84 [00:00<00:00, 113.91it/s]\n"
     ]
    },
    {
     "name": "stdout",
     "output_type": "stream",
     "text": [
      "Epoch 71/100, Train Loss: 0.0075, Accuracy: 0.9993\n"
     ]
    },
    {
     "name": "stderr",
     "output_type": "stream",
     "text": [
      "100%|██████████| 84/84 [00:00<00:00, 117.03it/s]\n"
     ]
    },
    {
     "name": "stdout",
     "output_type": "stream",
     "text": [
      "Epoch 72/100, Train Loss: 0.0070, Accuracy: 1.0000\n"
     ]
    },
    {
     "name": "stderr",
     "output_type": "stream",
     "text": [
      "100%|██████████| 84/84 [00:00<00:00, 104.80it/s]\n"
     ]
    },
    {
     "name": "stdout",
     "output_type": "stream",
     "text": [
      "Epoch 73/100, Train Loss: 0.0079, Accuracy: 0.9993\n"
     ]
    },
    {
     "name": "stderr",
     "output_type": "stream",
     "text": [
      "100%|██████████| 84/84 [00:00<00:00, 115.32it/s]\n"
     ]
    },
    {
     "name": "stdout",
     "output_type": "stream",
     "text": [
      "Epoch 74/100, Train Loss: 0.0061, Accuracy: 1.0000\n"
     ]
    },
    {
     "name": "stderr",
     "output_type": "stream",
     "text": [
      "100%|██████████| 84/84 [00:00<00:00, 114.29it/s]\n"
     ]
    },
    {
     "name": "stdout",
     "output_type": "stream",
     "text": [
      "Epoch 75/100, Train Loss: 0.0076, Accuracy: 0.9993\n"
     ]
    },
    {
     "name": "stderr",
     "output_type": "stream",
     "text": [
      "100%|██████████| 84/84 [00:00<00:00, 118.93it/s]\n"
     ]
    },
    {
     "name": "stdout",
     "output_type": "stream",
     "text": [
      "Epoch 76/100, Train Loss: 0.0059, Accuracy: 1.0000\n"
     ]
    },
    {
     "name": "stderr",
     "output_type": "stream",
     "text": [
      "100%|██████████| 84/84 [00:00<00:00, 115.22it/s]\n"
     ]
    },
    {
     "name": "stdout",
     "output_type": "stream",
     "text": [
      "Epoch 77/100, Train Loss: 0.0054, Accuracy: 1.0000\n"
     ]
    },
    {
     "name": "stderr",
     "output_type": "stream",
     "text": [
      "100%|██████████| 84/84 [00:00<00:00, 116.11it/s]\n"
     ]
    },
    {
     "name": "stdout",
     "output_type": "stream",
     "text": [
      "Epoch 78/100, Train Loss: 0.0043, Accuracy: 1.0000\n"
     ]
    },
    {
     "name": "stderr",
     "output_type": "stream",
     "text": [
      "100%|██████████| 84/84 [00:00<00:00, 107.20it/s]\n"
     ]
    },
    {
     "name": "stdout",
     "output_type": "stream",
     "text": [
      "Epoch 79/100, Train Loss: 0.0057, Accuracy: 1.0000\n"
     ]
    },
    {
     "name": "stderr",
     "output_type": "stream",
     "text": [
      "100%|██████████| 84/84 [00:00<00:00, 108.30it/s]\n"
     ]
    },
    {
     "name": "stdout",
     "output_type": "stream",
     "text": [
      "Epoch 80/100, Train Loss: 0.0056, Accuracy: 1.0000\n"
     ]
    },
    {
     "name": "stderr",
     "output_type": "stream",
     "text": [
      "100%|██████████| 84/84 [00:00<00:00, 111.94it/s]\n"
     ]
    },
    {
     "name": "stdout",
     "output_type": "stream",
     "text": [
      "Epoch 81/100, Train Loss: 0.0052, Accuracy: 1.0000\n"
     ]
    },
    {
     "name": "stderr",
     "output_type": "stream",
     "text": [
      "100%|██████████| 84/84 [00:00<00:00, 118.48it/s]\n"
     ]
    },
    {
     "name": "stdout",
     "output_type": "stream",
     "text": [
      "Epoch 82/100, Train Loss: 0.0054, Accuracy: 1.0000\n"
     ]
    },
    {
     "name": "stderr",
     "output_type": "stream",
     "text": [
      "100%|██████████| 84/84 [00:00<00:00, 121.55it/s]\n"
     ]
    },
    {
     "name": "stdout",
     "output_type": "stream",
     "text": [
      "Epoch 83/100, Train Loss: 0.0042, Accuracy: 1.0000\n"
     ]
    },
    {
     "name": "stderr",
     "output_type": "stream",
     "text": [
      "100%|██████████| 84/84 [00:00<00:00, 121.64it/s]\n"
     ]
    },
    {
     "name": "stdout",
     "output_type": "stream",
     "text": [
      "Epoch 84/100, Train Loss: 0.0047, Accuracy: 1.0000\n"
     ]
    },
    {
     "name": "stderr",
     "output_type": "stream",
     "text": [
      "100%|██████████| 84/84 [00:00<00:00, 123.55it/s]\n"
     ]
    },
    {
     "name": "stdout",
     "output_type": "stream",
     "text": [
      "Epoch 85/100, Train Loss: 0.0038, Accuracy: 1.0000\n"
     ]
    },
    {
     "name": "stderr",
     "output_type": "stream",
     "text": [
      "100%|██████████| 84/84 [00:00<00:00, 121.76it/s]\n"
     ]
    },
    {
     "name": "stdout",
     "output_type": "stream",
     "text": [
      "Epoch 86/100, Train Loss: 0.0035, Accuracy: 1.0000\n"
     ]
    },
    {
     "name": "stderr",
     "output_type": "stream",
     "text": [
      "100%|██████████| 84/84 [00:00<00:00, 122.26it/s]\n"
     ]
    },
    {
     "name": "stdout",
     "output_type": "stream",
     "text": [
      "Epoch 87/100, Train Loss: 0.0041, Accuracy: 1.0000\n"
     ]
    },
    {
     "name": "stderr",
     "output_type": "stream",
     "text": [
      "100%|██████████| 84/84 [00:00<00:00, 118.87it/s]\n"
     ]
    },
    {
     "name": "stdout",
     "output_type": "stream",
     "text": [
      "Epoch 88/100, Train Loss: 0.0041, Accuracy: 1.0000\n"
     ]
    },
    {
     "name": "stderr",
     "output_type": "stream",
     "text": [
      "100%|██████████| 84/84 [00:00<00:00, 130.43it/s]\n"
     ]
    },
    {
     "name": "stdout",
     "output_type": "stream",
     "text": [
      "Epoch 89/100, Train Loss: 0.0032, Accuracy: 1.0000\n"
     ]
    },
    {
     "name": "stderr",
     "output_type": "stream",
     "text": [
      "100%|██████████| 84/84 [00:00<00:00, 122.20it/s]\n"
     ]
    },
    {
     "name": "stdout",
     "output_type": "stream",
     "text": [
      "Epoch 90/100, Train Loss: 0.0027, Accuracy: 1.0000\n"
     ]
    },
    {
     "name": "stderr",
     "output_type": "stream",
     "text": [
      "100%|██████████| 84/84 [00:01<00:00, 42.92it/s]\n"
     ]
    },
    {
     "name": "stdout",
     "output_type": "stream",
     "text": [
      "Epoch 91/100, Train Loss: 0.0025, Accuracy: 1.0000\n"
     ]
    },
    {
     "name": "stderr",
     "output_type": "stream",
     "text": [
      "100%|██████████| 84/84 [00:02<00:00, 38.13it/s]\n"
     ]
    },
    {
     "name": "stdout",
     "output_type": "stream",
     "text": [
      "Epoch 92/100, Train Loss: 0.0031, Accuracy: 1.0000\n"
     ]
    },
    {
     "name": "stderr",
     "output_type": "stream",
     "text": [
      "100%|██████████| 84/84 [00:02<00:00, 39.61it/s]\n"
     ]
    },
    {
     "name": "stdout",
     "output_type": "stream",
     "text": [
      "Epoch 93/100, Train Loss: 0.0028, Accuracy: 1.0000\n"
     ]
    },
    {
     "name": "stderr",
     "output_type": "stream",
     "text": [
      "100%|██████████| 84/84 [00:02<00:00, 40.19it/s]\n"
     ]
    },
    {
     "name": "stdout",
     "output_type": "stream",
     "text": [
      "Epoch 94/100, Train Loss: 0.0023, Accuracy: 1.0000\n"
     ]
    },
    {
     "name": "stderr",
     "output_type": "stream",
     "text": [
      "100%|██████████| 84/84 [00:02<00:00, 39.92it/s]\n"
     ]
    },
    {
     "name": "stdout",
     "output_type": "stream",
     "text": [
      "Epoch 95/100, Train Loss: 0.0029, Accuracy: 1.0000\n"
     ]
    },
    {
     "name": "stderr",
     "output_type": "stream",
     "text": [
      "100%|██████████| 84/84 [00:01<00:00, 48.49it/s]\n"
     ]
    },
    {
     "name": "stdout",
     "output_type": "stream",
     "text": [
      "Epoch 96/100, Train Loss: 0.0025, Accuracy: 1.0000\n"
     ]
    },
    {
     "name": "stderr",
     "output_type": "stream",
     "text": [
      "100%|██████████| 84/84 [00:02<00:00, 35.23it/s]\n"
     ]
    },
    {
     "name": "stdout",
     "output_type": "stream",
     "text": [
      "Epoch 97/100, Train Loss: 0.0030, Accuracy: 1.0000\n"
     ]
    },
    {
     "name": "stderr",
     "output_type": "stream",
     "text": [
      "100%|██████████| 84/84 [00:00<00:00, 100.34it/s]\n"
     ]
    },
    {
     "name": "stdout",
     "output_type": "stream",
     "text": [
      "Epoch 98/100, Train Loss: 0.0029, Accuracy: 1.0000\n"
     ]
    },
    {
     "name": "stderr",
     "output_type": "stream",
     "text": [
      "100%|██████████| 84/84 [00:00<00:00, 99.44it/s] \n"
     ]
    },
    {
     "name": "stdout",
     "output_type": "stream",
     "text": [
      "Epoch 99/100, Train Loss: 0.0029, Accuracy: 1.0000\n"
     ]
    },
    {
     "name": "stderr",
     "output_type": "stream",
     "text": [
      "100%|██████████| 84/84 [00:00<00:00, 98.77it/s] \n"
     ]
    },
    {
     "name": "stdout",
     "output_type": "stream",
     "text": [
      "Epoch 100/100, Train Loss: 0.0020, Accuracy: 1.0000\n"
     ]
    },
    {
     "name": "stderr",
     "output_type": "stream",
     "text": [
      "100%|██████████| 72/72 [00:00<00:00, 186.48it/s]"
     ]
    },
    {
     "name": "stdout",
     "output_type": "stream",
     "text": [
      "Test Loss: 0.0008, Test Accuracy: 1.0000\n"
     ]
    },
    {
     "name": "stderr",
     "output_type": "stream",
     "text": [
      "\n"
     ]
    }
   ],
   "source": [
    "# Charger les données depuis les fichiers JSON\n",
    "with open(\"data/test.json\", \"r\") as f:\n",
    "    test_data_raw = json.load(f)\n",
    "\n",
    "# Charger les phrases de test à partir de test_shuffle.txt\n",
    "test_texts = []\n",
    "with open(\"data/test_shuffle.txt\", \"r\") as f:\n",
    "    test_texts = [line.strip() for line in f.readlines()]\n",
    "\n",
    "# Préparer les données\n",
    "categories = list(train_data_raw.keys())\n",
    "train_texts, train_labels = [], []\n",
    "\n",
    "# Données d'entraînement\n",
    "for category in categories:\n",
    "    for text in train_data_raw[category]:\n",
    "        train_texts.append(text)\n",
    "        train_labels.append(category)\n",
    "\n",
    "# Trouver les labels correspondant aux phrases de test\n",
    "test_labels = []\n",
    "for text in test_texts:\n",
    "    found = False\n",
    "    for category, texts in test_data_raw.items():\n",
    "        if text in texts:\n",
    "            test_labels.append(category)\n",
    "            found = True\n",
    "            break\n",
    "    if not found:\n",
    "        test_labels.append(\"Unknown\")\n",
    "\n",
    "# Compter les labels inconnus\n",
    "unknown_count = test_labels.count(\"Unknown\")\n",
    "\n",
    "print(f\"Training samples: {len(train_texts)}\")\n",
    "print(f\"Test samples: {len(test_texts)}\")\n",
    "print(f\"Number of 'Unknown' labels: {unknown_count}\")\n",
    "\n",
    "# Encodeur de labels\n",
    "label_encoder = LabelEncoder()\n",
    "train_labels = label_encoder.fit_transform(train_labels)\n",
    "test_labels = label_encoder.transform(test_labels)\n",
    "\n",
    "# Tokenisation\n",
    "tokenizer = BertTokenizer.from_pretrained(\"bert-base-uncased\")\n",
    "\n",
    "def tokenize_batch(batch):\n",
    "    return tokenizer(batch, padding=True, truncation=True, max_length=128, return_tensors=\"pt\")\n",
    "\n",
    "class TextDataset(Dataset):\n",
    "    def __init__(self, texts, labels):\n",
    "        self.texts = texts\n",
    "        self.labels = labels\n",
    "\n",
    "    def __len__(self):\n",
    "        return len(self.texts)\n",
    "\n",
    "    def __getitem__(self, idx):\n",
    "        return self.texts[idx], self.labels[idx]\n",
    "\n",
    "train_dataset = TextDataset(train_texts, train_labels)\n",
    "test_dataset = TextDataset(test_texts, test_labels)\n",
    "\n",
    "def collate_fn(batch):\n",
    "    texts, labels = zip(*batch)\n",
    "    tokenized = tokenize_batch(list(texts))\n",
    "    return tokenized[\"input_ids\"], tokenized[\"attention_mask\"], torch.tensor(labels, dtype=torch.long)\n",
    "\n",
    "train_loader = DataLoader(train_dataset, batch_size=16, shuffle=True, collate_fn=collate_fn)\n",
    "test_loader = DataLoader(test_dataset, batch_size=16, collate_fn=collate_fn)\n",
    "\n",
    "# Modèle DAN\n",
    "class DANClassifier(nn.Module):\n",
    "    def __init__(self, embedding_dim, num_classes):\n",
    "        super(DANClassifier, self).__init__()\n",
    "        self.embedding = nn.Embedding(tokenizer.vocab_size, embedding_dim)\n",
    "        self.fc = nn.Sequential(\n",
    "            nn.Linear(embedding_dim, 128),\n",
    "            nn.ReLU(),\n",
    "            nn.Dropout(0.3),\n",
    "            nn.Linear(128, num_classes)\n",
    "        )\n",
    "\n",
    "    def forward(self, input_ids, attention_mask):\n",
    "        embeddings = self.embedding(input_ids)\n",
    "        mask = attention_mask.unsqueeze(-1)\n",
    "        masked_embeddings = embeddings * mask\n",
    "        avg_embeddings = masked_embeddings.sum(dim=1) / mask.sum(dim=1)\n",
    "        return self.fc(avg_embeddings)\n",
    "\n",
    "# Initialiser le modèle\n",
    "embedding_dim = 300\n",
    "num_classes = len(categories)\n",
    "device = torch.device(\"cuda\" if torch.cuda.is_available() else \"cpu\")\n",
    "\n",
    "model = DANClassifier(embedding_dim, num_classes).to(device)\n",
    "\n",
    "# Optimisation et perte\n",
    "criterion = nn.CrossEntropyLoss()\n",
    "optimizer = optim.Adam(model.parameters(), lr=2e-4)\n",
    "\n",
    "# Entraînement\n",
    "def train_model(model, train_loader, optimizer, criterion, device, epochs=20):\n",
    "    train_losses = []\n",
    "    writer = SummaryWriter()\n",
    "\n",
    "    for epoch in range(epochs):\n",
    "        model.train()\n",
    "        train_loss = 0\n",
    "        correct, total = 0, 0\n",
    "\n",
    "        for input_ids, attention_mask, labels in tqdm(train_loader):\n",
    "            input_ids, attention_mask, labels = (\n",
    "                input_ids.to(device),\n",
    "                attention_mask.to(device),\n",
    "                labels.to(device).long(),\n",
    "            )\n",
    "            optimizer.zero_grad()\n",
    "            outputs = model(input_ids, attention_mask)\n",
    "            loss = criterion(outputs, labels)\n",
    "            train_loss += loss.item()\n",
    "            loss.backward()\n",
    "            optimizer.step()\n",
    "\n",
    "            _, predicted = outputs.max(1)\n",
    "            correct += (predicted == labels).sum().item()\n",
    "            total += labels.size(0)\n",
    "\n",
    "        train_losses.append(train_loss / len(train_loader))\n",
    "        train_accuracy = correct / total\n",
    "        print(f\"Epoch {epoch+1}/{epochs}, Train Loss: {train_losses[-1]:.4f}, Accuracy: {train_accuracy:.4f}\")\n",
    "\n",
    "        # Enregistrer dans TensorBoard\n",
    "        writer.add_scalar(\"Loss/Train\", train_losses[-1], epoch + 1)\n",
    "        writer.add_scalar(\"Accuracy/Train\", train_accuracy, epoch + 1)\n",
    "\n",
    "    writer.close()\n",
    "    return train_losses\n",
    "\n",
    "# Évaluation\n",
    "def evaluate_model(model, test_loader, criterion, device):\n",
    "    model.eval()\n",
    "    test_loss, correct, total = 0, 0, 0\n",
    "\n",
    "    with torch.no_grad():\n",
    "        for input_ids, attention_mask, labels in tqdm(test_loader):\n",
    "            input_ids, attention_mask, labels = (\n",
    "                input_ids.to(device),\n",
    "                attention_mask.to(device),\n",
    "                labels.to(device).long(),\n",
    "            )\n",
    "            outputs = model(input_ids, attention_mask)\n",
    "            loss = criterion(outputs, labels)\n",
    "            test_loss += loss.item()\n",
    "            _, predicted = outputs.max(1)\n",
    "            correct += (predicted == labels).sum().item()\n",
    "            total += labels.size(0)\n",
    "\n",
    "    accuracy = correct / total\n",
    "    print(f\"Test Loss: {test_loss / len(test_loader):.4f}, Test Accuracy: {accuracy:.4f}\")\n",
    "\n",
    "# Entraîner le modèle\n",
    "train_losses = train_model(model, train_loader, optimizer, criterion, device, epochs=100)\n",
    "\n",
    "# Évaluer le modèle\n",
    "evaluate_model(model, test_loader, criterion, device)\n"
   ]
  },
  {
   "cell_type": "markdown",
   "metadata": {},
   "source": [
    "## avec switch validation ou pas"
   ]
  },
  {
   "cell_type": "code",
   "execution_count": 21,
   "metadata": {},
   "outputs": [
    {
     "name": "stderr",
     "output_type": "stream",
     "text": [
      "100%|██████████| 72/72 [00:00<00:00, 220.46it/s]"
     ]
    },
    {
     "name": "stdout",
     "output_type": "stream",
     "text": [
      "All predictions are correct!\n",
      "Kaggle submission file saved to submission_kaggle.csv\n"
     ]
    },
    {
     "name": "stderr",
     "output_type": "stream",
     "text": [
      "\n"
     ]
    }
   ],
   "source": [
    "import csv\n",
    "import json\n",
    "import torch\n",
    "from tqdm import tqdm\n",
    "\n",
    "# Effectuer des prédictions sur le jeu de test\n",
    "def predict_and_verify(model, test_loader, device, label_encoder):\n",
    "    model.eval()\n",
    "    predictions = []\n",
    "    true_labels = []\n",
    "    all_correct = True  # Vérification si toutes les prédictions sont correctes\n",
    "\n",
    "    with torch.no_grad():\n",
    "        for input_ids, attention_mask, labels in tqdm(test_loader):\n",
    "            input_ids, attention_mask = input_ids.to(device), attention_mask.to(device)\n",
    "            outputs = model(input_ids, attention_mask)\n",
    "            _, predicted = outputs.max(1)\n",
    "            predictions.extend(predicted.cpu().numpy())\n",
    "            true_labels.extend(labels.cpu().numpy())\n",
    "\n",
    "    # Vérification des prédictions\n",
    "    for i in range(len(predictions)):\n",
    "        if predictions[i] != true_labels[i]:\n",
    "            all_correct = False\n",
    "            print(f\"Mismatch at index {i}: Predicted = {label_encoder.inverse_transform([predictions[i]])[0]}, \"\n",
    "                  f\"True = {label_encoder.inverse_transform([true_labels[i]])[0]}\")\n",
    "\n",
    "    if all_correct:\n",
    "        print(\"All predictions are correct!\")\n",
    "    else:\n",
    "        print(\"Some predictions are incorrect. Please check the output above.\")\n",
    "\n",
    "    return predictions, true_labels, all_correct\n",
    "\n",
    "# Générer un fichier CSV pour Kaggle\n",
    "def generate_kaggle_csv(predictions, file_path, private_every_other=True):\n",
    "    with open(file_path, \"w\", newline=\"\") as csvfile:\n",
    "        writer = csv.writer(csvfile)\n",
    "        writer.writerow([\"ID\", \"Usage\", \"Label\"])\n",
    "\n",
    "        for i, prediction in enumerate(predictions):\n",
    "            usage = \"Private\" if private_every_other and i % 2 == 1 else \"Public\"\n",
    "            writer.writerow([i, usage, prediction])\n",
    "\n",
    "    print(f\"Kaggle submission file saved to {file_path}\")\n",
    "\n",
    "# Effectuer des prédictions et vérifier les résultats\n",
    "predictions, true_labels, all_correct = predict_and_verify(model, test_loader, device, label_encoder)\n",
    "\n",
    "# Décoder les prédictions en catégories\n",
    "decoded_predictions = label_encoder.inverse_transform(predictions)\n",
    "\n",
    "# Générer le fichier CSV pour Kaggle\n",
    "generate_kaggle_csv(decoded_predictions, \"submission_kaggle.csv\")\n"
   ]
  },
  {
   "cell_type": "code",
   "execution_count": null,
   "metadata": {},
   "outputs": [
    {
     "name": "stdout",
     "output_type": "stream",
     "text": [
      "Training samples: 1338\n",
      "Validation samples: 0\n",
      "Test samples: 1140\n",
      "Number of 'Unknown' labels: 0\n"
     ]
    },
    {
     "data": {
      "image/png": "[encoded data removed]",
      "text/plain": [
       "<Figure size 1200x500 with 2 Axes>"
      ]
     },
     "metadata": {},
     "output_type": "display_data"
    },
    {
     "name": "stderr",
     "output_type": "stream",
     "text": [
      "100%|██████████| 72/72 [00:00<00:00, 144.95it/s]\n"
     ]
    },
    {
     "name": "stdout",
     "output_type": "stream",
     "text": [
      "Test Loss: 2.4839, Test Accuracy: 0.0860\n",
      "Correctly classified samples: 98/1140 (8.60%)\n",
      "\n",
      "=== Misclassified Samples ===\n",
      "Text: [CLS] the role of credit scores in lending decisions is significant. [SEP] [PAD] [PAD] [PAD] [PAD] [...\n",
      "True Label: Finance, Predicted Label: Environment\n",
      "----------------------------------------------------------------------\n",
      "Text: [CLS] the impact of overpopulation on the environment is a topic of ongoing research. [SEP] [PAD] [P...\n",
      "True Label: Environment, Predicted Label: Technology\n",
      "----------------------------------------------------------------------\n",
      "Text: [CLS] the importance of the scientific method in conducting research cannot be overemphasized. [SEP]...\n",
      "True Label: Science, Predicted Label: Technology\n",
      "----------------------------------------------------------------------\n",
      "Text: [CLS] the startup accelerator provides funding and mentorship to help early - stage companies grow. ...\n",
      "True Label: Technology, Predicted Label: Entertainment\n",
      "----------------------------------------------------------------------\n",
      "Text: [CLS] the benefits of biomimicry are many, including potential for developing sustainable technologi...\n",
      "True Label: Science, Predicted Label: Entertainment\n",
      "----------------------------------------------------------------------\n",
      "Text: [CLS] the nanotechnology research has potential applications in electronics and materials science. [...\n",
      "True Label: Technology, Predicted Label: Travel\n",
      "----------------------------------------------------------------------\n",
      "Text: [CLS] the impact of tax reform on the economy is a topic of ongoing debate. [SEP] [PAD] [PAD] [PAD] ...\n",
      "True Label: Finance, Predicted Label: Technology\n",
      "----------------------------------------------------------------------\n",
      "Text: [CLS] the impact of demographic changes on the economy is a topic of concern. [SEP] [PAD] [PAD] [PAD...\n",
      "True Label: Finance, Predicted Label: Technology\n",
      "----------------------------------------------------------------------\n",
      "Text: [CLS] the benefits of using digital fashion in fashion are many, including reduced waste and improve...\n",
      "True Label: Fashion, Predicted Label: Travel\n",
      "----------------------------------------------------------------------\n",
      "Text: [CLS] the importance of portion control in maintaining a healthy weight cannot be overemphasized. [S...\n",
      "True Label: Food, Predicted Label: Entertainment\n",
      "----------------------------------------------------------------------\n",
      "Text: [CLS] the latest iphone model features advanced facial recognition technology. [SEP] [PAD] [PAD] [PA...\n",
      "True Label: Technology, Predicted Label: Entertainment\n",
      "----------------------------------------------------------------------\n",
      "Text: [CLS] the benefits of using organic cotton in fashion are many, including reduced pesticide use and ...\n",
      "True Label: Fashion, Predicted Label: Travel\n",
      "----------------------------------------------------------------------\n",
      "Text: [CLS] the bestselling novel is being adapted into a feature film. [SEP] [PAD] [PAD] [PAD] [PAD] [PAD...\n",
      "True Label: Entertainment, Predicted Label: Technology\n",
      "----------------------------------------------------------------------\n",
      "Text: [CLS] the benefits of a service - learning education are many, including improved civic engagement a...\n",
      "True Label: Education, Predicted Label: Technology\n",
      "----------------------------------------------------------------------\n",
      "Text: [CLS] the importance of meal planning cannot be overemphasized. [SEP] [PAD] [PAD] [PAD] [PAD] [PAD]...\n",
      "True Label: Food, Predicted Label: Entertainment\n",
      "----------------------------------------------------------------------\n",
      "Text: [CLS] the space telescope captures images of distant galaxies to study their formation and evolution...\n",
      "True Label: Technology, Predicted Label: Entertainment\n",
      "----------------------------------------------------------------------\n",
      "Text: [CLS] the importance of water conservation cannot be overstated. [SEP] [PAD] [PAD] [PAD] [PAD] [PAD]...\n",
      "True Label: Environment, Predicted Label: Entertainment\n",
      "----------------------------------------------------------------------\n",
      "Text: [CLS] the impact of food deserts on community health is a topic of concern. [SEP] [PAD] [PAD] [PAD] ...\n",
      "True Label: Food, Predicted Label: Entertainment\n",
      "----------------------------------------------------------------------\n",
      "Text: [CLS] the political climate is becoming increasingly tense. [SEP] [PAD] [PAD] [PAD] [PAD] [PAD] [PAD...\n",
      "True Label: Politics, Predicted Label: Entertainment\n",
      "----------------------------------------------------------------------\n",
      "Text: [CLS] the impact of climate change on the environment is a topic of ongoing scientific research. [SE...\n",
      "True Label: Science, Predicted Label: Environment\n",
      "----------------------------------------------------------------------\n",
      "Text: [CLS] the impact of overfishing on the environment is a topic of ongoing research. [SEP] [PAD] [PAD]...\n",
      "True Label: Environment, Predicted Label: Technology\n",
      "----------------------------------------------------------------------\n",
      "Text: [CLS] the best way to find the best local parks is to do your research ahead of time. [SEP]...\n",
      "True Label: Travel, Predicted Label: Technology\n",
      "----------------------------------------------------------------------\n",
      "Text: [CLS] the world health organization is urging countries to invest in health promotion programs. [SEP...\n",
      "True Label: Health, Predicted Label: Technology\n",
      "----------------------------------------------------------------------\n",
      "Text: [CLS] the supreme court has ruled in favor of the plaintiff in the high - profile case. [SEP] [PAD]...\n",
      "True Label: Politics, Predicted Label: Technology\n",
      "----------------------------------------------------------------------\n",
      "Text: [CLS] the indie film gained a cult following for its unconventional storytelling. [SEP] [PAD] [PAD] ...\n",
      "True Label: Entertainment, Predicted Label: Technology\n",
      "----------------------------------------------------------------------\n",
      "Text: [CLS] the impact of urban heat islands on the environment is a topic of ongoing research. [SEP] [PAD...\n",
      "True Label: Environment, Predicted Label: Technology\n",
      "----------------------------------------------------------------------\n",
      "Text: [CLS] the best way to find the best local attractions is to do your research ahead of time. [SEP]...\n",
      "True Label: Travel, Predicted Label: Technology\n",
      "----------------------------------------------------------------------\n",
      "Text: [CLS] the two parties are struggling to find common ground. [SEP] [PAD] [PAD] [PAD] [PAD] [PAD] [PAD...\n",
      "True Label: Politics, Predicted Label: Travel\n",
      "----------------------------------------------------------------------\n",
      "Text: [CLS] the housing market is expected to cool down in the coming months. [SEP] [PAD] [PAD] [PAD] [PAD...\n",
      "True Label: Finance, Predicted Label: Technology\n",
      "----------------------------------------------------------------------\n",
      "Text: [CLS] the importance of peer review in ensuring the quality and validity of scientific research cann...\n",
      "True Label: Science, Predicted Label: Environment\n",
      "----------------------------------------------------------------------\n",
      "Text: [CLS] the skateboarder landed a difficult trick in the skate park. [SEP] [PAD] [PAD] [PAD] [PAD] [PA...\n",
      "True Label: Sports, Predicted Label: Entertainment\n",
      "----------------------------------------------------------------------\n",
      "Text: [CLS] the importance of size inclusivity in fashion cannot be overstated. [SEP] [PAD] [PAD] [PAD] [P...\n",
      "True Label: Fashion, Predicted Label: Entertainment\n",
      "----------------------------------------------------------------------\n",
      "Text: [CLS] the impact of the housing market on consumer spending is a topic of ongoing debate. [SEP] [PAD...\n",
      "True Label: Finance, Predicted Label: Technology\n",
      "----------------------------------------------------------------------\n",
      "Text: [CLS] the impact of mining on the environment is a topic of ongoing concern. [SEP] [PAD] [PAD] [PAD]...\n",
      "True Label: Environment, Predicted Label: Technology\n",
      "----------------------------------------------------------------------\n",
      "Text: [CLS] the opposition party is calling for a referendum on the issue. [SEP] [PAD] [PAD] [PAD] [PAD] [...\n",
      "True Label: Politics, Predicted Label: Environment\n",
      "----------------------------------------------------------------------\n",
      "Text: [CLS] the best way to find the best local nightlife is to ask the locals. [SEP] [PAD] [PAD] [PAD]...\n",
      "True Label: Travel, Predicted Label: Entertainment\n",
      "----------------------------------------------------------------------\n",
      "Text: [CLS] the impact of the gig economy on cultural travel is a topic of ongoing debate. [SEP] [PAD] [PA...\n",
      "True Label: Travel, Predicted Label: Technology\n",
      "----------------------------------------------------------------------\n",
      "Text: [CLS] the impact of climate change on agriculture is a topic of ongoing concern. [SEP] [PAD] [PAD] [...\n",
      "True Label: Environment, Predicted Label: Technology\n",
      "----------------------------------------------------------------------\n",
      "Text: [CLS] the impact of the gig economy on sustainable travel is a topic of ongoing debate. [SEP] [PAD] ...\n",
      "True Label: Travel, Predicted Label: Technology\n",
      "----------------------------------------------------------------------\n",
      "Text: [CLS] the athlete trained tirelessly to achieve peak performance. [SEP] [PAD] [PAD] [PAD] [PAD] [PAD...\n",
      "True Label: Sports, Predicted Label: Entertainment\n",
      "----------------------------------------------------------------------\n",
      "Text: [CLS] the benefits of traveling with a group are many, including safety and cost savings. [SEP] [PAD...\n",
      "True Label: Travel, Predicted Label: Entertainment\n",
      "----------------------------------------------------------------------\n",
      "Text: [CLS] the benefits of using wind turbines are many, including reduced greenhouse gas emissions and i...\n",
      "True Label: Environment, Predicted Label: Technology\n",
      "----------------------------------------------------------------------\n",
      "Text: [CLS] the importance of scientific collaboration in addressing global challenges cannot be overempha...\n",
      "True Label: Science, Predicted Label: Entertainment\n",
      "----------------------------------------------------------------------\n",
      "Text: [CLS] the impact of climate change on the economy is becoming increasingly clear. [SEP] [PAD] [PAD] ...\n",
      "True Label: Finance, Predicted Label: Technology\n",
      "----------------------------------------------------------------------\n",
      "Text: [CLS] the importance of food affordability cannot be overemphasized. [SEP] [PAD] [PAD] [PAD] [PAD] [...\n",
      "True Label: Food, Predicted Label: Technology\n",
      "----------------------------------------------------------------------\n",
      "Text: [CLS] the importance of extracurricular activities in education cannot be overemphasized. [SEP] [PAD...\n",
      "True Label: Education, Predicted Label: Technology\n",
      "----------------------------------------------------------------------\n",
      "Text: [CLS] the impact of the digital economy on cultural travel is a topic of ongoing debate. [SEP] [PAD]...\n",
      "True Label: Travel, Predicted Label: Technology\n",
      "----------------------------------------------------------------------\n",
      "Text: [CLS] the benefits of 3d printing are many, including improved customization and reduced waste. [SEP...\n",
      "True Label: Science, Predicted Label: Travel\n",
      "----------------------------------------------------------------------\n",
      "Text: [CLS] the american heart association recommends a diet low in sodium to reduce the risk of high bloo...\n",
      "True Label: Health, Predicted Label: Entertainment\n",
      "----------------------------------------------------------------------\n",
      "Text: [CLS] the computer scientist conducts research to advance the field of artificial intelligence. [SEP...\n",
      "True Label: Technology, Predicted Label: Entertainment\n",
      "----------------------------------------------------------------------\n",
      "Text: [CLS] the sports psychology professor conducts research on peak performance. [SEP] [PAD] [PAD] [PAD]...\n",
      "True Label: Sports, Predicted Label: Technology\n",
      "----------------------------------------------------------------------\n",
      "Text: [CLS] the basketball player dribbled past defenders to score a layup. [SEP] [PAD] [PAD] [PAD] [PAD] ...\n",
      "True Label: Sports, Predicted Label: Entertainment\n",
      "----------------------------------------------------------------------\n",
      "Text: [CLS] the benefits of a competency - based education are many, including improved mastery and skill ...\n",
      "True Label: Education, Predicted Label: Environment\n",
      "----------------------------------------------------------------------\n",
      "Text: [CLS] the benefits of a good night's sleep cannot be overstated. [SEP] [PAD] [PAD] [PAD] [PAD] [PAD]...\n",
      "True Label: Health, Predicted Label: Entertainment\n",
      "----------------------------------------------------------------------\n",
      "Text: [CLS] the benefits of a self - directed learning education are many, including improved self - disci...\n",
      "True Label: Education, Predicted Label: Technology\n",
      "----------------------------------------------------------------------\n",
      "Text: [CLS] the benefits of traveling by rv are many, including flexibility and cost savings. [SEP] [PAD] ...\n",
      "True Label: Travel, Predicted Label: Entertainment\n",
      "----------------------------------------------------------------------\n",
      "Text: [CLS] the impact of fashion on cultural diversity is a topic of ongoing research. [SEP] [PAD] [PAD] ...\n",
      "True Label: Fashion, Predicted Label: Technology\n",
      "----------------------------------------------------------------------\n",
      "Text: [CLS] the best way to find the best local food tours is to do your research ahead of time. [SEP]...\n",
      "True Label: Travel, Predicted Label: Technology\n",
      "----------------------------------------------------------------------\n",
      "Text: [CLS] the athlete overcame adversity to achieve greatness. [SEP] [PAD] [PAD] [PAD] [PAD] [PAD] [PAD]...\n",
      "True Label: Sports, Predicted Label: Entertainment\n",
      "----------------------------------------------------------------------\n",
      "Text: [CLS] the impact of climate change on human health is a topic of ongoing scientific research. [SEP] ...\n",
      "True Label: Science, Predicted Label: Technology\n",
      "----------------------------------------------------------------------\n",
      "Text: [CLS] the gymnastics coach guided the team to victory in the regional competition. [SEP] [PAD] [PAD]...\n",
      "True Label: Sports, Predicted Label: Technology\n",
      "----------------------------------------------------------------------\n",
      "Text: [CLS] the world health organization is urging countries to invest in mental health research. [SEP] [...\n",
      "True Label: Health, Predicted Label: Sports\n",
      "----------------------------------------------------------------------\n",
      "Text: [CLS] the importance of entrepreneurship education in education cannot be overemphasized. [SEP] [PAD...\n",
      "True Label: Education, Predicted Label: Technology\n",
      "----------------------------------------------------------------------\n",
      "Text: [CLS] the benefits of a healthy lifestyle for reducing the risk of stroke are well established. [SEP...\n",
      "True Label: Health, Predicted Label: Entertainment\n",
      "----------------------------------------------------------------------\n",
      "Text: [CLS] the impact of automation on the workforce is a topic of concern. [SEP] [PAD] [PAD] [PAD] [PAD]...\n",
      "True Label: Finance, Predicted Label: Entertainment\n",
      "----------------------------------------------------------------------\n",
      "Text: [CLS] the american diabetes association recommends regular exercise and a healthy diet to manage blo...\n",
      "True Label: Health, Predicted Label: Entertainment\n",
      "----------------------------------------------------------------------\n",
      "Text: [CLS] the importance of biodiversity in maintaining ecosystem health cannot be overemphasized. [SEP]...\n",
      "True Label: Environment, Predicted Label: Entertainment\n",
      "----------------------------------------------------------------------\n",
      "Text: [CLS] the impact of market volatility on investing is a topic of concern. [SEP] [PAD] [PAD] [PAD] [P...\n",
      "True Label: Finance, Predicted Label: Technology\n",
      "----------------------------------------------------------------------\n",
      "Text: [CLS] the importance of food justice cannot be overstated. [SEP] [PAD] [PAD] [PAD] [PAD] [PAD] [PAD]...\n",
      "True Label: Food, Predicted Label: Technology\n",
      "----------------------------------------------------------------------\n",
      "Text: [CLS] the president has been accused of abusing his power. [SEP] [PAD] [PAD] [PAD] [PAD] [PAD] [PAD]...\n",
      "True Label: Politics, Predicted Label: Technology\n",
      "----------------------------------------------------------------------\n",
      "Text: [CLS] the sports scientist studies the physiological effects of exercise on the body. [SEP] [PAD] [P...\n",
      "True Label: Sports, Predicted Label: Entertainment\n",
      "----------------------------------------------------------------------\n",
      "Text: [CLS] the importance of vegan fashion in promoting animal welfare cannot be overemphasized. [SEP] [P...\n",
      "True Label: Fashion, Predicted Label: Entertainment\n",
      "----------------------------------------------------------------------\n",
      "Text: [CLS] the equestrian rider cleared the obstacles with precision and grace. [SEP] [PAD] [PAD] [PAD] [...\n",
      "True Label: Sports, Predicted Label: Entertainment\n",
      "----------------------------------------------------------------------\n",
      "Text: [CLS] the importance of environmental education in education cannot be overstated. [SEP] [PAD] [PAD]...\n",
      "True Label: Education, Predicted Label: Technology\n",
      "----------------------------------------------------------------------\n",
      "Text: [CLS] the benefits of investing in managed futures for diversification are well established. [SEP] [...\n",
      "True Label: Finance, Predicted Label: Environment\n",
      "----------------------------------------------------------------------\n",
      "Text: [CLS] the link between stress and immune function is well established. [SEP] [PAD] [PAD] [PAD] [PAD]...\n",
      "True Label: Health, Predicted Label: Technology\n",
      "----------------------------------------------------------------------\n",
      "Text: [CLS] the stage play received glowing reviews for its innovative staging and powerful performances. ...\n",
      "True Label: Entertainment, Predicted Label: Environment\n",
      "----------------------------------------------------------------------\n",
      "Text: [CLS] the impact of air pollution on human health is a topic of ongoing scientific research. [SEP] [...\n",
      "True Label: Science, Predicted Label: Technology\n",
      "----------------------------------------------------------------------\n",
      "Text: [CLS] the importance of science advocacy in promoting evidence - based policy and funding cannot be ...\n",
      "True Label: Science, Predicted Label: Entertainment\n",
      "----------------------------------------------------------------------\n",
      "Text: [CLS] the impact of the student loan debt crisis on entrepreneurship is a topic of concern. [SEP] [P...\n",
      "True Label: Finance, Predicted Label: Technology\n",
      "----------------------------------------------------------------------\n",
      "Text: [CLS] the benefits of geothermal energy are many, including reduced greenhouse gas emissions and imp...\n",
      "True Label: Science, Predicted Label: Travel\n",
      "----------------------------------------------------------------------\n",
      "Text: [CLS] the benefits of regular exercise for bone health are well documented. [SEP] [PAD] [PAD] [PAD] ...\n",
      "True Label: Health, Predicted Label: Entertainment\n",
      "----------------------------------------------------------------------\n",
      "Text: [CLS] the impact of fashion on cultural identity is a topic of ongoing research. [SEP] [PAD] [PAD] [...\n",
      "True Label: Fashion, Predicted Label: Technology\n",
      "----------------------------------------------------------------------\n",
      "Text: [CLS] the importance of scientific reproducibility in ensuring the reliability of research cannot be...\n",
      "True Label: Science, Predicted Label: Environment\n",
      "----------------------------------------------------------------------\n",
      "Text: [CLS] the 3d printing technology revolutionizes manufacturing with its ability to create complex obj...\n",
      "True Label: Technology, Predicted Label: Travel\n",
      "----------------------------------------------------------------------\n",
      "Text: [CLS] the impact of interest rates on the economy is a topic of ongoing debate. [SEP] [PAD] [PAD] [P...\n",
      "True Label: Finance, Predicted Label: Technology\n",
      "----------------------------------------------------------------------\n",
      "Text: [CLS] the impact of food trends on nutrition is a topic of concern. [SEP] [PAD] [PAD] [PAD] [PAD] [P...\n",
      "True Label: Food, Predicted Label: Entertainment\n",
      "----------------------------------------------------------------------\n",
      "Text: [CLS] the sports science research center collaborates with universities on cutting - edge studies. [...\n",
      "True Label: Sports, Predicted Label: Entertainment\n",
      "----------------------------------------------------------------------\n",
      "Text: [CLS] the impact of biodiversity loss on ecosystems is a topic of ongoing scientific research. [SEP]...\n",
      "True Label: Science, Predicted Label: Technology\n",
      "----------------------------------------------------------------------\n",
      "Text: [CLS] the sports memorabilia collector owns rare items signed by legendary athletes. [SEP] [PAD] [PA...\n",
      "True Label: Sports, Predicted Label: Entertainment\n",
      "----------------------------------------------------------------------\n",
      "Text: [CLS] the link between air pollution and respiratory diseases is well established. [SEP] [PAD] [PAD]...\n",
      "True Label: Health, Predicted Label: Entertainment\n",
      "----------------------------------------------------------------------\n",
      "Text: [CLS] the drone pilot operates the aircraft to capture aerial footage for film and television. [SEP]...\n",
      "True Label: Technology, Predicted Label: Entertainment\n",
      "----------------------------------------------------------------------\n",
      "Text: [CLS] the value of the dollar has been fluctuating due to economic uncertainty. [SEP] [PAD] [PAD] [P...\n",
      "True Label: Finance, Predicted Label: Technology\n",
      "----------------------------------------------------------------------\n",
      "Text: [CLS] the impact of acid rain on ecosystems is a topic of ongoing scientific research. [SEP] [PAD] [...\n",
      "True Label: Science, Predicted Label: Technology\n",
      "----------------------------------------------------------------------\n",
      "Text: [CLS] the film critic praised the cinematography and performances in their review. [SEP] [PAD] [PAD]...\n",
      "True Label: Entertainment, Predicted Label: Technology\n",
      "----------------------------------------------------------------------\n",
      "Text: [CLS] the impact of educational attainment on democracy is a topic of ongoing research. [SEP] [PAD] ...\n",
      "True Label: Education, Predicted Label: Technology\n",
      "----------------------------------------------------------------------\n",
      "Text: [CLS] the best way to find the best local adventure sports is to do your research ahead of time. [SE...\n",
      "True Label: Travel, Predicted Label: Technology\n",
      "----------------------------------------------------------------------\n",
      "Text: [CLS] the importance of cultural competence education in education cannot be overemphasized. [SEP] [...\n",
      "True Label: Education, Predicted Label: Technology\n",
      "----------------------------------------------------------------------\n",
      "Text: [CLS] the importance of food traceability cannot be overemphasized. [SEP] [PAD] [PAD] [PAD] [PAD] [P...\n",
      "True Label: Food, Predicted Label: Entertainment\n",
      "----------------------------------------------------------------------\n",
      "Text: [CLS] the importance of protecting wetlands in maintaining water quality cannot be overemphasized. [...\n",
      "True Label: Environment, Predicted Label: Entertainment\n",
      "----------------------------------------------------------------------\n",
      "Text: [CLS] the benefits of using sustainable manufacturing practices in fashion are many, including reduc...\n",
      "True Label: Fashion, Predicted Label: Travel\n",
      "----------------------------------------------------------------------\n",
      "Text: [CLS] the impact of air pollution on the environment is a topic of ongoing concern. [SEP] [PAD] [PAD...\n",
      "True Label: Environment, Predicted Label: Technology\n",
      "----------------------------------------------------------------------\n",
      "Text: [CLS] the autonomous vehicle industry is poised for rapid growth in the coming years. [SEP] [PAD] [P...\n",
      "True Label: Technology, Predicted Label: Entertainment\n",
      "----------------------------------------------------------------------\n",
      "Text: [CLS] the benefits of using sustainable textiles in fashion are many, including reduced environmenta...\n",
      "True Label: Fashion, Predicted Label: Environment\n",
      "----------------------------------------------------------------------\n",
      "Text: [CLS] the prime minister has called for an emergency meeting with his cabinet. [SEP] [PAD] [PAD] [PA...\n",
      "True Label: Politics, Predicted Label: Environment\n",
      "----------------------------------------------------------------------\n",
      "Text: [CLS] the track and field athlete set a new world record in the long jump. [SEP] [PAD] [PAD] [PAD] [...\n",
      "True Label: Sports, Predicted Label: Technology\n",
      "----------------------------------------------------------------------\n",
      "Text: [CLS] the benefits of using tidal power are many, including reduced greenhouse gas emissions and imp...\n",
      "True Label: Environment, Predicted Label: Technology\n",
      "----------------------------------------------------------------------\n",
      "Text: [CLS] the benefits of eating a flexitarian diet are many, including improved health and reduced envi...\n",
      "True Label: Food, Predicted Label: Technology\n",
      "----------------------------------------------------------------------\n",
      "Text: [CLS] the importance of protecting old - growth forests in maintaining ecosystem health cannot be ov...\n",
      "True Label: Environment, Predicted Label: Entertainment\n",
      "----------------------------------------------------------------------\n",
      "Text: [CLS] the importance of reducing deforestation in promoting sustainability cannot be overstated. [SE...\n",
      "True Label: Environment, Predicted Label: Technology\n",
      "----------------------------------------------------------------------\n",
      "Text: [CLS] the benefits of eating a low - salt diet are many, including reduced blood pressure and improv...\n",
      "True Label: Food, Predicted Label: Entertainment\n",
      "----------------------------------------------------------------------\n",
      "Text: [CLS] the political climate is becoming increasingly hostile. [SEP] [PAD] [PAD] [PAD] [PAD] [PAD] [P...\n",
      "True Label: Politics, Predicted Label: Technology\n",
      "----------------------------------------------------------------------\n",
      "Text: [CLS] the sports psychologist helps athletes overcome mental barriers. [SEP] [PAD] [PAD] [PAD] [PAD]...\n",
      "True Label: Sports, Predicted Label: Technology\n",
      "----------------------------------------------------------------------\n",
      "Text: [CLS] the impact of the gig economy on traditional employment is a topic of concern. [SEP] [PAD] [PA...\n",
      "True Label: Finance, Predicted Label: Technology\n",
      "----------------------------------------------------------------------\n",
      "Text: [CLS] the benefits of eating a low - fodmap diet are many, including improved digestion and reduced ...\n",
      "True Label: Food, Predicted Label: Entertainment\n",
      "----------------------------------------------------------------------\n",
      "Text: [CLS] the benefits of sustainable living are many, including reduced waste and improved health. [SEP...\n",
      "True Label: Environment, Predicted Label: Travel\n",
      "----------------------------------------------------------------------\n",
      "Text: [CLS] the impact of class size on student outcomes is a topic of ongoing research. [SEP] [PAD] [PAD]...\n",
      "True Label: Education, Predicted Label: Technology\n",
      "----------------------------------------------------------------------\n",
      "Text: [CLS] the international community is putting pressure on the government to take action. [SEP] [PAD] ...\n",
      "True Label: Politics, Predicted Label: Technology\n",
      "----------------------------------------------------------------------\n",
      "Text: [CLS] the benefits of a student - centered learning education are many, including improved engagemen...\n",
      "True Label: Education, Predicted Label: Environment\n",
      "----------------------------------------------------------------------\n",
      "Text: [CLS] the importance of protecting wildlife corridors in maintaining biodiversity cannot be overemph...\n",
      "True Label: Environment, Predicted Label: Entertainment\n",
      "----------------------------------------------------------------------\n",
      "Text: [CLS] the impact of antibiotic resistance on public health is a topic of ongoing scientific research...\n",
      "True Label: Science, Predicted Label: Technology\n",
      "----------------------------------------------------------------------\n",
      "Text: [CLS] smoking is the leading cause of preventable death worldwide. [SEP] [PAD] [PAD] [PAD] [PAD] [PA...\n",
      "True Label: Health, Predicted Label: Travel\n",
      "----------------------------------------------------------------------\n",
      "Text: [CLS] the link between poor nutrition and bone health issues such as osteoporosis is well establishe...\n",
      "True Label: Health, Predicted Label: Travel\n",
      "----------------------------------------------------------------------\n",
      "Text: [CLS] the benefits of a healthy lifestyle for reducing the risk of dementia are well established. [S...\n",
      "True Label: Health, Predicted Label: Entertainment\n",
      "----------------------------------------------------------------------\n",
      "Text: [CLS] the benefits of investing in small - cap stocks for growth are well established. [SEP] [PAD] [...\n",
      "True Label: Finance, Predicted Label: Entertainment\n",
      "----------------------------------------------------------------------\n",
      "Text: [CLS] the importance of staying hydrated cannot be overemphasized. [SEP] [PAD] [PAD] [PAD] [PAD] [PA...\n",
      "True Label: Food, Predicted Label: Technology\n",
      "----------------------------------------------------------------------\n",
      "Text: [CLS] the football fanatics tailgated outside the stadium before the game. [SEP] [PAD] [PAD] [PAD] [...\n",
      "True Label: Sports, Predicted Label: Entertainment\n",
      "----------------------------------------------------------------------\n",
      "Text: [CLS] the impact of fashion on cultural exchange is a topic of ongoing concern. [SEP] [PAD] [PAD] [P...\n",
      "True Label: Fashion, Predicted Label: Entertainment\n",
      "----------------------------------------------------------------------\n",
      "Text: [CLS] the benefits of investing in socially responsible companies are becoming increasingly clear. [...\n",
      "True Label: Finance, Predicted Label: Technology\n",
      "----------------------------------------------------------------------\n",
      "Text: [CLS] the benefits of thrift shopping are many, including reduced waste and improved affordability. ...\n",
      "True Label: Fashion, Predicted Label: Environment\n",
      "----------------------------------------------------------------------\n",
      "Text: [CLS] investing in stocks can be a great way to build wealth over time. [SEP] [PAD] [PAD] [PAD] [PAD...\n",
      "True Label: Finance, Predicted Label: Entertainment\n",
      "----------------------------------------------------------------------\n",
      "Text: [CLS] the impact of pesticide drift on the environment is a topic of ongoing concern. [SEP] [PAD] [P...\n",
      "True Label: Environment, Predicted Label: Technology\n",
      "----------------------------------------------------------------------\n",
      "Text: [CLS] the impact of artificial intelligence ( ai ) on society is a topic of ongoing scientific resea...\n",
      "True Label: Science, Predicted Label: Entertainment\n",
      "----------------------------------------------------------------------\n",
      "Text: [CLS] the benefits of diversification in investing are well established. [SEP] [PAD] [PAD] [PAD] [PA...\n",
      "True Label: Finance, Predicted Label: Technology\n",
      "----------------------------------------------------------------------\n",
      "Text: [CLS] the benefits of eating locally sourced food are many, including freshness and sustainability. ...\n",
      "True Label: Food, Predicted Label: Entertainment\n",
      "----------------------------------------------------------------------\n",
      "Text: [CLS] the importance of sustainable fashion standards in promoting sustainability cannot be overemph...\n",
      "True Label: Fashion, Predicted Label: Technology\n",
      "----------------------------------------------------------------------\n",
      "Text: [CLS] the surfer rode a massive wave at the world - famous surf spot. [SEP] [PAD] [PAD] [PAD] [PAD] ...\n",
      "True Label: Sports, Predicted Label: Technology\n",
      "----------------------------------------------------------------------\n",
      "Text: [CLS] the benefits of using recycled materials in fashion are many, including reduced waste and impr...\n",
      "True Label: Fashion, Predicted Label: Travel\n",
      "----------------------------------------------------------------------\n",
      "Text: [CLS] the benefits of using eco - friendly dyes in fashion are many, including reduced water polluti...\n",
      "True Label: Fashion, Predicted Label: Travel\n",
      "----------------------------------------------------------------------\n",
      "Text: [CLS] the referee made a controversial call that sparked debate among fans. [SEP] [PAD] [PAD] [PAD] ...\n",
      "True Label: Sports, Predicted Label: Technology\n",
      "----------------------------------------------------------------------\n",
      "Text: [CLS] the drone delivery service promises fast and efficient shipping of packages. [SEP] [PAD] [PAD]...\n",
      "True Label: Technology, Predicted Label: Travel\n",
      "----------------------------------------------------------------------\n",
      "Text: [CLS] the benefits of using virtual fitting rooms in fashion are many, including reduced waste and i...\n",
      "True Label: Fashion, Predicted Label: Technology\n",
      "----------------------------------------------------------------------\n",
      "Text: [CLS] the importance of scientific integrity in promoting public trust and accountability cannot be ...\n",
      "True Label: Science, Predicted Label: Entertainment\n",
      "----------------------------------------------------------------------\n",
      "Text: [CLS] the benefits of using sustainable supply chains in fashion are many, including reduced environ...\n",
      "True Label: Fashion, Predicted Label: Travel\n",
      "----------------------------------------------------------------------\n",
      "Text: [CLS] the nanotechnology research has potential applications in medicine and electronics. [SEP] [PAD...\n",
      "True Label: Technology, Predicted Label: Travel\n",
      "----------------------------------------------------------------------\n",
      "Text: [CLS] the benefits of a problem - based learning education are many, including improved critical thi...\n",
      "True Label: Education, Predicted Label: Entertainment\n",
      "----------------------------------------------------------------------\n",
      "Text: [CLS] the importance of media education in education cannot be overemphasized. [SEP] [PAD] [PAD] [PA...\n",
      "True Label: Education, Predicted Label: Technology\n",
      "----------------------------------------------------------------------\n",
      "Text: [CLS] the benefits of geoengineering are many, including potential for reducing the impacts of clima...\n",
      "True Label: Science, Predicted Label: Travel\n",
      "----------------------------------------------------------------------\n",
      "Text: [CLS] the impact of eutrophication on the environment is a topic of ongoing concern. [SEP] [PAD] [PA...\n",
      "True Label: Environment, Predicted Label: Technology\n",
      "----------------------------------------------------------------------\n",
      "Text: [CLS] the importance of financial literacy in education cannot be overemphasized. [SEP] [PAD] [PAD] ...\n",
      "True Label: Education, Predicted Label: Technology\n",
      "----------------------------------------------------------------------\n",
      "Text: [CLS] the importance of scientific curiosity in driving innovation and discovery cannot be overempha...\n",
      "True Label: Science, Predicted Label: Environment\n",
      "----------------------------------------------------------------------\n",
      "Text: [CLS] the importance of scientific collaboration in promoting the advancement of knowledge cannot be...\n",
      "True Label: Science, Predicted Label: Entertainment\n",
      "----------------------------------------------------------------------\n",
      "Text: [CLS] the impact of pesticides on the environment is a topic of ongoing concern. [SEP] [PAD] [PAD] [...\n",
      "True Label: Environment, Predicted Label: Technology\n",
      "----------------------------------------------------------------------\n",
      "Text: [CLS] the importance of fair trade in fashion cannot be overemphasized. [SEP] [PAD] [PAD] [PAD] [PAD...\n",
      "True Label: Fashion, Predicted Label: Entertainment\n",
      "----------------------------------------------------------------------\n",
      "Text: [CLS] the baseball slugger hit a home run that sailed over the outfield fence. [SEP] [PAD] [PAD] [PA...\n",
      "True Label: Sports, Predicted Label: Entertainment\n",
      "----------------------------------------------------------------------\n",
      "Text: [CLS] the impact of food additives on liver function is a topic of ongoing debate. [SEP] [PAD] [PAD]...\n",
      "True Label: Food, Predicted Label: Technology\n",
      "----------------------------------------------------------------------\n",
      "Text: [CLS] the benefits of eating a vegetarian diet are many, including reduced environmental impact and ...\n",
      "True Label: Food, Predicted Label: Entertainment\n",
      "----------------------------------------------------------------------\n",
      "Text: [CLS] the baseball pitcher threw a perfect game, striking out every batter. [SEP] [PAD] [PAD] [PAD] ...\n",
      "True Label: Sports, Predicted Label: Entertainment\n",
      "----------------------------------------------------------------------\n",
      "Text: [CLS] the importance of body positivity in fashion cannot be overstated. [SEP] [PAD] [PAD] [PAD] [PA...\n",
      "True Label: Fashion, Predicted Label: Entertainment\n",
      "----------------------------------------------------------------------\n",
      "Text: [CLS] the benefits of eating a vegan diet are many, including ethical and environmental consideratio...\n",
      "True Label: Food, Predicted Label: Travel\n",
      "----------------------------------------------------------------------\n",
      "Text: [CLS] the impact of soil degradation on the environment is a topic of ongoing concern. [SEP] [PAD] [...\n",
      "True Label: Environment, Predicted Label: Technology\n",
      "----------------------------------------------------------------------\n",
      "Text: [CLS] the supreme court has agreed to hear arguments in the landmark case. [SEP] [PAD] [PAD] [PAD] [...\n",
      "True Label: Politics, Predicted Label: Entertainment\n",
      "----------------------------------------------------------------------\n",
      "Text: [CLS] the benefits of eating a ketogenic diet are many, including weight loss and improved blood sug...\n",
      "True Label: Food, Predicted Label: Technology\n",
      "----------------------------------------------------------------------\n",
      "Text: [CLS] the benefits of using green spaces are many, including improved mental health and reduced urba...\n",
      "True Label: Environment, Predicted Label: Technology\n",
      "----------------------------------------------------------------------\n",
      "Text: [CLS] the impact of food additives on metabolism is a topic of ongoing debate. [SEP] [PAD] [PAD] [PA...\n",
      "True Label: Food, Predicted Label: Environment\n",
      "----------------------------------------------------------------------\n",
      "Text: [CLS] the impact of fashion on cultural diversity is a topic of ongoing concern. [SEP] [PAD] [PAD] [...\n",
      "True Label: Fashion, Predicted Label: Technology\n",
      "----------------------------------------------------------------------\n",
      "Text: [CLS] the benefits of using rain gardens are many, including reduced stormwater runoff and improved ...\n",
      "True Label: Environment, Predicted Label: Travel\n",
      "----------------------------------------------------------------------\n",
      "Text: [CLS] the benefits of yoga for physical and mental health are well established. [SEP] [PAD] [PAD] [P...\n",
      "True Label: Health, Predicted Label: Technology\n",
      "----------------------------------------------------------------------\n",
      "Text: [CLS] the importance of sustainable fashion activism in promoting sustainability cannot be overempha...\n",
      "True Label: Fashion, Predicted Label: Technology\n",
      "----------------------------------------------------------------------\n",
      "Text: [CLS] the benefits of a place - based learning education are many, including improved community enga...\n",
      "True Label: Education, Predicted Label: Travel\n",
      "----------------------------------------------------------------------\n",
      "Text: [CLS] the 3d printer creates intricate prototypes with precision and accuracy. [SEP] [PAD] [PAD] [PA...\n",
      "True Label: Technology, Predicted Label: Entertainment\n",
      "----------------------------------------------------------------------\n",
      "Text: [CLS] the price of oil has been on the rise due to geopolitical tensions. [SEP] [PAD] [PAD] [PAD] [P...\n",
      "True Label: Finance, Predicted Label: Entertainment\n",
      "----------------------------------------------------------------------\n",
      "Text: [CLS] the benefits of a self - directed education are many, including improved self - discipline and...\n",
      "True Label: Education, Predicted Label: Technology\n",
      "----------------------------------------------------------------------\n",
      "Text: [CLS] the impact of fashion on cultural preservation is a topic of ongoing research. [SEP] [PAD] [PA...\n",
      "True Label: Fashion, Predicted Label: Technology\n",
      "----------------------------------------------------------------------\n",
      "Text: [CLS] the impact of educational technology on student outcomes is a topic of ongoing research. [SEP]...\n",
      "True Label: Education, Predicted Label: Technology\n",
      "----------------------------------------------------------------------\n",
      "Text: [CLS] the impact of invasive species on biodiversity is a topic of ongoing research. [SEP] [PAD] [PA...\n",
      "True Label: Environment, Predicted Label: Technology\n",
      "----------------------------------------------------------------------\n",
      "Text: [CLS] the governor has announced a plan to address the mental health crisis. [SEP] [PAD] [PAD] [PAD]...\n",
      "True Label: Politics, Predicted Label: Technology\n",
      "----------------------------------------------------------------------\n",
      "Text: [CLS] the impact of ocean acidification on marine life is a topic of ongoing research. [SEP] [PAD] [...\n",
      "True Label: Environment, Predicted Label: Entertainment\n",
      "----------------------------------------------------------------------\n",
      "Text: [CLS] the world health organization is urging countries to invest in vaccination programs. [SEP] [PA...\n",
      "True Label: Health, Predicted Label: Sports\n",
      "----------------------------------------------------------------------\n",
      "Text: [CLS] the benefits of eating a low - glycemic diet are many, including improved blood sugar control ...\n",
      "True Label: Food, Predicted Label: Technology\n",
      "----------------------------------------------------------------------\n",
      "Text: [CLS] the benefits of free trade for economic growth are well established. [SEP] [PAD] [PAD] [PAD] [...\n",
      "True Label: Finance, Predicted Label: Entertainment\n",
      "----------------------------------------------------------------------\n",
      "Text: [CLS] the importance of reducing water consumption in promoting sustainability cannot be overstated....\n",
      "True Label: Environment, Predicted Label: Technology\n",
      "----------------------------------------------------------------------\n",
      "Text: [CLS] the impact of fashion on cultural diversity is a topic of ongoing concern. [SEP] [PAD] [PAD] [...\n",
      "True Label: Fashion, Predicted Label: Technology\n",
      "----------------------------------------------------------------------\n",
      "Text: [CLS] the benefits of vertical farming are many, including improved water efficiency and reduced nee...\n",
      "True Label: Science, Predicted Label: Entertainment\n",
      "----------------------------------------------------------------------\n",
      "Text: [CLS] the wearable technology tracks sleep patterns and provides insights for better rest. [SEP] [PA...\n",
      "True Label: Technology, Predicted Label: Entertainment\n",
      "----------------------------------------------------------------------\n",
      "Text: [CLS] the impact of educational attainment on civic engagement is a topic of ongoing research. [SEP]...\n",
      "True Label: Education, Predicted Label: Environment\n",
      "----------------------------------------------------------------------\n",
      "Text: [CLS] the rock band announced a reunion tour to celebrate their anniversary. [SEP] [PAD] [PAD] [PAD]...\n",
      "True Label: Entertainment, Predicted Label: Environment\n",
      "----------------------------------------------------------------------\n",
      "Text: [CLS] the best way to find the best local events is to check local event listings. [SEP] [PAD] [PAD]...\n",
      "True Label: Travel, Predicted Label: Entertainment\n",
      "----------------------------------------------------------------------\n",
      "Text: [CLS] the celebrity couple's wedding was a star - studded affair. [SEP] [PAD] [PAD] [PAD] [PAD] [PAD...\n",
      "True Label: Entertainment, Predicted Label: Travel\n",
      "----------------------------------------------------------------------\n",
      "Text: [CLS] the best way to find the best local markets is to ask the locals or do your research ahead of ...\n",
      "True Label: Travel, Predicted Label: Technology\n",
      "----------------------------------------------------------------------\n",
      "Text: [CLS] the soccer midfielder delivered a precise pass to set up a scoring opportunity. [SEP] [PAD] [P...\n",
      "True Label: Sports, Predicted Label: Technology\n",
      "----------------------------------------------------------------------\n",
      "Text: [CLS] the benefits of traveling by kayak are many, including exercise and connection with nature. [S...\n",
      "True Label: Travel, Predicted Label: Entertainment\n",
      "----------------------------------------------------------------------\n",
      "Text: [CLS] the impact of microplastics on the environment is a topic of ongoing research. [SEP] [PAD] [PA...\n",
      "True Label: Environment, Predicted Label: Technology\n",
      "----------------------------------------------------------------------\n",
      "Text: [CLS] the mayor has been accused of engaging in nepotism. [SEP] [PAD] [PAD] [PAD] [PAD] [PAD] [PAD] ...\n",
      "True Label: Politics, Predicted Label: Entertainment\n",
      "----------------------------------------------------------------------\n",
      "Text: [CLS] the supreme court has issued a landmark ruling on the issue. [SEP] [PAD] [PAD] [PAD] [PAD] [PA...\n",
      "True Label: Politics, Predicted Label: Technology\n",
      "----------------------------------------------------------------------\n",
      "Text: [CLS] the sports camp offers activities for children of all skill levels. [SEP] [PAD] [PAD] [PAD] [P...\n",
      "True Label: Sports, Predicted Label: Entertainment\n",
      "----------------------------------------------------------------------\n",
      "Text: [CLS] the impact of the gig economy on travel is a topic of ongoing debate. [SEP] [PAD] [PAD] [PAD] ...\n",
      "True Label: Travel, Predicted Label: Technology\n",
      "----------------------------------------------------------------------\n",
      "Text: [CLS] the tv series explores complex themes of identity and morality. [SEP] [PAD] [PAD] [PAD] [PAD] ...\n",
      "True Label: Entertainment, Predicted Label: Technology\n",
      "----------------------------------------------------------------------\n",
      "Text: [CLS] the government has been accused of failing to address the crisis. [SEP] [PAD] [PAD] [PAD] [PAD...\n",
      "True Label: Politics, Predicted Label: Technology\n",
      "----------------------------------------------------------------------\n",
      "Text: [CLS] the world health organization is urging countries to invest in maternal and child health servi...\n",
      "True Label: Health, Predicted Label: Technology\n",
      "----------------------------------------------------------------------\n",
      "Text: [CLS] the benefits of traveling with children are many, including education and family bonding. [SEP...\n",
      "True Label: Travel, Predicted Label: Entertainment\n",
      "----------------------------------------------------------------------\n",
      "Text: [CLS] the benefits of a project - based learning education are many, including improved creativity a...\n",
      "True Label: Education, Predicted Label: Entertainment\n",
      "----------------------------------------------------------------------\n",
      "Text: [CLS] the impact of ocean warming on marine life is a topic of ongoing concern. [SEP] [PAD] [PAD] [P...\n",
      "True Label: Environment, Predicted Label: Technology\n",
      "----------------------------------------------------------------------\n",
      "Text: [CLS] the impact of food additives on brain function is a topic of ongoing debate. [SEP] [PAD] [PAD]...\n",
      "True Label: Food, Predicted Label: Environment\n",
      "----------------------------------------------------------------------\n",
      "Text: [CLS] the benefits of using public transportation are many, including reduced greenhouse gas emissio...\n",
      "True Label: Environment, Predicted Label: Travel\n",
      "----------------------------------------------------------------------\n",
      "Text: [CLS] the benefits of a well - rounded education are many, including improved critical thinking and ...\n",
      "True Label: Education, Predicted Label: Technology\n",
      "----------------------------------------------------------------------\n",
      "Text: [CLS] the prime minister has announced a new plan to improve the transportation system. [SEP] [PAD] ...\n",
      "True Label: Politics, Predicted Label: Travel\n",
      "----------------------------------------------------------------------\n",
      "Text: [CLS] the benefits of a healthy diet for reducing the risk of alzheimer's disease are becoming incre...\n",
      "True Label: Health, Predicted Label: Entertainment\n",
      "----------------------------------------------------------------------\n",
      "Text: [CLS] the drone surveillance system monitors activity in restricted airspace. [SEP] [PAD] [PAD] [PAD...\n",
      "True Label: Technology, Predicted Label: Entertainment\n",
      "----------------------------------------------------------------------\n",
      "Text: [CLS] the actor's breakthrough role launched them to stardom overnight. [SEP] [PAD] [PAD] [PAD] [PAD...\n",
      "True Label: Entertainment, Predicted Label: Sports\n",
      "----------------------------------------------------------------------\n",
      "Text: [CLS] the benefits of gene therapy are many, including potential for treating genetic diseases and i...\n",
      "True Label: Science, Predicted Label: Entertainment\n",
      "----------------------------------------------------------------------\n",
      "Text: [CLS] the best way to experience a new destination is to get off the beaten path. [SEP] [PAD] [PAD] ...\n",
      "True Label: Travel, Predicted Label: Technology\n",
      "----------------------------------------------------------------------\n",
      "Text: [CLS] the importance of reducing energy consumption in promoting sustainability cannot be overstated...\n",
      "True Label: Environment, Predicted Label: Technology\n",
      "----------------------------------------------------------------------\n",
      "Text: [CLS] the link between poor sleep and chronic diseases such as obesity and diabetes is well establis...\n",
      "True Label: Health, Predicted Label: Travel\n",
      "----------------------------------------------------------------------\n",
      "Text: [CLS] the impact of soil erosion on the environment is a topic of ongoing research. [SEP] [PAD] [PAD...\n",
      "True Label: Environment, Predicted Label: Technology\n",
      "----------------------------------------------------------------------\n",
      "Text: [CLS] the political landscape is changing rapidly. [SEP] [PAD] [PAD] [PAD] [PAD] [PAD] [PAD] [PAD] [...\n",
      "True Label: Politics, Predicted Label: Technology\n",
      "----------------------------------------------------------------------\n",
      "Text: [CLS] the american lung association recommends quitting smoking to improve lung health. [SEP] [PAD] ...\n",
      "True Label: Health, Predicted Label: Entertainment\n",
      "----------------------------------------------------------------------\n",
      "Text: [CLS] the sports nutritionist develops customized meal plans for athletes. [SEP] [PAD] [PAD] [PAD] [...\n",
      "True Label: Sports, Predicted Label: Entertainment\n",
      "----------------------------------------------------------------------\n",
      "Text: [CLS] the importance of diversity and inclusivity in fashion cannot be overemphasized. [SEP] [PAD] [...\n",
      "True Label: Fashion, Predicted Label: Entertainment\n",
      "----------------------------------------------------------------------\n",
      "Text: [CLS] the benefits of investing in hedge funds for high - growth potential are well established. [SE...\n",
      "True Label: Finance, Predicted Label: Technology\n",
      "----------------------------------------------------------------------\n",
      "Text: [CLS] the importance of scientific discovery in advancing human knowledge and understanding cannot b...\n",
      "True Label: Science, Predicted Label: Environment\n",
      "----------------------------------------------------------------------\n",
      "Text: [CLS] the american lung association recommends avoiding exposure to radon gas. [SEP] [PAD] [PAD] [PA...\n",
      "True Label: Health, Predicted Label: Travel\n",
      "----------------------------------------------------------------------\n",
      "Text: [CLS] the benefits of using traditional techniques in fashion are many, including improved cultural ...\n",
      "True Label: Fashion, Predicted Label: Technology\n",
      "----------------------------------------------------------------------\n",
      "Text: [CLS] the importance of reducing food waste in promoting sustainability cannot be overstated. [SEP] ...\n",
      "True Label: Environment, Predicted Label: Technology\n",
      "----------------------------------------------------------------------\n",
      "Text: [CLS] the benefits of using sustainable landscaping are many, including reduced water consumption an...\n",
      "True Label: Environment, Predicted Label: Technology\n",
      "----------------------------------------------------------------------\n",
      "Text: [CLS] the benefits of meditation for stress reduction are well documented. [SEP] [PAD] [PAD] [PAD] [...\n",
      "True Label: Health, Predicted Label: Entertainment\n",
      "----------------------------------------------------------------------\n",
      "Text: [CLS] the soccer coach emphasized teamwork and communication on the field. [SEP] [PAD] [PAD] [PAD] [...\n",
      "True Label: Sports, Predicted Label: Technology\n",
      "----------------------------------------------------------------------\n",
      "Text: [CLS] the mobile app developer creates applications for smartphones and tablets. [SEP] [PAD] [PAD] [...\n",
      "True Label: Technology, Predicted Label: Entertainment\n",
      "----------------------------------------------------------------------\n",
      "Text: [CLS] the impact of processed food on health is a topic of ongoing debate. [SEP] [PAD] [PAD] [PAD] [...\n",
      "True Label: Food, Predicted Label: Technology\n",
      "----------------------------------------------------------------------\n",
      "Text: [CLS] the world health organization is urging countries to invest in health systems strengthening. [...\n",
      "True Label: Health, Predicted Label: Sports\n",
      "----------------------------------------------------------------------\n",
      "Text: [CLS] the impact of the student loan debt crisis on the economy is a topic of concern. [SEP] [PAD] [...\n",
      "True Label: Finance, Predicted Label: Technology\n",
      "----------------------------------------------------------------------\n",
      "Text: [CLS] the football quarterback threw a hail mary pass to win the game. [SEP] [PAD] [PAD] [PAD] [PAD]...\n",
      "True Label: Sports, Predicted Label: Entertainment\n",
      "----------------------------------------------------------------------\n",
      "Text: [CLS] the comedian's stand - up special tackles social and political issues with humor. [SEP] [PAD] ...\n",
      "True Label: Entertainment, Predicted Label: Science\n",
      "----------------------------------------------------------------------\n",
      "Text: [CLS] the impact of the aging population on healthcare costs is a topic of concern. [SEP] [PAD] [PAD...\n",
      "True Label: Finance, Predicted Label: Technology\n",
      "----------------------------------------------------------------------\n",
      "Text: [CLS] the tech entrepreneur pitched their startup idea to investors at a venture capital firm. [SEP]...\n",
      "True Label: Technology, Predicted Label: Entertainment\n",
      "----------------------------------------------------------------------\n",
      "Text: [CLS] the actor delivered a powerful performance that earned them an oscar nomination. [SEP] [PAD] [...\n",
      "True Label: Entertainment, Predicted Label: Technology\n",
      "----------------------------------------------------------------------\n",
      "Text: [CLS] the impact of urbanization on biodiversity is a topic of ongoing scientific research. [SEP] [P...\n",
      "True Label: Science, Predicted Label: Entertainment\n",
      "----------------------------------------------------------------------\n",
      "Text: [CLS] the mayor has been criticized for his handling of the budget. [SEP] [PAD] [PAD] [PAD] [PAD] [P...\n",
      "True Label: Politics, Predicted Label: Entertainment\n",
      "----------------------------------------------------------------------\n",
      "Text: [CLS] the cryptocurrency market experiences volatility due to speculation and market forces. [SEP] [...\n",
      "True Label: Technology, Predicted Label: Sports\n",
      "----------------------------------------------------------------------\n",
      "Text: [CLS] the impact of genetically modified organisms ( gmos ) on the environment is a topic of ongoing...\n",
      "True Label: Science, Predicted Label: Technology\n",
      "----------------------------------------------------------------------\n",
      "Text: [CLS] the film franchise announced plans for a spin - off series set in the same universe. [SEP] [PA...\n",
      "True Label: Entertainment, Predicted Label: Technology\n",
      "----------------------------------------------------------------------\n",
      "Text: [CLS] the benefits of virtual reality are many, including improved training and education opportunit...\n",
      "True Label: Science, Predicted Label: Technology\n",
      "----------------------------------------------------------------------\n",
      "Text: [CLS] the congress is debating a new bill to reform the energy sector. [SEP] [PAD] [PAD] [PAD] [PAD]...\n",
      "True Label: Politics, Predicted Label: Entertainment\n",
      "----------------------------------------------------------------------\n",
      "Text: [CLS] the benefits of using modular design in fashion are many, including reduced waste and improved...\n",
      "True Label: Fashion, Predicted Label: Travel\n",
      "----------------------------------------------------------------------\n",
      "Text: [CLS] the impact of educational attainment on health outcomes is a topic of ongoing research. [SEP] ...\n",
      "True Label: Education, Predicted Label: Technology\n",
      "----------------------------------------------------------------------\n",
      "Text: [CLS] the world health organization is urging countries to invest in health emergency preparedness. ...\n",
      "True Label: Health, Predicted Label: Entertainment\n",
      "----------------------------------------------------------------------\n",
      "Text: [CLS] the impact of the student loan debt crisis on gap year travel is a topic of concern. [SEP] [PA...\n",
      "True Label: Travel, Predicted Label: Technology\n",
      "----------------------------------------------------------------------\n",
      "Text: [CLS] the cryptocurrency exchange allows users to buy and sell digital assets. [SEP] [PAD] [PAD] [PA...\n",
      "True Label: Technology, Predicted Label: Entertainment\n",
      "----------------------------------------------------------------------\n",
      "Text: [CLS] the boxer delivered a knockout punch in the final round of the match. [SEP] [PAD] [PAD] [PAD] ...\n",
      "True Label: Sports, Predicted Label: Technology\n",
      "----------------------------------------------------------------------\n",
      "Text: [CLS] the tennis player served an ace to win the match. [SEP] [PAD] [PAD] [PAD] [PAD] [PAD] [PAD] [P...\n",
      "True Label: Sports, Predicted Label: Technology\n",
      "----------------------------------------------------------------------\n",
      "Text: [CLS] the impact of educational inequality on society is a topic of concern. [SEP] [PAD] [PAD] [PAD]...\n",
      "True Label: Education, Predicted Label: Technology\n",
      "----------------------------------------------------------------------\n",
      "Text: [CLS] the benefits of eating fish are many, including heart health and brain function. [SEP] [PAD] [...\n",
      "True Label: Food, Predicted Label: Entertainment\n",
      "----------------------------------------------------------------------\n",
      "Text: [CLS] the national debt is a major concern for many economists and policymakers. [SEP] [PAD] [PAD] [...\n",
      "True Label: Finance, Predicted Label: Entertainment\n",
      "----------------------------------------------------------------------\n",
      "Text: [CLS] the benefits of quantum computing are many, including improved efficiency and potential for ne...\n",
      "True Label: Science, Predicted Label: Environment\n",
      "----------------------------------------------------------------------\n",
      "Text: [CLS] the president has been criticized for his handling of the crisis. [SEP] [PAD] [PAD] [PAD] [PAD...\n",
      "True Label: Politics, Predicted Label: Entertainment\n",
      "----------------------------------------------------------------------\n",
      "Text: [CLS] the impact of educational attainment on energy conservation is a topic of ongoing research. [S...\n",
      "True Label: Education, Predicted Label: Technology\n",
      "----------------------------------------------------------------------\n",
      "Text: [CLS] the importance of character education in education cannot be overstated. [SEP] [PAD] [PAD] [PA...\n",
      "True Label: Education, Predicted Label: Technology\n",
      "----------------------------------------------------------------------\n",
      "Text: [CLS] the impact of consumer spending on the economy is significant. [SEP] [PAD] [PAD] [PAD] [PAD] [...\n",
      "True Label: Finance, Predicted Label: Technology\n",
      "----------------------------------------------------------------------\n",
      "Text: [CLS] the art installation sparked conversation and debate about its meaning. [SEP] [PAD] [PAD] [PAD...\n",
      "True Label: Entertainment, Predicted Label: Technology\n",
      "----------------------------------------------------------------------\n",
      "Text: [CLS] the sports stadium was filled to capacity for the championship match. [SEP] [PAD] [PAD] [PAD] ...\n",
      "True Label: Sports, Predicted Label: Entertainment\n",
      "----------------------------------------------------------------------\n",
      "Text: [CLS] the benefits of eating a gluten - free diet are well established for those with celiac disease...\n",
      "True Label: Food, Predicted Label: Entertainment\n",
      "----------------------------------------------------------------------\n",
      "Text: [CLS] the benefits of using innovative materials in fashion are many, including improved performance...\n",
      "True Label: Fashion, Predicted Label: Environment\n",
      "----------------------------------------------------------------------\n",
      "Text: [CLS] the benefits of a game - based learning education are many, including improved motivation and ...\n",
      "True Label: Education, Predicted Label: Environment\n",
      "----------------------------------------------------------------------\n",
      "Text: [CLS] the importance of sustainable fashion design in promoting sustainability cannot be overemphasi...\n",
      "True Label: Fashion, Predicted Label: Entertainment\n",
      "----------------------------------------------------------------------\n",
      "Text: [CLS] the benefits of investing in index funds for long - term returns are well documented. [SEP] [P...\n",
      "True Label: Finance, Predicted Label: Entertainment\n",
      "----------------------------------------------------------------------\n",
      "Text: [CLS] the augmented reality app overlays digital information onto the real world. [SEP] [PAD] [PAD] ...\n",
      "True Label: Technology, Predicted Label: Entertainment\n",
      "----------------------------------------------------------------------\n",
      "Text: [CLS] the benefits of a healthy lifestyle for reducing the risk of chronic diseases are well establi...\n",
      "True Label: Health, Predicted Label: Entertainment\n",
      "----------------------------------------------------------------------\n",
      "Text: [CLS] the benefits of traveling by horse are many, including adventure and connection with nature. [...\n",
      "True Label: Travel, Predicted Label: Entertainment\n",
      "----------------------------------------------------------------------\n",
      "Text: [CLS] the impact of ocean currents on climate is a topic of ongoing scientific research. [SEP] [PAD]...\n",
      "True Label: Science, Predicted Label: Technology\n",
      "----------------------------------------------------------------------\n",
      "Text: [CLS] the benefits of traveling by car are many, including convenience and flexibility. [SEP] [PAD] ...\n",
      "True Label: Travel, Predicted Label: Entertainment\n",
      "----------------------------------------------------------------------\n",
      "Text: [CLS] the supreme court has issued a ruling on the controversial issue. [SEP] [PAD] [PAD] [PAD] [PAD...\n",
      "True Label: Politics, Predicted Label: Technology\n",
      "----------------------------------------------------------------------\n",
      "Text: [CLS] the impact of food waste on the environment is a topic of ongoing scientific research. [SEP] [...\n",
      "True Label: Science, Predicted Label: Technology\n",
      "----------------------------------------------------------------------\n",
      "Text: [CLS] the impact of educational policy on student outcomes is a topic of concern. [SEP] [PAD] [PAD] ...\n",
      "True Label: Education, Predicted Label: Technology\n",
      "----------------------------------------------------------------------\n",
      "Text: [CLS] the benefits of using upcycled materials in fashion are many, including reduced waste and impr...\n",
      "True Label: Fashion, Predicted Label: Environment\n",
      "----------------------------------------------------------------------\n",
      "Text: [CLS] the impact of educational attainment on income is a topic of concern. [SEP] [PAD] [PAD] [PAD] ...\n",
      "True Label: Education, Predicted Label: Technology\n",
      "----------------------------------------------------------------------\n",
      "Text: [CLS] the benefits of investing in dividend - paying stocks for income are well established. [SEP] [...\n",
      "True Label: Finance, Predicted Label: Entertainment\n",
      "----------------------------------------------------------------------\n",
      "Text: [CLS] the impact of educational attainment on environmental sustainability is a topic of ongoing res...\n",
      "True Label: Education, Predicted Label: Technology\n",
      "----------------------------------------------------------------------\n",
      "Text: [CLS] the opposition party is calling for a general election. [SEP] [PAD] [PAD] [PAD] [PAD] [PAD] [P...\n",
      "True Label: Politics, Predicted Label: Environment\n",
      "----------------------------------------------------------------------\n",
      "Text: [CLS] the comedian's netflix special was praised for its wit and humor. [SEP] [PAD] [PAD] [PAD] [PAD...\n",
      "True Label: Entertainment, Predicted Label: Science\n",
      "----------------------------------------------------------------------\n",
      "Text: [CLS] the opposition party is calling for a national day of action. [SEP] [PAD] [PAD] [PAD] [PAD] [P...\n",
      "True Label: Politics, Predicted Label: Environment\n",
      "----------------------------------------------------------------------\n",
      "Text: [CLS] the benefits of compound interest for long - term savings are significant. [SEP] [PAD] [PAD] [...\n",
      "True Label: Finance, Predicted Label: Entertainment\n",
      "----------------------------------------------------------------------\n",
      "Text: [CLS] the benefits of eating a mediterranean - style diet are many, including improved heart health ...\n",
      "True Label: Food, Predicted Label: Entertainment\n",
      "----------------------------------------------------------------------\n",
      "Text: [CLS] the importance of ethical sourcing in fashion cannot be overemphasized. [SEP] [PAD] [PAD] [PAD...\n",
      "True Label: Fashion, Predicted Label: Technology\n",
      "----------------------------------------------------------------------\n",
      "Text: [CLS] the benefits of eating a low - sodium diet are well established. [SEP] [PAD] [PAD] [PAD] [PAD]...\n",
      "True Label: Food, Predicted Label: Technology\n",
      "----------------------------------------------------------------------\n",
      "Text: [CLS] the best way to find the best local landmarks is to do your research ahead of time. [SEP] [PAD...\n",
      "True Label: Travel, Predicted Label: Technology\n",
      "----------------------------------------------------------------------\n",
      "Text: [CLS] the benefits of using rain barrels are many, including reduced water consumption and improved ...\n",
      "True Label: Environment, Predicted Label: Technology\n",
      "----------------------------------------------------------------------\n",
      "Text: [CLS] the importance of arts education in education cannot be overemphasized. [SEP] [PAD] [PAD] [PAD...\n",
      "True Label: Education, Predicted Label: Technology\n",
      "----------------------------------------------------------------------\n",
      "Text: [CLS] the talk show host interviewed political figures and celebrities alike. [SEP] [PAD] [PAD] [PAD...\n",
      "True Label: Entertainment, Predicted Label: Travel\n",
      "----------------------------------------------------------------------\n",
      "Text: [CLS] the benefits of space tourism are many, including potential for scientific research and promot...\n",
      "True Label: Science, Predicted Label: Travel\n",
      "----------------------------------------------------------------------\n",
      "Text: [CLS] the mayor has been accused of mismanaging city funds. [SEP] [PAD] [PAD] [PAD] [PAD] [PAD] [PAD...\n",
      "True Label: Politics, Predicted Label: Travel\n",
      "----------------------------------------------------------------------\n",
      "Text: [CLS] the american heart association recommends a diet low in saturated fats to reduce the risk of h...\n",
      "True Label: Health, Predicted Label: Entertainment\n",
      "----------------------------------------------------------------------\n",
      "Text: [CLS] the american heart association recommends a diet rich in fruits and vegetables to reduce the r...\n",
      "True Label: Health, Predicted Label: Entertainment\n",
      "----------------------------------------------------------------------\n",
      "Text: [CLS] the importance of ocean conservation in protecting marine life cannot be overemphasized. [SEP]...\n",
      "True Label: Environment, Predicted Label: Entertainment\n",
      "----------------------------------------------------------------------\n",
      "Text: [CLS] the importance of interdisciplinary collaboration in scientific research cannot be overstated....\n",
      "True Label: Science, Predicted Label: Technology\n",
      "----------------------------------------------------------------------\n",
      "Text: [CLS] the best way to find the best local tours is to ask the locals or do your research ahead of ti...\n",
      "True Label: Travel, Predicted Label: Technology\n",
      "----------------------------------------------------------------------\n",
      "Text: [CLS] the tennis tournament attracted top - ranked players from around the world. [SEP] [PAD] [PAD] ...\n",
      "True Label: Sports, Predicted Label: Technology\n",
      "----------------------------------------------------------------------\n",
      "Text: [CLS] the benefits of a project - based learning education are many, including improved creativity a...\n",
      "True Label: Education, Predicted Label: Entertainment\n",
      "----------------------------------------------------------------------\n",
      "Text: [CLS] the film director's latest project is a blockbuster action movie. [SEP] [PAD] [PAD] [PAD] [PAD...\n",
      "True Label: Entertainment, Predicted Label: Technology\n",
      "----------------------------------------------------------------------\n",
      "Text: [CLS] the impact of food prices on health is a topic of concern. [SEP] [PAD] [PAD] [PAD] [PAD] [PAD]...\n",
      "True Label: Food, Predicted Label: Technology\n",
      "----------------------------------------------------------------------\n",
      "Text: [CLS] the importance of sustainable transportation in reducing greenhouse gas emissions cannot be ov...\n",
      "True Label: Environment, Predicted Label: Entertainment\n",
      "----------------------------------------------------------------------\n",
      "Text: [CLS] the benefits of synthetic biology are many, including potential for new medical treatments and...\n",
      "True Label: Science, Predicted Label: Environment\n",
      "----------------------------------------------------------------------\n",
      "Text: [CLS] the centers for disease control and prevention ( cdc ) is urging people to get vaccinated agai...\n",
      "True Label: Health, Predicted Label: Environment\n",
      "----------------------------------------------------------------------\n",
      "Text: [CLS] the president has been accused of violating the constitution. [SEP] [PAD] [PAD] [PAD] [PAD] [P...\n",
      "True Label: Politics, Predicted Label: Entertainment\n",
      "----------------------------------------------------------------------\n",
      "Text: [CLS] the impact of pesticides on the environment is a topic of ongoing scientific research. [SEP] [...\n",
      "True Label: Science, Predicted Label: Technology\n",
      "----------------------------------------------------------------------\n",
      "Text: [CLS] the art installation challenged conventional notions of beauty and aesthetics. [SEP] [PAD] [PA...\n",
      "True Label: Entertainment, Predicted Label: Technology\n",
      "----------------------------------------------------------------------\n",
      "Text: [CLS] the best way to find the best local cooking classes is to do your research ahead of time. [SEP...\n",
      "True Label: Travel, Predicted Label: Technology\n",
      "----------------------------------------------------------------------\n",
      "Text: [CLS] the mayor has been accused of neglecting the needs of the community. [SEP] [PAD] [PAD] [PAD] [...\n",
      "True Label: Politics, Predicted Label: Travel\n",
      "----------------------------------------------------------------------\n",
      "Text: [CLS] the benefits of using closed - loop systems in fashion are many, including reduced waste and i...\n",
      "True Label: Fashion, Predicted Label: Travel\n",
      "----------------------------------------------------------------------\n",
      "Text: [CLS] the benefits of eating a whole food diet are many, including improved health and reduced envir...\n",
      "True Label: Food, Predicted Label: Entertainment\n",
      "----------------------------------------------------------------------\n",
      "Text: [CLS] the importance of sustainable fashion education in fashion cannot be overemphasized. [SEP] [PA...\n",
      "True Label: Fashion, Predicted Label: Technology\n",
      "----------------------------------------------------------------------\n",
      "Text: [CLS] the mayor announced a new initiative to improve public transportation. [SEP] [PAD] [PAD] [PAD]...\n",
      "True Label: Politics, Predicted Label: Technology\n",
      "----------------------------------------------------------------------\n",
      "Text: [CLS] the best way to find the best local shopping is to ask the locals. [SEP] [PAD] [PAD] [PAD] [PA...\n",
      "True Label: Travel, Predicted Label: Entertainment\n",
      "----------------------------------------------------------------------\n",
      "Text: [CLS] the benefits of eating a rainbow of fruits and vegetables are well established. [SEP] [PAD] [P...\n",
      "True Label: Food, Predicted Label: Technology\n",
      "----------------------------------------------------------------------\n",
      "Text: [CLS] the impact of fashion on climate change is a topic of ongoing research. [SEP] [PAD] [PAD] [PAD...\n",
      "True Label: Fashion, Predicted Label: Technology\n",
      "----------------------------------------------------------------------\n",
      "Text: [CLS] the impact of the student loan debt crisis on retirement savings is a topic of concern. [SEP] ...\n",
      "True Label: Finance, Predicted Label: Technology\n",
      "----------------------------------------------------------------------\n",
      "Text: [CLS] the importance of entrepreneurship education in education cannot be overemphasized. [SEP] [PAD...\n",
      "True Label: Education, Predicted Label: Technology\n",
      "----------------------------------------------------------------------\n",
      "Text: [CLS] the best way to save money on travel is to plan ahead and be flexible. [SEP] [PAD] [PAD] [PAD]...\n",
      "True Label: Travel, Predicted Label: Entertainment\n",
      "----------------------------------------------------------------------\n",
      "Text: [CLS] the sports journalist interviewed the coach about the team's strategy for the upcoming season....\n",
      "True Label: Sports, Predicted Label: Technology\n",
      "----------------------------------------------------------------------\n",
      "Text: [CLS] the governor has announced a plan to address the opioid crisis. [SEP] [PAD] [PAD] [PAD] [PAD] ...\n",
      "True Label: Politics, Predicted Label: Entertainment\n",
      "----------------------------------------------------------------------\n",
      "Text: [CLS] the american diabetes association recommends regular foot exams for people with diabetes. [SEP...\n",
      "True Label: Health, Predicted Label: Technology\n",
      "----------------------------------------------------------------------\n",
      "Text: [CLS] the benefits of investing in international stocks for diversification are well established. [S...\n",
      "True Label: Finance, Predicted Label: Entertainment\n",
      "----------------------------------------------------------------------\n",
      "Text: [CLS] the soccer tournament featured teams from different countries competing for the title. [SEP] [...\n",
      "True Label: Sports, Predicted Label: Entertainment\n",
      "----------------------------------------------------------------------\n",
      "Text: [CLS] the importance of health education in education cannot be overemphasized. [SEP] [PAD] [PAD] [P...\n",
      "True Label: Education, Predicted Label: Technology\n",
      "----------------------------------------------------------------------\n",
      "Text: [CLS] the sports medicine physician specializes in treating sports - related injuries. [SEP] [PAD] [...\n",
      "True Label: Sports, Predicted Label: Entertainment\n",
      "----------------------------------------------------------------------\n",
      "Text: [CLS] the government has been accused of violating human rights. [SEP] [PAD] [PAD] [PAD] [PAD] [PAD]...\n",
      "True Label: Politics, Predicted Label: Entertainment\n",
      "----------------------------------------------------------------------\n",
      "Text: [CLS] the fans cheered enthusiastically as their team scored a touchdown. [SEP] [PAD] [PAD] [PAD] [P...\n",
      "True Label: Sports, Predicted Label: Technology\n",
      "----------------------------------------------------------------------\n",
      "Text: [CLS] the benefits of passive investing for long - term returns are well documented. [SEP] [PAD] [PA...\n",
      "True Label: Finance, Predicted Label: Technology\n",
      "----------------------------------------------------------------------\n",
      "Text: [CLS] the impact of the gig economy on travel planning is a topic of ongoing debate. [SEP] [PAD] [PA...\n",
      "True Label: Travel, Predicted Label: Technology\n",
      "----------------------------------------------------------------------\n",
      "Text: [CLS] the importance of protecting coral reefs in maintaining marine biodiversity cannot be overemph...\n",
      "True Label: Environment, Predicted Label: Entertainment\n",
      "----------------------------------------------------------------------\n",
      "Text: [CLS] the importance of scientific innovation in addressing global challenges cannot be overstated. ...\n",
      "True Label: Science, Predicted Label: Environment\n",
      "----------------------------------------------------------------------\n",
      "Text: [CLS] the benefits of eating a plant - based diet for athletes are many, including improved recovery...\n",
      "True Label: Food, Predicted Label: Entertainment\n",
      "----------------------------------------------------------------------\n",
      "Text: [CLS] the impact of plastic pollution on the environment is a topic of ongoing scientific research. ...\n",
      "True Label: Science, Predicted Label: Entertainment\n",
      "----------------------------------------------------------------------\n",
      "Text: [CLS] the american lung association recommends avoiding exposure to outdoor air pollution. [SEP] [PA...\n",
      "True Label: Health, Predicted Label: Travel\n",
      "----------------------------------------------------------------------\n",
      "Text: [CLS] the impact of microplastics on the environment is a topic of ongoing scientific research. [SEP...\n",
      "True Label: Science, Predicted Label: Environment\n",
      "----------------------------------------------------------------------\n",
      "Text: [CLS] the importance of scientific rigor in ensuring the validity and reliability of research cannot...\n",
      "True Label: Science, Predicted Label: Environment\n",
      "----------------------------------------------------------------------\n",
      "Text: [CLS] the congress is debating a new bill to reform the social security system. [SEP] [PAD] [PAD] [P...\n",
      "True Label: Politics, Predicted Label: Technology\n",
      "----------------------------------------------------------------------\n",
      "Text: [CLS] the american diabetes association recommends regular eye exams for people with diabetes. [SEP]...\n",
      "True Label: Health, Predicted Label: Technology\n",
      "----------------------------------------------------------------------\n",
      "Text: [CLS] the congress is debating a new bill to reform the criminal justice system. [SEP] [PAD] [PAD] [...\n",
      "True Label: Politics, Predicted Label: Entertainment\n",
      "----------------------------------------------------------------------\n",
      "Text: [CLS] the impact of desertification on ecosystems is a topic of ongoing scientific research. [SEP] [...\n",
      "True Label: Science, Predicted Label: Technology\n",
      "----------------------------------------------------------------------\n",
      "Text: [CLS] the benefits of wind power are many, including reduced greenhouse gas emissions and improved e...\n",
      "True Label: Science, Predicted Label: Technology\n",
      "----------------------------------------------------------------------\n",
      "Text: [CLS] the coach implemented a new strategy that led to a series of victories. [SEP] [PAD] [PAD] [PAD...\n",
      "True Label: Sports, Predicted Label: Technology\n",
      "----------------------------------------------------------------------\n",
      "Text: [CLS] the benefits of using green infrastructure are many, including reduced urban heat island effec...\n",
      "True Label: Environment, Predicted Label: Technology\n",
      "----------------------------------------------------------------------\n",
      "Text: [CLS] the impact of food deserts on chronic disease is a topic of concern. [SEP] [PAD] [PAD] [PAD] [...\n",
      "True Label: Food, Predicted Label: Technology\n",
      "----------------------------------------------------------------------\n",
      "Text: [CLS] the benefits of eating a low - sugar diet are well established. [SEP] [PAD] [PAD] [PAD] [PAD] ...\n",
      "True Label: Food, Predicted Label: Entertainment\n",
      "----------------------------------------------------------------------\n",
      "Text: [CLS] the importance of environmental protection cannot be overstated. [SEP] [PAD] [PAD] [PAD] [PAD]...\n",
      "True Label: Environment, Predicted Label: Technology\n",
      "----------------------------------------------------------------------\n",
      "Text: [CLS] the sports equipment store offers a wide range of gear for athletes. [SEP] [PAD] [PAD] [PAD] [...\n",
      "True Label: Sports, Predicted Label: Entertainment\n",
      "----------------------------------------------------------------------\n",
      "Text: [CLS] the importance of diversity in education cannot be overstated. [SEP] [PAD] [PAD] [PAD] [PAD] [...\n",
      "True Label: Education, Predicted Label: Technology\n",
      "----------------------------------------------------------------------\n",
      "Text: [CLS] the impact of food deserts on food security is a topic of concern. [SEP] [PAD] [PAD] [PAD] [PA...\n",
      "True Label: Food, Predicted Label: Technology\n",
      "----------------------------------------------------------------------\n",
      "Text: [CLS] the impact of the sharing economy on travel is a topic of ongoing debate. [SEP] [PAD] [PAD] [P...\n",
      "True Label: Travel, Predicted Label: Technology\n",
      "----------------------------------------------------------------------\n",
      "Text: [CLS] the link between sedentary behavior and chronic diseases such as obesity and diabetes is well ...\n",
      "True Label: Health, Predicted Label: Travel\n",
      "----------------------------------------------------------------------\n",
      "Text: [CLS] the impact of the digital economy on sustainable travel is a topic of ongoing debate. [SEP] [P...\n",
      "True Label: Travel, Predicted Label: Technology\n",
      "----------------------------------------------------------------------\n",
      "Text: [CLS] the impact of food labeling on consumer behavior is a topic of ongoing debate. [SEP] [PAD] [PA...\n",
      "True Label: Food, Predicted Label: Technology\n",
      "----------------------------------------------------------------------\n",
      "Text: [CLS] the best way to find the best local architecture is to do your research ahead of time. [SEP] [...\n",
      "True Label: Travel, Predicted Label: Technology\n",
      "----------------------------------------------------------------------\n",
      "Text: [CLS] the best way to find the best local wildlife is to do your research ahead of time. [SEP] [PAD]...\n",
      "True Label: Travel, Predicted Label: Technology\n",
      "----------------------------------------------------------------------\n",
      "Text: [CLS] the impact of food additives on hormone function is a topic of ongoing debate. [SEP] [PAD] [PA...\n",
      "True Label: Food, Predicted Label: Technology\n",
      "----------------------------------------------------------------------\n",
      "Text: [CLS] the impact of deforestation on the environment is a topic of ongoing scientific research. [SEP...\n",
      "True Label: Science, Predicted Label: Technology\n",
      "----------------------------------------------------------------------\n",
      "Text: [CLS] the prime minister has announced a new economic stimulus package. [SEP] [PAD] [PAD] [PAD] [PAD...\n",
      "True Label: Politics, Predicted Label: Technology\n",
      "----------------------------------------------------------------------\n",
      "Text: [CLS] the two parties are at odds over the proposed tax plan. [SEP] [PAD] [PAD] [PAD] [PAD] [PAD] [P...\n",
      "True Label: Politics, Predicted Label: Entertainment\n",
      "----------------------------------------------------------------------\n",
      "Text: [CLS] a new study reveals the benefits of meditation for mental health. [SEP] [PAD] [PAD] [PAD] [PAD...\n",
      "True Label: Health, Predicted Label: Technology\n",
      "----------------------------------------------------------------------\n",
      "Text: [CLS] the best way to find the best local restaurants is to ask the locals. [SEP] [PAD] [PAD] [PAD] ...\n",
      "True Label: Travel, Predicted Label: Entertainment\n",
      "----------------------------------------------------------------------\n",
      "Text: [CLS] the importance of citizen science in promoting public engagement and data collection cannot be...\n",
      "True Label: Science, Predicted Label: Entertainment\n",
      "----------------------------------------------------------------------\n",
      "Text: [CLS] the benefits of eating nuts and seeds are many, including heart health and weight management. ...\n",
      "True Label: Food, Predicted Label: Entertainment\n",
      "----------------------------------------------------------------------\n",
      "Text: [CLS] the impact of the aging population on accessible travel is a topic of concern. [SEP] [PAD] [PA...\n",
      "True Label: Travel, Predicted Label: Technology\n",
      "----------------------------------------------------------------------\n",
      "Text: [CLS] the sports league introduced new rules to ensure fair competition. [SEP] [PAD] [PAD] [PAD] [PA...\n",
      "True Label: Sports, Predicted Label: Technology\n",
      "----------------------------------------------------------------------\n",
      "Text: [CLS] the importance of renewable energy in reducing greenhouse gas emissions cannot be overemphasiz...\n",
      "True Label: Environment, Predicted Label: Entertainment\n",
      "----------------------------------------------------------------------\n",
      "Text: [CLS] the impact of educational attainment on social cohesion is a topic of concern. [SEP] [PAD] [PA...\n",
      "True Label: Education, Predicted Label: Technology\n",
      "----------------------------------------------------------------------\n",
      "Text: [CLS] artificial intelligence is revolutionizing various industries. [SEP] [PAD] [PAD] [PAD] [PAD] [...\n",
      "True Label: Technology, Predicted Label: Entertainment\n",
      "----------------------------------------------------------------------\n",
      "Text: [CLS] the american lung association recommends avoiding exposure to indoor air pollution. [SEP] [PAD...\n",
      "True Label: Health, Predicted Label: Entertainment\n",
      "----------------------------------------------------------------------\n",
      "Text: [CLS] the link between physical inactivity and chronic diseases such as obesity and diabetes is well...\n",
      "True Label: Health, Predicted Label: Travel\n",
      "----------------------------------------------------------------------\n",
      "Text: [CLS] the art gallery features contemporary artwork by local and international artists. [SEP] [PAD] ...\n",
      "True Label: Entertainment, Predicted Label: Technology\n",
      "----------------------------------------------------------------------\n",
      "Text: [CLS] the impact of fashion on gender norms is a topic of ongoing research. [SEP] [PAD] [PAD] [PAD] ...\n",
      "True Label: Fashion, Predicted Label: Technology\n",
      "----------------------------------------------------------------------\n",
      "Text: [CLS] the benefits of organic farming are many, including reduced pesticide use and improved soil he...\n",
      "True Label: Science, Predicted Label: Travel\n",
      "----------------------------------------------------------------------\n",
      "Text: [CLS] the importance of reducing e - waste in promoting sustainability cannot be overstated. [SEP] [...\n",
      "True Label: Environment, Predicted Label: Technology\n",
      "----------------------------------------------------------------------\n",
      "Text: [CLS] the american cancer society recommends avoiding exposure to uv radiation. [SEP] [PAD] [PAD] [P...\n",
      "True Label: Health, Predicted Label: Technology\n",
      "----------------------------------------------------------------------\n",
      "Text: [CLS] the benefits of investing in commodities for diversification are well established. [SEP] [PAD]...\n",
      "True Label: Finance, Predicted Label: Entertainment\n",
      "----------------------------------------------------------------------\n",
      "Text: [CLS] the benefits of investing in value stocks for long - term returns are well documented. [SEP] [...\n",
      "True Label: Finance, Predicted Label: Environment\n",
      "----------------------------------------------------------------------\n",
      "Text: [CLS] the impact of nanotechnology on the environment is a topic of ongoing scientific research. [SE...\n",
      "True Label: Science, Predicted Label: Environment\n",
      "----------------------------------------------------------------------\n",
      "Text: [CLS] the best way to find the best local beaches is to do your research ahead of time. [SEP] [PAD]...\n",
      "True Label: Travel, Predicted Label: Technology\n",
      "----------------------------------------------------------------------\n",
      "Text: [CLS] the importance of cultural competence education in education cannot be overemphasized. [SEP] [...\n",
      "True Label: Education, Predicted Label: Technology\n",
      "----------------------------------------------------------------------\n",
      "Text: [CLS] the supreme court has struck down the controversial law. [SEP] [PAD] [PAD] [PAD] [PAD] [PAD] [...\n",
      "True Label: Politics, Predicted Label: Technology\n",
      "----------------------------------------------------------------------\n",
      "Text: [CLS] the impact of educational attainment on mental health is a topic of concern. [SEP] [PAD] [PAD]...\n",
      "True Label: Education, Predicted Label: Technology\n",
      "----------------------------------------------------------------------\n",
      "Text: [CLS] the government has announced a new program to help small businesses. [SEP] [PAD] [PAD] [PAD] [...\n",
      "True Label: Politics, Predicted Label: Technology\n",
      "----------------------------------------------------------------------\n",
      "Text: [CLS] the impact of inflation on the economy is a topic of ongoing debate. [SEP] [PAD] [PAD] [PAD] [...\n",
      "True Label: Finance, Predicted Label: Technology\n",
      "----------------------------------------------------------------------\n",
      "Text: [CLS] the benefits of investing in gold for diversification are well established. [SEP] [PAD] [PAD] ...\n",
      "True Label: Finance, Predicted Label: Entertainment\n",
      "----------------------------------------------------------------------\n",
      "Text: [CLS] the benefits of eating a low - oxalate diet are many, including reduced risk of kidney stones ...\n",
      "True Label: Food, Predicted Label: Entertainment\n",
      "----------------------------------------------------------------------\n",
      "Text: [CLS] the tech accelerator program provides resources and support to help startups succeed. [SEP] [P...\n",
      "True Label: Technology, Predicted Label: Sports\n",
      "----------------------------------------------------------------------\n",
      "Text: [CLS] the link between stress and chronic diseases such as heart disease and depression is well esta...\n",
      "True Label: Health, Predicted Label: Technology\n",
      "----------------------------------------------------------------------\n",
      "Text: [CLS] the governor has announced a plan to address the healthcare crisis. [SEP] [PAD] [PAD] [PAD] [P...\n",
      "True Label: Politics, Predicted Label: Technology\n",
      "----------------------------------------------------------------------\n",
      "Text: [CLS] the benefits of using permeable pavement are many, including reduced stormwater runoff and imp...\n",
      "True Label: Environment, Predicted Label: Travel\n",
      "----------------------------------------------------------------------\n",
      "Text: [CLS] the world health organization is urging countries to invest in universal health coverage. [SEP...\n",
      "True Label: Health, Predicted Label: Sports\n",
      "----------------------------------------------------------------------\n",
      "Text: [CLS] the president has announced a new plan to address the unemployment crisis. [SEP] [PAD] [PAD] [...\n",
      "True Label: Politics, Predicted Label: Entertainment\n",
      "----------------------------------------------------------------------\n",
      "Text: [CLS] the tech conference attracts industry leaders and innovators from around the world. [SEP] [PAD...\n",
      "True Label: Technology, Predicted Label: Travel\n",
      "----------------------------------------------------------------------\n",
      "Text: [CLS] the supreme court has issued a ruling on the controversial issue. [SEP] [PAD] [PAD] [PAD] [PAD...\n",
      "True Label: Politics, Predicted Label: Technology\n",
      "----------------------------------------------------------------------\n",
      "Text: [CLS] the benefits of eating a mediterranean diet are well established. [SEP] [PAD] [PAD] [PAD] [PAD...\n",
      "True Label: Food, Predicted Label: Technology\n",
      "----------------------------------------------------------------------\n",
      "Text: [CLS] the government has been accused of corruption and cronyism. [SEP] [PAD] [PAD] [PAD] [PAD] [PAD...\n",
      "True Label: Politics, Predicted Label: Technology\n",
      "----------------------------------------------------------------------\n",
      "Text: [CLS] the soccer referee enforced the rules with fairness and impartiality. [SEP] [PAD] [PAD] [PAD] ...\n",
      "True Label: Sports, Predicted Label: Travel\n",
      "----------------------------------------------------------------------\n",
      "Text: [CLS] the importance of science education in promoting critical thinking and problem - solving skill...\n",
      "True Label: Science, Predicted Label: Technology\n",
      "----------------------------------------------------------------------\n",
      "Text: [CLS] the snowboarder executed a daring trick in the halfpipe. [SEP] [PAD] [PAD] [PAD] [PAD] [PAD] [...\n",
      "True Label: Sports, Predicted Label: Technology\n",
      "----------------------------------------------------------------------\n",
      "Text: [CLS] the importance of protecting pollinators in maintaining ecosystem health cannot be overemphasi...\n",
      "True Label: Environment, Predicted Label: Technology\n",
      "----------------------------------------------------------------------\n",
      "Text: [CLS] the benefits of renewable energy are many, including reduced greenhouse gas emissions and impr...\n",
      "True Label: Science, Predicted Label: Travel\n",
      "----------------------------------------------------------------------\n",
      "Text: [CLS] the risks of investing in cryptocurrencies are well documented. [SEP] [PAD] [PAD] [PAD] [PAD] ...\n",
      "True Label: Finance, Predicted Label: Entertainment\n",
      "----------------------------------------------------------------------\n",
      "Text: [CLS] the impact of the aging population on travel is a topic of concern. [SEP] [PAD] [PAD] [PAD] [P...\n",
      "True Label: Travel, Predicted Label: Entertainment\n",
      "----------------------------------------------------------------------\n",
      "Text: [CLS] the opposition party has put forward a new candidate for the upcoming election. [SEP] [PAD] [P...\n",
      "True Label: Politics, Predicted Label: Technology\n",
      "----------------------------------------------------------------------\n",
      "Text: [CLS] the racial wealth gap is a major issue in the united states. [SEP] [PAD] [PAD] [PAD] [PAD] [PA...\n",
      "True Label: Finance, Predicted Label: Entertainment\n",
      "----------------------------------------------------------------------\n",
      "Text: [CLS] the impact of food deserts on obesity is a topic of concern. [SEP] [PAD] [PAD] [PAD] [PAD] [PA...\n",
      "True Label: Food, Predicted Label: Technology\n",
      "----------------------------------------------------------------------\n",
      "Text: [CLS] the impact of school funding on educational outcomes is a topic of concern. [SEP] [PAD] [PAD] ...\n",
      "True Label: Education, Predicted Label: Entertainment\n",
      "----------------------------------------------------------------------\n",
      "Text: [CLS] the american cancer society recommends regular cancer screenings to detect cancer early. [SEP]...\n",
      "True Label: Health, Predicted Label: Technology\n",
      "----------------------------------------------------------------------\n",
      "Text: [CLS] the impact of fashion on cultural identity is a topic of ongoing research. [SEP] [PAD] [PAD] [...\n",
      "True Label: Fashion, Predicted Label: Technology\n",
      "----------------------------------------------------------------------\n",
      "Text: [CLS] the benefits of a healthy diet for skin health are becoming increasingly clear. [SEP] [PAD] [P...\n",
      "True Label: Health, Predicted Label: Technology\n",
      "----------------------------------------------------------------------\n",
      "Text: [CLS] the tsa has announced new security measures for air travel. [SEP] [PAD] [PAD] [PAD] [PAD] [PAD...\n",
      "True Label: Travel, Predicted Label: Technology\n",
      "----------------------------------------------------------------------\n",
      "Text: [CLS] the impact of the student loan debt crisis on volunteer travel is a topic of concern. [SEP]...\n",
      "True Label: Travel, Predicted Label: Technology\n",
      "----------------------------------------------------------------------\n",
      "Text: [CLS] the congress is debating a new bill to reform the tax code. [SEP] [PAD] [PAD] [PAD] [PAD]...\n",
      "True Label: Politics, Predicted Label: Technology\n",
      "----------------------------------------------------------------------\n",
      "Text: [CLS] the importance of science communication in promoting public engagement and understanding canno...\n",
      "True Label: Science, Predicted Label: Entertainment\n",
      "----------------------------------------------------------------------\n",
      "Text: [CLS] the augmented reality glasses overlay information onto the wearer's field of vision. [SEP]...\n",
      "True Label: Technology, Predicted Label: Entertainment\n",
      "----------------------------------------------------------------------\n",
      "Text: [CLS] the impact of fashion on animal welfare is a topic of ongoing concern. [SEP] [PAD] [PAD] [PAD]...\n",
      "True Label: Fashion, Predicted Label: Technology\n",
      "----------------------------------------------------------------------\n",
      "Text: [CLS] the impact of noise pollution on the environment is a topic of ongoing scientific research. [S...\n",
      "True Label: Science, Predicted Label: Environment\n",
      "----------------------------------------------------------------------\n",
      "Text: [CLS] the art auction attracted collectors bidding on rare and valuable pieces. [SEP] [PAD] [PAD] [P...\n",
      "True Label: Entertainment, Predicted Label: Technology\n",
      "----------------------------------------------------------------------\n",
      "Text: [CLS] the impact of soil degradation on agricultural productivity is a topic of ongoing scientific r...\n",
      "True Label: Science, Predicted Label: Technology\n",
      "----------------------------------------------------------------------\n",
      "Text: [CLS] the impact of deforestation on climate change is a topic of ongoing scientific research. [SEP]...\n",
      "True Label: Science, Predicted Label: Technology\n",
      "----------------------------------------------------------------------\n",
      "Text: [CLS] the impact of fashion on cultural appropriation is a topic of ongoing research. [SEP] [PAD] [P...\n",
      "True Label: Fashion, Predicted Label: Entertainment\n",
      "----------------------------------------------------------------------\n",
      "Text: [CLS] the benefits of reducing plastic use are many, including reduced waste and improved health. [S...\n",
      "True Label: Environment, Predicted Label: Travel\n",
      "----------------------------------------------------------------------\n",
      "Text: [CLS] the importance of health education in education cannot be overemphasized. [SEP] [PAD] [PAD] [P...\n",
      "True Label: Education, Predicted Label: Technology\n",
      "----------------------------------------------------------------------\n",
      "Text: [CLS] the benefits of investing in master limited partnerships ( mlps ) for income are well establis...\n",
      "True Label: Finance, Predicted Label: Science\n",
      "----------------------------------------------------------------------\n",
      "Text: [CLS] the impact of the student loan debt crisis on the housing market is a topic of concern. [SEP] ...\n",
      "True Label: Finance, Predicted Label: Technology\n",
      "----------------------------------------------------------------------\n",
      "Text: [CLS] the benefits of eating fermented foods are many, including gut health and immunity. [SEP] [PAD...\n",
      "True Label: Food, Predicted Label: Entertainment\n",
      "----------------------------------------------------------------------\n",
      "Text: [CLS] the tech company unveiled a prototype for a flying car. [SEP] [PAD] [PAD] [PAD] [PAD] [PAD] [P...\n",
      "True Label: Technology, Predicted Label: Environment\n",
      "----------------------------------------------------------------------\n",
      "Text: [CLS] the benefits of eating a paleo diet are many, including reduced inflammation and improved bloo...\n",
      "True Label: Food, Predicted Label: Technology\n",
      "----------------------------------------------------------------------\n",
      "Text: [CLS] the importance of sustainable fashion policies in promoting sustainability cannot be overstate...\n",
      "True Label: Fashion, Predicted Label: Technology\n",
      "----------------------------------------------------------------------\n",
      "Text: [CLS] the impact of educational attainment on family stability is a topic of ongoing research. [SEP]...\n",
      "True Label: Education, Predicted Label: Technology\n",
      "----------------------------------------------------------------------\n",
      "Text: [CLS] the sports fanatics painted their bodies with team colors and slogans. [SEP] [PAD] [PAD] [PAD]...\n",
      "True Label: Sports, Predicted Label: Entertainment\n",
      "----------------------------------------------------------------------\n",
      "Text: [CLS] the impact of food additives on gut health is a topic of ongoing debate. [SEP] [PAD] [PAD] [PA...\n",
      "True Label: Food, Predicted Label: Technology\n",
      "----------------------------------------------------------------------\n",
      "Text: [CLS] the american cancer society recommends avoiding exposure to carcinogens. [SEP] [PAD] [PAD] [PA...\n",
      "True Label: Health, Predicted Label: Travel\n",
      "----------------------------------------------------------------------\n",
      "Text: [CLS] the benefits of traveling with only carry - on luggage are numerous. [SEP] [PAD] [PAD] [PAD] [...\n",
      "True Label: Travel, Predicted Label: Entertainment\n",
      "----------------------------------------------------------------------\n",
      "Text: [CLS] the importance of food sustainability cannot be overstated. [SEP] [PAD] [PAD] [PAD] [PAD] [PAD...\n",
      "True Label: Food, Predicted Label: Technology\n",
      "----------------------------------------------------------------------\n",
      "Text: [CLS] the sports memorabilia shop sells autographed jerseys and collectibles. [SEP] [PAD] [PAD] [PAD...\n",
      "True Label: Sports, Predicted Label: Entertainment\n",
      "----------------------------------------------------------------------\n",
      "Text: [CLS] the prime minister has announced a new plan to improve the healthcare system. [SEP] [PAD] [PAD...\n",
      "True Label: Politics, Predicted Label: Travel\n",
      "----------------------------------------------------------------------\n",
      "Text: [CLS] the importance of evidence - based decision - making in policy and practice cannot be overstat...\n",
      "True Label: Science, Predicted Label: Entertainment\n",
      "----------------------------------------------------------------------\n",
      "Text: [CLS] the benefits of investing in cryptocurrencies for high - growth potential are becoming increas...\n",
      "True Label: Finance, Predicted Label: Sports\n",
      "----------------------------------------------------------------------\n",
      "Text: [CLS] the unemployment rate has been steadily decreasing in recent years. [SEP] [PAD] [PAD] [PAD] [P...\n",
      "True Label: Finance, Predicted Label: Entertainment\n",
      "----------------------------------------------------------------------\n",
      "Text: [CLS] the importance of sustainable fashion leadership in promoting sustainability cannot be oversta...\n",
      "True Label: Fashion, Predicted Label: Technology\n",
      "----------------------------------------------------------------------\n",
      "Text: [CLS] the indie band released a critically acclaimed album to widespread acclaim. [SEP] [PAD] [PAD] ...\n",
      "True Label: Entertainment, Predicted Label: Technology\n",
      "----------------------------------------------------------------------\n",
      "Text: [CLS] the importance of scientific skepticism in promoting critical thinking and avoiding misinforma...\n",
      "True Label: Science, Predicted Label: Entertainment\n",
      "----------------------------------------------------------------------\n",
      "Text: [CLS] the importance of reducing chemical pollution in promoting sustainability cannot be overstated...\n",
      "True Label: Environment, Predicted Label: Science\n",
      "----------------------------------------------------------------------\n",
      "Text: [CLS] the motorsports enthusiast restored a classic car to its former glory. [SEP] [PAD] [PAD] [PAD]...\n",
      "True Label: Sports, Predicted Label: Technology\n",
      "----------------------------------------------------------------------\n",
      "Text: [CLS] the drone pilot navigates the aircraft through challenging terrain to capture aerial footage. ...\n",
      "True Label: Technology, Predicted Label: Entertainment\n",
      "----------------------------------------------------------------------\n",
      "Text: [CLS] the sports car accelerated from 0 to 60 mph in just a few seconds. [SEP] [PAD] [PAD] [PAD] [PA...\n",
      "True Label: Sports, Predicted Label: Technology\n",
      "----------------------------------------------------------------------\n",
      "Text: [CLS] the importance of food security cannot be overemphasized. [SEP] [PAD] [PAD] [PAD] [PAD] [PAD] ...\n",
      "True Label: Food, Predicted Label: Entertainment\n",
      "----------------------------------------------------------------------\n",
      "Text: [CLS] the impact of the student loan debt crisis on travel is a topic of concern. [SEP] [PAD] [PAD] ...\n",
      "True Label: Travel, Predicted Label: Technology\n",
      "----------------------------------------------------------------------\n",
      "Text: [CLS] the benefits of using sustainable packaging in fashion are many, including reduced waste and i...\n",
      "True Label: Fashion, Predicted Label: Environment\n",
      "----------------------------------------------------------------------\n",
      "Text: [CLS] the prime minister has announced a new plan to improve public safety. [SEP] [PAD] [PAD] [PAD] ...\n",
      "True Label: Politics, Predicted Label: Travel\n",
      "----------------------------------------------------------------------\n",
      "Text: [CLS] the synchronized swimmers performed a breathtaking routine in perfect unison. [SEP] [PAD] [PAD...\n",
      "True Label: Sports, Predicted Label: Technology\n",
      "----------------------------------------------------------------------\n",
      "Text: [CLS] the impact of fashion on biodiversity is a topic of ongoing concern. [SEP] [PAD] [PAD] [PAD] [...\n",
      "True Label: Fashion, Predicted Label: Technology\n",
      "----------------------------------------------------------------------\n",
      "Text: [CLS] the impact of overpopulation on the environment is a topic of ongoing scientific research. [SE...\n",
      "True Label: Science, Predicted Label: Technology\n",
      "----------------------------------------------------------------------\n",
      "Text: [CLS] the benefits of using greywater systems are many, including reduced water consumption and impr...\n",
      "True Label: Environment, Predicted Label: Travel\n",
      "----------------------------------------------------------------------\n",
      "Text: [CLS] the importance of media literacy in education cannot be overemphasized. [SEP] [PAD] [PAD] [PAD...\n",
      "True Label: Education, Predicted Label: Entertainment\n",
      "----------------------------------------------------------------------\n",
      "Text: [CLS] the benefits of personalized medicine are many, including improved treatment outcomes and redu...\n",
      "True Label: Science, Predicted Label: Technology\n",
      "----------------------------------------------------------------------\n",
      "Text: [CLS] the stock market saw a significant drop following the announcement of the new tariffs. [SEP] [...\n",
      "True Label: Finance, Predicted Label: Entertainment\n",
      "----------------------------------------------------------------------\n",
      "Text: [CLS] the benefits of investing in alternative assets such as art and collectibles are becoming incr...\n",
      "True Label: Finance, Predicted Label: Technology\n",
      "----------------------------------------------------------------------\n",
      "Text: [CLS] the fda has approved a new drug for the treatment of depression. [SEP] [PAD] [PAD] [PAD] [PAD]...\n",
      "True Label: Health, Predicted Label: Technology\n",
      "----------------------------------------------------------------------\n",
      "Text: [CLS] the snowboarder performed a gravity - defying jump off the halfpipe. [SEP] [PAD] [PAD] [PAD]...\n",
      "True Label: Sports, Predicted Label: Technology\n",
      "----------------------------------------------------------------------\n",
      "Text: [CLS] the benefits of traveling by rv are many, including flexibility and cost savings. [SEP] [PAD] ...\n",
      "True Label: Travel, Predicted Label: Entertainment\n",
      "----------------------------------------------------------------------\n",
      "Text: [CLS] the golf tournament was won by a rookie player in a stunning upset. [SEP] [PAD] [PAD] [PAD] [P...\n",
      "True Label: Sports, Predicted Label: Travel\n",
      "----------------------------------------------------------------------\n",
      "Text: [CLS] traveling can be a great way to experience new cultures and broaden your horizons. [SEP] [PAD]...\n",
      "True Label: Travel, Predicted Label: Entertainment\n",
      "----------------------------------------------------------------------\n",
      "Text: [CLS] the importance of education cannot be overstated. [SEP] [PAD] [PAD] [PAD] [PAD] [PAD] [PAD] [P...\n",
      "True Label: Education, Predicted Label: Technology\n",
      "----------------------------------------------------------------------\n",
      "Text: [CLS] the blockchain technology ensures the security and transparency of digital transactions. [SEP]...\n",
      "True Label: Technology, Predicted Label: Travel\n",
      "----------------------------------------------------------------------\n",
      "Text: [CLS] the president has issued an executive order to address the crisis. [SEP] [PAD] [PAD] [PAD] [PA...\n",
      "True Label: Politics, Predicted Label: Travel\n",
      "----------------------------------------------------------------------\n",
      "Text: [CLS] the impact of food deserts on social justice is a topic of concern. [SEP] [PAD] [PAD] [PAD] [P...\n",
      "True Label: Food, Predicted Label: Technology\n",
      "----------------------------------------------------------------------\n",
      "Text: [CLS] the actor's nuanced performance earned them critical acclaim and awards recognition. [SEP] [PA...\n",
      "True Label: Entertainment, Predicted Label: Technology\n",
      "----------------------------------------------------------------------\n",
      "Text: [CLS] the american cancer society recommends regular physical activity to reduce the risk of cancer....\n",
      "True Label: Health, Predicted Label: Technology\n",
      "----------------------------------------------------------------------\n",
      "Text: [CLS] the sharing economy is disrupting traditional industries such as hospitality and transportatio...\n",
      "True Label: Finance, Predicted Label: Technology\n",
      "----------------------------------------------------------------------\n",
      "Text: [CLS] the space telescope captured images of distant galaxies billions of light - years away. [SEP] ...\n",
      "True Label: Technology, Predicted Label: Entertainment\n",
      "----------------------------------------------------------------------\n",
      "Text: [CLS] the impact of the aging population on the labor market is a topic of concern. [SEP] [PAD] [PAD...\n",
      "True Label: Finance, Predicted Label: Entertainment\n",
      "----------------------------------------------------------------------\n",
      "Text: [CLS] the track athlete trained diligently to improve speed and endurance. [SEP] [PAD] [PAD] [PAD] [...\n",
      "True Label: Sports, Predicted Label: Technology\n",
      "----------------------------------------------------------------------\n",
      "Text: [CLS] the impact of fashion on cultural exchange is a topic of ongoing concern. [SEP] [PAD] [PAD] [P...\n",
      "True Label: Fashion, Predicted Label: Entertainment\n",
      "----------------------------------------------------------------------\n",
      "Text: [CLS] the benefits of using rental and resale platforms in fashion are many, including reduced waste...\n",
      "True Label: Fashion, Predicted Label: Environment\n",
      "----------------------------------------------------------------------\n",
      "Text: [CLS] the gymnast executed a flawless routine to clinch the gold medal. [SEP] [PAD] [PAD] [PAD] [PAD...\n",
      "True Label: Sports, Predicted Label: Technology\n",
      "----------------------------------------------------------------------\n",
      "Text: [CLS] the benefits of precision agriculture are many, including improved crop yields and reduced env...\n",
      "True Label: Science, Predicted Label: Travel\n",
      "----------------------------------------------------------------------\n",
      "Text: [CLS] the impact of fracking on the environment is a topic of ongoing concern. [SEP] [PAD] [PAD] [PA...\n",
      "True Label: Environment, Predicted Label: Technology\n",
      "----------------------------------------------------------------------\n",
      "Text: [CLS] the impact of educational attainment on quality of life is a topic of ongoing research. [SEP] ...\n",
      "True Label: Education, Predicted Label: Environment\n",
      "----------------------------------------------------------------------\n",
      "Text: [CLS] the internet of things connects everyday objects to the internet for increased functionality. ...\n",
      "True Label: Technology, Predicted Label: Entertainment\n",
      "----------------------------------------------------------------------\n",
      "Text: [CLS] the benefits of a liberal arts education are many, including improved communication and creati...\n",
      "True Label: Education, Predicted Label: Travel\n",
      "----------------------------------------------------------------------\n",
      "Text: [CLS] the benefits of eating a high - fat diet are many, including improved satiety and reduced infl...\n",
      "True Label: Food, Predicted Label: Entertainment\n",
      "----------------------------------------------------------------------\n",
      "Text: [CLS] the benefits of using sustainable transportation in fashion are many, including reduced carbon...\n",
      "True Label: Fashion, Predicted Label: Travel\n",
      "----------------------------------------------------------------------\n",
      "Text: [CLS] the cost of airfare can vary greatly depending on the time of year and destination. [SEP] [PAD...\n",
      "True Label: Travel, Predicted Label: Technology\n",
      "----------------------------------------------------------------------\n",
      "Text: [CLS] the benefits of eating a high - fiber diet are many, including digestive health and weight man...\n",
      "True Label: Food, Predicted Label: Entertainment\n",
      "----------------------------------------------------------------------\n",
      "Text: [CLS] the importance of financial education in education cannot be overstated. [SEP] [PAD] [PAD] [PA...\n",
      "True Label: Education, Predicted Label: Technology\n",
      "----------------------------------------------------------------------\n",
      "Text: [CLS] the benefits of investing in real estate are well established. [SEP] [PAD] [PAD] [PAD] [PAD] [...\n",
      "True Label: Finance, Predicted Label: Technology\n",
      "----------------------------------------------------------------------\n",
      "Text: [CLS] the benefits of eating lean protein are many, including muscle building and weight management....\n",
      "True Label: Food, Predicted Label: Travel\n",
      "----------------------------------------------------------------------\n",
      "Text: [CLS] the benefits of regular exercise for mental health are well established. [SEP] [PAD] [PAD] [PA...\n",
      "True Label: Health, Predicted Label: Entertainment\n",
      "----------------------------------------------------------------------\n",
      "Text: [CLS] the benefits of using sustainable materials in fashion are many, including reduced resource de...\n",
      "True Label: Fashion, Predicted Label: Technology\n",
      "----------------------------------------------------------------------\n",
      "Text: [CLS] the importance of scientific ethics in ensuring the responsible conduct of research cannot be ...\n",
      "True Label: Science, Predicted Label: Entertainment\n",
      "----------------------------------------------------------------------\n",
      "Text: [CLS] the benefits of a healthy diet for brain health are becoming increasingly clear. [SEP] [PAD] [...\n",
      "True Label: Health, Predicted Label: Environment\n",
      "----------------------------------------------------------------------\n",
      "Text: [CLS] the importance of protecting coastal ecosystems in maintaining biodiversity cannot be overemph...\n",
      "True Label: Environment, Predicted Label: Entertainment\n",
      "----------------------------------------------------------------------\n",
      "Text: [CLS] the importance of reducing food miles in promoting sustainability cannot be overstated. [SEP] ...\n",
      "True Label: Environment, Predicted Label: Entertainment\n",
      "----------------------------------------------------------------------\n",
      "Text: [CLS] the golf course is known for its challenging layout and scenic views. [SEP] [PAD] [PAD] [PAD] ...\n",
      "True Label: Sports, Predicted Label: Entertainment\n",
      "----------------------------------------------------------------------\n",
      "Text: [CLS] the impact of the aging population on the economy is a topic of concern. [SEP] [PAD] [PAD] [PA...\n",
      "True Label: Finance, Predicted Label: Entertainment\n",
      "----------------------------------------------------------------------\n",
      "Text: [CLS] the hockey player scored a hat trick in the first period. [SEP] [PAD] [PAD] [PAD] [PAD] [PAD] ...\n",
      "True Label: Sports, Predicted Label: Technology\n",
      "----------------------------------------------------------------------\n",
      "Text: [CLS] the president has announced a new plan to address climate change. [SEP] [PAD] [PAD] [PAD] [PAD...\n",
      "True Label: Politics, Predicted Label: Technology\n",
      "----------------------------------------------------------------------\n",
      "Text: [CLS] the two parties are at odds over the proposed budget cuts. [SEP] [PAD] [PAD] [PAD] [PAD] [PAD]...\n",
      "True Label: Politics, Predicted Label: Entertainment\n",
      "----------------------------------------------------------------------\n",
      "Text: [CLS] the federal reserve has announced a new interest rate policy. [SEP] [PAD] [PAD] [PAD] [PAD] [P...\n",
      "True Label: Finance, Predicted Label: Technology\n",
      "----------------------------------------------------------------------\n",
      "Text: [CLS] the world health organization is urging countries to invest in primary healthcare services. [S...\n",
      "True Label: Health, Predicted Label: Technology\n",
      "----------------------------------------------------------------------\n",
      "Text: [CLS] the impact of light pollution on the environment is a topic of ongoing research. [SEP] [PAD] [...\n",
      "True Label: Environment, Predicted Label: Technology\n",
      "----------------------------------------------------------------------\n",
      "Text: [CLS] the american heart association recommends a diet rich in whole grains to reduce the risk of he...\n",
      "True Label: Health, Predicted Label: Entertainment\n",
      "----------------------------------------------------------------------\n",
      "Text: [CLS] the cycling race traversed challenging terrain through picturesque landscapes. [SEP] [PAD] [PA...\n",
      "True Label: Sports, Predicted Label: Entertainment\n",
      "----------------------------------------------------------------------\n",
      "Text: [CLS] the nanotechnology research has potential applications in electronics and materials science. [...\n",
      "True Label: Technology, Predicted Label: Travel\n",
      "----------------------------------------------------------------------\n",
      "Text: [CLS] the best way to find the best local museums is to do your research ahead of time. [SEP] [PAD]...\n",
      "True Label: Travel, Predicted Label: Technology\n",
      "----------------------------------------------------------------------\n",
      "Text: [CLS] the importance of artisanal craftsmanship in fashion cannot be overemphasized. [SEP] [PAD]...\n",
      "True Label: Fashion, Predicted Label: Entertainment\n",
      "----------------------------------------------------------------------\n",
      "Text: [CLS] virtual reality technology is becoming increasingly popular for gaming and education. [SEP] [P...\n",
      "True Label: Technology, Predicted Label: Environment\n",
      "----------------------------------------------------------------------\n",
      "Text: [CLS] the benefits of using biodegradable materials in fashion are many, including reduced waste and...\n",
      "True Label: Fashion, Predicted Label: Travel\n",
      "----------------------------------------------------------------------\n",
      "Text: [CLS] the importance of scientific literacy in promoting informed decision - making and civic engage...\n",
      "True Label: Science, Predicted Label: Technology\n",
      "----------------------------------------------------------------------\n",
      "Text: [CLS] the film director's bold vision sets them apart as a visionary filmmaker. [SEP] [PAD] [PAD] [P...\n",
      "True Label: Entertainment, Predicted Label: Technology\n",
      "----------------------------------------------------------------------\n",
      "Text: [CLS] the importance of scientific research in informing policy and practice cannot be overstated. [...\n",
      "True Label: Science, Predicted Label: Entertainment\n",
      "----------------------------------------------------------------------\n",
      "Text: [CLS] the governor has announced a plan to address the environmental crisis. [SEP] [PAD] [PAD] [PAD]...\n",
      "True Label: Politics, Predicted Label: Travel\n",
      "----------------------------------------------------------------------\n",
      "Text: [CLS] the benefits of budgeting for personal finance are well established. [SEP] [PAD] [PAD] [PAD] [...\n",
      "True Label: Finance, Predicted Label: Environment\n",
      "----------------------------------------------------------------------\n",
      "Text: [CLS] the bioinformatics research uses computational methods to analyze biological data. [SEP] [PAD]...\n",
      "True Label: Technology, Predicted Label: Entertainment\n",
      "----------------------------------------------------------------------\n",
      "Text: [CLS] the drone captured stunning aerial footage of the landscape. [SEP] [PAD] [PAD] [PAD] [PAD] [PA...\n",
      "True Label: Technology, Predicted Label: Travel\n",
      "----------------------------------------------------------------------\n",
      "Text: [CLS] the artificial intelligence algorithm analyzes data to identify patterns and trends. [SEP] [PA...\n",
      "True Label: Technology, Predicted Label: Entertainment\n",
      "----------------------------------------------------------------------\n",
      "Text: [CLS] the importance of reducing light pollution in promoting sustainability cannot be overstated. [...\n",
      "True Label: Environment, Predicted Label: Technology\n",
      "----------------------------------------------------------------------\n",
      "Text: [CLS] the benefits of a project - based education are many, including improved creativity and collab...\n",
      "True Label: Education, Predicted Label: Technology\n",
      "----------------------------------------------------------------------\n",
      "Text: [CLS] the benefits of using biofuels are many, including reduced greenhouse gas emissions and improv...\n",
      "True Label: Environment, Predicted Label: Technology\n",
      "----------------------------------------------------------------------\n",
      "Text: [CLS] the celebrity chef hosted a cooking show showcasing their signature dishes. [SEP] [PAD] [PAD] ...\n",
      "True Label: Entertainment, Predicted Label: Technology\n",
      "----------------------------------------------------------------------\n",
      "Text: [CLS] the benefits of supporting local fashion designers are many, including improved local economie...\n",
      "True Label: Fashion, Predicted Label: Travel\n",
      "----------------------------------------------------------------------\n",
      "Text: [CLS] the impact of ocean currents on the environment is a topic of ongoing concern. [SEP] [PAD] [PA...\n",
      "True Label: Environment, Predicted Label: Technology\n",
      "----------------------------------------------------------------------\n",
      "Text: [CLS] the benefits of eating a pescatarian diet are many, including improved heart health and reduce...\n",
      "True Label: Food, Predicted Label: Technology\n",
      "----------------------------------------------------------------------\n",
      "Text: [CLS] the benefits of a positive attitude for mental health are well documented. [SEP] [PAD] [PAD] [...\n",
      "True Label: Health, Predicted Label: Entertainment\n",
      "----------------------------------------------------------------------\n",
      "Text: [CLS] the impact of technology on education is a topic of ongoing debate. [SEP] [PAD] [PAD] [PAD] [P...\n",
      "True Label: Education, Predicted Label: Technology\n",
      "----------------------------------------------------------------------\n",
      "Text: [CLS] the impact of globalization on finance is transforming the industry. [SEP] [PAD] [PAD] [PAD] [...\n",
      "True Label: Finance, Predicted Label: Technology\n",
      "----------------------------------------------------------------------\n",
      "Text: [CLS] the celebrity couple's wedding was a lavish affair attended by hollywood's elite. [SEP] [PAD] ...\n",
      "True Label: Entertainment, Predicted Label: Travel\n",
      "----------------------------------------------------------------------\n",
      "Text: [CLS] the track and field coach trains athletes for events ranging from sprints to javelin throw. [S...\n",
      "True Label: Sports, Predicted Label: Environment\n",
      "----------------------------------------------------------------------\n",
      "Text: [CLS] the importance of food access cannot be overstated. [SEP] [PAD] [PAD] [PAD] [PAD] [PAD] [PAD] ...\n",
      "True Label: Food, Predicted Label: Technology\n",
      "----------------------------------------------------------------------\n",
      "Text: [CLS] the mayor has been accused of failing to address the needs of the community. [SEP] [PAD] [PAD]...\n",
      "True Label: Politics, Predicted Label: Travel\n",
      "----------------------------------------------------------------------\n",
      "Text: [CLS] the sports blog provides in - depth coverage of the latest events. [SEP] [PAD] [PAD] [PAD] [PA...\n",
      "True Label: Sports, Predicted Label: Travel\n",
      "----------------------------------------------------------------------\n",
      "Text: [CLS] the sports marketing agency promotes brands through sponsorship deals with athletes. [SEP] [PA...\n",
      "True Label: Sports, Predicted Label: Entertainment\n",
      "----------------------------------------------------------------------\n",
      "Text: [CLS] the art installation invites viewers to interact with the artwork in a meaningful way. [SEP] [...\n",
      "True Label: Entertainment, Predicted Label: Technology\n",
      "----------------------------------------------------------------------\n",
      "Text: [CLS] the movie received rave reviews from critics and audiences alike. [SEP] [PAD] [PAD] [PAD] [PAD...\n",
      "True Label: Entertainment, Predicted Label: Technology\n",
      "----------------------------------------------------------------------\n",
      "Text: [CLS] the benefits of traveling by car are many, including convenience and flexibility. [SEP] [PAD] ...\n",
      "True Label: Travel, Predicted Label: Entertainment\n",
      "----------------------------------------------------------------------\n",
      "Text: [CLS] the impact of artificial intelligence on finance is transforming the industry. [SEP] [PAD] [PA...\n",
      "True Label: Finance, Predicted Label: Technology\n",
      "----------------------------------------------------------------------\n",
      "Text: [CLS] the benefits of a healthy diet for eye health are becoming increasingly clear. [SEP] [PAD] [PA...\n",
      "True Label: Health, Predicted Label: Technology\n",
      "----------------------------------------------------------------------\n",
      "Text: [CLS] the impact of invasive species on ecosystems is a topic of ongoing scientific research. [SEP] ...\n",
      "True Label: Science, Predicted Label: Technology\n",
      "----------------------------------------------------------------------\n",
      "Text: [CLS] the swim coach provided feedback to help improve technique. [SEP] [PAD] [PAD] [PAD] [PAD] [PAD...\n",
      "True Label: Sports, Predicted Label: Technology\n",
      "----------------------------------------------------------------------\n",
      "Text: [CLS] eating a balanced diet is essential for good health. [SEP] [PAD] [PAD] [PAD] [PAD] [PAD] [PAD]...\n",
      "True Label: Food, Predicted Label: Entertainment\n",
      "----------------------------------------------------------------------\n",
      "Text: [CLS] the impact of habitat fragmentation on the environment is a topic of ongoing concern. [SEP] [P...\n",
      "True Label: Environment, Predicted Label: Technology\n",
      "----------------------------------------------------------------------\n",
      "Text: [CLS] the impact of educational attainment on human rights is a topic of concern. [SEP] [PAD] [PAD]...\n",
      "True Label: Education, Predicted Label: Technology\n",
      "----------------------------------------------------------------------\n",
      "Text: [CLS] the two parties are at odds over the proposed infrastructure plan. [SEP] [PAD] [PAD] [PAD] [PA...\n",
      "True Label: Politics, Predicted Label: Entertainment\n",
      "----------------------------------------------------------------------\n",
      "Text: [CLS] the sports analyst predicted the outcome of the game with accuracy. [SEP] [PAD] [PAD] [PAD] [P...\n",
      "True Label: Sports, Predicted Label: Technology\n",
      "----------------------------------------------------------------------\n",
      "Text: [CLS] the archery competition required precision and focus to hit the target. [SEP] [PAD] [PAD] [PAD...\n",
      "True Label: Sports, Predicted Label: Technology\n",
      "----------------------------------------------------------------------\n",
      "Text: [CLS] the quantum physicist explores the behavior of particles at the subatomic level. [SEP] [PAD] [...\n",
      "True Label: Technology, Predicted Label: Entertainment\n",
      "----------------------------------------------------------------------\n",
      "Text: [CLS] the benefits of investing in options for hedging and speculation are well established. [SEP] [...\n",
      "True Label: Finance, Predicted Label: Environment\n",
      "----------------------------------------------------------------------\n",
      "Text: [CLS] the importance of protecting grasslands in maintaining ecosystem health cannot be overemphasiz...\n",
      "True Label: Environment, Predicted Label: Entertainment\n",
      "----------------------------------------------------------------------\n",
      "Text: [CLS] the american diabetes association recommends regular blood sugar monitoring to manage diabetes...\n",
      "True Label: Health, Predicted Label: Technology\n",
      "----------------------------------------------------------------------\n",
      "Text: [CLS] the congress is debating a new bill to reform the education system. [SEP] [PAD] [PAD] [PAD] [P...\n",
      "True Label: Politics, Predicted Label: Technology\n",
      "----------------------------------------------------------------------\n",
      "Text: [CLS] the importance of habitat conservation in protecting endangered species cannot be overemphasiz...\n",
      "True Label: Environment, Predicted Label: Entertainment\n",
      "----------------------------------------------------------------------\n",
      "Text: [CLS] the impact of food additives on health is a topic of ongoing debate. [SEP] [PAD] [PAD] [PAD] [...\n",
      "True Label: Food, Predicted Label: Technology\n",
      "----------------------------------------------------------------------\n",
      "Text: [CLS] the impact of climate change on the environment is a topic of ongoing concern. [SEP] [PAD] [PA...\n",
      "True Label: Environment, Predicted Label: Technology\n",
      "----------------------------------------------------------------------\n",
      "Text: [CLS] the benefits of a plant - based diet for heart health are well documented. [SEP] [PAD] [PAD] [...\n",
      "True Label: Health, Predicted Label: Entertainment\n",
      "----------------------------------------------------------------------\n",
      "Text: [CLS] the importance of learning a few key phrases in the local language cannot be overemphasized. [...\n",
      "True Label: Travel, Predicted Label: Entertainment\n",
      "----------------------------------------------------------------------\n",
      "Text: [CLS] the benefits of a student - centered education are many, including improved engagement and mot...\n",
      "True Label: Education, Predicted Label: Technology\n",
      "----------------------------------------------------------------------\n",
      "Text: [CLS] the impact of deforestation on the environment is a topic of ongoing research. [SEP] [PAD] [PA...\n",
      "True Label: Environment, Predicted Label: Technology\n",
      "----------------------------------------------------------------------\n",
      "Text: [CLS] the actor's versatility allows them to portray a wide range of characters convincingly. [SEP] ...\n",
      "True Label: Entertainment, Predicted Label: Technology\n",
      "----------------------------------------------------------------------\n",
      "Text: [CLS] the impact of the gig economy on the social safety net is a topic of concern. [SEP] [PAD] [PAD...\n",
      "True Label: Finance, Predicted Label: Technology\n",
      "----------------------------------------------------------------------\n",
      "Text: [CLS] the american heart association recommends a diet low in trans fats to reduce the risk of heart...\n",
      "True Label: Health, Predicted Label: Entertainment\n",
      "----------------------------------------------------------------------\n",
      "Text: [CLS] the impact of food deserts on economic development is a topic of concern. [SEP] [PAD] [PAD] [P...\n",
      "True Label: Food, Predicted Label: Technology\n",
      "----------------------------------------------------------------------\n",
      "Text: [CLS] the importance of protecting seagrasses in maintaining marine ecosystems cannot be overemphasi...\n",
      "True Label: Environment, Predicted Label: Entertainment\n",
      "----------------------------------------------------------------------\n",
      "Text: [CLS] the president is expected to sign the new legislation into law. [SEP] [PAD] [PAD] [PAD] [PAD] ...\n",
      "True Label: Politics, Predicted Label: Technology\n",
      "----------------------------------------------------------------------\n",
      "Text: [CLS] the sports festival featured a variety of competitions for all ages. [SEP] [PAD] [PAD] [PAD] [...\n",
      "True Label: Sports, Predicted Label: Entertainment\n",
      "----------------------------------------------------------------------\n",
      "Text: [CLS] the impact of fashion on cultural appropriation is a topic of ongoing concern. [SEP] [PAD] [PA...\n",
      "True Label: Fashion, Predicted Label: Entertainment\n",
      "----------------------------------------------------------------------\n",
      "Text: [CLS] the impact of educational attainment on social inequality is a topic of concern. [SEP] [PAD] [...\n",
      "True Label: Education, Predicted Label: Technology\n",
      "----------------------------------------------------------------------\n",
      "Text: [CLS] the link between poor nutrition and mental health issues such as depression is well establishe...\n",
      "True Label: Health, Predicted Label: Travel\n",
      "----------------------------------------------------------------------\n",
      "Text: [CLS] the impact of educational attainment on technological innovation is a topic of ongoing researc...\n",
      "True Label: Education, Predicted Label: Technology\n",
      "----------------------------------------------------------------------\n",
      "Text: [CLS] the impact of urbanization on the environment is a topic of ongoing research. [SEP] [PAD] [PAD...\n",
      "True Label: Environment, Predicted Label: Technology\n",
      "----------------------------------------------------------------------\n",
      "Text: [CLS] the impact of e - waste on the environment is a topic of ongoing scientific research. [SEP] [P...\n",
      "True Label: Science, Predicted Label: Environment\n",
      "----------------------------------------------------------------------\n",
      "Text: [CLS] the benefits of using nuclear power are many, including reduced greenhouse gas emissions and i...\n",
      "True Label: Environment, Predicted Label: Technology\n",
      "----------------------------------------------------------------------\n",
      "Text: [CLS] the benefits of vaccination in preventing infectious diseases are well - established in scient...\n",
      "True Label: Science, Predicted Label: Entertainment\n",
      "----------------------------------------------------------------------\n",
      "Text: [CLS] the impact of food insecurity on health is a topic of concern. [SEP] [PAD] [PAD] [PAD]...\n",
      "True Label: Food, Predicted Label: Entertainment\n",
      "----------------------------------------------------------------------\n",
      "Text: [CLS] the political landscape is becoming increasingly volatile. [SEP] [PAD] [PAD] [PAD] [PAD] [PAD]...\n",
      "True Label: Politics, Predicted Label: Technology\n",
      "----------------------------------------------------------------------\n",
      "Text: [CLS] the movie trailer generated buzz online ahead of its release. [SEP] [PAD] [PAD] [PAD] [PAD] [P...\n",
      "True Label: Entertainment, Predicted Label: Technology\n",
      "----------------------------------------------------------------------\n",
      "Text: [CLS] the rock band's reunion tour sold out venues across the country. [SEP] [PAD] [PAD] [PAD] [PAD]...\n",
      "True Label: Entertainment, Predicted Label: Technology\n",
      "----------------------------------------------------------------------\n",
      "Text: [CLS] science is a systematic and logical approach to discovering how things in the natural world wo...\n",
      "True Label: Science, Predicted Label: Environment\n",
      "----------------------------------------------------------------------\n",
      "Text: [CLS] the benefits of a vocational education are many, including improved job - specific and practic...\n",
      "True Label: Education, Predicted Label: Travel\n",
      "----------------------------------------------------------------------\n",
      "Text: [CLS] the impact of food preservatives on health is a topic of ongoing debate. [SEP] [PAD] [PAD] [PA...\n",
      "True Label: Food, Predicted Label: Technology\n",
      "----------------------------------------------------------------------\n",
      "Text: [CLS] the benefits of reducing meat consumption are many, including reduced greenhouse gas emissions...\n",
      "True Label: Environment, Predicted Label: Entertainment\n",
      "----------------------------------------------------------------------\n",
      "Text: [CLS] the american lung association recommends avoiding exposure to secondhand smoke. [SEP] [PAD] [P...\n",
      "True Label: Health, Predicted Label: Travel\n",
      "----------------------------------------------------------------------\n",
      "Text: [CLS] the benefits of using local materials in fashion are many, including reduced carbon footprint ...\n",
      "True Label: Fashion, Predicted Label: Travel\n",
      "----------------------------------------------------------------------\n",
      "Text: [CLS] the benefits of a blended learning education are many, including improved flexibility and pers...\n",
      "True Label: Education, Predicted Label: Environment\n",
      "----------------------------------------------------------------------\n",
      "Text: [CLS] the art exhibition showcased works by emerging and established artists. [SEP] [PAD] [PAD] [PAD...\n",
      "True Label: Entertainment, Predicted Label: Technology\n",
      "----------------------------------------------------------------------\n",
      "Text: [CLS] the political landscape has shifted significantly in recent years. [SEP] [PAD] [PAD] [PAD] [PA...\n",
      "True Label: Politics, Predicted Label: Entertainment\n",
      "----------------------------------------------------------------------\n",
      "Text: [CLS] the impact of fashion on cultural identity is a topic of ongoing concern. [SEP] [PAD] [PAD] [P...\n",
      "True Label: Fashion, Predicted Label: Technology\n",
      "----------------------------------------------------------------------\n",
      "Text: [CLS] the benefits of traveling by bike are many, including exercise and environmental sustainabilit...\n",
      "True Label: Travel, Predicted Label: Entertainment\n",
      "----------------------------------------------------------------------\n",
      "Text: [CLS] the 3d printing technology revolutionizes manufacturing with its ability to create complex obj...\n",
      "True Label: Technology, Predicted Label: Travel\n",
      "----------------------------------------------------------------------\n",
      "Text: [CLS] the impact of food processing on digestion is a topic of ongoing debate. [SEP] [PAD] [PAD] [PA...\n",
      "True Label: Food, Predicted Label: Environment\n",
      "----------------------------------------------------------------------\n",
      "Text: [CLS] the importance of sustainable fashion collaborations in promoting sustainability cannot be ove...\n",
      "True Label: Fashion, Predicted Label: Technology\n",
      "----------------------------------------------------------------------\n",
      "Text: [CLS] the benefits of gene editing are many, including potential for new medical treatments and impr...\n",
      "True Label: Science, Predicted Label: Entertainment\n",
      "----------------------------------------------------------------------\n",
      "Text: [CLS] the impact of wildfires on the environment is a topic of ongoing concern. [SEP] [PAD] [PAD] [P...\n",
      "True Label: Environment, Predicted Label: Technology\n",
      "----------------------------------------------------------------------\n",
      "Text: [CLS] the governor has vetoed the controversial legislation. [SEP] [PAD] [PAD] [PAD] [PAD] [PAD] [PA...\n",
      "True Label: Politics, Predicted Label: Technology\n",
      "----------------------------------------------------------------------\n",
      "Text: [CLS] the benefits of carbon capture and storage are many, including potential for reducing greenhou...\n",
      "True Label: Science, Predicted Label: Travel\n",
      "----------------------------------------------------------------------\n",
      "Text: [CLS] the benefits of biotechnology are many, including potential for new medical treatments and imp...\n",
      "True Label: Science, Predicted Label: Entertainment\n",
      "----------------------------------------------------------------------\n",
      "Text: [CLS] the benefits of eating a dairy - free diet are many, including reduced inflammation and improv...\n",
      "True Label: Food, Predicted Label: Entertainment\n",
      "----------------------------------------------------------------------\n",
      "Text: [CLS] the impact of fashion on cultural appropriation is a topic of ongoing research. [SEP] [PAD] [P...\n",
      "True Label: Fashion, Predicted Label: Entertainment\n",
      "----------------------------------------------------------------------\n",
      "Text: [CLS] the benefits of investing in mutual funds for diversification are well established. [SEP] [PAD...\n",
      "True Label: Finance, Predicted Label: Entertainment\n",
      "----------------------------------------------------------------------\n",
      "Text: [CLS] the sports academy recruits talented athletes from across the country. [SEP] [PAD] [PAD] [PAD]...\n",
      "True Label: Sports, Predicted Label: Entertainment\n",
      "----------------------------------------------------------------------\n",
      "Text: [CLS] the government has been accused of failing to protect the environment. [SEP] [PAD] [PAD] [PAD]...\n",
      "True Label: Politics, Predicted Label: Technology\n",
      "----------------------------------------------------------------------\n",
      "Text: [CLS] the benefits of investing in real estate crowdfunding for diversification are becoming increas...\n",
      "True Label: Finance, Predicted Label: Environment\n",
      "----------------------------------------------------------------------\n",
      "Text: [CLS] the impact of food production on the environment is a topic of ongoing debate. [SEP] [PAD] [PA...\n",
      "True Label: Food, Predicted Label: Technology\n",
      "----------------------------------------------------------------------\n",
      "Text: [CLS] the benefits of using ethical manufacturing practices in fashion are many, including improved ...\n",
      "True Label: Fashion, Predicted Label: Travel\n",
      "----------------------------------------------------------------------\n",
      "Text: [CLS] the benefits of breastfeeding for both mother and baby are numerous. [SEP] [PAD] [PAD] [PAD] [...\n",
      "True Label: Health, Predicted Label: Entertainment\n",
      "----------------------------------------------------------------------\n",
      "Text: [CLS] the benefits of green building are many, including reduced energy consumption and improved ind...\n",
      "True Label: Environment, Predicted Label: Travel\n",
      "----------------------------------------------------------------------\n",
      "Text: [CLS] the benefits of investing in futures for hedging and speculation are well established. [SEP] [...\n",
      "True Label: Finance, Predicted Label: Environment\n",
      "----------------------------------------------------------------------\n",
      "Text: [CLS] the sports medicine clinic specializes in treating athletic injuries. [SEP] [PAD] [PAD] [PAD] ...\n",
      "True Label: Sports, Predicted Label: Entertainment\n",
      "----------------------------------------------------------------------\n",
      "Text: [CLS] the marathon runner broke the world record with an incredible time. [SEP] [PAD] [PAD] [PAD] [P...\n",
      "True Label: Sports, Predicted Label: Entertainment\n",
      "----------------------------------------------------------------------\n",
      "Text: [CLS] the importance of regular cancer screenings cannot be overemphasized. [SEP] [PAD] [PAD] [PAD] ...\n",
      "True Label: Health, Predicted Label: Entertainment\n",
      "----------------------------------------------------------------------\n",
      "Text: [CLS] the sportsmanship displayed by the players was commendable. [SEP] [PAD] [PAD] [PAD] [PAD] [PAD...\n",
      "True Label: Sports, Predicted Label: Technology\n",
      "----------------------------------------------------------------------\n",
      "Text: [CLS] the importance of scientific communication in promoting public understanding and engagement ca...\n",
      "True Label: Science, Predicted Label: Entertainment\n",
      "----------------------------------------------------------------------\n",
      "Text: [CLS] the bioinformatics software analyzes genetic data to identify mutations and patterns. [SEP] [P...\n",
      "True Label: Technology, Predicted Label: Entertainment\n",
      "----------------------------------------------------------------------\n",
      "Text: [CLS] the benefits of composting are many, including reduced landfill waste and improved soil qualit...\n",
      "True Label: Environment, Predicted Label: Travel\n",
      "----------------------------------------------------------------------\n",
      "Text: [CLS] the benefits of a healthy diet for weight management are well established. [SEP] [PAD] [PAD] [...\n",
      "True Label: Health, Predicted Label: Entertainment\n",
      "----------------------------------------------------------------------\n",
      "Text: [CLS] the benefits of eating a high - fiber, low - fat diet are many, including improved heart healt...\n",
      "True Label: Food, Predicted Label: Entertainment\n",
      "----------------------------------------------------------------------\n",
      "Text: [CLS] the impact of fashion on cultural identity is a topic of ongoing research. [SEP] [PAD] [PAD] [...\n",
      "True Label: Fashion, Predicted Label: Technology\n",
      "----------------------------------------------------------------------\n",
      "Text: [CLS] the cryptocurrency market experiences volatility due to speculation and market forces. [SEP] [...\n",
      "True Label: Technology, Predicted Label: Sports\n",
      "----------------------------------------------------------------------\n",
      "Text: [CLS] the benefits of drinking water for overall health are many. [SEP] [PAD] [PAD] [PAD] [PAD] [PAD...\n",
      "True Label: Health, Predicted Label: Entertainment\n",
      "----------------------------------------------------------------------\n",
      "Text: [CLS] the sports bar was packed with supporters cheering for their favorite team. [SEP] [PAD] [PAD] ...\n",
      "True Label: Sports, Predicted Label: Entertainment\n",
      "----------------------------------------------------------------------\n",
      "Text: [CLS] the impact of overtourism on popular destinations is a growing concern. [SEP] [PAD] [PAD] [PAD...\n",
      "True Label: Travel, Predicted Label: Technology\n",
      "----------------------------------------------------------------------\n",
      "Text: [CLS] the opposition party is calling for a constitutional amendment. [SEP] [PAD] [PAD] [PAD] [PAD] ...\n",
      "True Label: Politics, Predicted Label: Environment\n",
      "----------------------------------------------------------------------\n",
      "Text: [CLS] the benefits of a stem education are many, including improved analytical and technical skills....\n",
      "True Label: Education, Predicted Label: Entertainment\n",
      "----------------------------------------------------------------------\n",
      "Text: [CLS] the impact of educational attainment on climate change is a topic of ongoing research. [SEP] [...\n",
      "True Label: Education, Predicted Label: Technology\n",
      "----------------------------------------------------------------------\n",
      "Text: [CLS] the upcoming election has sparked intense debates among the candidates. [SEP] [PAD] [PAD] [PAD...\n",
      "True Label: Politics, Predicted Label: Technology\n",
      "----------------------------------------------------------------------\n",
      "Text: [CLS] the link between poor sleep and mental health issues such as anxiety is well established. [SEP...\n",
      "True Label: Health, Predicted Label: Technology\n",
      "----------------------------------------------------------------------\n",
      "Text: [CLS] the swimming pool is equipped with state - of - the - art facilities for training. [SEP] [PAD]...\n",
      "True Label: Sports, Predicted Label: Technology\n",
      "----------------------------------------------------------------------\n",
      "Text: [CLS] the wealth gap between the rich and the poor is growing in many countries. [SEP] [PAD] [PAD] [...\n",
      "True Label: Finance, Predicted Label: Travel\n",
      "----------------------------------------------------------------------\n",
      "Text: [CLS] the benefits of eating a plant - based diet are well established. [SEP] [PAD] [PAD] [PAD] [PAD...\n",
      "True Label: Food, Predicted Label: Entertainment\n",
      "----------------------------------------------------------------------\n",
      "Text: [CLS] the importance of reducing carbon emissions in promoting sustainability cannot be overstated. ...\n",
      "True Label: Environment, Predicted Label: Technology\n",
      "----------------------------------------------------------------------\n",
      "Text: [CLS] the impact of the student loan debt crisis on study abroad is a topic of concern. [SEP] [PAD] ...\n",
      "True Label: Travel, Predicted Label: Technology\n",
      "----------------------------------------------------------------------\n",
      "Text: [CLS] the benefits of using ai in fashion are many, including improved efficiency and personalizatio...\n",
      "True Label: Fashion, Predicted Label: Entertainment\n",
      "----------------------------------------------------------------------\n",
      "Text: [CLS] the tech conference features keynote speakers and panel discussions on emerging trends. [SEP] ...\n",
      "True Label: Technology, Predicted Label: Entertainment\n",
      "----------------------------------------------------------------------\n",
      "Text: [CLS] the benefits of investing in exchange - traded funds ( etfs ) for diversification are well est...\n",
      "True Label: Finance, Predicted Label: Entertainment\n",
      "----------------------------------------------------------------------\n",
      "Text: [CLS] the benefits of using sustainable business models in fashion are many, including improved sust...\n",
      "True Label: Fashion, Predicted Label: Travel\n",
      "----------------------------------------------------------------------\n",
      "Text: [CLS] the impact of fashion on cultural appropriation is a topic of ongoing debate. [SEP] [PAD] [PAD...\n",
      "True Label: Fashion, Predicted Label: Entertainment\n",
      "----------------------------------------------------------------------\n",
      "Text: [CLS] the benefits of eating a low - carb diet are many, including weight management and blood sugar...\n",
      "True Label: Food, Predicted Label: Entertainment\n",
      "----------------------------------------------------------------------\n",
      "Text: [CLS] the benefits of using native plants are many, including improved habitat and reduced water con...\n",
      "True Label: Environment, Predicted Label: Travel\n",
      "----------------------------------------------------------------------\n",
      "Text: [CLS] the importance of sustainable fashion education in promoting sustainability cannot be overstat...\n",
      "True Label: Fashion, Predicted Label: Technology\n",
      "----------------------------------------------------------------------\n",
      "Text: [CLS] the artificial intelligence assistant responds to voice commands and performs tasks. [SEP] [PA...\n",
      "True Label: Technology, Predicted Label: Entertainment\n",
      "----------------------------------------------------------------------\n",
      "Text: [CLS] the impact of water pollution on aquatic ecosystems is a topic of ongoing scientific research....\n",
      "True Label: Science, Predicted Label: Technology\n",
      "----------------------------------------------------------------------\n",
      "Text: [CLS] the american cancer society recommends avoiding exposure to tobacco smoke. [SEP] [PAD] [PAD] [...\n",
      "True Label: Health, Predicted Label: Technology\n",
      "----------------------------------------------------------------------\n",
      "Text: [CLS] the importance of sustainable fashion events in promoting sustainability cannot be overemphasi...\n",
      "True Label: Fashion, Predicted Label: Technology\n",
      "----------------------------------------------------------------------\n",
      "Text: [CLS] the sports bar screened multiple games simultaneously on giant tv screens. [SEP] [PAD] [PAD] [...\n",
      "True Label: Sports, Predicted Label: Technology\n",
      "----------------------------------------------------------------------\n",
      "Text: [CLS] the political climate is becoming increasingly divisive. [SEP] [PAD] [PAD] [PAD] [PAD] [PAD] [...\n",
      "True Label: Politics, Predicted Label: Technology\n",
      "----------------------------------------------------------------------\n",
      "Text: [CLS] the impact of the gig economy on travel booking is a topic of ongoing debate. [SEP] [PAD]...\n",
      "True Label: Travel, Predicted Label: Technology\n",
      "----------------------------------------------------------------------\n",
      "Text: [CLS] the impact of food portion sizes on obesity is a topic of concern. [SEP] [PAD] [PAD] [PAD]...\n",
      "True Label: Food, Predicted Label: Technology\n",
      "----------------------------------------------------------------------\n",
      "Text: [CLS] the importance of science education in promoting innovation and economic growth cannot be over...\n",
      "True Label: Science, Predicted Label: Technology\n",
      "----------------------------------------------------------------------\n",
      "Text: [CLS] the team scored a last - minute goal to win the championship. [SEP] [PAD] [PAD] [PAD] [PAD]...\n",
      "True Label: Sports, Predicted Label: Technology\n",
      "----------------------------------------------------------------------\n",
      "Text: [CLS] the importance of science communication in promoting public trust and understanding cannot be ...\n",
      "True Label: Science, Predicted Label: Entertainment\n",
      "----------------------------------------------------------------------\n",
      "Text: [CLS] the government has proposed a new tax plan that would benefit the middle class. [SEP] [PAD] [P...\n",
      "True Label: Politics, Predicted Label: Technology\n",
      "----------------------------------------------------------------------\n",
      "Text: [CLS] the impact of the aging population on medical tourism is a topic of concern. [SEP] [PAD] [PAD]...\n",
      "True Label: Travel, Predicted Label: Technology\n",
      "----------------------------------------------------------------------\n",
      "Text: [CLS] the benefits of using led lights are many, including reduced energy consumption and improved l...\n",
      "True Label: Environment, Predicted Label: Technology\n",
      "----------------------------------------------------------------------\n",
      "Text: [CLS] the bioinformatics software analyzes genetic data to identify mutations and patterns. [SEP] [P...\n",
      "True Label: Technology, Predicted Label: Entertainment\n",
      "----------------------------------------------------------------------\n",
      "Text: [CLS] the benefits of a personalized education are many, including improved engagement and motivatio...\n",
      "True Label: Education, Predicted Label: Environment\n",
      "----------------------------------------------------------------------\n",
      "Text: [CLS] the benefits of using sustainable materials in fashion are many, including reduced environment...\n",
      "True Label: Fashion, Predicted Label: Travel\n",
      "----------------------------------------------------------------------\n",
      "Text: [CLS] the space agency launched a satellite into orbit to study climate patterns. [SEP] [PAD] [PAD] ...\n",
      "True Label: Technology, Predicted Label: Travel\n",
      "----------------------------------------------------------------------\n",
      "Text: [CLS] the impact of climate change on water resources is a topic of ongoing research. [SEP] [PAD] [P...\n",
      "True Label: Environment, Predicted Label: Technology\n",
      "----------------------------------------------------------------------\n",
      "Text: [CLS] the benefits of a personalized learning education are many, including improved engagement and ...\n",
      "True Label: Education, Predicted Label: Environment\n",
      "----------------------------------------------------------------------\n",
      "Text: [CLS] the benefits of investing in peer - to - peer lending for income are well established. [SEP] [...\n",
      "True Label: Finance, Predicted Label: Technology\n",
      "----------------------------------------------------------------------\n",
      "Text: [CLS] the american lung association recommends avoiding exposure to asbestos. [SEP] [PAD] [PAD] [PAD...\n",
      "True Label: Health, Predicted Label: Entertainment\n",
      "----------------------------------------------------------------------\n",
      "Text: [CLS] the impact of food additives on behavior is a topic of ongoing debate. [SEP] [PAD] [PAD] [PAD]...\n",
      "True Label: Food, Predicted Label: Technology\n",
      "----------------------------------------------------------------------\n",
      "Text: [CLS] the american lung association recommends avoiding exposure to air pollution. [SEP] [PAD] [PAD]...\n",
      "True Label: Health, Predicted Label: Entertainment\n",
      "----------------------------------------------------------------------\n",
      "Text: [CLS] the cybersecurity expert identified vulnerabilities in the network infrastructure. [SEP] [PAD]...\n",
      "True Label: Technology, Predicted Label: Travel\n",
      "----------------------------------------------------------------------\n",
      "Text: [CLS] the benefits of energy storage are many, including improved reliability and integration of ren...\n",
      "True Label: Science, Predicted Label: Environment\n",
      "----------------------------------------------------------------------\n",
      "Text: [CLS] the impact of the housing market on the economy is a topic of ongoing debate. [SEP] [PAD] [PAD...\n",
      "True Label: Finance, Predicted Label: Technology\n",
      "----------------------------------------------------------------------\n",
      "Text: [CLS] the fashion designer unveiled their latest collection at new york fashion week. [SEP] [PAD] [P...\n",
      "True Label: Entertainment, Predicted Label: Technology\n",
      "----------------------------------------------------------------------\n",
      "Text: [CLS] the prime minister has announced a new plan to combat terrorism. [SEP] [PAD] [PAD] [PAD] [PAD]...\n",
      "True Label: Politics, Predicted Label: Travel\n",
      "----------------------------------------------------------------------\n",
      "Text: [CLS] the two parties are struggling to find a compromise. [SEP] [PAD] [PAD] [PAD] [PAD] [PAD] [PAD]...\n",
      "True Label: Politics, Predicted Label: Entertainment\n",
      "----------------------------------------------------------------------\n",
      "Text: [CLS] the two parties are struggling to find a way forward. [SEP] [PAD] [PAD] [PAD] [PAD] [PAD] [PAD...\n",
      "True Label: Politics, Predicted Label: Entertainment\n",
      "----------------------------------------------------------------------\n",
      "Text: [CLS] the quantum physicist conducts experiments to test the principles of quantum mechanics. [SEP] ...\n",
      "True Label: Technology, Predicted Label: Travel\n",
      "----------------------------------------------------------------------\n",
      "Text: [CLS] the celebrity couple's engagement was announced on social media, delighting fans. [SEP] [PAD] ...\n",
      "True Label: Entertainment, Predicted Label: Technology\n",
      "----------------------------------------------------------------------\n",
      "Text: [CLS] the impact of educational attainment on biodiversity is a topic of concern. [SEP] [PAD] [PAD] ...\n",
      "True Label: Education, Predicted Label: Technology\n",
      "----------------------------------------------------------------------\n",
      "Text: [CLS] the impact of food advertising on consumer behavior is a topic of concern. [SEP] [PAD] [PAD] [...\n",
      "True Label: Food, Predicted Label: Technology\n",
      "----------------------------------------------------------------------\n",
      "Text: [CLS] the benefits of a healthy lifestyle for reducing the risk of cancer are well established. [SEP...\n",
      "True Label: Health, Predicted Label: Entertainment\n",
      "----------------------------------------------------------------------\n",
      "Text: [CLS] the government has been accused of failing to address the crisis. [SEP] [PAD] [PAD] [PAD] [PAD...\n",
      "True Label: Politics, Predicted Label: Technology\n",
      "----------------------------------------------------------------------\n",
      "Text: [CLS] the impact of the digital economy on privacy is a topic of ongoing debate. [SEP] [PAD] [PAD] [...\n",
      "True Label: Finance, Predicted Label: Technology\n",
      "----------------------------------------------------------------------\n",
      "Text: [CLS] the impact of food deserts on access to healthy food is a topic of concern. [SEP] [PAD] [PAD] ...\n",
      "True Label: Food, Predicted Label: Technology\n",
      "----------------------------------------------------------------------\n",
      "Text: [CLS] the benefits of traveling by horse are many, including adventure and connection with nature. [...\n",
      "True Label: Travel, Predicted Label: Entertainment\n",
      "----------------------------------------------------------------------\n",
      "Text: [CLS] the impact of food additives on gut microbiome is a topic of ongoing debate. [SEP] [PAD] [PAD]...\n",
      "True Label: Food, Predicted Label: Entertainment\n",
      "----------------------------------------------------------------------\n",
      "Text: [CLS] the impact of educational attainment on political participation is a topic of concern. [SEP] [...\n",
      "True Label: Education, Predicted Label: Technology\n",
      "----------------------------------------------------------------------\n",
      "Text: [CLS] the sports retailer offers discounts on athletic apparel and equipment. [SEP] [PAD] [PAD] [PAD...\n",
      "True Label: Sports, Predicted Label: Technology\n",
      "----------------------------------------------------------------------\n",
      "Text: [CLS] the president has announced a new foreign policy initiative. [SEP] [PAD] [PAD] [PAD] [PAD] [PA...\n",
      "True Label: Politics, Predicted Label: Technology\n",
      "----------------------------------------------------------------------\n",
      "Text: [CLS] the congress is debating a new bill to reform the immigration system. [SEP] [PAD] [PAD] [PAD] ...\n",
      "True Label: Politics, Predicted Label: Entertainment\n",
      "----------------------------------------------------------------------\n",
      "Text: [CLS] the importance of financial literacy cannot be overstated. [SEP] [PAD] [PAD] [PAD] [PAD] [PAD]...\n",
      "True Label: Finance, Predicted Label: Entertainment\n",
      "----------------------------------------------------------------------\n",
      "Text: [CLS] the computer scientist conducts research to advance the field of artificial intelligence. [SEP...\n",
      "True Label: Technology, Predicted Label: Entertainment\n",
      "----------------------------------------------------------------------\n",
      "Text: [CLS] the two parties are engaged in a bitter feud. [SEP] [PAD] [PAD] [PAD] [PAD] [PAD] [PAD] [PAD] ...\n",
      "True Label: Politics, Predicted Label: Entertainment\n",
      "----------------------------------------------------------------------\n",
      "Text: [CLS] the impact of currency fluctuations on international trade is a topic of concern. [SEP] [PAD] ...\n",
      "True Label: Finance, Predicted Label: Entertainment\n",
      "----------------------------------------------------------------------\n",
      "Text: [CLS] the importance of ethical fashion in promoting social responsibility cannot be overemphasized....\n",
      "True Label: Fashion, Predicted Label: Technology\n",
      "----------------------------------------------------------------------\n",
      "Text: [CLS] the minimum wage is a topic of debate in many countries around the world. [SEP] [PAD] [PAD] [P...\n",
      "True Label: Finance, Predicted Label: Technology\n",
      "----------------------------------------------------------------------\n",
      "Text: [CLS] the sports broadcaster interviewed the winning team after the game. [SEP] [PAD] [PAD] [PAD] [P...\n",
      "True Label: Sports, Predicted Label: Entertainment\n",
      "----------------------------------------------------------------------\n",
      "Text: [CLS] the importance of food accessibility cannot be overemphasized. [SEP] [PAD] [PAD] [PAD] [PAD] [...\n",
      "True Label: Food, Predicted Label: Technology\n",
      "----------------------------------------------------------------------\n",
      "Text: [CLS] the importance of sustainable fashion initiatives in promoting sustainability cannot be overst...\n",
      "True Label: Fashion, Predicted Label: Technology\n",
      "----------------------------------------------------------------------\n",
      "Text: [CLS] the benefits of tree planting are many, including improved air quality and reduced soil erosio...\n",
      "True Label: Environment, Predicted Label: Travel\n",
      "----------------------------------------------------------------------\n",
      "Text: [CLS] the opioid crisis is a major public health issue in the united states. [SEP] [PAD] [PAD] [PAD]...\n",
      "True Label: Health, Predicted Label: Entertainment\n",
      "----------------------------------------------------------------------\n",
      "Text: [CLS] the artificial intelligence algorithm analyzes data to make predictions and improve decision -...\n",
      "True Label: Technology, Predicted Label: Entertainment\n",
      "----------------------------------------------------------------------\n",
      "Text: [CLS] the importance of sustainable fashion innovation in promoting sustainability cannot be overemp...\n",
      "True Label: Fashion, Predicted Label: Entertainment\n",
      "----------------------------------------------------------------------\n",
      "Text: [CLS] the american academy of pediatrics recommends regular check - ups for children to monitor thei...\n",
      "True Label: Health, Predicted Label: Environment\n",
      "----------------------------------------------------------------------\n",
      "Text: [CLS] the importance of sustainable packaging in fashion cannot be overstated. [SEP] [PAD] [PAD] [PA...\n",
      "True Label: Fashion, Predicted Label: Entertainment\n",
      "----------------------------------------------------------------------\n",
      "Text: [CLS] the impact of educational attainment on air quality is a topic of concern. [SEP] [PAD] [PAD]...\n",
      "True Label: Education, Predicted Label: Technology\n",
      "----------------------------------------------------------------------\n",
      "Text: [CLS] the supreme court has issued a ruling on the controversial issue. [SEP] [PAD] [PAD] [PAD] [PAD...\n",
      "True Label: Politics, Predicted Label: Technology\n",
      "----------------------------------------------------------------------\n",
      "Text: [CLS] the importance of global competence education in education cannot be overstated. [SEP] [PAD] [...\n",
      "True Label: Education, Predicted Label: Environment\n",
      "----------------------------------------------------------------------\n",
      "Text: [CLS] the singer - songwriter performed an acoustic set at a small venue. [SEP] [PAD] [PAD] [PAD] [P...\n",
      "True Label: Entertainment, Predicted Label: Technology\n",
      "----------------------------------------------------------------------\n",
      "Text: [CLS] the impact of food allergies on quality of life is a topic of concern. [SEP]...\n",
      "True Label: Food, Predicted Label: Technology\n",
      "----------------------------------------------------------------------\n",
      "Text: [CLS] the best way to find cheap flights is to use a flight comparison website. [SEP] [PAD] [PAD]...\n",
      "True Label: Travel, Predicted Label: Sports\n",
      "----------------------------------------------------------------------\n",
      "Text: [CLS] the importance of media education in education cannot be overemphasized. [SEP] [PAD] [PAD]...\n",
      "True Label: Education, Predicted Label: Technology\n",
      "----------------------------------------------------------------------\n",
      "Text: [CLS] the art museum houses a diverse collection spanning centuries of artistic movements. [SEP] [PA...\n",
      "True Label: Entertainment, Predicted Label: Technology\n",
      "----------------------------------------------------------------------\n",
      "Text: [CLS] the impact of the aging population on adventure travel is a topic of concern. [SEP] [PAD] [PAD...\n",
      "True Label: Travel, Predicted Label: Technology\n",
      "----------------------------------------------------------------------\n",
      "Text: [CLS] the hockey goalie made a spectacular save to keep the game tied. [SEP] [PAD] [PAD] [PAD]...\n",
      "True Label: Sports, Predicted Label: Entertainment\n",
      "----------------------------------------------------------------------\n",
      "Text: [CLS] regular exercise and a balanced diet are key to maintaining good health. [SEP] [PAD] [PAD] [PA...\n",
      "True Label: Health, Predicted Label: Entertainment\n",
      "----------------------------------------------------------------------\n",
      "Text: [CLS] the sports photographer captured stunning images of the action. [SEP] [PAD] [PAD] [PAD] [PAD] ...\n",
      "True Label: Sports, Predicted Label: Entertainment\n",
      "----------------------------------------------------------------------\n",
      "Text: [CLS] the impact of trade wars on the global economy is a topic of concern. [SEP] [PAD] [PAD]...\n",
      "True Label: Finance, Predicted Label: Technology\n",
      "----------------------------------------------------------------------\n",
      "Text: [CLS] the tax code is a complex and often controversial topic in finance and politics. [SEP] [PAD] [...\n",
      "True Label: Finance, Predicted Label: Environment\n",
      "----------------------------------------------------------------------\n",
      "Text: [CLS] the benefits of eating a macrobiotic diet are many, including improved digestion and reduced e...\n",
      "True Label: Food, Predicted Label: Technology\n",
      "----------------------------------------------------------------------\n",
      "Text: [CLS] the benefits of investing in renewable energy are becoming increasingly clear. [SEP] [PAD] [PA...\n",
      "True Label: Finance, Predicted Label: Technology\n",
      "----------------------------------------------------------------------\n",
      "Text: [CLS] the impact of educational attainment on economic growth is a topic of concern. [SEP] [PAD] [PA...\n",
      "True Label: Education, Predicted Label: Technology\n",
      "----------------------------------------------------------------------\n",
      "Text: [CLS] the government has been accused of failing to protect workers. [SEP] [PAD] [PAD] [PAD] [PAD] [...\n",
      "True Label: Politics, Predicted Label: Technology\n",
      "----------------------------------------------------------------------\n",
      "Text: [CLS] the impact of fashion on cultural identity is a topic of ongoing research. [SEP] [PAD] [PAD] [...\n",
      "True Label: Fashion, Predicted Label: Technology\n",
      "----------------------------------------------------------------------\n",
      "Text: [CLS] the government has been accused of failing to address the crisis. [SEP] [PAD] [PAD] [PAD] [PAD...\n",
      "True Label: Politics, Predicted Label: Technology\n",
      "----------------------------------------------------------------------\n",
      "Text: [CLS] the american cancer society recommends avoiding exposure to environmental toxins. [SEP] [PAD] ...\n",
      "True Label: Health, Predicted Label: Travel\n",
      "----------------------------------------------------------------------\n",
      "Text: [CLS] the importance of sustainable agriculture in feeding a growing population cannot be overstated...\n",
      "True Label: Environment, Predicted Label: Entertainment\n",
      "----------------------------------------------------------------------\n",
      "Text: [CLS] the impact of food deserts on mental health is a topic of concern. [SEP] [PAD] [PAD] [PAD] [PA...\n",
      "True Label: Food, Predicted Label: Technology\n",
      "----------------------------------------------------------------------\n",
      "Text: [CLS] the supreme court has issued a ruling on the controversial issue. [SEP] [PAD] [PAD] [PAD] [PAD...\n",
      "True Label: Politics, Predicted Label: Technology\n",
      "----------------------------------------------------------------------\n",
      "Text: [CLS] the gig economy is changing the way people think about work and income. [SEP] [PAD] [PAD] [PAD...\n",
      "True Label: Finance, Predicted Label: Travel\n",
      "----------------------------------------------------------------------\n",
      "Text: [CLS] the impact of technology on finance is transforming the industry. [SEP] [PAD] [PAD] [PAD] [PAD...\n",
      "True Label: Finance, Predicted Label: Technology\n",
      "----------------------------------------------------------------------\n",
      "Text: [CLS] the space exploration mission aims to uncover the mysteries of the universe. [SEP] [PAD] [PAD]...\n",
      "True Label: Technology, Predicted Label: Entertainment\n",
      "----------------------------------------------------------------------\n",
      "Text: [CLS] the cricket match drew a large crowd of passionate fans. [SEP] [PAD] [PAD] [PAD] [PAD] [PAD] [...\n",
      "True Label: Sports, Predicted Label: Entertainment\n",
      "----------------------------------------------------------------------\n",
      "Text: [CLS] the benefits of nuclear power are many, including reduced greenhouse gas emissions and improve...\n",
      "True Label: Science, Predicted Label: Travel\n",
      "----------------------------------------------------------------------\n",
      "Text: [CLS] the impact of acid rain on the environment is a topic of ongoing concern. [SEP] [PAD] [PAD] [P...\n",
      "True Label: Environment, Predicted Label: Technology\n",
      "----------------------------------------------------------------------\n",
      "Text: [CLS] the importance of sustainable fashion advocacy in fashion cannot be overemphasized. [SEP] [PAD...\n",
      "True Label: Fashion, Predicted Label: Entertainment\n",
      "----------------------------------------------------------------------\n",
      "Text: [CLS] the importance of protecting peatlands in maintaining carbon sequestration cannot be overempha...\n",
      "True Label: Environment, Predicted Label: Technology\n",
      "----------------------------------------------------------------------\n",
      "Text: [CLS] the importance of social - emotional learning in education cannot be overstated. [SEP] [PAD] [...\n",
      "True Label: Education, Predicted Label: Technology\n",
      "----------------------------------------------------------------------\n",
      "Text: [CLS] the actor's portrayal of a complex character earned them an emmy award. [SEP] [PAD] [PAD] [PAD...\n",
      "True Label: Entertainment, Predicted Label: Technology\n",
      "----------------------------------------------------------------------\n",
      "Text: [CLS] the benefits of a cooperative learning education are many, including improved teamwork and soc...\n",
      "True Label: Education, Predicted Label: Technology\n",
      "----------------------------------------------------------------------\n",
      "Text: [CLS] the importance of scientific literacy in promoting informed decision - making cannot be overem...\n",
      "True Label: Science, Predicted Label: Entertainment\n",
      "----------------------------------------------------------------------\n",
      "Text: [CLS] the political landscape is becoming increasingly complex. [SEP] [PAD] [PAD] [PAD] [PAD] [PAD] ...\n",
      "True Label: Politics, Predicted Label: Technology\n",
      "----------------------------------------------------------------------\n",
      "Text: [CLS] the impact of brexit on the european economy is a topic of ongoing debate. [SEP] [PAD] [PAD] [...\n",
      "True Label: Finance, Predicted Label: Technology\n",
      "----------------------------------------------------------------------\n",
      "Text: [CLS] the benefits of space exploration are many, including improved understanding of the universe a...\n",
      "True Label: Science, Predicted Label: Entertainment\n",
      "----------------------------------------------------------------------\n",
      "Text: [CLS] the importance of science policy in promoting evidence - based decision - making cannot be ove...\n",
      "True Label: Science, Predicted Label: Technology\n",
      "----------------------------------------------------------------------\n",
      "Text: [CLS] the importance of sustainable fashion regulations in promoting sustainability cannot be overst...\n",
      "True Label: Fashion, Predicted Label: Technology\n",
      "----------------------------------------------------------------------\n",
      "Text: [CLS] the benefits of traveling solo are many, including independence and self - discovery. [SEP] [P...\n",
      "True Label: Travel, Predicted Label: Technology\n",
      "----------------------------------------------------------------------\n",
      "Text: [CLS] the importance of digital citizenship education in education cannot be overemphasized. [SEP] [...\n",
      "True Label: Education, Predicted Label: Technology\n",
      "----------------------------------------------------------------------\n",
      "Text: [CLS] the impact of food packaging on the environment is a topic of concern. [SEP] [PAD] [PAD] [PAD]...\n",
      "True Label: Food, Predicted Label: Technology\n",
      "----------------------------------------------------------------------\n",
      "Text: [CLS] the sports bar hosted a viewing party for the big game. [SEP] [PAD] [PAD] [PAD] [PAD] [PAD] [P...\n",
      "True Label: Sports, Predicted Label: Entertainment\n",
      "----------------------------------------------------------------------\n",
      "Text: [CLS] the benefits of investing in robo - advisors for low - cost portfolio management are well esta...\n",
      "True Label: Finance, Predicted Label: Environment\n",
      "----------------------------------------------------------------------\n",
      "Text: [CLS] the benefits of investing in high - quality clothing are many, including improved durability a...\n",
      "True Label: Fashion, Predicted Label: Environment\n",
      "----------------------------------------------------------------------\n",
      "Text: [CLS] the benefits of a healthy lifestyle for longevity are well documented. [SEP] [PAD] [PAD] [PAD]...\n",
      "True Label: Health, Predicted Label: Entertainment\n",
      "----------------------------------------------------------------------\n",
      "Text: [CLS] the benefits of a healthy diet for reducing inflammation are becoming increasingly clear. [SEP...\n",
      "True Label: Health, Predicted Label: Entertainment\n",
      "----------------------------------------------------------------------\n",
      "Text: [CLS] the best way to find the best local historical sites is to do your research ahead of time. [SE...\n",
      "True Label: Travel, Predicted Label: Technology\n",
      "----------------------------------------------------------------------\n",
      "Text: [CLS] the benefits of eating breakfast are many, including improved cognitive function and weight ma...\n",
      "True Label: Food, Predicted Label: Entertainment\n",
      "----------------------------------------------------------------------\n",
      "Text: [CLS] the celebrity couple's breakup made headlines in tabloid magazines. [SEP] [PAD] [PAD] [PAD] [P...\n",
      "True Label: Entertainment, Predicted Label: Technology\n",
      "----------------------------------------------------------------------\n",
      "Text: [CLS] the basketball tournament attracted teams from all over the state. [SEP] [PAD] [PAD] [PAD] [PA...\n",
      "True Label: Sports, Predicted Label: Entertainment\n",
      "----------------------------------------------------------------------\n",
      "Text: [CLS] the importance of mindful eating cannot be overemphasized. [SEP] [PAD] [PAD] [PAD] [PAD] [PAD]...\n",
      "True Label: Food, Predicted Label: Technology\n",
      "----------------------------------------------------------------------\n",
      "Text: [CLS] the benefits of eating whole grains are well established. [SEP] [PAD] [PAD] [PAD] [PAD] [PAD] ...\n",
      "True Label: Food, Predicted Label: Technology\n",
      "----------------------------------------------------------------------\n",
      "Text: [CLS] the importance of lifelong learning cannot be overstated. [SEP] [PAD] [PAD] [PAD] [PAD] [PAD] ...\n",
      "True Label: Education, Predicted Label: Entertainment\n",
      "----------------------------------------------------------------------\n",
      "Text: [CLS] the importance of scientific transparency in promoting public trust and accountability cannot ...\n",
      "True Label: Science, Predicted Label: Entertainment\n",
      "----------------------------------------------------------------------\n",
      "Text: [CLS] the benefits of sustainable fashion are many, including reduced environmental impact and impro...\n",
      "True Label: Fashion, Predicted Label: Entertainment\n",
      "----------------------------------------------------------------------\n",
      "Text: [CLS] the tech startup raised millions in funding to develop its innovative product. [SEP] [PAD] [PA...\n",
      "True Label: Technology, Predicted Label: Entertainment\n",
      "----------------------------------------------------------------------\n",
      "Text: [CLS] the benefits of a game - based learning education are many, including improved motivation and ...\n",
      "True Label: Education, Predicted Label: Environment\n",
      "----------------------------------------------------------------------\n",
      "Text: [CLS] the importance of financial education in education cannot be overstated. [SEP] [PAD] [PAD] [PA...\n",
      "True Label: Education, Predicted Label: Technology\n",
      "----------------------------------------------------------------------\n",
      "Text: [CLS] the importance of digital literacy in education cannot be overstated. [SEP] [PAD] [PAD] [PAD] ...\n",
      "True Label: Education, Predicted Label: Technology\n",
      "----------------------------------------------------------------------\n",
      "Text: [CLS] the importance of early childhood education cannot be overemphasized. [SEP] [PAD] [PAD] [PAD] ...\n",
      "True Label: Education, Predicted Label: Technology\n",
      "----------------------------------------------------------------------\n",
      "Text: [CLS] the machine learning algorithm analyzes data to make predictions and recommendations. [SEP] [P...\n",
      "True Label: Technology, Predicted Label: Entertainment\n",
      "----------------------------------------------------------------------\n",
      "Text: [CLS] the link between poor nutrition and immune function is well established. [SEP] [PAD] [PAD] [PA...\n",
      "True Label: Health, Predicted Label: Travel\n",
      "----------------------------------------------------------------------\n",
      "Text: [CLS] the benefits of using electric cars are many, including reduced greenhouse gas emissions and i...\n",
      "True Label: Environment, Predicted Label: Travel\n",
      "----------------------------------------------------------------------\n",
      "Text: [CLS] the prime minister has announced a new plan to improve infrastructure. [SEP] [PAD] [PAD] [PAD]...\n",
      "True Label: Politics, Predicted Label: Technology\n",
      "----------------------------------------------------------------------\n",
      "Text: [CLS] the cybersecurity training program educates employees on best practices for data security. [SE...\n",
      "True Label: Technology, Predicted Label: Entertainment\n",
      "----------------------------------------------------------------------\n",
      "Text: [CLS] the world health organization is urging countries to invest in noncommunicable disease control...\n",
      "True Label: Health, Predicted Label: Sports\n",
      "----------------------------------------------------------------------\n",
      "Text: [CLS] the impact of food culture on health is a topic of ongoing debate. [SEP] [PAD] [PAD] [PAD] [PA...\n",
      "True Label: Food, Predicted Label: Technology\n",
      "----------------------------------------------------------------------\n",
      "Text: [CLS] the singer's charity work extends beyond music to support various causes. [SEP] [PAD] [PAD] [P...\n",
      "True Label: Entertainment, Predicted Label: Technology\n",
      "----------------------------------------------------------------------\n",
      "Text: [CLS] the sports documentary chronicles the journey of an underdog team. [SEP] [PAD] [PAD] [PAD] [PA...\n",
      "True Label: Sports, Predicted Label: Technology\n",
      "----------------------------------------------------------------------\n",
      "Text: [CLS] the impact of habitat fragmentation on biodiversity is a topic of ongoing scientific research....\n",
      "True Label: Science, Predicted Label: Entertainment\n",
      "----------------------------------------------------------------------\n",
      "Text: [CLS] the impact of the digital economy on taxation is a topic of ongoing debate. [SEP] [PAD] [PAD] ...\n",
      "True Label: Finance, Predicted Label: Technology\n",
      "----------------------------------------------------------------------\n",
      "Text: [CLS] the motorsports event attracted thrill - seekers from around the country. [SEP] [PAD] [PAD] [P...\n",
      "True Label: Sports, Predicted Label: Entertainment\n",
      "----------------------------------------------------------------------\n",
      "Text: [CLS] the importance of open access in promoting the dissemination and use of scientific research ca...\n",
      "True Label: Science, Predicted Label: Entertainment\n",
      "----------------------------------------------------------------------\n",
      "Text: [CLS] the importance of saving for retirement cannot be overemphasized. [SEP] [PAD] [PAD] [PAD] [PAD...\n",
      "True Label: Finance, Predicted Label: Entertainment\n",
      "----------------------------------------------------------------------\n",
      "Text: [CLS] the music video went viral, accumulating millions of views on social media. [SEP] [PAD] [PAD] ...\n",
      "True Label: Entertainment, Predicted Label: Travel\n",
      "----------------------------------------------------------------------\n",
      "Text: [CLS] the mayor has been accused of accepting bribes. [SEP] [PAD] [PAD] [PAD] [PAD] [PAD] [PAD] [PAD...\n",
      "True Label: Politics, Predicted Label: Technology\n",
      "----------------------------------------------------------------------\n",
      "Text: [CLS] the reality tv show documents the lives of a wealthy family in los angeles. [SEP] [PAD] [PAD] ...\n",
      "True Label: Entertainment, Predicted Label: Technology\n",
      "----------------------------------------------------------------------\n",
      "Text: [CLS] the best way to experience a new culture is to try the local food. [SEP] [PAD] [PAD] [PAD] [PA...\n",
      "True Label: Travel, Predicted Label: Technology\n",
      "----------------------------------------------------------------------\n",
      "Text: [CLS] the importance of transparency in fashion supply chains cannot be overstated. [SEP] [PAD] [PAD...\n",
      "True Label: Fashion, Predicted Label: Entertainment\n",
      "----------------------------------------------------------------------\n",
      "Text: [CLS] the biometric authentication system uses fingerprints to verify identity. [SEP] [PAD] [PAD] [P...\n",
      "True Label: Technology, Predicted Label: Entertainment\n",
      "----------------------------------------------------------------------\n",
      "Text: [CLS] the best way to find the best local street art is to do your research ahead of time. [SEP] [PA...\n",
      "True Label: Travel, Predicted Label: Technology\n",
      "----------------------------------------------------------------------\n",
      "Text: [CLS] the impact of fashion on cultural heritage is a topic of ongoing research. [SEP] [PAD] [PAD] [...\n",
      "True Label: Fashion, Predicted Label: Technology\n",
      "----------------------------------------------------------------------\n",
      "Text: [CLS] the importance of responsible marketing in fashion cannot be overstated. [SEP] [PAD] [PAD] [PA...\n",
      "True Label: Fashion, Predicted Label: Entertainment\n",
      "----------------------------------------------------------------------\n",
      "Text: [CLS] the impact of food additives on the immune system is a topic of ongoing debate. [SEP] [PAD] [P...\n",
      "True Label: Food, Predicted Label: Technology\n",
      "----------------------------------------------------------------------\n",
      "Text: [CLS] the sports commentator provided play - by - play coverage of the match. [SEP] [PAD] [PAD] [PAD...\n",
      "True Label: Sports, Predicted Label: Technology\n",
      "----------------------------------------------------------------------\n",
      "Text: [CLS] the cybersecurity expert advises companies on strategies to protect against cyber threats. [SE...\n",
      "True Label: Technology, Predicted Label: Sports\n",
      "----------------------------------------------------------------------\n",
      "Text: [CLS] the film director's debut feature won the palme d'or at cannes. [SEP] [PAD] [PAD] [PAD] [PAD]...\n",
      "True Label: Entertainment, Predicted Label: Technology\n",
      "----------------------------------------------------------------------\n",
      "Text: [CLS] the importance of reducing noise pollution in promoting sustainability cannot be overstated. [...\n",
      "True Label: Environment, Predicted Label: Science\n",
      "----------------------------------------------------------------------\n",
      "Text: [CLS] the impact of the covid - 19 pandemic on business travel is a topic of concern. [SEP] [PAD]...\n",
      "True Label: Travel, Predicted Label: Technology\n",
      "----------------------------------------------------------------------\n",
      "Text: [CLS] the best way to find the best local festivals is to check local event listings. [SEP] [PAD] [P...\n",
      "True Label: Travel, Predicted Label: Technology\n",
      "----------------------------------------------------------------------\n",
      "Text: [CLS] the political climate is becoming increasingly polarized. [SEP] [PAD] [PAD] [PAD] [PAD] [PAD] ...\n",
      "True Label: Politics, Predicted Label: Technology\n",
      "----------------------------------------------------------------------\n",
      "Text: [CLS] the best way to stay safe while traveling is to be aware of your surroundings and take precaut...\n",
      "True Label: Travel, Predicted Label: Environment\n",
      "----------------------------------------------------------------------\n",
      "Text: [CLS] the benefits of a personalized learning education are many, including improved engagement and ...\n",
      "True Label: Education, Predicted Label: Environment\n",
      "----------------------------------------------------------------------\n",
      "Text: [CLS] the impact of the student loan debt crisis on budget travel is a topic of concern. [SEP] [PAD]...\n",
      "True Label: Travel, Predicted Label: Technology\n",
      "----------------------------------------------------------------------\n",
      "Text: [CLS] the benefits of regular exercise for cardiovascular health are well documented. [SEP] [PAD] [P...\n",
      "True Label: Health, Predicted Label: Entertainment\n",
      "----------------------------------------------------------------------\n",
      "Text: [CLS] the importance of scientific integrity in ensuring the credibility and reliability of research...\n",
      "True Label: Science, Predicted Label: Technology\n",
      "----------------------------------------------------------------------\n",
      "Text: [CLS] the benefits of using energy - efficient appliances are many, including reduced energy consump...\n",
      "True Label: Environment, Predicted Label: Technology\n",
      "----------------------------------------------------------------------\n",
      "Text: [CLS] the benefits of eating a high - protein diet are many, including muscle building and satiety. ...\n",
      "True Label: Food, Predicted Label: Travel\n",
      "----------------------------------------------------------------------\n",
      "Text: [CLS] the social security system is facing financial challenges as the population ages. [SEP] [PAD] ...\n",
      "True Label: Finance, Predicted Label: Technology\n",
      "----------------------------------------------------------------------\n",
      "Text: [CLS] the governor has announced a plan to address the homelessness crisis. [SEP] [PAD] [PAD] [PAD] ...\n",
      "True Label: Politics, Predicted Label: Entertainment\n",
      "----------------------------------------------------------------------\n",
      "Text: [CLS] the government has been accused of failing to protect consumers. [SEP] [PAD] [PAD] [PAD] [PAD]...\n",
      "True Label: Politics, Predicted Label: Entertainment\n",
      "----------------------------------------------------------------------\n",
      "Text: [CLS] the president has announced a new plan to address the housing crisis. [SEP] [PAD] [PAD] [PAD] ...\n",
      "True Label: Politics, Predicted Label: Technology\n",
      "----------------------------------------------------------------------\n",
      "Text: [CLS] the sports venue underwent renovations to enhance the spectator experience. [SEP] [PAD] [PAD] ...\n",
      "True Label: Sports, Predicted Label: Entertainment\n",
      "----------------------------------------------------------------------\n",
      "Text: [CLS] the theater production features elaborate costumes and set design. [SEP] [PAD] [PAD] [PAD] [PA...\n",
      "True Label: Entertainment, Predicted Label: Technology\n",
      "----------------------------------------------------------------------\n",
      "Text: [CLS] the basketball shooting guard sank a three - pointer at the buzzer to win the game. [SEP]...\n",
      "True Label: Sports, Predicted Label: Technology\n",
      "----------------------------------------------------------------------\n",
      "Text: [CLS] the importance of ethics education in education cannot be overstated. [SEP] [PAD] [PAD] [PAD] ...\n",
      "True Label: Education, Predicted Label: Technology\n",
      "----------------------------------------------------------------------\n",
      "Text: [CLS] the sports network broadcasted the championship game live to millions of viewers. [SEP] [PAD] ...\n",
      "True Label: Sports, Predicted Label: Entertainment\n",
      "----------------------------------------------------------------------\n",
      "Text: [CLS] the importance of slow fashion in promoting sustainability cannot be overemphasized. [SEP] [PA...\n",
      "True Label: Fashion, Predicted Label: Technology\n",
      "----------------------------------------------------------------------\n",
      "Text: [CLS] the marathoner crossed the finish line with a burst of speed. [SEP] [PAD] [PAD] [PAD] [PAD] [P...\n",
      "True Label: Sports, Predicted Label: Entertainment\n",
      "----------------------------------------------------------------------\n",
      "Text: [CLS] the impact of noise pollution on the environment is a topic of ongoing research. [SEP] [PAD] [...\n",
      "True Label: Environment, Predicted Label: Travel\n",
      "----------------------------------------------------------------------\n",
      "Text: [CLS] the impact of educational attainment on water conservation is a topic of ongoing research. [SE...\n",
      "True Label: Education, Predicted Label: Technology\n",
      "----------------------------------------------------------------------\n",
      "Text: [CLS] the link between obesity and chronic diseases such as diabetes and heart disease is well estab...\n",
      "True Label: Health, Predicted Label: Technology\n",
      "----------------------------------------------------------------------\n",
      "Text: [CLS] the impact of food deserts on health is a topic of concern. [SEP] [PAD] [PAD] [PAD] [PAD] [PAD...\n",
      "True Label: Food, Predicted Label: Technology\n",
      "----------------------------------------------------------------------\n",
      "Text: [CLS] the world health organization has issued new guidelines on covid - 19. [SEP] [PAD] [PAD] [PAD]...\n",
      "True Label: Health, Predicted Label: Technology\n",
      "----------------------------------------------------------------------\n",
      "Text: [CLS] the film franchise announced plans for a trilogy to conclude the epic saga. [SEP] [PAD] [PAD] ...\n",
      "True Label: Entertainment, Predicted Label: Technology\n",
      "----------------------------------------------------------------------\n",
      "Text: [CLS] the importance of reducing plastic pollution in promoting sustainability cannot be overstated....\n",
      "True Label: Environment, Predicted Label: Entertainment\n",
      "----------------------------------------------------------------------\n",
      "Text: [CLS] the impact of food deserts on food culture is a topic of concern. [SEP] [PAD] [PAD] [PAD] [PAD...\n",
      "True Label: Food, Predicted Label: Technology\n",
      "----------------------------------------------------------------------\n",
      "Text: [CLS] the basketball coach motivates players with inspirational speeches before games. [SEP] [PAD] [...\n",
      "True Label: Sports, Predicted Label: Technology\n",
      "----------------------------------------------------------------------\n",
      "Text: [CLS] the impact of educational attainment on peace and security is a topic of ongoing research. [SE...\n",
      "True Label: Education, Predicted Label: Environment\n",
      "----------------------------------------------------------------------\n",
      "Text: [CLS] the importance of parental involvement in education cannot be overemphasized. [SEP] [PAD] [PAD...\n",
      "True Label: Education, Predicted Label: Technology\n",
      "----------------------------------------------------------------------\n",
      "Text: [CLS] the soccer fanatics painted their faces in the team's colors. [SEP] [PAD] [PAD] [PAD] [PAD] [P...\n",
      "True Label: Sports, Predicted Label: Technology\n",
      "----------------------------------------------------------------------\n",
      "Text: [CLS] the swimmer set a new personal best in the 100 - meter freestyle. [SEP] [PAD] [PAD] [PAD] [PAD...\n",
      "True Label: Sports, Predicted Label: Technology\n",
      "----------------------------------------------------------------------\n",
      "Text: [CLS] the impact of invasive species on the environment is a topic of ongoing research. [SEP] [PAD] ...\n",
      "True Label: Environment, Predicted Label: Technology\n",
      "----------------------------------------------------------------------\n",
      "Text: [CLS] the benefits of hydrogen fuel cells are many, including improved energy efficiency and reduced...\n",
      "True Label: Science, Predicted Label: Technology\n",
      "----------------------------------------------------------------------\n",
      "Text: [CLS] the tv network announced a reboot of a beloved sitcom from the 90s. [SEP] [PAD] [PAD] [PAD] [P...\n",
      "True Label: Entertainment, Predicted Label: Technology\n",
      "----------------------------------------------------------------------\n",
      "Text: [CLS] the benefits of traveling by dog sled are many, including adventure and connection with nature...\n",
      "True Label: Travel, Predicted Label: Entertainment\n",
      "----------------------------------------------------------------------\n",
      "Text: [CLS] the sports academy offers training programs for aspiring athletes. [SEP] [PAD] [PAD] [PAD] [PA...\n",
      "True Label: Sports, Predicted Label: Entertainment\n",
      "----------------------------------------------------------------------\n",
      "Text: [CLS] the importance of fashion education in promoting sustainability cannot be overstated. [SEP] [P...\n",
      "True Label: Fashion, Predicted Label: Technology\n",
      "----------------------------------------------------------------------\n",
      "Text: [CLS] the importance of sustainable fashion certifications in fashion cannot be overstated. [SEP] [P...\n",
      "True Label: Fashion, Predicted Label: Technology\n",
      "----------------------------------------------------------------------\n",
      "Text: [CLS] the link between alcohol consumption and liver disease is well established. [SEP] [PAD] [PAD] ...\n",
      "True Label: Health, Predicted Label: Travel\n",
      "----------------------------------------------------------------------\n",
      "Text: [CLS] the impact of the sharing economy on traditional industries is a topic of ongoing debate. [SEP...\n",
      "True Label: Finance, Predicted Label: Technology\n",
      "----------------------------------------------------------------------\n",
      "Text: [CLS] the benefits of recycling are many, including reduced landfill waste and conserved resources. ...\n",
      "True Label: Environment, Predicted Label: Travel\n",
      "----------------------------------------------------------------------\n",
      "Text: [CLS] the impact of fashion on cultural exchange is a topic of ongoing research. [SEP] [PAD] [PAD] [...\n",
      "True Label: Fashion, Predicted Label: Entertainment\n",
      "----------------------------------------------------------------------\n",
      "Text: [CLS] the benefits of traveling by bike are many, including exercise and environmental sustainabilit...\n",
      "True Label: Travel, Predicted Label: Entertainment\n",
      "----------------------------------------------------------------------\n",
      "Text: [CLS] the impact of wildfires on ecosystems is a topic of ongoing scientific research. [SEP] [PAD] [...\n",
      "True Label: Science, Predicted Label: Technology\n",
      "----------------------------------------------------------------------\n",
      "Text: [CLS] the sports network broadcasted the match to millions of viewers worldwide. [SEP] [PAD] [PAD] [...\n",
      "True Label: Sports, Predicted Label: Entertainment\n",
      "----------------------------------------------------------------------\n",
      "Text: [CLS] fashion is a form of self - expression and creativity. [SEP] [PAD] [PAD] [PAD] [PAD] [PAD] [PA...\n",
      "True Label: Fashion, Predicted Label: Technology\n",
      "----------------------------------------------------------------------\n",
      "Text: [CLS] the congress is debating a new bill to reform the healthcare system. [SEP] [PAD] [PAD] [PAD] [...\n",
      "True Label: Politics, Predicted Label: Technology\n",
      "----------------------------------------------------------------------\n",
      "Text: [CLS] the best way to explore a new city is on foot. [SEP] [PAD] [PAD] [PAD] [PAD] [PAD]...\n",
      "True Label: Travel, Predicted Label: Technology\n",
      "----------------------------------------------------------------------\n",
      "Text: [CLS] the benefits of a healthy weight for overall health are well established. [SEP] [PAD] [PAD] [P...\n",
      "True Label: Health, Predicted Label: Entertainment\n",
      "----------------------------------------------------------------------\n",
      "Text: [CLS] the benefits of regular exercise for reducing the risk of diabetes are well documented. [SEP] ...\n",
      "True Label: Health, Predicted Label: Entertainment\n",
      "----------------------------------------------------------------------\n",
      "Text: [CLS] the impact of educational attainment on social mobility is a topic of ongoing research. [SEP] ...\n",
      "True Label: Education, Predicted Label: Technology\n",
      "----------------------------------------------------------------------\n",
      "Text: [CLS] the importance of food transparency cannot be overstated. [SEP] [PAD] [PAD] [PAD] [PAD] [PAD] ...\n",
      "True Label: Food, Predicted Label: Entertainment\n",
      "----------------------------------------------------------------------\n",
      "Text: [CLS] the smartphone app allows users to track their fitness goals and progress. [SEP] [PAD] [PAD] [...\n",
      "True Label: Technology, Predicted Label: Entertainment\n",
      "----------------------------------------------------------------------\n",
      "Text: [CLS] the link between stress and mental health issues such as anxiety is well established. [SEP] [P...\n",
      "True Label: Health, Predicted Label: Technology\n",
      "----------------------------------------------------------------------\n",
      "Text: [CLS] the benefits of a problem - based learning education are many, including improved critical thi...\n",
      "True Label: Education, Predicted Label: Entertainment\n",
      "----------------------------------------------------------------------\n",
      "Text: [CLS] the best way to find affordable accommodations is to use a vacation rental website. [SEP] [PAD...\n",
      "True Label: Travel, Predicted Label: Entertainment\n",
      "----------------------------------------------------------------------\n",
      "Text: [CLS] the impact of corporate governance on financial performance is a topic of concern. [SEP] [PAD]...\n",
      "True Label: Finance, Predicted Label: Technology\n",
      "----------------------------------------------------------------------\n",
      "Text: [CLS] the impact of ocean plastics on marine life is a topic of ongoing research. [SEP] [PAD] [PAD] ...\n",
      "True Label: Environment, Predicted Label: Technology\n",
      "----------------------------------------------------------------------\n",
      "Text: [CLS] the importance of science outreach in promoting diversity and inclusion in stem cannot be over...\n",
      "True Label: Science, Predicted Label: Technology\n",
      "----------------------------------------------------------------------\n",
      "Text: [CLS] the american heart association recommends regular physical activity to reduce the risk of hear...\n",
      "True Label: Health, Predicted Label: Entertainment\n",
      "----------------------------------------------------------------------\n",
      "Text: [CLS] the soccer match ended in a draw after a thrilling 90 minutes. [SEP] [PAD] [PAD] [PAD] [PAD] [...\n",
      "True Label: Sports, Predicted Label: Travel\n",
      "----------------------------------------------------------------------\n",
      "Text: [CLS] the impact of overfishing on marine ecosystems is a topic of ongoing scientific research. [SEP...\n",
      "True Label: Science, Predicted Label: Technology\n",
      "----------------------------------------------------------------------\n",
      "Text: [CLS] the impact of food waste on the environment is a growing concern. [SEP] [PAD] [PAD] [PAD] [PAD...\n",
      "True Label: Food, Predicted Label: Technology\n",
      "----------------------------------------------------------------------\n",
      "Text: [CLS] the impact of fashion on cultural homogenization is a topic of ongoing concern. [SEP] [PAD] [P...\n",
      "True Label: Fashion, Predicted Label: Technology\n",
      "----------------------------------------------------------------------\n",
      "Text: [CLS] the broadway show won multiple tony awards. [SEP] [PAD] [PAD] [PAD] [PAD] [PAD] [PAD] [PAD] [P...\n",
      "True Label: Entertainment, Predicted Label: Technology\n",
      "----------------------------------------------------------------------\n",
      "Text: [CLS] the benefits of regular exercise for immune function are well documented. [SEP] [PAD] [PAD] [P...\n",
      "True Label: Health, Predicted Label: Entertainment\n",
      "----------------------------------------------------------------------\n",
      "Text: [CLS] the triathlete completed the grueling race despite challenging conditions. [SEP] [PAD] [PAD] [...\n",
      "True Label: Sports, Predicted Label: Technology\n",
      "----------------------------------------------------------------------\n",
      "Text: [CLS] the importance of cooking at home cannot be overstated. [SEP] [PAD] [PAD] [PAD] [PAD] [PAD] [P...\n",
      "True Label: Food, Predicted Label: Entertainment\n",
      "----------------------------------------------------------------------\n",
      "Text: [CLS] the impact of the digital economy on travel booking is a topic of ongoing debate. [SEP] [PAD] ...\n",
      "True Label: Travel, Predicted Label: Technology\n",
      "----------------------------------------------------------------------\n",
      "Text: [CLS] the impact of sea level rise on coastal communities is a topic of ongoing scientific research....\n",
      "True Label: Science, Predicted Label: Technology\n",
      "----------------------------------------------------------------------\n",
      "Text: [CLS] the indie film premiered at a prestigious film festival to critical acclaim. [SEP] [PAD] [PAD]...\n",
      "True Label: Entertainment, Predicted Label: Technology\n",
      "----------------------------------------------------------------------\n",
      "Text: [CLS] the impact of fashion on mental health is a topic of ongoing concern. [SEP] [PAD] [PAD] [PAD] ...\n",
      "True Label: Fashion, Predicted Label: Technology\n",
      "----------------------------------------------------------------------\n",
      "Text: [CLS] the impact of standardized testing on education is a topic of concern. [SEP] [PAD] [PAD] [PAD]...\n",
      "True Label: Education, Predicted Label: Technology\n",
      "----------------------------------------------------------------------\n",
      "Text: [CLS] the impact of cultural appropriation in fashion is a topic of ongoing debate. [SEP] [PAD] [PAD...\n",
      "True Label: Fashion, Predicted Label: Entertainment\n",
      "----------------------------------------------------------------------\n",
      "Text: [CLS] the benefits of eating a dash diet are many, including reduced blood pressure and improved hea...\n",
      "True Label: Food, Predicted Label: Entertainment\n",
      "----------------------------------------------------------------------\n",
      "Text: [CLS] the benefits of using biomass energy are many, including reduced greenhouse gas emissions and ...\n",
      "True Label: Environment, Predicted Label: Technology\n",
      "----------------------------------------------------------------------\n",
      "Text: [CLS] the impact of the digital economy on travel is a topic of ongoing debate. [SEP] [PAD] [PAD] [P...\n",
      "True Label: Travel, Predicted Label: Technology\n",
      "----------------------------------------------------------------------\n",
      "Text: [CLS] the benefits of a service - learning education are many, including improved civic engagement a...\n",
      "True Label: Education, Predicted Label: Technology\n",
      "----------------------------------------------------------------------\n",
      "Text: [CLS] the importance of food sovereignty cannot be overstated. [SEP] [PAD] [PAD] [PAD] [PAD] [PAD] [...\n",
      "True Label: Food, Predicted Label: Entertainment\n",
      "----------------------------------------------------------------------\n",
      "Text: [CLS] the benefits of scientific research are many, including improved understanding of the world an...\n",
      "True Label: Science, Predicted Label: Entertainment\n",
      "----------------------------------------------------------------------\n",
      "Text: [CLS] the benefits of investing in real estate investment trusts ( reits ) for income are well estab...\n",
      "True Label: Finance, Predicted Label: Environment\n",
      "----------------------------------------------------------------------\n",
      "Text: [CLS] the benefits of using hydroelectric power are many, including reduced greenhouse gas emissions...\n",
      "True Label: Environment, Predicted Label: Technology\n",
      "----------------------------------------------------------------------\n",
      "Text: [CLS] the artificial intelligence system outperformed human experts in diagnosing medical conditions...\n",
      "True Label: Technology, Predicted Label: Entertainment\n",
      "----------------------------------------------------------------------\n",
      "Text: [CLS] the american cancer society recommends avoiding exposure to secondhand smoke. [SEP] [PAD] [PAD...\n",
      "True Label: Health, Predicted Label: Travel\n",
      "----------------------------------------------------------------------\n",
      "Text: [CLS] the gender pay gap is a persistent issue in many industries. [SEP] [PAD] [PAD] [PAD] [PAD] [PA...\n",
      "True Label: Finance, Predicted Label: Entertainment\n",
      "----------------------------------------------------------------------\n",
      "Text: [CLS] the benefits of traveling by foot are many, including exercise and environmental sustainabilit...\n",
      "True Label: Travel, Predicted Label: Entertainment\n",
      "----------------------------------------------------------------------\n",
      "Text: [CLS] the impact of climate change on travel is becoming increasingly clear. [SEP] [PAD] [PAD] [PAD]...\n",
      "True Label: Travel, Predicted Label: Technology\n",
      "----------------------------------------------------------------------\n",
      "Text: [CLS] the benefits of investing in infrastructure for long - term growth are well established. [SEP]...\n",
      "True Label: Finance, Predicted Label: Technology\n",
      "----------------------------------------------------------------------\n",
      "Text: [CLS] the opposition party is calling for a vote of no confidence in the prime minister. [SEP] [PAD]...\n",
      "True Label: Politics, Predicted Label: Environment\n",
      "----------------------------------------------------------------------\n",
      "Text: [CLS] the cost of healthcare is a major concern for many americans. [SEP] [PAD] [PAD] [PAD] [PAD] [P...\n",
      "True Label: Finance, Predicted Label: Entertainment\n",
      "----------------------------------------------------------------------\n",
      "Text: [CLS] the sports supplement company sponsors athletes to promote their products. [SEP] [PAD] [PAD] [...\n",
      "True Label: Sports, Predicted Label: Entertainment\n",
      "----------------------------------------------------------------------\n",
      "Text: [CLS] the sports commentator provided insightful analysis during the game. [SEP] [PAD] [PAD] [PAD] [...\n",
      "True Label: Sports, Predicted Label: Entertainment\n",
      "----------------------------------------------------------------------\n",
      "Text: [CLS] the benefits of using natural dyes in fashion are many, including reduced environmental impact...\n",
      "True Label: Fashion, Predicted Label: Travel\n",
      "----------------------------------------------------------------------\n",
      "Text: [CLS] the benefits of a cooperative learning education are many, including improved teamwork and soc...\n",
      "True Label: Education, Predicted Label: Technology\n",
      "----------------------------------------------------------------------\n",
      "Text: [CLS] the world health organization has declared a global health emergency due to the spread of the ...\n",
      "True Label: Health, Predicted Label: Entertainment\n",
      "----------------------------------------------------------------------\n",
      "Text: [CLS] the impact of food processing on nutrient content is a topic of ongoing debate. [SEP] [PAD] [P...\n",
      "True Label: Food, Predicted Label: Environment\n",
      "----------------------------------------------------------------------\n",
      "Text: [CLS] the benefits of stem cell research are many, including potential for new medical treatments an...\n",
      "True Label: Science, Predicted Label: Environment\n",
      "----------------------------------------------------------------------\n",
      "Text: [CLS] the sports apparel company sponsors elite athletes in various disciplines. [SEP] [PAD] [PAD] [...\n",
      "True Label: Sports, Predicted Label: Technology\n",
      "----------------------------------------------------------------------\n",
      "Text: [CLS] the benefits of investing in venture capital for high - growth potential are well established....\n",
      "True Label: Finance, Predicted Label: Environment\n",
      "----------------------------------------------------------------------\n",
      "Text: [CLS] the singer - songwriter performed an intimate concert for a select group of fans. [SEP] [PAD] ...\n",
      "True Label: Entertainment, Predicted Label: Environment\n",
      "----------------------------------------------------------------------\n",
      "Text: [CLS] the importance of environmental education in education cannot be overstated. [SEP] [PAD] [PAD]...\n",
      "True Label: Education, Predicted Label: Technology\n",
      "----------------------------------------------------------------------\n",
      "Text: [CLS] the importance of character education in education cannot be overstated. [SEP] [PAD] [PAD] [PA...\n",
      "True Label: Education, Predicted Label: Technology\n",
      "----------------------------------------------------------------------\n",
      "Text: [CLS] the importance of physical education in education cannot be overstated. [SEP] [PAD] [PAD] [PAD...\n",
      "True Label: Education, Predicted Label: Technology\n",
      "----------------------------------------------------------------------\n",
      "Text: [CLS] the impact of the aging population on luxury travel is a topic of concern. [SEP] [PAD] [PAD] [...\n",
      "True Label: Travel, Predicted Label: Technology\n",
      "----------------------------------------------------------------------\n",
      "Text: [CLS] the benefits of financial planning for personal finance are well established. [SEP] [PAD] [PAD...\n",
      "True Label: Finance, Predicted Label: Environment\n",
      "----------------------------------------------------------------------\n",
      "Text: [CLS] the two parties are at odds over the proposed budget. [SEP] [PAD] [PAD] [PAD] [PAD] [PAD] [PAD...\n",
      "True Label: Politics, Predicted Label: Entertainment\n",
      "----------------------------------------------------------------------\n",
      "Text: [CLS] the governor has announced a plan to address the housing crisis. [SEP] [PAD] [PAD] [PAD] [PAD]...\n",
      "True Label: Politics, Predicted Label: Technology\n",
      "----------------------------------------------------------------------\n",
      "Text: [CLS] the prime minister has announced a new plan to improve the economy. [SEP] [PAD] [PAD] [PAD] [P...\n",
      "True Label: Politics, Predicted Label: Travel\n",
      "----------------------------------------------------------------------\n",
      "Text: [CLS] the benefits of tidal power are many, including improved energy security and reduced greenhous...\n",
      "True Label: Science, Predicted Label: Technology\n",
      "----------------------------------------------------------------------\n",
      "Text: [CLS] the impact of desertification on the environment is a topic of ongoing concern. [SEP] [PAD] [P...\n",
      "True Label: Environment, Predicted Label: Technology\n",
      "----------------------------------------------------------------------\n",
      "Text: [CLS] the impact of food deserts on childhood obesity is a topic of concern. [SEP] [PAD] [PAD] [PAD]...\n",
      "True Label: Food, Predicted Label: Technology\n",
      "----------------------------------------------------------------------\n",
      "Text: [CLS] the impact of educational attainment on sustainable development is a topic of concern. [SEP] [...\n",
      "True Label: Education, Predicted Label: Technology\n",
      "----------------------------------------------------------------------\n",
      "Text: [CLS] the autonomous vehicle industry is poised for rapid growth in the coming years. [SEP] [PAD] [P...\n",
      "True Label: Technology, Predicted Label: Entertainment\n",
      "----------------------------------------------------------------------\n",
      "Text: [CLS] the congress has launched an investigation into the allegations of misconduct. [SEP] [PAD] [PA...\n",
      "True Label: Politics, Predicted Label: Entertainment\n",
      "----------------------------------------------------------------------\n",
      "Text: [CLS] the importance of science diplomacy in promoting international cooperation and addressing glob...\n",
      "True Label: Science, Predicted Label: Entertainment\n",
      "----------------------------------------------------------------------\n",
      "Text: [CLS] the importance of protecting mangroves in maintaining coastal ecosystems cannot be overemphasi...\n",
      "True Label: Environment, Predicted Label: Entertainment\n",
      "----------------------------------------------------------------------\n",
      "Text: [CLS] the benefits of eating organic food are well established. [SEP] [PAD] [PAD] [PAD] [PAD] [PAD] ...\n",
      "True Label: Food, Predicted Label: Entertainment\n",
      "----------------------------------------------------------------------\n",
      "Text: [CLS] the benefits of investing in emerging markets are well established. [SEP] [PAD] [PAD] [PAD] [P...\n",
      "True Label: Finance, Predicted Label: Technology\n",
      "----------------------------------------------------------------------\n",
      "Text: [CLS] the benefits of investing in private equity for high - growth potential are well established. ...\n",
      "True Label: Finance, Predicted Label: Entertainment\n",
      "----------------------------------------------------------------------\n",
      "Text: [CLS] the senator is facing criticism for her stance on the recent bill. [SEP] [PAD] [PAD] [PAD] [PA...\n",
      "True Label: Politics, Predicted Label: Entertainment\n",
      "----------------------------------------------------------------------\n",
      "Text: [CLS] the impact of fashion trends on consumer behavior is a topic of ongoing research. [SEP] [PAD] ...\n",
      "True Label: Fashion, Predicted Label: Technology\n",
      "----------------------------------------------------------------------\n",
      "Text: [CLS] the impact of fashion on social justice is a topic of ongoing research. [SEP] [PAD] [PAD] [PAD...\n",
      "True Label: Fashion, Predicted Label: Technology\n",
      "----------------------------------------------------------------------\n",
      "Text: [CLS] the benefits of a competency - based education are many, including improved mastery and skill ...\n",
      "True Label: Education, Predicted Label: Environment\n",
      "----------------------------------------------------------------------\n",
      "Text: [CLS] the sports agent negotiates contracts on behalf of professional athletes. [SEP] [PAD] [PAD] [P...\n",
      "True Label: Sports, Predicted Label: Entertainment\n",
      "----------------------------------------------------------------------\n",
      "Text: [CLS] the benefits of eating a low - histamine diet are many, including reduced allergy symptoms and...\n",
      "True Label: Food, Predicted Label: Entertainment\n",
      "----------------------------------------------------------------------\n",
      "Text: [CLS] the importance of reading food labels cannot be overstated. [SEP] [PAD] [PAD] [PAD] [PAD] [PAD...\n",
      "True Label: Food, Predicted Label: Entertainment\n",
      "----------------------------------------------------------------------\n",
      "Text: [CLS] the rise of automation is leading to concerns about job displacement and income inequality. [S...\n",
      "True Label: Finance, Predicted Label: Environment\n",
      "----------------------------------------------------------------------\n",
      "Text: [CLS] the benefits of a place - based education are many, including improved community engagement an...\n",
      "True Label: Education, Predicted Label: Travel\n",
      "----------------------------------------------------------------------\n",
      "Text: [CLS] the importance of ethical labor practices in fashion cannot be overstated. [SEP] [PAD] [PAD] [...\n",
      "True Label: Fashion, Predicted Label: Entertainment\n",
      "----------------------------------------------------------------------\n",
      "Text: [CLS] the benefits of using zero - waste design in fashion are many, including reduced waste and imp...\n",
      "True Label: Fashion, Predicted Label: Travel\n",
      "----------------------------------------------------------------------\n",
      "Text: [CLS] the opposition party is calling for a national referendum. [SEP] [PAD] [PAD] [PAD] [PAD] [PAD]...\n",
      "True Label: Politics, Predicted Label: Environment\n",
      "----------------------------------------------------------------------\n",
      "Text: [CLS] the importance of protecting riparian zones in maintaining water quality cannot be overemphasi...\n",
      "True Label: Environment, Predicted Label: Entertainment\n",
      "----------------------------------------------------------------------\n",
      "Text: [CLS] the governor has announced a plan to address the gun violence crisis. [SEP] [PAD] [PAD] [PAD] ...\n",
      "True Label: Politics, Predicted Label: Travel\n",
      "----------------------------------------------------------------------\n",
      "Text: [CLS] the e - commerce platform uses algorithms to recommend personalized products to customers. [SE...\n",
      "True Label: Technology, Predicted Label: Sports\n",
      "----------------------------------------------------------------------\n",
      "Text: [CLS] the impact of ocean warming on marine life is a topic of ongoing scientific research. [SEP] [P...\n",
      "True Label: Science, Predicted Label: Technology\n",
      "----------------------------------------------------------------------\n",
      "Text: [CLS] the importance of food quality cannot be overemphasized. [SEP] [PAD] [PAD] [PAD] [PAD] [PAD] [...\n",
      "True Label: Food, Predicted Label: Entertainment\n",
      "----------------------------------------------------------------------\n",
      "Text: [CLS] the american heart association recommends eating a diet low in saturated and trans fats to red...\n",
      "True Label: Health, Predicted Label: Entertainment\n",
      "----------------------------------------------------------------------\n",
      "Text: [CLS] the coach motivated the team with an inspiring pep talk before the game. [SEP] [PAD] [PAD] [PA...\n",
      "True Label: Sports, Predicted Label: Entertainment\n",
      "----------------------------------------------------------------------\n",
      "Text: [CLS] the soccer player was awarded mvp for outstanding performance throughout the season. [SEP] [PA...\n",
      "True Label: Sports, Predicted Label: Technology\n",
      "----------------------------------------------------------------------\n",
      "Text: [CLS] the congress is debating a new bill to reform the financial sector. [SEP] [PAD] [PAD] [PAD] [P...\n",
      "True Label: Politics, Predicted Label: Technology\n",
      "----------------------------------------------------------------------\n",
      "Text: [CLS] the impact of light pollution on the environment is a topic of ongoing scientific research. [S...\n",
      "True Label: Science, Predicted Label: Environment\n",
      "----------------------------------------------------------------------\n",
      "Text: [CLS] the american heart association recommends a diet low in sugar to reduce the risk of heart dise...\n",
      "True Label: Health, Predicted Label: Entertainment\n",
      "----------------------------------------------------------------------\n",
      "Text: [CLS] the importance of digital citizenship education in education cannot be overemphasized. [SEP] [...\n",
      "True Label: Education, Predicted Label: Technology\n",
      "----------------------------------------------------------------------\n",
      "Text: [CLS] the link between poor nutrition and cognitive decline is well established. [SEP] [PAD] [PAD] [...\n",
      "True Label: Health, Predicted Label: Travel\n",
      "----------------------------------------------------------------------\n",
      "Text: [CLS] the benefits of regular exercise for mental health are well documented. [SEP] [PAD] [PAD] [PAD...\n",
      "True Label: Health, Predicted Label: Entertainment\n",
      "----------------------------------------------------------------------\n",
      "Text: [CLS] the importance of reducing water pollution in promoting sustainability cannot be overstated. [...\n",
      "True Label: Environment, Predicted Label: Entertainment\n",
      "----------------------------------------------------------------------\n",
      "Text: [CLS] the impact of fashion on water consumption is a topic of ongoing concern. [SEP] [PAD] [PAD] [P...\n",
      "True Label: Fashion, Predicted Label: Technology\n",
      "----------------------------------------------------------------------\n",
      "Text: [CLS] the importance of sustainable fashion marketing in promoting sustainability cannot be overstat...\n",
      "True Label: Fashion, Predicted Label: Technology\n",
      "----------------------------------------------------------------------\n",
      "Text: [CLS] the benefits of using hydrogen fuel cells are many, including reduced greenhouse gas emissions...\n",
      "True Label: Environment, Predicted Label: Technology\n",
      "----------------------------------------------------------------------\n",
      "Text: [CLS] the best way to find the best local cultural experiences is to do your research ahead of time....\n",
      "True Label: Travel, Predicted Label: Technology\n",
      "----------------------------------------------------------------------\n",
      "Text: [CLS] the benefits of investing in bonds for income are well established. [SEP] [PAD] [PAD] [PAD] [P...\n",
      "True Label: Finance, Predicted Label: Technology\n",
      "----------------------------------------------------------------------\n",
      "Text: [CLS] the american heart association recommends a diet low in cholesterol to reduce the risk of hear...\n",
      "True Label: Health, Predicted Label: Entertainment\n",
      "----------------------------------------------------------------------\n",
      "Text: [CLS] the best way to get around a new city is by using public transportation. [SEP] [PAD] [PAD] [PA...\n",
      "True Label: Travel, Predicted Label: Technology\n",
      "----------------------------------------------------------------------\n",
      "Text: [CLS] the benefits of using natural fibers in fashion are many, including improved breathability and...\n",
      "True Label: Fashion, Predicted Label: Travel\n",
      "----------------------------------------------------------------------\n",
      "Text: [CLS] the best way to find the best local religious sites is to do your research ahead of time. [SEP...\n",
      "True Label: Travel, Predicted Label: Technology\n",
      "----------------------------------------------------------------------\n",
      "Text: [CLS] the importance of ethics education in education cannot be overstated. [SEP] [PAD] [PAD] [PAD] ...\n",
      "True Label: Education, Predicted Label: Technology\n",
      "----------------------------------------------------------------------\n",
      "Text: [CLS] the benefits of a healthy diet for gut health are becoming increasingly clear. [SEP] [PAD] [PA...\n",
      "True Label: Health, Predicted Label: Technology\n",
      "----------------------------------------------------------------------\n",
      "Text: [CLS] the importance of sustainable forestry in promoting biodiversity cannot be overemphasized. [SE...\n",
      "True Label: Environment, Predicted Label: Entertainment\n",
      "----------------------------------------------------------------------\n",
      "Text: [CLS] the movie trailer teased audiences with glimpses of action - packed scenes. [SEP] [PAD] [PAD] ...\n",
      "True Label: Entertainment, Predicted Label: Technology\n",
      "----------------------------------------------------------------------\n",
      "Text: [CLS] the impact of mergers and acquisitions on the economy is a topic of ongoing debate. [SEP] [PAD...\n",
      "True Label: Finance, Predicted Label: Technology\n",
      "----------------------------------------------------------------------\n",
      "Text: [CLS] the cybersecurity expert advises companies on strategies to protect against cyber threats. [SE...\n",
      "True Label: Technology, Predicted Label: Sports\n",
      "----------------------------------------------------------------------\n",
      "Text: [CLS] the benefits of a global education are many, including improved cross - cultural understanding...\n",
      "True Label: Education, Predicted Label: Travel\n",
      "----------------------------------------------------------------------\n",
      "Text: [CLS] the reality tv show follows contestants as they compete in extreme challenges. [SEP] [PAD] [PA...\n",
      "True Label: Entertainment, Predicted Label: Technology\n",
      "----------------------------------------------------------------------\n",
      "Text: [CLS] the link between stress and cognitive decline is well established. [SEP] [PAD] [PAD] [PAD] [PA...\n",
      "True Label: Health, Predicted Label: Travel\n",
      "----------------------------------------------------------------------\n",
      "Text: [CLS] the wearable fitness tracker motivates users to stay active and reach their goals. [SEP] [PAD]...\n",
      "True Label: Technology, Predicted Label: Travel\n",
      "----------------------------------------------------------------------\n",
      "Text: [CLS] the robotics engineer designs robots for various applications, from manufacturing to healthcar...\n",
      "True Label: Technology, Predicted Label: Entertainment\n",
      "----------------------------------------------------------------------\n",
      "Text: [CLS] the benefits of using blockchain technology in fashion are many, including improved transparen...\n",
      "True Label: Fashion, Predicted Label: Travel\n",
      "----------------------------------------------------------------------\n",
      "Text: [CLS] the world health organization is urging countries to invest in infectious disease control prog...\n",
      "True Label: Health, Predicted Label: Technology\n",
      "----------------------------------------------------------------------\n",
      "Text: [CLS] the software developer collaborated with designers to create a user - friendly interface. [SEP...\n",
      "True Label: Technology, Predicted Label: Entertainment\n",
      "----------------------------------------------------------------------\n",
      "Text: [CLS] the importance of travel insurance cannot be overstated. [SEP] [PAD] [PAD] [PAD] [PAD] [PAD] [...\n",
      "True Label: Travel, Predicted Label: Technology\n",
      "----------------------------------------------------------------------\n",
      "Text: [CLS] the actor's portrayal of a historical figure earned them critical acclaim. [SEP] [PAD] [PAD] [...\n",
      "True Label: Entertainment, Predicted Label: Technology\n",
      "----------------------------------------------------------------------\n",
      "Text: [CLS] the benefits of a healthy gut microbiome for overall health are becoming increasingly clear. [...\n",
      "True Label: Health, Predicted Label: Entertainment\n",
      "----------------------------------------------------------------------\n",
      "Text: [CLS] the importance of sustainable textile innovation in fashion cannot be overemphasized. [SEP] [P...\n",
      "True Label: Fashion, Predicted Label: Entertainment\n",
      "----------------------------------------------------------------------\n",
      "Text: [CLS] the benefits of hydroponics are many, including improved water efficiency and reduced need for...\n",
      "True Label: Science, Predicted Label: Travel\n",
      "----------------------------------------------------------------------\n",
      "Text: [CLS] the impact of educational attainment on crime is a topic of concern. [SEP] [PAD] [PAD] [PAD] [...\n",
      "True Label: Education, Predicted Label: Technology\n",
      "----------------------------------------------------------------------\n",
      "Text: [CLS] the startup accelerator provides mentoring and funding to early - stage tech companies. [SEP] ...\n",
      "True Label: Technology, Predicted Label: Entertainment\n",
      "----------------------------------------------------------------------\n",
      "Text: [CLS] the world health organization is urging countries to invest in mental health services. [SEP] [...\n",
      "True Label: Health, Predicted Label: Technology\n",
      "----------------------------------------------------------------------\n",
      "Text: [CLS] the film franchise announced a prequel exploring the origins of its iconic characters. [SEP] [...\n",
      "True Label: Entertainment, Predicted Label: Technology\n",
      "----------------------------------------------------------------------\n",
      "Text: [CLS] the impact of the digital economy on travel planning is a topic of ongoing debate. [SEP] [PAD]...\n",
      "True Label: Travel, Predicted Label: Technology\n",
      "----------------------------------------------------------------------\n",
      "Text: [CLS] the impact of fashion on labor rights is a topic of ongoing research. [SEP] [PAD] [PAD] [PAD] ...\n",
      "True Label: Fashion, Predicted Label: Technology\n",
      "----------------------------------------------------------------------\n",
      "Text: [CLS] the importance of scientific ethics in ensuring the responsible conduct of research cannot be ...\n",
      "True Label: Science, Predicted Label: Entertainment\n",
      "----------------------------------------------------------------------\n",
      "Text: [CLS] the impact of fashion advertising on body image is a topic of ongoing concern. [SEP] [PAD] [PA...\n",
      "True Label: Fashion, Predicted Label: Entertainment\n",
      "----------------------------------------------------------------------\n",
      "Text: [CLS] the rowing team trained on the river early in the morning. [SEP] [PAD] [PAD] [PAD] [PAD] [PAD]...\n",
      "True Label: Sports, Predicted Label: Technology\n",
      "----------------------------------------------------------------------\n",
      "Text: [CLS] the art museum hosts special exhibitions featuring works on loan from other institutions. [SEP...\n",
      "True Label: Entertainment, Predicted Label: Technology\n",
      "----------------------------------------------------------------------\n",
      "Text: [CLS] the impact of fashion on cultural heritage is a topic of ongoing concern. [SEP] [PAD] [PAD] [P...\n",
      "True Label: Fashion, Predicted Label: Technology\n",
      "----------------------------------------------------------------------\n",
      "Text: [CLS] the impact of the opioid crisis on healthcare costs is a topic of concern. [SEP] [PAD] [PAD] [...\n",
      "True Label: Finance, Predicted Label: Technology\n",
      "----------------------------------------------------------------------\n",
      "Text: [CLS] the mayor has been accused of failing to address the needs of the community. [SEP] [PAD] [PAD]...\n",
      "True Label: Politics, Predicted Label: Travel\n",
      "----------------------------------------------------------------------\n",
      "Text: [CLS] the mobile app developer creates applications for smartphones and tablets. [SEP] [PAD] [PAD] [...\n",
      "True Label: Technology, Predicted Label: Entertainment\n",
      "----------------------------------------------------------------------\n",
      "Text: [CLS] the impact of the digital economy on traditional industries is a topic of ongoing debate. [SEP...\n",
      "True Label: Finance, Predicted Label: Technology\n",
      "----------------------------------------------------------------------\n",
      "Text: [CLS] the benefits of regular exercise for cognitive function are well documented. [SEP] [PAD] [PAD]...\n",
      "True Label: Health, Predicted Label: Entertainment\n",
      "----------------------------------------------------------------------\n",
      "Text: [CLS] the benefits of a service - learning education are many, including improved civic engagement a...\n",
      "True Label: Education, Predicted Label: Technology\n",
      "----------------------------------------------------------------------\n",
      "Text: [CLS] the opposition party is calling for a national strike. [SEP] [PAD] [PAD] [PAD] [PAD] [PAD] [PA...\n",
      "True Label: Politics, Predicted Label: Environment\n",
      "----------------------------------------------------------------------\n",
      "Text: [CLS] the impact of the digital economy on travel experiences is a topic of ongoing debate. [SEP] [P...\n",
      "True Label: Travel, Predicted Label: Technology\n",
      "----------------------------------------------------------------------\n",
      "Text: [CLS] the benefits of a flipped classroom education are many, including improved engagement and rete...\n",
      "True Label: Education, Predicted Label: Entertainment\n",
      "----------------------------------------------------------------------\n",
      "Text: [CLS] the benefits of eating a low - lectin diet are many, including improved gut health and reduced...\n",
      "True Label: Food, Predicted Label: Technology\n",
      "----------------------------------------------------------------------\n",
      "Text: [CLS] the prime minister has announced a new plan to improve education. [SEP] [PAD] [PAD] [PAD] [PAD...\n",
      "True Label: Politics, Predicted Label: Technology\n",
      "----------------------------------------------------------------------\n",
      "Text: [CLS] the impact of fast fashion on the environment is a topic of ongoing concern. [SEP] [PAD] [PAD]...\n",
      "True Label: Fashion, Predicted Label: Technology\n",
      "----------------------------------------------------------------------\n",
      "Text: [CLS] the benefits of investing in startups for high - growth potential are well established. [SEP] ...\n",
      "True Label: Finance, Predicted Label: Technology\n",
      "----------------------------------------------------------------------\n",
      "Text: [CLS] the president has been accused of failing to uphold the law. [SEP] [PAD] [PAD] [PAD] [PAD] [PA...\n",
      "True Label: Politics, Predicted Label: Technology\n",
      "----------------------------------------------------------------------\n",
      "Text: [CLS] the coding bootcamp teaches students programming languages and software development skills. [S...\n",
      "True Label: Technology, Predicted Label: Travel\n",
      "----------------------------------------------------------------------\n",
      "Text: [CLS] the mayor has announced a plan to combat homelessness in the city. [SEP] [PAD] [PAD] [PAD] [PA...\n",
      "True Label: Politics, Predicted Label: Travel\n",
      "----------------------------------------------------------------------\n",
      "Text: [CLS] the importance of global competence education in education cannot be overstated. [SEP] [PAD] [...\n",
      "True Label: Education, Predicted Label: Environment\n",
      "----------------------------------------------------------------------\n",
      "Text: [CLS] the theater production received a standing ovation from the audience. [SEP] [PAD] [PAD] [PAD] ...\n",
      "True Label: Entertainment, Predicted Label: Technology\n",
      "----------------------------------------------------------------------\n",
      "Text: [CLS] the president has announced a new plan to address the poverty crisis. [SEP] [PAD] [PAD] [PAD] ...\n",
      "True Label: Politics, Predicted Label: Technology\n",
      "----------------------------------------------------------------------\n",
      "Text: [CLS] the benefits of solar power are many, including reduced greenhouse gas emissions and improved ...\n",
      "True Label: Science, Predicted Label: Environment\n",
      "----------------------------------------------------------------------\n",
      "Text: [CLS] the impact of ocean acidification on marine life is a topic of ongoing scientific research. [S...\n",
      "True Label: Science, Predicted Label: Entertainment\n",
      "----------------------------------------------------------------------\n",
      "Text: [CLS] the supreme court has issued a ruling on the controversial issue. [SEP] [PAD] [PAD] [PAD] [PAD...\n",
      "True Label: Politics, Predicted Label: Technology\n",
      "----------------------------------------------------------------------\n",
      "Text: [CLS] the link between poor nutrition and chronic diseases such as heart disease and cancer is well ...\n",
      "True Label: Health, Predicted Label: Travel\n",
      "----------------------------------------------------------------------\n",
      "Text: [CLS] the benefits of eating a raw food diet are many, including improved nutrient absorption and en...\n",
      "True Label: Food, Predicted Label: Technology\n",
      "----------------------------------------------------------------------\n",
      "Text: [CLS] the best way to find the best local outdoor activities is to do your research ahead of time. [...\n",
      "True Label: Travel, Predicted Label: Technology\n",
      "----------------------------------------------------------------------\n",
      "Text: [CLS] the mayor has called for an increase in funding for public schools. [SEP] [PAD] [PAD] [PAD] [P...\n",
      "True Label: Politics, Predicted Label: Entertainment\n",
      "----------------------------------------------------------------------\n",
      "Text: [CLS] the impact of food marketing on children is a topic of concern. [SEP] [PAD] [PAD] [PAD] [PAD] ...\n",
      "True Label: Food, Predicted Label: Technology\n",
      "----------------------------------------------------------------------\n",
      "Text: [CLS] the benefits of a healthy lifestyle for reducing the risk of chronic diseases are well documen...\n",
      "True Label: Health, Predicted Label: Entertainment\n",
      "----------------------------------------------------------------------\n",
      "Text: [CLS] the benefits of using reusable bags are many, including reduced waste and improved health. [SE...\n",
      "True Label: Environment, Predicted Label: Travel\n",
      "----------------------------------------------------------------------\n",
      "Text: [CLS] the benefits of robotics are many, including improved efficiency and safety in manufacturing a...\n",
      "True Label: Science, Predicted Label: Travel\n",
      "----------------------------------------------------------------------\n",
      "Text: [CLS] the benefits of nanomedicine are many, including potential for targeted drug delivery and impr...\n",
      "True Label: Science, Predicted Label: Travel\n",
      "----------------------------------------------------------------------\n",
      "Text: [CLS] the computer vision algorithm analyzes images to identify objects and faces. [SEP] [PAD] [PAD]...\n",
      "True Label: Technology, Predicted Label: Entertainment\n",
      "----------------------------------------------------------------------\n",
      "Text: [CLS] the film festival showcases independent films from around the world. [SEP] [PAD] [PAD] [PAD] [...\n",
      "True Label: Entertainment, Predicted Label: Technology\n",
      "----------------------------------------------------------------------\n",
      "Text: [CLS] the benefits of using sustainable materials are many, including reduced resource depletion and...\n",
      "True Label: Environment, Predicted Label: Technology\n",
      "----------------------------------------------------------------------\n",
      "Text: [CLS] the benefits of smart grids are many, including improved energy efficiency and reduced greenho...\n",
      "True Label: Science, Predicted Label: Travel\n",
      "----------------------------------------------------------------------\n",
      "Text: [CLS] the impact of the aging population on solo travel is a topic of concern. [SEP] [PAD] [PAD] [PA...\n",
      "True Label: Travel, Predicted Label: Technology\n",
      "----------------------------------------------------------------------\n",
      "Text: [CLS] the benefits of using 3d printing in fashion are many, including reduced waste and improved cu...\n",
      "True Label: Fashion, Predicted Label: Travel\n",
      "----------------------------------------------------------------------\n",
      "Text: [CLS] the impact of climate change on biodiversity is a topic of ongoing concern. [SEP] [PAD] [PAD] ...\n",
      "True Label: Environment, Predicted Label: Technology\n",
      "----------------------------------------------------------------------\n",
      "Text: [CLS] the impact of the aging population on wellness travel is a topic of concern. [SEP] [PAD] [PAD]...\n",
      "True Label: Travel, Predicted Label: Entertainment\n",
      "----------------------------------------------------------------------\n",
      "Text: [CLS] the wrestling match was intense, with both competitors giving their all. [SEP] [PAD] [PAD] [PA...\n",
      "True Label: Sports, Predicted Label: Technology\n",
      "----------------------------------------------------------------------\n",
      "Text: [CLS] the benefits of a game - based education are many, including improved motivation and engagemen...\n",
      "True Label: Education, Predicted Label: Travel\n",
      "----------------------------------------------------------------------\n",
      "Text: [CLS] the opposition party is calling for a national protest. [SEP] [PAD] [PAD] [PAD] [PAD] [PAD] [P...\n",
      "True Label: Politics, Predicted Label: Environment\n",
      "----------------------------------------------------------------------\n",
      "Text: [CLS] the importance of food diversity cannot be overemphasized. [SEP] [PAD] [PAD] [PAD] [PAD] [PAD]...\n",
      "True Label: Food, Predicted Label: Technology\n",
      "----------------------------------------------------------------------\n",
      "Text: [CLS] the benefits of a multilingual education are many, including improved cognitive and cultural a...\n",
      "True Label: Education, Predicted Label: Travel\n",
      "----------------------------------------------------------------------\n",
      "Text: [CLS] the impact of the trade war with china on the global economy is a topic of concern. [SEP] [PAD...\n",
      "True Label: Finance, Predicted Label: Entertainment\n",
      "----------------------------------------------------------------------\n",
      "Text: [CLS] the importance of circular fashion in promoting sustainability cannot be overstated. [SEP] [PA...\n",
      "True Label: Fashion, Predicted Label: Entertainment\n",
      "----------------------------------------------------------------------\n",
      "Text: [CLS] the impact of government spending on the economy is a topic of ongoing debate. [SEP] [PAD] [PA...\n",
      "True Label: Finance, Predicted Label: Technology\n",
      "----------------------------------------------------------------------\n",
      "Text: [CLS] the impact of government regulation on finance is a topic of concern. [SEP] [PAD] [PAD] [PAD] ...\n",
      "True Label: Finance, Predicted Label: Technology\n",
      "----------------------------------------------------------------------\n",
      "Text: [CLS] the importance of food education cannot be overstated. [SEP] [PAD] [PAD] [PAD] [PAD] [PAD] [PA...\n",
      "True Label: Food, Predicted Label: Technology\n",
      "----------------------------------------------------------------------\n",
      "Text: [CLS] the united nations has issued a statement condemning the recent human rights violations. [SEP]...\n",
      "True Label: Politics, Predicted Label: Entertainment\n",
      "----------------------------------------------------------------------\n",
      "Text: [CLS] the benefits of regenerative medicine are many, including potential for repairing or replacing...\n",
      "True Label: Science, Predicted Label: Travel\n",
      "----------------------------------------------------------------------\n",
      "Text: [CLS] the impact of teacher quality on student outcomes is a topic of ongoing research. [SEP] [PAD] ...\n",
      "True Label: Education, Predicted Label: Environment\n",
      "----------------------------------------------------------------------\n",
      "Text: [CLS] the student loan debt crisis is affecting millions of young people. [SEP] [PAD] [PAD] [PAD] [P...\n",
      "True Label: Finance, Predicted Label: Technology\n",
      "----------------------------------------------------------------------\n",
      "Text: [CLS] the benefits of investing in initial public offerings ( ipos ) for high - growth potential are...\n",
      "True Label: Finance, Predicted Label: Sports\n",
      "----------------------------------------------------------------------\n",
      "Text: [CLS] the basketball game went into overtime, but the home team emerged victorious. [SEP] [PAD] [PAD...\n",
      "True Label: Sports, Predicted Label: Travel\n",
      "----------------------------------------------------------------------\n",
      "Text: [CLS] the impact of technology on travel is transforming the industry. [SEP] [PAD] [PAD] [PAD] [PAD]...\n",
      "True Label: Travel, Predicted Label: Technology\n",
      "----------------------------------------------------------------------\n",
      "Text: [CLS] the impact of oil spills on the environment is a topic of ongoing research. [SEP] [PAD] [PAD] ...\n",
      "True Label: Environment, Predicted Label: Travel\n",
      "----------------------------------------------------------------------\n",
      "Text: [CLS] the swimmer broke the national record in the 200 - meter butterfly. [SEP] [PAD] [PAD] [PAD] [P...\n",
      "True Label: Sports, Predicted Label: Entertainment\n",
      "----------------------------------------------------------------------\n",
      "Text: [CLS] the impact of the gig economy on the labor market is a topic of concern. [SEP] [PAD] [PAD] [PA...\n",
      "True Label: Finance, Predicted Label: Technology\n",
      "----------------------------------------------------------------------\n",
      "Text: [CLS] the impact of food deserts on food literacy is a topic of concern. [SEP] [PAD] [PAD] [PAD] [PA...\n",
      "True Label: Food, Predicted Label: Technology\n",
      "----------------------------------------------------------------------\n",
      "Text: [CLS] the benefits of a healthy lifestyle for reducing the risk of heart disease are well establishe...\n",
      "True Label: Health, Predicted Label: Entertainment\n",
      "----------------------------------------------------------------------\n",
      "Text: [CLS] the impact of the gig economy on travel experiences is a topic of ongoing debate. [SEP]...\n",
      "True Label: Travel, Predicted Label: Technology\n",
      "----------------------------------------------------------------------\n",
      "Text: [CLS] the importance of food safety cannot be overstated. [SEP] [PAD] [PAD] [PAD] [PAD] [PAD] [PAD]...\n",
      "True Label: Food, Predicted Label: Entertainment\n",
      "----------------------------------------------------------------------\n",
      "Text: [CLS] the american cancer society recommends avoiding exposure to radiation. [SEP] [PAD] [PAD] [PAD]...\n",
      "True Label: Health, Predicted Label: Technology\n",
      "----------------------------------------------------------------------\n",
      "\n",
      "=== Training Samples === (len: 1338)\n",
      "Index      Text                                               Label\n",
      "----------------------------------------------------------------------\n",
      "154        The drone surveillance system monitors activity in Technology\n",
      "353        The Supreme Court has issued a ruling on the contr Politics\n",
      "878        The impact of educational attainment on income is  Education\n",
      "257        The singer's acoustic performance showcased their  Entertainment\n",
      "902        The impact of educational attainment on social coh Education\n",
      "\n",
      "=== Test Samples === (len: 1140)\n",
      "Index      Text                                               Label\n",
      "----------------------------------------------------------------------\n",
      "528        The internet of things connects everyday objects t Technology\n",
      "279        The president has been criticized for his handling Politics\n",
      "665        The benefits of using ethical manufacturing practi Fashion\n",
      "303        The benefits of investing in dividend-paying stock Finance\n",
      "351        The sports journalist interviewed the coach about  Sports\n"
     ]
    }
   ],
   "source": [
    "import json\n",
    "import torch\n",
    "import torch.nn as nn\n",
    "import torch.optim as optim\n",
    "from sklearn.model_selection import train_test_split\n",
    "from sklearn.preprocessing import LabelEncoder\n",
    "from torch.utils.data import DataLoader, Dataset\n",
    "from transformers import BertTokenizer\n",
    "from tqdm import tqdm\n",
    "import random\n",
    "import matplotlib.pyplot as plt\n",
    "from torch.utils.tensorboard import SummaryWriter\n",
    "\n",
    "# Charger les données depuis les fichiers JSON\n",
    "with open(\"data/test.json\", \"r\") as f:\n",
    "    test_data_raw = json.load(f)\n",
    "\n",
    "# Charger les phrases de test à partir de test_shuffle.txt\n",
    "test_texts = []\n",
    "with open(\"data/test_shuffle.txt\", \"r\") as f:\n",
    "    test_texts = [line.strip() for line in f.readlines()]\n",
    "\n",
    "# Paramètre pour déterminer si un set de validation est utilisé\n",
    "use_validation = False  # Changez cette valeur à False si vous ne voulez pas de validation\n",
    "\n",
    "# Préparer les données\n",
    "categories = list(test_data_raw.keys())\n",
    "train_texts, train_labels = [], []\n",
    "# Données d'entraînement\n",
    "for category in categories:\n",
    "    for text in test_data_raw[category]:\n",
    "        train_texts.append(text)\n",
    "        train_labels.append(category)\n",
    "\n",
    "# Trouver les labels correspondant aux phrases de test\n",
    "test_labels = []\n",
    "for text in test_texts:\n",
    "    found = False\n",
    "    for category, texts in test_data_raw.items():\n",
    "        if text in texts:\n",
    "            test_labels.append(category)\n",
    "            found = True\n",
    "            break\n",
    "    if not found:\n",
    "        test_labels.append(\"Unknown\")  # Cas où la phrase n'est pas trouvée, à ajuster si nécessaire\n",
    "\n",
    "# Compter les labels inconnus\n",
    "unknown_count = test_labels.count(\"Unknown\")\n",
    "\n",
    "# Split des données : Entraînement, Validation, Test\n",
    "if use_validation:\n",
    "    train_texts, val_texts, train_labels, val_labels = train_test_split(\n",
    "        train_texts, train_labels, test_size=0.05, random_state=42\n",
    "    )\n",
    "    print(f\"Training samples: {len(train_texts)}\")\n",
    "    print(f\"Validation samples: {len(val_texts)}\")\n",
    "else:\n",
    "    val_texts, val_labels = [], []  # Si pas de validation, on met des listes vides pour éviter des erreurs\n",
    "    print(f\"Training samples: {len(train_texts)}\")\n",
    "    print(f\"Validation samples: 0\")\n",
    "\n",
    "print(f\"Test samples: {len(test_texts)}\")\n",
    "print(f\"Number of 'Unknown' labels: {unknown_count}\")\n",
    "\n",
    "# 2. Encodeur de labels\n",
    "label_encoder = LabelEncoder()\n",
    "train_labels = label_encoder.fit_transform(train_labels)\n",
    "if use_validation:\n",
    "    val_labels = label_encoder.transform(val_labels)\n",
    "test_labels = label_encoder.transform(test_labels)\n",
    "\n",
    "# 3. Tokenisation\n",
    "tokenizer = BertTokenizer.from_pretrained(\"bert-base-uncased\")\n",
    "\n",
    "def tokenize_batch(batch):\n",
    "    return tokenizer(batch, padding=True, truncation=True, max_length=128, return_tensors=\"pt\")\n",
    "\n",
    "class TextDataset(Dataset):\n",
    "    def __init__(self, texts, labels):\n",
    "        self.texts = texts\n",
    "        self.labels = labels\n",
    "    \n",
    "    def __len__(self):\n",
    "        return len(self.texts)\n",
    "    \n",
    "    def __getitem__(self, idx):\n",
    "        return self.texts[idx], self.labels[idx]\n",
    "\n",
    "train_dataset = TextDataset(train_texts, train_labels)\n",
    "val_dataset = TextDataset(val_texts, val_labels) if use_validation else None\n",
    "test_dataset = TextDataset(test_texts, test_labels)\n",
    "\n",
    "# DataLoader\n",
    "def collate_fn(batch):\n",
    "    texts, labels = zip(*batch)\n",
    "    tokenized = tokenize_batch(list(texts))\n",
    "    return tokenized[\"input_ids\"], tokenized[\"attention_mask\"], torch.tensor(labels, dtype=torch.long)\n",
    "\n",
    "train_loader = DataLoader(train_dataset, batch_size=16, shuffle=True, collate_fn=collate_fn)\n",
    "val_loader = DataLoader(val_dataset, batch_size=16, collate_fn=collate_fn) if use_validation else None\n",
    "test_loader = DataLoader(test_dataset, batch_size=16, collate_fn=collate_fn)\n",
    "\n",
    "# 4. Modèle DAN\n",
    "class DANClassifier(nn.Module):\n",
    "    def __init__(self, embedding_dim, num_classes):\n",
    "        super(DANClassifier, self).__init__()\n",
    "        self.embedding = nn.Embedding(tokenizer.vocab_size, embedding_dim)\n",
    "        self.fc = nn.Sequential(\n",
    "            nn.Linear(embedding_dim, 128),\n",
    "            nn.ReLU(),\n",
    "            nn.Dropout(0.3),\n",
    "            nn.Linear(128, num_classes)\n",
    "        )\n",
    "    \n",
    "    def forward(self, input_ids, attention_mask):\n",
    "        embeddings = self.embedding(input_ids)  # Shape: (batch_size, seq_len, embedding_dim)\n",
    "        mask = attention_mask.unsqueeze(-1)    # Shape: (batch_size, seq_len, 1)\n",
    "        masked_embeddings = embeddings * mask  # Masquer les tokens de padding\n",
    "        avg_embeddings = masked_embeddings.sum(dim=1) / mask.sum(dim=1)  # Moyenne des embeddings\n",
    "        return self.fc(avg_embeddings)\n",
    "\n",
    "# Initialiser le modèle\n",
    "embedding_dim = 300\n",
    "num_classes = len(categories)\n",
    "device = torch.device(\"cuda\" if torch.cuda.is_available() else \"cpu\")\n",
    "\n",
    "model = DANClassifier(embedding_dim, num_classes).to(device)\n",
    "\n",
    "# 5. Optimisation et perte\n",
    "criterion = nn.CrossEntropyLoss()\n",
    "optimizer = optim.Adam(model.parameters(), lr=2e-4)\n",
    "\n",
    "# 6. Entraînement\n",
    "def train_model_with_validation(model, train_loader, val_loader, optimizer, criterion, device, epochs=20):\n",
    "    train_losses, val_losses, val_accuracies = [], [], []\n",
    "    writer = SummaryWriter()  # Initialiser TensorBoard\n",
    "    \n",
    "    for epoch in range(epochs):\n",
    "        model.train()\n",
    "        train_loss = 0\n",
    "        correct, total = 0, 0\n",
    "        \n",
    "        for input_ids, attention_mask, labels in tqdm(train_loader):\n",
    "            input_ids, attention_mask, labels = (\n",
    "                input_ids.to(device),\n",
    "                attention_mask.to(device),\n",
    "                labels.to(device).long(),\n",
    "            )\n",
    "            optimizer.zero_grad()\n",
    "            outputs = model(input_ids, attention_mask)\n",
    "            loss = criterion(outputs, labels)\n",
    "            train_loss += loss.item()\n",
    "            loss.backward()\n",
    "            optimizer.step()\n",
    "            \n",
    "            _, predicted = outputs.max(1)\n",
    "            correct += (predicted == labels).sum().item()\n",
    "            total += labels.size(0)\n",
    "        \n",
    "        train_losses.append(train_loss / len(train_loader))\n",
    "        train_accuracy = correct / total\n",
    "        \n",
    "        print(f\"Epoch {epoch+1}/{epochs}, Train Loss: {train_losses[-1]:.4f}, Accuracy: {train_accuracy:.4f}\")\n",
    "        \n",
    "        # Validation\n",
    "        if use_validation:\n",
    "            model.eval()\n",
    "            val_loss, val_correct, val_total = 0, 0, 0\n",
    "            with torch.no_grad():\n",
    "                for input_ids, attention_mask, labels in val_loader:\n",
    "                    input_ids, attention_mask, labels = (\n",
    "                        input_ids.to(device),\n",
    "                        attention_mask.to(device),\n",
    "                        labels.to(device).long(),\n",
    "                    )\n",
    "                    outputs = model(input_ids, attention_mask)\n",
    "                    loss = criterion(outputs, labels)\n",
    "                    val_loss += loss.item()\n",
    "                    _, predicted = outputs.max(1)\n",
    "                    val_correct += (predicted == labels).sum().item()\n",
    "                    val_total += labels.size(0)\n",
    "            \n",
    "            val_losses.append(val_loss / len(val_loader))\n",
    "            val_accuracies.append(val_correct / val_total)\n",
    "            val_accuracy = val_correct / val_total\n",
    "            print(f\"Validation Loss: {val_losses[-1]:.4f}, Validation Accuracy: {val_accuracy:.4f}\")\n",
    "        \n",
    "            # Enregistrer dans TensorBoard\n",
    "            writer.add_scalar(\"Loss/Train\", train_losses[-1], epoch + 1)\n",
    "            writer.add_scalar(\"Loss/Validation\", val_losses[-1], epoch + 1)\n",
    "            writer.add_scalar(\"Accuracy/Validation\", val_accuracies[-1], epoch + 1)\n",
    "    \n",
    "    writer.close()\n",
    "    return train_losses, val_losses, val_accuracies\n",
    "\n",
    "# Entraîner le modèle avec ou sans validation\n",
    "if use_validation:\n",
    "    train_losses, val_losses, val_accuracies = train_model_with_validation(\n",
    "        model, train_loader, val_loader, optimizer, criterion, device\n",
    "    )\n",
    "\n",
    "else:\n",
    "    train_losses = []\n",
    "    val_losses = []\n",
    "    val_accuracies = []\n",
    "\n",
    "    # Tracer les métriques\n",
    "    plot_metrics(train_losses, val_losses, val_accuracies)\n",
    "\n",
    "\n",
    "# Évaluer le modèle et obtenir les échantillons mal classifiés\n",
    "misclassified_samples, misclassified_labels, misclassified_preds = evaluate_model(\n",
    "    model, test_loader, criterion, device\n",
    ")\n",
    "\n",
    "# print number of correctly classified samples (correctly classified samples / total test samples)\n",
    "correctly_classified = len(test_labels) - len(misclassified_labels)\n",
    "total_samples = len(test_labels)\n",
    "print(f\"Correctly classified samples: {correctly_classified}/{total_samples} ({correctly_classified / total_samples:.2%})\")\n",
    "\n",
    "# Décoder les indices des échantillons mal classifiés en texte\n",
    "misclassified_texts = [tokenizer.decode(sample) for sample in misclassified_samples]\n",
    "\n",
    "# Afficher les échantillons mal classifiés avec leurs labels réels et prédits\n",
    "print(\"\\n=== Misclassified Samples ===\")\n",
    "for i in range(len(misclassified_texts)):\n",
    "    print(f\"Text: {misclassified_texts[i][:100]}...\")  # Afficher seulement les 100 premiers caractères pour plus de lisibilité\n",
    "    real_label = label_encoder.inverse_transform([misclassified_labels[i]])[0]\n",
    "    predicted_label = label_encoder.inverse_transform([misclassified_preds[i]])[0]\n",
    "    print(f\"True Label: {real_label}, Predicted Label: {predicted_label}\")\n",
    "    print(\"-\" * 70)\n",
    "\n",
    "\n",
    "# Visualiser quelques exemples\n",
    "def show_samples(dataset, labels, label_encoder, n=5):\n",
    "    print(f\"{'Index':<10} {'Text':<50} {'Label'}\")\n",
    "    print(\"-\" * 70)\n",
    "    indices = random.sample(range(len(dataset)), n)\n",
    "    for i in indices:\n",
    "        category = label_encoder.inverse_transform([labels[i]])[0]  # Convertir label en nom de catégorie\n",
    "        print(f\"{i:<10} {dataset[i][:50]:<50} {category}\")\n",
    "\n",
    "\n",
    "\n",
    "print(f\"\\n=== Training Samples === (len: {len(train_texts)})\")\n",
    "show_samples(train_texts, train_labels, label_encoder, n=5)\n",
    "\n",
    "if use_validation:\n",
    "    print(f\"\\n=== Validation Samples === (len: {len(val_texts)})\")\n",
    "    show_samples(val_texts, val_labels, label_encoder, n=5)\n",
    "\n",
    "print(f\"\\n=== Test Samples === (len: {len(test_texts)})\")\n",
    "show_samples(test_texts, test_labels, label_encoder, n=5)\n"
   ]
  },
  {
   "cell_type": "markdown",
   "metadata": {},
   "source": [
    "## Avec cross validation"
   ]
  },
  {
   "cell_type": "code",
   "execution_count": 16,
   "metadata": {},
   "outputs": [
    {
     "name": "stdout",
     "output_type": "stream",
     "text": [
      "Training samples: 1338\n",
      "Test samples: 1140\n",
      "Number of 'Unknown' labels: 0\n",
      "\n",
      "Fold 1/5\n"
     ]
    },
    {
     "name": "stderr",
     "output_type": "stream",
     "text": [
      "100%|██████████| 67/67 [00:00<00:00, 76.95it/s] \n"
     ]
    },
    {
     "name": "stdout",
     "output_type": "stream",
     "text": [
      "Epoch 1/20, Train Loss: 2.4433, Accuracy: 0.1794\n",
      "Validation Loss: 2.3722, Validation Accuracy: 0.5112\n"
     ]
    },
    {
     "name": "stderr",
     "output_type": "stream",
     "text": [
      "100%|██████████| 67/67 [00:00<00:00, 119.79it/s]\n"
     ]
    },
    {
     "name": "stdout",
     "output_type": "stream",
     "text": [
      "Epoch 2/20, Train Loss: 2.3167, Accuracy: 0.4710\n",
      "Validation Loss: 2.2272, Validation Accuracy: 0.6418\n"
     ]
    },
    {
     "name": "stderr",
     "output_type": "stream",
     "text": [
      "100%|██████████| 67/67 [00:00<00:00, 127.20it/s]\n"
     ]
    },
    {
     "name": "stdout",
     "output_type": "stream",
     "text": [
      "Epoch 3/20, Train Loss: 2.1388, Accuracy: 0.6019\n",
      "Validation Loss: 2.0253, Validation Accuracy: 0.6791\n"
     ]
    },
    {
     "name": "stderr",
     "output_type": "stream",
     "text": [
      "100%|██████████| 67/67 [00:00<00:00, 128.31it/s]\n"
     ]
    },
    {
     "name": "stdout",
     "output_type": "stream",
     "text": [
      "Epoch 4/20, Train Loss: 1.9166, Accuracy: 0.6477\n",
      "Validation Loss: 1.7884, Validation Accuracy: 0.7351\n"
     ]
    },
    {
     "name": "stderr",
     "output_type": "stream",
     "text": [
      "100%|██████████| 67/67 [00:00<00:00, 125.29it/s]\n"
     ]
    },
    {
     "name": "stdout",
     "output_type": "stream",
     "text": [
      "Epoch 5/20, Train Loss: 1.6920, Accuracy: 0.6935\n",
      "Validation Loss: 1.5622, Validation Accuracy: 0.7537\n"
     ]
    },
    {
     "name": "stderr",
     "output_type": "stream",
     "text": [
      "100%|██████████| 67/67 [00:00<00:00, 130.90it/s]\n"
     ]
    },
    {
     "name": "stdout",
     "output_type": "stream",
     "text": [
      "Epoch 6/20, Train Loss: 1.4708, Accuracy: 0.7505\n",
      "Validation Loss: 1.3575, Validation Accuracy: 0.7687\n"
     ]
    },
    {
     "name": "stderr",
     "output_type": "stream",
     "text": [
      "100%|██████████| 67/67 [00:00<00:00, 133.34it/s]\n"
     ]
    },
    {
     "name": "stdout",
     "output_type": "stream",
     "text": [
      "Epoch 7/20, Train Loss: 1.2675, Accuracy: 0.7841\n",
      "Validation Loss: 1.1812, Validation Accuracy: 0.8134\n"
     ]
    },
    {
     "name": "stderr",
     "output_type": "stream",
     "text": [
      "100%|██████████| 67/67 [00:00<00:00, 129.44it/s]\n"
     ]
    },
    {
     "name": "stdout",
     "output_type": "stream",
     "text": [
      "Epoch 8/20, Train Loss: 1.1060, Accuracy: 0.8290\n",
      "Validation Loss: 1.0353, Validation Accuracy: 0.8284\n"
     ]
    },
    {
     "name": "stderr",
     "output_type": "stream",
     "text": [
      "100%|██████████| 67/67 [00:00<00:00, 134.42it/s]\n"
     ]
    },
    {
     "name": "stdout",
     "output_type": "stream",
     "text": [
      "Epoch 9/20, Train Loss: 0.9684, Accuracy: 0.8449\n",
      "Validation Loss: 0.9109, Validation Accuracy: 0.8433\n"
     ]
    },
    {
     "name": "stderr",
     "output_type": "stream",
     "text": [
      "100%|██████████| 67/67 [00:00<00:00, 132.62it/s]\n"
     ]
    },
    {
     "name": "stdout",
     "output_type": "stream",
     "text": [
      "Epoch 10/20, Train Loss: 0.8286, Accuracy: 0.8804\n",
      "Validation Loss: 0.8034, Validation Accuracy: 0.8507\n"
     ]
    },
    {
     "name": "stderr",
     "output_type": "stream",
     "text": [
      "100%|██████████| 67/67 [00:00<00:00, 129.58it/s]\n"
     ]
    },
    {
     "name": "stdout",
     "output_type": "stream",
     "text": [
      "Epoch 11/20, Train Loss: 0.7439, Accuracy: 0.8841\n",
      "Validation Loss: 0.7192, Validation Accuracy: 0.8881\n"
     ]
    },
    {
     "name": "stderr",
     "output_type": "stream",
     "text": [
      "100%|██████████| 67/67 [00:00<00:00, 132.71it/s]\n"
     ]
    },
    {
     "name": "stdout",
     "output_type": "stream",
     "text": [
      "Epoch 12/20, Train Loss: 0.6542, Accuracy: 0.9065\n",
      "Validation Loss: 0.6474, Validation Accuracy: 0.8843\n"
     ]
    },
    {
     "name": "stderr",
     "output_type": "stream",
     "text": [
      "100%|██████████| 67/67 [00:00<00:00, 129.88it/s]\n"
     ]
    },
    {
     "name": "stdout",
     "output_type": "stream",
     "text": [
      "Epoch 13/20, Train Loss: 0.5756, Accuracy: 0.9131\n",
      "Validation Loss: 0.5941, Validation Accuracy: 0.8918\n"
     ]
    },
    {
     "name": "stderr",
     "output_type": "stream",
     "text": [
      "100%|██████████| 67/67 [00:00<00:00, 131.09it/s]\n"
     ]
    },
    {
     "name": "stdout",
     "output_type": "stream",
     "text": [
      "Epoch 14/20, Train Loss: 0.5252, Accuracy: 0.9103\n",
      "Validation Loss: 0.5332, Validation Accuracy: 0.9179\n"
     ]
    },
    {
     "name": "stderr",
     "output_type": "stream",
     "text": [
      "100%|██████████| 67/67 [00:00<00:00, 132.93it/s]\n"
     ]
    },
    {
     "name": "stdout",
     "output_type": "stream",
     "text": [
      "Epoch 15/20, Train Loss: 0.4479, Accuracy: 0.9402\n",
      "Validation Loss: 0.4957, Validation Accuracy: 0.9216\n"
     ]
    },
    {
     "name": "stderr",
     "output_type": "stream",
     "text": [
      "100%|██████████| 67/67 [00:00<00:00, 133.15it/s]\n"
     ]
    },
    {
     "name": "stdout",
     "output_type": "stream",
     "text": [
      "Epoch 16/20, Train Loss: 0.4143, Accuracy: 0.9383\n",
      "Validation Loss: 0.4595, Validation Accuracy: 0.9216\n"
     ]
    },
    {
     "name": "stderr",
     "output_type": "stream",
     "text": [
      "100%|██████████| 67/67 [00:00<00:00, 120.60it/s]\n"
     ]
    },
    {
     "name": "stdout",
     "output_type": "stream",
     "text": [
      "Epoch 17/20, Train Loss: 0.3784, Accuracy: 0.9477\n",
      "Validation Loss: 0.4277, Validation Accuracy: 0.9291\n"
     ]
    },
    {
     "name": "stderr",
     "output_type": "stream",
     "text": [
      "100%|██████████| 67/67 [00:00<00:00, 132.36it/s]\n"
     ]
    },
    {
     "name": "stdout",
     "output_type": "stream",
     "text": [
      "Epoch 18/20, Train Loss: 0.3517, Accuracy: 0.9523\n",
      "Validation Loss: 0.3984, Validation Accuracy: 0.9291\n"
     ]
    },
    {
     "name": "stderr",
     "output_type": "stream",
     "text": [
      "100%|██████████| 67/67 [00:00<00:00, 118.69it/s]\n"
     ]
    },
    {
     "name": "stdout",
     "output_type": "stream",
     "text": [
      "Epoch 19/20, Train Loss: 0.3046, Accuracy: 0.9542\n",
      "Validation Loss: 0.3759, Validation Accuracy: 0.9328\n"
     ]
    },
    {
     "name": "stderr",
     "output_type": "stream",
     "text": [
      "100%|██████████| 67/67 [00:00<00:00, 130.40it/s]\n"
     ]
    },
    {
     "name": "stdout",
     "output_type": "stream",
     "text": [
      "Epoch 20/20, Train Loss: 0.2780, Accuracy: 0.9579\n",
      "Validation Loss: 0.3575, Validation Accuracy: 0.9328\n",
      "\n",
      "Fold 2/5\n"
     ]
    },
    {
     "name": "stderr",
     "output_type": "stream",
     "text": [
      "100%|██████████| 67/67 [00:00<00:00, 132.51it/s]\n"
     ]
    },
    {
     "name": "stdout",
     "output_type": "stream",
     "text": [
      "Epoch 1/20, Train Loss: 2.4283, Accuracy: 0.1841\n",
      "Validation Loss: 2.3722, Validation Accuracy: 0.2575\n"
     ]
    },
    {
     "name": "stderr",
     "output_type": "stream",
     "text": [
      "100%|██████████| 67/67 [00:00<00:00, 131.49it/s]\n"
     ]
    },
    {
     "name": "stdout",
     "output_type": "stream",
     "text": [
      "Epoch 2/20, Train Loss: 2.2925, Accuracy: 0.3841\n",
      "Validation Loss: 2.2113, Validation Accuracy: 0.5187\n"
     ]
    },
    {
     "name": "stderr",
     "output_type": "stream",
     "text": [
      "100%|██████████| 67/67 [00:00<00:00, 124.48it/s]\n"
     ]
    },
    {
     "name": "stdout",
     "output_type": "stream",
     "text": [
      "Epoch 3/20, Train Loss: 2.1003, Accuracy: 0.5598\n",
      "Validation Loss: 2.0075, Validation Accuracy: 0.6828\n"
     ]
    },
    {
     "name": "stderr",
     "output_type": "stream",
     "text": [
      "100%|██████████| 67/67 [00:00<00:00, 129.77it/s]\n"
     ]
    },
    {
     "name": "stdout",
     "output_type": "stream",
     "text": [
      "Epoch 4/20, Train Loss: 1.8778, Accuracy: 0.6673\n",
      "Validation Loss: 1.7772, Validation Accuracy: 0.7276\n"
     ]
    },
    {
     "name": "stderr",
     "output_type": "stream",
     "text": [
      "100%|██████████| 67/67 [00:00<00:00, 133.73it/s]\n"
     ]
    },
    {
     "name": "stdout",
     "output_type": "stream",
     "text": [
      "Epoch 5/20, Train Loss: 1.6471, Accuracy: 0.7383\n",
      "Validation Loss: 1.5587, Validation Accuracy: 0.8134\n"
     ]
    },
    {
     "name": "stderr",
     "output_type": "stream",
     "text": [
      "100%|██████████| 67/67 [00:00<00:00, 131.63it/s]\n"
     ]
    },
    {
     "name": "stdout",
     "output_type": "stream",
     "text": [
      "Epoch 6/20, Train Loss: 1.4365, Accuracy: 0.7673\n",
      "Validation Loss: 1.3575, Validation Accuracy: 0.8284\n"
     ]
    },
    {
     "name": "stderr",
     "output_type": "stream",
     "text": [
      "100%|██████████| 67/67 [00:00<00:00, 132.82it/s]\n"
     ]
    },
    {
     "name": "stdout",
     "output_type": "stream",
     "text": [
      "Epoch 7/20, Train Loss: 1.2509, Accuracy: 0.8131\n",
      "Validation Loss: 1.1849, Validation Accuracy: 0.8433\n"
     ]
    },
    {
     "name": "stderr",
     "output_type": "stream",
     "text": [
      "100%|██████████| 67/67 [00:00<00:00, 132.09it/s]\n"
     ]
    },
    {
     "name": "stdout",
     "output_type": "stream",
     "text": [
      "Epoch 8/20, Train Loss: 1.0858, Accuracy: 0.8421\n",
      "Validation Loss: 1.0385, Validation Accuracy: 0.8545\n"
     ]
    },
    {
     "name": "stderr",
     "output_type": "stream",
     "text": [
      "100%|██████████| 67/67 [00:00<00:00, 133.77it/s]\n"
     ]
    },
    {
     "name": "stdout",
     "output_type": "stream",
     "text": [
      "Epoch 9/20, Train Loss: 0.9508, Accuracy: 0.8523\n",
      "Validation Loss: 0.9155, Validation Accuracy: 0.8582\n"
     ]
    },
    {
     "name": "stderr",
     "output_type": "stream",
     "text": [
      "100%|██████████| 67/67 [00:00<00:00, 132.74it/s]\n"
     ]
    },
    {
     "name": "stdout",
     "output_type": "stream",
     "text": [
      "Epoch 10/20, Train Loss: 0.8290, Accuracy: 0.8720\n",
      "Validation Loss: 0.8120, Validation Accuracy: 0.8731\n"
     ]
    },
    {
     "name": "stderr",
     "output_type": "stream",
     "text": [
      "100%|██████████| 67/67 [00:00<00:00, 130.94it/s]\n"
     ]
    },
    {
     "name": "stdout",
     "output_type": "stream",
     "text": [
      "Epoch 11/20, Train Loss: 0.7319, Accuracy: 0.8776\n",
      "Validation Loss: 0.7248, Validation Accuracy: 0.8769\n"
     ]
    },
    {
     "name": "stderr",
     "output_type": "stream",
     "text": [
      "100%|██████████| 67/67 [00:00<00:00, 132.83it/s]\n"
     ]
    },
    {
     "name": "stdout",
     "output_type": "stream",
     "text": [
      "Epoch 12/20, Train Loss: 0.6487, Accuracy: 0.8944\n",
      "Validation Loss: 0.6544, Validation Accuracy: 0.8918\n"
     ]
    },
    {
     "name": "stderr",
     "output_type": "stream",
     "text": [
      "100%|██████████| 67/67 [00:00<00:00, 134.79it/s]\n"
     ]
    },
    {
     "name": "stdout",
     "output_type": "stream",
     "text": [
      "Epoch 13/20, Train Loss: 0.5670, Accuracy: 0.9112\n",
      "Validation Loss: 0.5985, Validation Accuracy: 0.8843\n"
     ]
    },
    {
     "name": "stderr",
     "output_type": "stream",
     "text": [
      "100%|██████████| 67/67 [00:00<00:00, 131.38it/s]\n"
     ]
    },
    {
     "name": "stdout",
     "output_type": "stream",
     "text": [
      "Epoch 14/20, Train Loss: 0.5156, Accuracy: 0.9168\n",
      "Validation Loss: 0.5517, Validation Accuracy: 0.8918\n"
     ]
    },
    {
     "name": "stderr",
     "output_type": "stream",
     "text": [
      "100%|██████████| 67/67 [00:00<00:00, 130.69it/s]\n"
     ]
    },
    {
     "name": "stdout",
     "output_type": "stream",
     "text": [
      "Epoch 15/20, Train Loss: 0.4686, Accuracy: 0.9327\n",
      "Validation Loss: 0.5108, Validation Accuracy: 0.8993\n"
     ]
    },
    {
     "name": "stderr",
     "output_type": "stream",
     "text": [
      "100%|██████████| 67/67 [00:00<00:00, 132.23it/s]\n"
     ]
    },
    {
     "name": "stdout",
     "output_type": "stream",
     "text": [
      "Epoch 16/20, Train Loss: 0.4107, Accuracy: 0.9318\n",
      "Validation Loss: 0.4746, Validation Accuracy: 0.8993\n"
     ]
    },
    {
     "name": "stderr",
     "output_type": "stream",
     "text": [
      "100%|██████████| 67/67 [00:00<00:00, 128.87it/s]\n"
     ]
    },
    {
     "name": "stdout",
     "output_type": "stream",
     "text": [
      "Epoch 17/20, Train Loss: 0.3784, Accuracy: 0.9411\n",
      "Validation Loss: 0.4451, Validation Accuracy: 0.9030\n"
     ]
    },
    {
     "name": "stderr",
     "output_type": "stream",
     "text": [
      "100%|██████████| 67/67 [00:00<00:00, 132.27it/s]\n"
     ]
    },
    {
     "name": "stdout",
     "output_type": "stream",
     "text": [
      "Epoch 18/20, Train Loss: 0.3434, Accuracy: 0.9364\n",
      "Validation Loss: 0.4188, Validation Accuracy: 0.9179\n"
     ]
    },
    {
     "name": "stderr",
     "output_type": "stream",
     "text": [
      "100%|██████████| 67/67 [00:00<00:00, 129.77it/s]\n"
     ]
    },
    {
     "name": "stdout",
     "output_type": "stream",
     "text": [
      "Epoch 19/20, Train Loss: 0.3055, Accuracy: 0.9579\n",
      "Validation Loss: 0.3975, Validation Accuracy: 0.9067\n"
     ]
    },
    {
     "name": "stderr",
     "output_type": "stream",
     "text": [
      "100%|██████████| 67/67 [00:00<00:00, 131.90it/s]\n"
     ]
    },
    {
     "name": "stdout",
     "output_type": "stream",
     "text": [
      "Epoch 20/20, Train Loss: 0.2779, Accuracy: 0.9542\n",
      "Validation Loss: 0.3777, Validation Accuracy: 0.9179\n",
      "\n",
      "Fold 3/5\n"
     ]
    },
    {
     "name": "stderr",
     "output_type": "stream",
     "text": [
      "100%|██████████| 67/67 [00:00<00:00, 133.04it/s]\n"
     ]
    },
    {
     "name": "stdout",
     "output_type": "stream",
     "text": [
      "Epoch 1/20, Train Loss: 2.4504, Accuracy: 0.1991\n",
      "Validation Loss: 2.4066, Validation Accuracy: 0.3545\n"
     ]
    },
    {
     "name": "stderr",
     "output_type": "stream",
     "text": [
      "100%|██████████| 67/67 [00:00<00:00, 131.58it/s]\n"
     ]
    },
    {
     "name": "stdout",
     "output_type": "stream",
     "text": [
      "Epoch 2/20, Train Loss: 2.3246, Accuracy: 0.4467\n",
      "Validation Loss: 2.2646, Validation Accuracy: 0.5336\n"
     ]
    },
    {
     "name": "stderr",
     "output_type": "stream",
     "text": [
      "100%|██████████| 67/67 [00:00<00:00, 123.88it/s]\n"
     ]
    },
    {
     "name": "stdout",
     "output_type": "stream",
     "text": [
      "Epoch 3/20, Train Loss: 2.1490, Accuracy: 0.5346\n",
      "Validation Loss: 2.0621, Validation Accuracy: 0.6082\n"
     ]
    },
    {
     "name": "stderr",
     "output_type": "stream",
     "text": [
      "100%|██████████| 67/67 [00:00<00:00, 133.39it/s]\n"
     ]
    },
    {
     "name": "stdout",
     "output_type": "stream",
     "text": [
      "Epoch 4/20, Train Loss: 1.9137, Accuracy: 0.6299\n",
      "Validation Loss: 1.8199, Validation Accuracy: 0.6903\n"
     ]
    },
    {
     "name": "stderr",
     "output_type": "stream",
     "text": [
      "100%|██████████| 67/67 [00:00<00:00, 134.13it/s]\n"
     ]
    },
    {
     "name": "stdout",
     "output_type": "stream",
     "text": [
      "Epoch 5/20, Train Loss: 1.6848, Accuracy: 0.6841\n",
      "Validation Loss: 1.5940, Validation Accuracy: 0.7612\n"
     ]
    },
    {
     "name": "stderr",
     "output_type": "stream",
     "text": [
      "100%|██████████| 67/67 [00:00<00:00, 125.28it/s]\n"
     ]
    },
    {
     "name": "stdout",
     "output_type": "stream",
     "text": [
      "Epoch 6/20, Train Loss: 1.4502, Accuracy: 0.7645\n",
      "Validation Loss: 1.3978, Validation Accuracy: 0.7948\n"
     ]
    },
    {
     "name": "stderr",
     "output_type": "stream",
     "text": [
      "100%|██████████| 67/67 [00:00<00:00, 132.19it/s]\n"
     ]
    },
    {
     "name": "stdout",
     "output_type": "stream",
     "text": [
      "Epoch 7/20, Train Loss: 1.2647, Accuracy: 0.7944\n",
      "Validation Loss: 1.2234, Validation Accuracy: 0.8134\n"
     ]
    },
    {
     "name": "stderr",
     "output_type": "stream",
     "text": [
      "100%|██████████| 67/67 [00:00<00:00, 131.39it/s]\n"
     ]
    },
    {
     "name": "stdout",
     "output_type": "stream",
     "text": [
      "Epoch 8/20, Train Loss: 1.0974, Accuracy: 0.8196\n",
      "Validation Loss: 1.0811, Validation Accuracy: 0.8396\n"
     ]
    },
    {
     "name": "stderr",
     "output_type": "stream",
     "text": [
      "100%|██████████| 67/67 [00:00<00:00, 127.86it/s]\n"
     ]
    },
    {
     "name": "stdout",
     "output_type": "stream",
     "text": [
      "Epoch 9/20, Train Loss: 0.9582, Accuracy: 0.8458\n",
      "Validation Loss: 0.9581, Validation Accuracy: 0.8396\n"
     ]
    },
    {
     "name": "stderr",
     "output_type": "stream",
     "text": [
      "100%|██████████| 67/67 [00:00<00:00, 134.76it/s]\n"
     ]
    },
    {
     "name": "stdout",
     "output_type": "stream",
     "text": [
      "Epoch 10/20, Train Loss: 0.8360, Accuracy: 0.8710\n",
      "Validation Loss: 0.8586, Validation Accuracy: 0.8545\n"
     ]
    },
    {
     "name": "stderr",
     "output_type": "stream",
     "text": [
      "100%|██████████| 67/67 [00:00<00:00, 129.15it/s]\n"
     ]
    },
    {
     "name": "stdout",
     "output_type": "stream",
     "text": [
      "Epoch 11/20, Train Loss: 0.7475, Accuracy: 0.8729\n",
      "Validation Loss: 0.7808, Validation Accuracy: 0.8769\n"
     ]
    },
    {
     "name": "stderr",
     "output_type": "stream",
     "text": [
      "100%|██████████| 67/67 [00:00<00:00, 129.95it/s]\n"
     ]
    },
    {
     "name": "stdout",
     "output_type": "stream",
     "text": [
      "Epoch 12/20, Train Loss: 0.6535, Accuracy: 0.8972\n",
      "Validation Loss: 0.7086, Validation Accuracy: 0.8694\n"
     ]
    },
    {
     "name": "stderr",
     "output_type": "stream",
     "text": [
      "100%|██████████| 67/67 [00:00<00:00, 129.93it/s]\n"
     ]
    },
    {
     "name": "stdout",
     "output_type": "stream",
     "text": [
      "Epoch 13/20, Train Loss: 0.5854, Accuracy: 0.9075\n",
      "Validation Loss: 0.6455, Validation Accuracy: 0.8806\n"
     ]
    },
    {
     "name": "stderr",
     "output_type": "stream",
     "text": [
      "100%|██████████| 67/67 [00:00<00:00, 131.05it/s]\n"
     ]
    },
    {
     "name": "stdout",
     "output_type": "stream",
     "text": [
      "Epoch 14/20, Train Loss: 0.5195, Accuracy: 0.9215\n",
      "Validation Loss: 0.5947, Validation Accuracy: 0.8918\n"
     ]
    },
    {
     "name": "stderr",
     "output_type": "stream",
     "text": [
      "100%|██████████| 67/67 [00:00<00:00, 130.52it/s]\n"
     ]
    },
    {
     "name": "stdout",
     "output_type": "stream",
     "text": [
      "Epoch 15/20, Train Loss: 0.4776, Accuracy: 0.9262\n",
      "Validation Loss: 0.5531, Validation Accuracy: 0.9030\n"
     ]
    },
    {
     "name": "stderr",
     "output_type": "stream",
     "text": [
      "100%|██████████| 67/67 [00:00<00:00, 133.97it/s]\n"
     ]
    },
    {
     "name": "stdout",
     "output_type": "stream",
     "text": [
      "Epoch 16/20, Train Loss: 0.4382, Accuracy: 0.9346\n",
      "Validation Loss: 0.5233, Validation Accuracy: 0.8918\n"
     ]
    },
    {
     "name": "stderr",
     "output_type": "stream",
     "text": [
      "100%|██████████| 67/67 [00:00<00:00, 132.96it/s]\n"
     ]
    },
    {
     "name": "stdout",
     "output_type": "stream",
     "text": [
      "Epoch 17/20, Train Loss: 0.3917, Accuracy: 0.9346\n",
      "Validation Loss: 0.4888, Validation Accuracy: 0.8993\n"
     ]
    },
    {
     "name": "stderr",
     "output_type": "stream",
     "text": [
      "100%|██████████| 67/67 [00:00<00:00, 129.05it/s]\n"
     ]
    },
    {
     "name": "stdout",
     "output_type": "stream",
     "text": [
      "Epoch 18/20, Train Loss: 0.3493, Accuracy: 0.9495\n",
      "Validation Loss: 0.4583, Validation Accuracy: 0.9030\n"
     ]
    },
    {
     "name": "stderr",
     "output_type": "stream",
     "text": [
      "100%|██████████| 67/67 [00:00<00:00, 132.91it/s]\n"
     ]
    },
    {
     "name": "stdout",
     "output_type": "stream",
     "text": [
      "Epoch 19/20, Train Loss: 0.3143, Accuracy: 0.9607\n",
      "Validation Loss: 0.4366, Validation Accuracy: 0.9104\n"
     ]
    },
    {
     "name": "stderr",
     "output_type": "stream",
     "text": [
      "100%|██████████| 67/67 [00:00<00:00, 133.59it/s]\n"
     ]
    },
    {
     "name": "stdout",
     "output_type": "stream",
     "text": [
      "Epoch 20/20, Train Loss: 0.2924, Accuracy: 0.9617\n",
      "Validation Loss: 0.4203, Validation Accuracy: 0.9104\n",
      "\n",
      "Fold 4/5\n"
     ]
    },
    {
     "name": "stderr",
     "output_type": "stream",
     "text": [
      "100%|██████████| 67/67 [00:00<00:00, 128.79it/s]\n"
     ]
    },
    {
     "name": "stdout",
     "output_type": "stream",
     "text": [
      "Epoch 1/20, Train Loss: 2.4459, Accuracy: 0.1755\n",
      "Validation Loss: 2.3818, Validation Accuracy: 0.4045\n"
     ]
    },
    {
     "name": "stderr",
     "output_type": "stream",
     "text": [
      "100%|██████████| 67/67 [00:00<00:00, 130.80it/s]\n"
     ]
    },
    {
     "name": "stdout",
     "output_type": "stream",
     "text": [
      "Epoch 2/20, Train Loss: 2.3092, Accuracy: 0.4239\n",
      "Validation Loss: 2.2273, Validation Accuracy: 0.5993\n"
     ]
    },
    {
     "name": "stderr",
     "output_type": "stream",
     "text": [
      "100%|██████████| 67/67 [00:00<00:00, 122.43it/s]\n"
     ]
    },
    {
     "name": "stdout",
     "output_type": "stream",
     "text": [
      "Epoch 3/20, Train Loss: 2.1125, Accuracy: 0.5929\n",
      "Validation Loss: 2.0171, Validation Accuracy: 0.6217\n"
     ]
    },
    {
     "name": "stderr",
     "output_type": "stream",
     "text": [
      "100%|██████████| 67/67 [00:00<00:00, 131.70it/s]\n"
     ]
    },
    {
     "name": "stdout",
     "output_type": "stream",
     "text": [
      "Epoch 4/20, Train Loss: 1.8823, Accuracy: 0.6415\n",
      "Validation Loss: 1.7900, Validation Accuracy: 0.7041\n"
     ]
    },
    {
     "name": "stderr",
     "output_type": "stream",
     "text": [
      "100%|██████████| 67/67 [00:00<00:00, 133.17it/s]\n"
     ]
    },
    {
     "name": "stdout",
     "output_type": "stream",
     "text": [
      "Epoch 5/20, Train Loss: 1.6547, Accuracy: 0.6975\n",
      "Validation Loss: 1.5747, Validation Accuracy: 0.7678\n"
     ]
    },
    {
     "name": "stderr",
     "output_type": "stream",
     "text": [
      "100%|██████████| 67/67 [00:00<00:00, 130.73it/s]\n"
     ]
    },
    {
     "name": "stdout",
     "output_type": "stream",
     "text": [
      "Epoch 6/20, Train Loss: 1.4263, Accuracy: 0.7479\n",
      "Validation Loss: 1.3718, Validation Accuracy: 0.8015\n"
     ]
    },
    {
     "name": "stderr",
     "output_type": "stream",
     "text": [
      "100%|██████████| 67/67 [00:00<00:00, 134.08it/s]\n"
     ]
    },
    {
     "name": "stdout",
     "output_type": "stream",
     "text": [
      "Epoch 7/20, Train Loss: 1.2441, Accuracy: 0.7852\n",
      "Validation Loss: 1.2012, Validation Accuracy: 0.8352\n"
     ]
    },
    {
     "name": "stderr",
     "output_type": "stream",
     "text": [
      "100%|██████████| 67/67 [00:00<00:00, 133.48it/s]\n"
     ]
    },
    {
     "name": "stdout",
     "output_type": "stream",
     "text": [
      "Epoch 8/20, Train Loss: 1.0744, Accuracy: 0.8217\n",
      "Validation Loss: 1.0538, Validation Accuracy: 0.8352\n"
     ]
    },
    {
     "name": "stderr",
     "output_type": "stream",
     "text": [
      "100%|██████████| 67/67 [00:00<00:00, 133.25it/s]\n"
     ]
    },
    {
     "name": "stdout",
     "output_type": "stream",
     "text": [
      "Epoch 9/20, Train Loss: 0.9422, Accuracy: 0.8525\n",
      "Validation Loss: 0.9315, Validation Accuracy: 0.8577\n"
     ]
    },
    {
     "name": "stderr",
     "output_type": "stream",
     "text": [
      "100%|██████████| 67/67 [00:00<00:00, 131.01it/s]\n"
     ]
    },
    {
     "name": "stdout",
     "output_type": "stream",
     "text": [
      "Epoch 10/20, Train Loss: 0.8373, Accuracy: 0.8618\n",
      "Validation Loss: 0.8306, Validation Accuracy: 0.8652\n"
     ]
    },
    {
     "name": "stderr",
     "output_type": "stream",
     "text": [
      "100%|██████████| 67/67 [00:00<00:00, 130.22it/s]\n"
     ]
    },
    {
     "name": "stdout",
     "output_type": "stream",
     "text": [
      "Epoch 11/20, Train Loss: 0.7304, Accuracy: 0.8870\n",
      "Validation Loss: 0.7436, Validation Accuracy: 0.8652\n"
     ]
    },
    {
     "name": "stderr",
     "output_type": "stream",
     "text": [
      "100%|██████████| 67/67 [00:00<00:00, 130.16it/s]\n"
     ]
    },
    {
     "name": "stdout",
     "output_type": "stream",
     "text": [
      "Epoch 12/20, Train Loss: 0.6436, Accuracy: 0.8982\n",
      "Validation Loss: 0.6728, Validation Accuracy: 0.8801\n"
     ]
    },
    {
     "name": "stderr",
     "output_type": "stream",
     "text": [
      "100%|██████████| 67/67 [00:00<00:00, 133.18it/s]\n"
     ]
    },
    {
     "name": "stdout",
     "output_type": "stream",
     "text": [
      "Epoch 13/20, Train Loss: 0.5671, Accuracy: 0.9066\n",
      "Validation Loss: 0.6131, Validation Accuracy: 0.8839\n"
     ]
    },
    {
     "name": "stderr",
     "output_type": "stream",
     "text": [
      "100%|██████████| 67/67 [00:00<00:00, 133.89it/s]\n"
     ]
    },
    {
     "name": "stdout",
     "output_type": "stream",
     "text": [
      "Epoch 14/20, Train Loss: 0.5232, Accuracy: 0.9066\n",
      "Validation Loss: 0.5619, Validation Accuracy: 0.8839\n"
     ]
    },
    {
     "name": "stderr",
     "output_type": "stream",
     "text": [
      "100%|██████████| 67/67 [00:00<00:00, 126.73it/s]\n"
     ]
    },
    {
     "name": "stdout",
     "output_type": "stream",
     "text": [
      "Epoch 15/20, Train Loss: 0.4749, Accuracy: 0.9197\n",
      "Validation Loss: 0.5217, Validation Accuracy: 0.8876\n"
     ]
    },
    {
     "name": "stderr",
     "output_type": "stream",
     "text": [
      "100%|██████████| 67/67 [00:00<00:00, 132.99it/s]\n"
     ]
    },
    {
     "name": "stdout",
     "output_type": "stream",
     "text": [
      "Epoch 16/20, Train Loss: 0.4314, Accuracy: 0.9262\n",
      "Validation Loss: 0.4841, Validation Accuracy: 0.8989\n"
     ]
    },
    {
     "name": "stderr",
     "output_type": "stream",
     "text": [
      "100%|██████████| 67/67 [00:00<00:00, 133.27it/s]\n"
     ]
    },
    {
     "name": "stdout",
     "output_type": "stream",
     "text": [
      "Epoch 17/20, Train Loss: 0.3932, Accuracy: 0.9384\n",
      "Validation Loss: 0.4546, Validation Accuracy: 0.8989\n"
     ]
    },
    {
     "name": "stderr",
     "output_type": "stream",
     "text": [
      "100%|██████████| 67/67 [00:00<00:00, 126.87it/s]\n"
     ]
    },
    {
     "name": "stdout",
     "output_type": "stream",
     "text": [
      "Epoch 18/20, Train Loss: 0.3518, Accuracy: 0.9412\n",
      "Validation Loss: 0.4246, Validation Accuracy: 0.9101\n"
     ]
    },
    {
     "name": "stderr",
     "output_type": "stream",
     "text": [
      "100%|██████████| 67/67 [00:00<00:00, 131.45it/s]\n"
     ]
    },
    {
     "name": "stdout",
     "output_type": "stream",
     "text": [
      "Epoch 19/20, Train Loss: 0.3178, Accuracy: 0.9477\n",
      "Validation Loss: 0.4038, Validation Accuracy: 0.9064\n"
     ]
    },
    {
     "name": "stderr",
     "output_type": "stream",
     "text": [
      "100%|██████████| 67/67 [00:00<00:00, 132.28it/s]\n"
     ]
    },
    {
     "name": "stdout",
     "output_type": "stream",
     "text": [
      "Epoch 20/20, Train Loss: 0.2928, Accuracy: 0.9496\n",
      "Validation Loss: 0.3844, Validation Accuracy: 0.9139\n",
      "\n",
      "Fold 5/5\n"
     ]
    },
    {
     "name": "stderr",
     "output_type": "stream",
     "text": [
      "100%|██████████| 67/67 [00:00<00:00, 128.57it/s]\n"
     ]
    },
    {
     "name": "stdout",
     "output_type": "stream",
     "text": [
      "Epoch 1/20, Train Loss: 2.4471, Accuracy: 0.1895\n",
      "Validation Loss: 2.3874, Validation Accuracy: 0.3933\n"
     ]
    },
    {
     "name": "stderr",
     "output_type": "stream",
     "text": [
      "100%|██████████| 67/67 [00:00<00:00, 132.49it/s]\n"
     ]
    },
    {
     "name": "stdout",
     "output_type": "stream",
     "text": [
      "Epoch 2/20, Train Loss: 2.3109, Accuracy: 0.4641\n",
      "Validation Loss: 2.2447, Validation Accuracy: 0.5431\n"
     ]
    },
    {
     "name": "stderr",
     "output_type": "stream",
     "text": [
      "100%|██████████| 67/67 [00:00<00:00, 124.73it/s]\n"
     ]
    },
    {
     "name": "stdout",
     "output_type": "stream",
     "text": [
      "Epoch 3/20, Train Loss: 2.1180, Accuracy: 0.5920\n",
      "Validation Loss: 2.0453, Validation Accuracy: 0.5955\n"
     ]
    },
    {
     "name": "stderr",
     "output_type": "stream",
     "text": [
      "100%|██████████| 67/67 [00:00<00:00, 133.37it/s]\n"
     ]
    },
    {
     "name": "stdout",
     "output_type": "stream",
     "text": [
      "Epoch 4/20, Train Loss: 1.8880, Accuracy: 0.6573\n",
      "Validation Loss: 1.8213, Validation Accuracy: 0.6517\n"
     ]
    },
    {
     "name": "stderr",
     "output_type": "stream",
     "text": [
      "100%|██████████| 67/67 [00:00<00:00, 130.94it/s]\n"
     ]
    },
    {
     "name": "stdout",
     "output_type": "stream",
     "text": [
      "Epoch 5/20, Train Loss: 1.6333, Accuracy: 0.7162\n",
      "Validation Loss: 1.6084, Validation Accuracy: 0.6854\n"
     ]
    },
    {
     "name": "stderr",
     "output_type": "stream",
     "text": [
      "100%|██████████| 67/67 [00:00<00:00, 130.29it/s]\n"
     ]
    },
    {
     "name": "stdout",
     "output_type": "stream",
     "text": [
      "Epoch 6/20, Train Loss: 1.4198, Accuracy: 0.7554\n",
      "Validation Loss: 1.4242, Validation Accuracy: 0.7041\n"
     ]
    },
    {
     "name": "stderr",
     "output_type": "stream",
     "text": [
      "100%|██████████| 67/67 [00:00<00:00, 131.94it/s]\n"
     ]
    },
    {
     "name": "stdout",
     "output_type": "stream",
     "text": [
      "Epoch 7/20, Train Loss: 1.2416, Accuracy: 0.7843\n",
      "Validation Loss: 1.2611, Validation Accuracy: 0.7191\n"
     ]
    },
    {
     "name": "stderr",
     "output_type": "stream",
     "text": [
      "100%|██████████| 67/67 [00:00<00:00, 132.70it/s]\n"
     ]
    },
    {
     "name": "stdout",
     "output_type": "stream",
     "text": [
      "Epoch 8/20, Train Loss: 1.0912, Accuracy: 0.8105\n",
      "Validation Loss: 1.1236, Validation Accuracy: 0.7603\n"
     ]
    },
    {
     "name": "stderr",
     "output_type": "stream",
     "text": [
      "100%|██████████| 67/67 [00:00<00:00, 130.88it/s]\n"
     ]
    },
    {
     "name": "stdout",
     "output_type": "stream",
     "text": [
      "Epoch 9/20, Train Loss: 0.9502, Accuracy: 0.8394\n",
      "Validation Loss: 1.0037, Validation Accuracy: 0.7865\n"
     ]
    },
    {
     "name": "stderr",
     "output_type": "stream",
     "text": [
      "100%|██████████| 67/67 [00:00<00:00, 130.60it/s]\n"
     ]
    },
    {
     "name": "stdout",
     "output_type": "stream",
     "text": [
      "Epoch 10/20, Train Loss: 0.8338, Accuracy: 0.8581\n",
      "Validation Loss: 0.9063, Validation Accuracy: 0.8052\n"
     ]
    },
    {
     "name": "stderr",
     "output_type": "stream",
     "text": [
      "100%|██████████| 67/67 [00:00<00:00, 133.16it/s]\n"
     ]
    },
    {
     "name": "stdout",
     "output_type": "stream",
     "text": [
      "Epoch 11/20, Train Loss: 0.7364, Accuracy: 0.8814\n",
      "Validation Loss: 0.8190, Validation Accuracy: 0.8127\n"
     ]
    },
    {
     "name": "stderr",
     "output_type": "stream",
     "text": [
      "100%|██████████| 67/67 [00:00<00:00, 127.93it/s]\n"
     ]
    },
    {
     "name": "stdout",
     "output_type": "stream",
     "text": [
      "Epoch 12/20, Train Loss: 0.6464, Accuracy: 0.8954\n",
      "Validation Loss: 0.7492, Validation Accuracy: 0.8277\n"
     ]
    },
    {
     "name": "stderr",
     "output_type": "stream",
     "text": [
      "100%|██████████| 67/67 [00:00<00:00, 134.49it/s]\n"
     ]
    },
    {
     "name": "stdout",
     "output_type": "stream",
     "text": [
      "Epoch 13/20, Train Loss: 0.5800, Accuracy: 0.9057\n",
      "Validation Loss: 0.6856, Validation Accuracy: 0.8390\n"
     ]
    },
    {
     "name": "stderr",
     "output_type": "stream",
     "text": [
      "100%|██████████| 67/67 [00:00<00:00, 133.80it/s]\n"
     ]
    },
    {
     "name": "stdout",
     "output_type": "stream",
     "text": [
      "Epoch 14/20, Train Loss: 0.5146, Accuracy: 0.9337\n",
      "Validation Loss: 0.6332, Validation Accuracy: 0.8427\n"
     ]
    },
    {
     "name": "stderr",
     "output_type": "stream",
     "text": [
      "100%|██████████| 67/67 [00:00<00:00, 131.12it/s]\n"
     ]
    },
    {
     "name": "stdout",
     "output_type": "stream",
     "text": [
      "Epoch 15/20, Train Loss: 0.4620, Accuracy: 0.9225\n",
      "Validation Loss: 0.5868, Validation Accuracy: 0.8464\n"
     ]
    },
    {
     "name": "stderr",
     "output_type": "stream",
     "text": [
      "100%|██████████| 67/67 [00:00<00:00, 133.88it/s]\n"
     ]
    },
    {
     "name": "stdout",
     "output_type": "stream",
     "text": [
      "Epoch 16/20, Train Loss: 0.4280, Accuracy: 0.9300\n",
      "Validation Loss: 0.5491, Validation Accuracy: 0.8464\n"
     ]
    },
    {
     "name": "stderr",
     "output_type": "stream",
     "text": [
      "100%|██████████| 67/67 [00:00<00:00, 134.08it/s]\n"
     ]
    },
    {
     "name": "stdout",
     "output_type": "stream",
     "text": [
      "Epoch 17/20, Train Loss: 0.3737, Accuracy: 0.9449\n",
      "Validation Loss: 0.5091, Validation Accuracy: 0.8577\n"
     ]
    },
    {
     "name": "stderr",
     "output_type": "stream",
     "text": [
      "100%|██████████| 67/67 [00:00<00:00, 128.28it/s]\n"
     ]
    },
    {
     "name": "stdout",
     "output_type": "stream",
     "text": [
      "Epoch 18/20, Train Loss: 0.3505, Accuracy: 0.9421\n",
      "Validation Loss: 0.4849, Validation Accuracy: 0.8614\n"
     ]
    },
    {
     "name": "stderr",
     "output_type": "stream",
     "text": [
      "100%|██████████| 67/67 [00:00<00:00, 134.04it/s]\n"
     ]
    },
    {
     "name": "stdout",
     "output_type": "stream",
     "text": [
      "Epoch 19/20, Train Loss: 0.3217, Accuracy: 0.9412\n",
      "Validation Loss: 0.4567, Validation Accuracy: 0.8727\n"
     ]
    },
    {
     "name": "stderr",
     "output_type": "stream",
     "text": [
      "100%|██████████| 67/67 [00:00<00:00, 133.55it/s]\n"
     ]
    },
    {
     "name": "stdout",
     "output_type": "stream",
     "text": [
      "Epoch 20/20, Train Loss: 0.2839, Accuracy: 0.9524\n",
      "Validation Loss: 0.4356, Validation Accuracy: 0.8727\n",
      "\n",
      "=== Résultats des différents folds ===\n",
      "Fold 1: Validation Accuracy: 0.9328, Validation Loss: 0.3575\n",
      "Fold 2: Validation Accuracy: 0.9179, Validation Loss: 0.3777\n",
      "Fold 3: Validation Accuracy: 0.9104, Validation Loss: 0.4203\n",
      "Fold 4: Validation Accuracy: 0.9139, Validation Loss: 0.3844\n",
      "Fold 5: Validation Accuracy: 0.8727, Validation Loss: 0.4356\n"
     ]
    },
    {
     "name": "stderr",
     "output_type": "stream",
     "text": [
      "100%|██████████| 72/72 [00:00<00:00, 260.48it/s]"
     ]
    },
    {
     "name": "stdout",
     "output_type": "stream",
     "text": [
      "Test Loss: 0.1834, Test Accuracy: 0.9798\n",
      "Correctly classified samples: 1117/1140 (97.98%)\n"
     ]
    },
    {
     "name": "stderr",
     "output_type": "stream",
     "text": [
      "\n"
     ]
    }
   ],
   "source": [
    "import json\n",
    "import torch\n",
    "import torch.nn as nn\n",
    "import torch.optim as optim\n",
    "from sklearn.model_selection import train_test_split, KFold\n",
    "from sklearn.preprocessing import LabelEncoder\n",
    "from torch.utils.data import DataLoader, Dataset\n",
    "from transformers import BertTokenizer\n",
    "from tqdm import tqdm\n",
    "import random\n",
    "import matplotlib.pyplot as plt\n",
    "from torch.utils.tensorboard import SummaryWriter\n",
    "\n",
    "\n",
    "# Charger les données depuis les fichiers JSON\n",
    "with open(\"data/test.json\", \"r\") as f:\n",
    "    test_data_raw = json.load(f)\n",
    "\n",
    "# Charger les phrases de test à partir de test_shuffle.txt\n",
    "test_texts = []\n",
    "with open(\"data/test_shuffle.txt\", \"r\") as f:\n",
    "    test_texts = [line.strip() for line in f.readlines()]\n",
    "\n",
    "\n",
    "# Préparer les données\n",
    "categories = list(test_data_raw.keys())\n",
    "train_texts, train_labels = [], []\n",
    "for category in categories:\n",
    "    for text in test_data_raw[category]:\n",
    "        train_texts.append(text)\n",
    "        train_labels.append(category)\n",
    "\n",
    "# Trouver les labels correspondant aux phrases de test\n",
    "test_labels = []\n",
    "for text in test_texts:\n",
    "    found = False\n",
    "    for category, texts in test_data_raw.items():\n",
    "        if text in texts:\n",
    "            test_labels.append(category)\n",
    "            found = True\n",
    "            break\n",
    "    if not found:\n",
    "        test_labels.append(\"Unknown\")\n",
    "\n",
    "# len\n",
    "print(f\"Training samples: {len(train_texts)}\")\n",
    "print(f\"Test samples: {len(test_texts)}\")\n",
    "print(f\"Number of 'Unknown' labels: {test_labels.count('Unknown')}\")\n",
    "\n",
    "# Encodeur de labels\n",
    "label_encoder = LabelEncoder()\n",
    "train_labels = label_encoder.fit_transform(train_labels)\n",
    "test_labels = label_encoder.transform(test_labels)\n",
    "\n",
    "# Tokenisation\n",
    "tokenizer = BertTokenizer.from_pretrained(\"bert-base-uncased\")\n",
    "\n",
    "def tokenize_batch(batch):\n",
    "    return tokenizer(batch, padding=True, truncation=True, max_length=128, return_tensors=\"pt\")\n",
    "\n",
    "class TextDataset(Dataset):\n",
    "    def __init__(self, texts, labels):\n",
    "        self.texts = texts\n",
    "        self.labels = labels\n",
    "    \n",
    "    def __len__(self):\n",
    "        return len(self.texts)\n",
    "    \n",
    "    def __getitem__(self, idx):\n",
    "        return self.texts[idx], self.labels[idx]\n",
    "\n",
    "# DataLoader\n",
    "def collate_fn(batch):\n",
    "    texts, labels = zip(*batch)\n",
    "    tokenized = tokenize_batch(list(texts))\n",
    "    return tokenized[\"input_ids\"], tokenized[\"attention_mask\"], torch.tensor(labels, dtype=torch.long)\n",
    "\n",
    "# Modèle DAN\n",
    "class DANClassifier(nn.Module):\n",
    "    def __init__(self, embedding_dim, num_classes):\n",
    "        super(DANClassifier, self).__init__()\n",
    "        self.embedding = nn.Embedding(tokenizer.vocab_size, embedding_dim)\n",
    "        self.fc = nn.Sequential(\n",
    "            nn.Linear(embedding_dim, 128),\n",
    "            nn.ReLU(),\n",
    "            nn.Dropout(0.3),\n",
    "            nn.Linear(128, num_classes)\n",
    "        )\n",
    "    \n",
    "    def forward(self, input_ids, attention_mask):\n",
    "        embeddings = self.embedding(input_ids)  # Shape: (batch_size, seq_len, embedding_dim)\n",
    "        mask = attention_mask.unsqueeze(-1)    # Shape: (batch_size, seq_len, 1)\n",
    "        masked_embeddings = embeddings * mask  # Masquer les tokens de padding\n",
    "        avg_embeddings = masked_embeddings.sum(dim=1) / mask.sum(dim=1)  # Moyenne des embeddings\n",
    "        return self.fc(avg_embeddings)\n",
    "\n",
    "# Fonction d'entraînement et de validation\n",
    "def train_and_validate(model, train_loader, val_loader, optimizer, criterion, device):\n",
    "    model.train()\n",
    "    train_loss = 0\n",
    "    correct, total = 0, 0\n",
    "    \n",
    "    for input_ids, attention_mask, labels in tqdm(train_loader):\n",
    "        input_ids, attention_mask, labels = input_ids.to(device), attention_mask.to(device), labels.to(device).long()\n",
    "        optimizer.zero_grad()\n",
    "        outputs = model(input_ids, attention_mask)\n",
    "        loss = criterion(outputs, labels)\n",
    "        train_loss += loss.item()\n",
    "        loss.backward()\n",
    "        optimizer.step()\n",
    "        \n",
    "        _, predicted = outputs.max(1)\n",
    "        correct += (predicted == labels).sum().item()\n",
    "        total += labels.size(0)\n",
    "    \n",
    "    train_accuracy = correct / total\n",
    "    \n",
    "    # Validation\n",
    "    model.eval()\n",
    "    val_loss, val_correct, val_total = 0, 0, 0\n",
    "    with torch.no_grad():\n",
    "        for input_ids, attention_mask, labels in val_loader:\n",
    "            input_ids, attention_mask, labels = input_ids.to(device), attention_mask.to(device), labels.to(device).long()\n",
    "            outputs = model(input_ids, attention_mask)\n",
    "            loss = criterion(outputs, labels)\n",
    "            val_loss += loss.item()\n",
    "            _, predicted = outputs.max(1)\n",
    "            val_correct += (predicted == labels).sum().item()\n",
    "            val_total += labels.size(0)\n",
    "    \n",
    "    val_accuracy = val_correct / val_total\n",
    "    return train_loss / len(train_loader), train_accuracy, val_loss / len(val_loader), val_accuracy\n",
    "\n",
    "# Fonction de validation croisée\n",
    "def cross_validate(k_folds, train_texts, train_labels, model_class, embedding_dim, num_classes, epochs=20):\n",
    "    kfold = KFold(n_splits=k_folds, shuffle=True, random_state=42)\n",
    "    fold_train_losses, fold_val_losses = [], []\n",
    "    fold_train_accuracies, fold_val_accuracies = [] , []  # Correction ici\n",
    "\n",
    "    for fold, (train_idx, val_idx) in enumerate(kfold.split(train_texts)):\n",
    "        print(f\"\\nFold {fold + 1}/{k_folds}\")\n",
    "        train_texts_fold = [train_texts[i] for i in train_idx]\n",
    "        train_labels_fold = [train_labels[i] for i in train_idx]\n",
    "        val_texts_fold = [train_texts[i] for i in val_idx]\n",
    "        val_labels_fold = [train_labels[i] for i in val_idx]\n",
    "\n",
    "        # Préparer les datasets pour le fold\n",
    "        train_dataset = TextDataset(train_texts_fold, train_labels_fold)\n",
    "        val_dataset = TextDataset(val_texts_fold, val_labels_fold)\n",
    "        train_loader = DataLoader(train_dataset, batch_size=16, shuffle=True, collate_fn=collate_fn)\n",
    "        val_loader = DataLoader(val_dataset, batch_size=16, collate_fn=collate_fn)\n",
    "\n",
    "        # Initialiser le modèle pour le fold\n",
    "        device = torch.device(\"cuda\" if torch.cuda.is_available() else \"cpu\")\n",
    "        model = model_class(embedding_dim, num_classes).to(device)\n",
    "        optimizer = optim.Adam(model.parameters(), lr=2e-4)\n",
    "        criterion = nn.CrossEntropyLoss()\n",
    "\n",
    "        # Entraîner le modèle pour le fold\n",
    "        train_losses, val_losses, val_accuracies = train_model_with_validation(\n",
    "            model, train_loader, val_loader, optimizer, criterion, device, epochs=epochs\n",
    "        )\n",
    "\n",
    "        # Collecter les métriques pour ce fold\n",
    "        fold_train_losses.append(train_losses)\n",
    "        fold_val_losses.append(val_losses)\n",
    "        fold_val_accuracies.append(val_accuracies)\n",
    "\n",
    "    print(\"\\n=== Résultats des différents folds ===\")\n",
    "    for fold in range(k_folds):\n",
    "        print(\n",
    "            f\"Fold {fold + 1}: Validation Accuracy: {fold_val_accuracies[fold][-1]:.4f}, \"\n",
    "            f\"Validation Loss: {fold_val_losses[fold][-1]:.4f}\"\n",
    "        )\n",
    "\n",
    "# Appeler la validation croisée avec 5 folds\n",
    "k_folds = 5\n",
    "embedding_dim = 300\n",
    "num_classes = len(categories)\n",
    "device = torch.device(\"cuda\" if torch.cuda.is_available() else \"cpu\")\n",
    "\n",
    "cross_validate(k_folds, train_texts, train_labels, DANClassifier, embedding_dim, num_classes, epochs=20)\n",
    "\n",
    "# Évaluer le modèle et obtenir les échantillons mal classifiés\n",
    "misclassified_samples, misclassified_labels, misclassified_preds = evaluate_model(\n",
    "    model, test_loader, criterion, device\n",
    ")\n",
    "\n",
    "# print number of correctly classified samples (correctly classified samples / total test samples)\n",
    "correctly_classified = len(test_labels) - len(misclassified_labels)\n",
    "total_samples = len(test_labels)\n",
    "print(f\"Correctly classified samples: {correctly_classified}/{total_samples} ({correctly_classified / total_samples:.2%})\")\n",
    "\n",
    "# Décoder les indices des échantillons mal classifiés en texte\n",
    "misclassified_texts = [tokenizer.decode(sample) for sample in misclassified_samples]\n"
   ]
  },
  {
   "cell_type": "code",
   "execution_count": null,
   "metadata": {},
   "outputs": [],
   "source": []
  }
 ],
 "metadata": {
  "kernelspec": {
   "display_name": "Python 3",
   "language": "python",
   "name": "python3"
  },
  "language_info": {
   "codemirror_mode": {
    "name": "ipython",
    "version": 3
   },
   "file_extension": ".py",
   "mimetype": "text/x-python",
   "name": "python",
   "nbconvert_exporter": "python",
   "pygments_lexer": "ipython3",
   "version": "3.12.1"
  }
 },
 "nbformat": 4,
 "nbformat_minor": 2
}

{
 "cells": [
  {
   "cell_type": "code",
   "execution_count": null,
   "metadata": {},
   "outputs": [],
   "source": [
    "import torch\n",
    "from torch.utils.data import DataLoader, TensorDataset\n",
    "from transformers import AutoTokenizer, AutoModelForSequenceClassification\n",
    "import pandas as pd\n",
    "import numpy as np\n",
    "from tqdm import tqdm  # Import tqdm for progress bar\n",
    "\n",
    "# Path to your checkpoint folder\n",
    "checkpoint_path = \"./intfloat_best_model_dataaug/checkpoint-2820\" \n",
    "\n",
    "# Load tokenizer\n",
    "tokenizer = AutoTokenizer.from_pretrained(checkpoint_path)\n",
    "\n",
    "# Load model (automatically detects safetensors)\n",
    "model = AutoModelForSequenceClassification.from_pretrained(checkpoint_path)\n",
    "model.eval()  # Set model to evaluation mode\n",
    "\n",
    "# Load dataset\n",
    "df = pd.read_csv(\"data/test_without_labels.csv\")\n",
    "df = df.drop(columns='Usage')\n",
    "\n",
    "# Tokenize input texts\n",
    "inputs = tokenizer(df[\"Text\"].tolist(), truncation=True, padding=True, max_length=100, return_tensors=\"pt\")\n",
    "\n",
    "# Move model to GPU if available\n",
    "device = torch.device(\"cuda\" if torch.cuda.is_available() else \"cpu\")\n",
    "model.to(device)\n",
    "\n",
    "# Create PyTorch Dataset and DataLoader (Batch size = 128)\n",
    "dataset = TensorDataset(inputs[\"input_ids\"], inputs[\"attention_mask\"])\n",
    "dataloader = DataLoader(dataset, batch_size=128)\n",
    "\n",
    "# Perform inference with tqdm progress bar\n",
    "predictions = []\n",
    "with torch.no_grad():\n",
    "    for batch in tqdm(dataloader, desc=\"🔍 Running Inference\", unit=\"batch\"):\n",
    "        batch = [tensor.to(device) for tensor in batch]\n",
    "        input_ids, attention_mask = batch\n",
    "        outputs = model(input_ids=input_ids, attention_mask=attention_mask)\n",
    "        preds = torch.argmax(outputs.logits, dim=1).cpu().numpy()\n",
    "        predictions.extend(preds)\n",
    "\n",
    "# Save predictions\n",
    "df[\"Label\"] = predictions\n",
    "\n",
    "print(\"✅ Inference complete! Predictions saved to df 🎯\")\n"
   ]
  },
  {
   "cell_type": "code",
   "execution_count": null,
   "metadata": {},
   "outputs": [],
   "source": [
    "import pandas as pd\n",
    "import json\n",
    "\n",
    "PATH_MAPPING = \"data/mapping/label_mappings_dataaug.json\"\n",
    "\n",
    "with open(PATH_MAPPING, \"r\") as f:\n",
    "    mappings = json.load(f)\n",
    "\n",
    "id2label = mappings[\"id2label\"] \n",
    "\n",
    "id2label = {int(k): v for k, v in id2label.items()}\n",
    "\n",
    "df[\"Label\"] = df[\"Label\"].map(id2label)"
   ]
  },
  {
   "cell_type": "code",
   "execution_count": null,
   "metadata": {},
   "outputs": [],
   "source": [
    "# Display first 20 rows\n",
    "(df.head(10))"
   ]
  },
  {
   "cell_type": "code",
   "execution_count": null,
   "metadata": {},
   "outputs": [],
   "source": [
    "CHEKC_OTHER_DF = False\n",
    "if CHEKC_OTHER_DF:\n",
    "    df2 = pd.read_csv(\"data/test_with_labels.csv\")\n",
    "    num_differences = (df[\"Label\"] != df2[\"Label\"]).sum()\n",
    "    print(f\"🔍 Number of different labels: {num_differences}\")"
   ]
  },
  {
   "cell_type": "code",
   "execution_count": null,
   "metadata": {},
   "outputs": [],
   "source": [
    "df[\"ID\"] = range(1,len(df)+1)  # Creates a sequential ID column\n",
    "df = df[[\"ID\", \"Label\"]]\n",
    "df.head()"
   ]
  },
  {
   "cell_type": "code",
   "execution_count": null,
   "metadata": {},
   "outputs": [],
   "source": [
    "import os\n",
    "\n",
    "PATH_FILE = \"second_submit.csv\"\n",
    "if os.path.exists(PATH_FILE):\n",
    "    print(\"Error: File 'second_submit.csv' already exists.\")\n",
    "else:\n",
    "    df.to_csv(PATH_FILE, index=False)\n",
    "    print(\"✅ Submission file saved as second_submit.csv 📄\")"
   ]
  },
  {
   "cell_type": "code",
   "execution_count": null,
   "metadata": {},
   "outputs": [],
   "source": [
    "ok_df = pd.read_csv(PATH_FILE)\n",
    "ok_df.shape"
   ]
  }
 ],
 "metadata": {
  "kernelspec": {
   "display_name": "Python 3",
   "language": "python",
   "name": "python3"
  },
  "language_info": {
   "codemirror_mode": {
    "name": "ipython",
    "version": 3
   },
   "file_extension": ".py",
   "mimetype": "text/x-python",
   "name": "python",
   "nbconvert_exporter": "python",
   "pygments_lexer": "ipython3",
   "version": "3.11.11"
  }
 },
 "nbformat": 4,
 "nbformat_minor": 2
}
